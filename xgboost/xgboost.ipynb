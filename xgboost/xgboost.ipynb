{
 "cells": [
  {
   "cell_type": "markdown",
   "id": "c22da17a",
   "metadata": {},
   "source": [
    "머신러닝 모델 : xgbost 구현"
   ]
  },
  {
   "cell_type": "code",
   "execution_count": null,
   "id": "8b6c9d49",
   "metadata": {},
   "outputs": [],
   "source": [
    "# ===== 1️⃣ 기본 설정 =====\n",
    "import os\n",
    "import pandas as pd\n",
    "import numpy as np\n",
    "from sklearn.model_selection import train_test_split\n",
    "from sklearn.metrics import mean_absolute_error, mean_squared_error, r2_score\n",
    "from xgboost import XGBRegressor\n",
    "import matplotlib.pyplot as plt\n",
    "import warnings\n",
    "warnings.filterwarnings(\"ignore\")"
   ]
  },
  {
   "cell_type": "code",
   "execution_count": null,
   "id": "30b5ad85",
   "metadata": {},
   "outputs": [],
   "source": [
    "# ===== 2️⃣ 연도별 XGBoost 학습 함수 =====\n",
    "def train_xgboost_by_year(BASE_PATH, year):\n",
    "    year_path = os.path.join(BASE_PATH, str(year))\n",
    "    if not os.path.exists(year_path):\n",
    "        print(f\"⚠ {year_path} 폴더가 존재하지 않습니다. 데이터를 먼저 다운로드하세요.\")\n",
    "        return\n",
    "\n",
    "    # CSV 파일 불러오기\n",
    "    files = [os.path.join(year_path, f) for f in os.listdir(year_path) if f.endswith(\".csv\")]\n",
    "    if not files:\n",
    "        print(f\"⚠ {year}년 폴더에 CSV 파일이 존재하지 않습니다.\")\n",
    "        return\n",
    "\n",
    "    df_list = [pd.read_csv(f, encoding='utf-8-sig') for f in files]\n",
    "    data = pd.concat(df_list, ignore_index=True)\n",
    "\n",
    "    # 전처리\n",
    "    data['date'] = pd.to_datetime(data['date'], errors='coerce')\n",
    "    data['year'] = data['date'].dt.year\n",
    "    data['month'] = data['date'].dt.month\n",
    "    data['day'] = data['date'].dt.day\n",
    "    data['hour'] = data['date'].dt.hour\n",
    "    data = data.dropna(subset=['generation'])\n",
    "\n",
    "    feature_cols = ['year','month','day','hour','temperature','humidity','radiation']\n",
    "    feature_cols = [c for c in feature_cols if c in data.columns]\n",
    "    X = data[feature_cols]\n",
    "    y = data['generation']\n",
    "\n",
    "    X_train, X_test, y_train, y_test = train_test_split(X, y, test_size=0.2, random_state=42)\n",
    "\n",
    "    # XGBoost 모델 학습\n",
    "    model = XGBRegressor(\n",
    "        n_estimators=300,\n",
    "        learning_rate=0.05,\n",
    "        max_depth=6,\n",
    "        subsample=0.8,\n",
    "        colsample_bytree=0.8,\n",
    "        random_state=42,\n",
    "        n_jobs=-1\n",
    "    )\n",
    "    model.fit(X_train, y_train)\n",
    "\n",
    "    # 예측 및 평가\n",
    "    y_pred = model.predict(X_test)\n",
    "    mae = mean_absolute_error(y_test, y_pred)\n",
    "    rmse = np.sqrt(mean_squared_error(y_test, y_pred))\n",
    "    r2 = r2_score(y_test, y_pred)\n",
    "\n",
    "    print(f\"\\n📊 {year}년 모델 평가 결과\")\n",
    "    print(f\"MAE  : {mae:.4f}\")\n",
    "    print(f\"RMSE : {rmse:.4f}\")\n",
    "    print(f\"R²   : {r2:.4f}\")\n",
    "\n",
    "    # 결과 CSV 저장\n",
    "    OUTPUT_PATH = os.path.join(BASE_PATH, f\"xgboost_result_{year}.csv\")\n",
    "    pd.DataFrame({'Actual': y_test.values, 'Predicted': y_pred}).to_csv(OUTPUT_PATH, index=False, encoding='utf-8-sig')\n",
    "    print(f\"💾 {year}년 예측 결과 저장 완료 → {OUTPUT_PATH}\")\n",
    "\n",
    "    return model"
   ]
  }
 ],
 "metadata": {
  "language_info": {
   "name": "python"
  }
 },
 "nbformat": 4,
 "nbformat_minor": 5
}
