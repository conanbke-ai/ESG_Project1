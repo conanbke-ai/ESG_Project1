{
 "cells": [
  {
   "cell_type": "markdown",
   "id": "5f875067",
   "metadata": {},
   "source": [
    "# **1. 라이브러리 임포트**\n",
    "+  전국 태양광 발전소 시각화(좌표 통합 + 개별 클러스터, 지역별 고유 색상 자동 생성)하기 위함 "
   ]
  },
  {
   "cell_type": "code",
   "execution_count": 1,
   "id": "67493138",
   "metadata": {},
   "outputs": [],
   "source": [
    "# ====================================\n",
    "# 🌞 전국 태양광 발전소 시각화 (Spiderfy 완전 비활성화 버전)\n",
    "# ====================================\n",
    "\n",
    "import os, json, time, html, webbrowser, re, colorsys\n",
    "from concurrent.futures import ThreadPoolExecutor, as_completed\n",
    "import pandas as pd\n",
    "import requests\n",
    "from tqdm import tqdm\n",
    "import folium\n",
    "from folium.plugins import MarkerCluster\n",
    "from folium import Element\n",
    "import html\n",
    "import json"
   ]
  },
  {
   "cell_type": "markdown",
   "id": "e048e46a",
   "metadata": {},
   "source": [
    "# **2. 수집한 데이터 호출 및 전처리**\n",
    "+ 데이터 전처리 방법\n",
    "    + 엑셀 컬럼명에서 공백, 특수문자 제거\n",
    "    + 전북’, ‘서울시’ 등 비표준 지역명을 ‘전라북도’, ‘서울특별시’로 통일(지역 이름 표준화)\n",
    "    + 설비용량(숫자형 변환), 광역+세부 지역 결합 → 대표지역명 생성\n",
    "    + 주소 컬럼으로 지오코딩 준비\n",
    "        + 지오 코딩: 주소나 장소명 같은 고유명칭을 위도, 경도 좌표로 변환하는 기술"
   ]
  },
  {
   "cell_type": "code",
   "execution_count": null,
   "id": "1d970744",
   "metadata": {},
   "outputs": [
    {
     "name": "stderr",
     "output_type": "stream",
     "text": [
      "c:\\Users\\baesa\\AppData\\Local\\Programs\\Python\\Python311\\Lib\\site-packages\\openpyxl\\styles\\stylesheet.py:237: UserWarning: Workbook contains no default style, apply openpyxl's default\n",
      "  warn(\"Workbook contains no default style, apply openpyxl's default\")\n"
     ]
    }
   ],
   "source": [
    "# ===== 경로 / API =====\n",
    "FILE_PATH   = r\"C:\\ESG_Project1\\file\\generator_file\\HOME_발전설비_발전기별.xlsx\"\n",
    "CACHE_FILE  = r\"C:\\ESG_Project1\\map\\coord_cache.json\"\n",
    "OUTPUT_HTML = r\"C:\\ESG_Project1\\map\\solar_map.html\"\n",
    "KAKAO_API_KEY = \"93c089f75a2730af2f15c01838e892d3\"  # 본인(배경은) 키\n",
    "\n",
    "# ===== 유틸: 컬럼/지역 표준화 =====\n",
    "def clean_cols(cols: pd.Index) -> pd.Index:\n",
    "    return (cols.str.replace('\\ufeff', '', regex=False)\n",
    "                .str.replace(r'\\s+', ' ', regex=True)\n",
    "                .str.strip())\n",
    "\n",
    "PROVINCE_MAP = {\n",
    "    \"전북특별자치도\": \"전라북도\", \"전북\": \"전라북도\",\n",
    "    \"전남\": \"전라남도\", \"경북\": \"경상북도\", \"경남\": \"경상남도\",\n",
    "    \"충북\": \"충청북도\", \"충남\": \"충청남도\",\n",
    "    \"서울시\": \"서울특별시\", \"부산시\": \"부산광역시\", \"대구시\": \"대구광역시\",\n",
    "    \"인천시\": \"인천광역시\", \"광주시\": \"광주광역시\", \"대전시\": \"대전광역시\",\n",
    "    \"울산시\": \"울산광역시\", \"세종시\": \"세종특별자치시\",\n",
    "    \"제주도\": \"제주특별자치도\", \"강원특별자치도\": \"강원도\",\n",
    "}\n",
    "\n",
    "def normalize_region(s: str) -> str:\n",
    "    if pd.isna(s): return \"\"\n",
    "    s = re.sub(r\"\\s+\", \"\", str(s).strip())\n",
    "    return PROVINCE_MAP.get(s, s)\n",
    "\n",
    "def normalize_subregion(s: str) -> str:\n",
    "    if pd.isna(s): return \"\"\n",
    "    return re.sub(r\"\\s+\", \" \", str(s).strip())\n",
    "\n",
    "# ===== 데이터 로드/정리 =====\n",
    "df = pd.read_excel(FILE_PATH)\n",
    "df.columns = clean_cols(df.columns)\n",
    "\n",
    "region_col, subregion_col = '광역지역', '세부지역'\n",
    "df['설비용량'] = pd.to_numeric(df.get('설비용량', 0), errors='coerce').fillna(0)\n",
    "df['광역지역_norm'] = df[region_col].apply(normalize_region)\n",
    "df['세부지역_norm']  = df[subregion_col].apply(normalize_subregion)\n",
    "df['대표지역명'] = (df['광역지역_norm'] + \" \" + df['세부지역_norm']).str.strip()\n",
    "df['주소'] = (df[subregion_col].astype(str)).str.strip()\n",
    "\n",
    "# ===== 🔎 나쁜 라벨(빈값/문자 'nan' 등) 제거 규칙 =====\n",
    "BAD_LABELS = {\"\", \"nan\", \"None\", \"알수없음\"}\n",
    "def valid_region(x) -> bool:\n",
    "    if x is None: return False\n",
    "    s = str(x).strip()\n",
    "    return s not in BAD_LABELS\n",
    "\n",
    "# 정규화 후, 광역지역이 유효하지 않은 행 제거\n",
    "df = df[df['광역지역_norm'].apply(valid_region)].copy()\n"
   ]
  },
  {
   "cell_type": "markdown",
   "id": "3f84179a",
   "metadata": {},
   "source": [
    "# **3. 지역별 색상 자동 생성**\n",
    "+ 전처리한 데이터를 지도에 표시하기 위함  "
   ]
  },
  {
   "cell_type": "code",
   "execution_count": 3,
   "id": "68fc32bb",
   "metadata": {},
   "outputs": [],
   "source": [
    "#  ===== 🎨 지역별 자동 색상 (HSV 분할) =====\n",
    "def _hsv_hex(h, s=0.85, v=0.9):\n",
    "    r, g, b = colorsys.hsv_to_rgb(h, s, v)\n",
    "    return '#%02x%02x%02x' % (int(r*255), int(g*255), int(b*255))\n",
    "\n",
    "unique_regions = sorted({str(r).strip() for r in df['광역지역_norm'] if valid_region(r)})\n",
    "palette = [_hsv_hex(i / max(1, len(unique_regions))) for i in range(len(unique_regions))]\n",
    "REGION_COLORS = dict(zip(unique_regions, palette))\n",
    "\n",
    "def pick_region_color(region_norm: str) -> str:\n",
    "    if not valid_region(region_norm):\n",
    "        return \"#7f7f7f\"\n",
    "    return REGION_COLORS.get(str(region_norm).strip(), \"#7f7f7f\")"
   ]
  },
  {
   "cell_type": "markdown",
   "id": "2fd5d586",
   "metadata": {},
   "source": [
    "# **4. 좌표 변환, 통합, 정보 매핑**\n",
    "+ 카카오맵 API로 지오 코딩을 하여 전처리한 데이터 안의 주소를 변환(위도·경도로 변환)\n",
    "+ 같은 위치의 발전소들을 하나의 점으로 합침\n",
    "    + 각 좌표별로 발전소 수, 총 설비용량, 대표 지역명, 대표 광역 지역을 계산\n",
    "+ 좌표를 통해 집계정보 매핑 (개별 발전소 팝업용으로 사용)\n",
    "    + 개별 발전소 마커에서도 \"해당 좌표의 요약 정보\"를 바로 표시하기 위한 매핑 테이블로 사용 \n"
   ]
  },
  {
   "cell_type": "code",
   "execution_count": 4,
   "id": "ed7f0cdb",
   "metadata": {},
   "outputs": [
    {
     "name": "stdout",
     "output_type": "stream",
     "text": [
      "📡 좌표 요청 대상: 332건\n"
     ]
    },
    {
     "name": "stderr",
     "output_type": "stream",
     "text": [
      "좌표 변환: 100%|██████████| 332/332 [00:17<00:00, 18.59it/s]\n"
     ]
    }
   ],
   "source": [
    "# ===== 좌표 캐시 + 카카오 지오코딩 =====\n",
    "if os.path.exists(CACHE_FILE):\n",
    "    with open(CACHE_FILE, \"r\", encoding=\"utf-8\") as f:\n",
    "        coords_cache = json.load(f)\n",
    "else:\n",
    "    coords_cache = {}\n",
    "\n",
    "def get_coords_kakao(address: str):\n",
    "    if address in coords_cache:\n",
    "        return address, coords_cache[address]\n",
    "    url = \"https://dapi.kakao.com/v2/local/search/address.json\"\n",
    "    headers = {\"Authorization\": f\"KakaoAK {KAKAO_API_KEY}\"}\n",
    "    params = {\"query\": address}\n",
    "    try:\n",
    "        r = requests.get(url, headers=headers, params=params, timeout=5)\n",
    "        r.raise_for_status()\n",
    "        data = r.json()\n",
    "        if data.get('documents'):\n",
    "            x = float(data['documents'][0]['x']); y = float(data['documents'][0]['y'])\n",
    "            coords_cache[address] = [y, x]\n",
    "        else:\n",
    "            coords_cache[address] = [None, None]\n",
    "    except Exception:\n",
    "        coords_cache[address] = [None, None]\n",
    "    return address, coords_cache[address]\n",
    "\n",
    "targets = [a for a in df['주소'].dropna().unique() if a not in coords_cache]\n",
    "if targets:\n",
    "    print(f\"📡 좌표 요청 대상: {len(targets)}건\")\n",
    "    with ThreadPoolExecutor(max_workers=8) as ex:\n",
    "        futures = [ex.submit(get_coords_kakao, addr) for addr in targets]\n",
    "        for _ in tqdm(as_completed(futures), total=len(futures), desc=\"좌표 변환\"):\n",
    "            _; time.sleep(0.05)\n",
    "    with open(CACHE_FILE, \"w\", encoding=\"utf-8\") as f:\n",
    "        json.dump(coords_cache, f, ensure_ascii=False, indent=2)\n",
    "\n",
    "df['coords'] = df['주소'].map(coords_cache)\n",
    "df[['위도','경도']] = pd.DataFrame(df['coords'].tolist(), index=df.index)\n",
    "df = df.dropna(subset=['위도','경도'])\n",
    "\n",
    "# ===== 좌표 통합 (대표광역이 유효하지 않은 행 제거 포함) =====\n",
    "grouped = (\n",
    "    df.groupby(['위도','경도'], as_index=False)\n",
    "      .agg(\n",
    "          발전소수=('발전기명','count'),\n",
    "          총설비용량=('설비용량','sum'),\n",
    "          대표지역명=('대표지역명', lambda x: x.value_counts().idxmax()),\n",
    "          대표광역=('광역지역_norm', lambda x: x.value_counts().idxmax()),\n",
    "      )\n",
    ")\n",
    "grouped = grouped[grouped['대표광역'].apply(valid_region)].copy()"
   ]
  },
  {
   "cell_type": "markdown",
   "id": "a23c307b",
   "metadata": {},
   "source": [
    "# **5. 지도 생성 및 조정** \n",
    "+ 한국 중심 좌표 기준으로 생성\n",
    "    + 지도 타일 스타일: 밝은 회색(CartoDB positron)\n",
    "+ 세부지역 단위(좌표 통합) 레이어\n",
    "    + 각 지역을 대표 점으로 표시\n",
    "    + 툴팁: 지역명 + 설비용량\n",
    "    + 팝업: 발전소 수, 총 설비용량\n",
    "+ 개별 발전소(클러스터) 레이어\n",
    "    + 각 발전소를 동그라미 마커(CircleMarker)로 표시\n",
    "    + 줌 레벨에 따라 자동 클러스터링\n",
    "+ 지도 표시 범위 조정 & 레이어 컨트롤\n",
    "    + 모든 마커가 화면에 들어오도록 자동 확대\n",
    "    + 지도 우측 상단에서 레이어 on/off 가능하도록 컨트롤 조정함 \n",
    "+ 지역 색상 범례\n",
    "    + 왼쪽 아래에 고정하여 지역 이름과 색상이 한눈에 보이게 표시\n",
    "        + 범례(legend): 지도, 차트, 그래프에서 기호, 색상, 무늬 등이 각각 무엇인지 설명하는 보조 안내 표지"
   ]
  },
  {
   "cell_type": "code",
   "execution_count": 5,
   "id": "97ab0518",
   "metadata": {},
   "outputs": [
    {
     "name": "stderr",
     "output_type": "stream",
     "text": [
      "좌표 통합 마커: 100%|██████████| 248/248 [00:00<00:00, 3245.84it/s]\n",
      "개별 발전소 마커: 100%|██████████| 168879/168879 [01:27<00:00, 1930.92it/s]\n"
     ]
    },
    {
     "data": {
      "text/plain": [
       "<branca.element.Element at 0x25d2857a150>"
      ]
     },
     "execution_count": 5,
     "metadata": {},
     "output_type": "execute_result"
    }
   ],
   "source": [
    "\n",
    "# ====================================\n",
    "# 4️⃣ 발전소 수 기반 반경 계산\n",
    "# ====================================\n",
    "MIN_RADIUS = 3\n",
    "MAX_RADIUS = 12\n",
    "min_count = grouped['발전소수'].min()\n",
    "max_count = grouped['발전소수'].max()\n",
    "def calc_radius(count, min_count, max_count):\n",
    "    if max_count == min_count:\n",
    "        return (MIN_RADIUS + MAX_RADIUS)/2\n",
    "    ratio = (count - min_count) / (max_count - min_count)\n",
    "    return MIN_RADIUS + ratio*(MAX_RADIUS - MIN_RADIUS)\n",
    "\n",
    "# ====================================\n",
    "# 5️⃣ 지도 생성\n",
    "# ====================================\n",
    "m = folium.Map(location=[36.5, 127.8], zoom_start=7, tiles=\"CartoDB positron\")\n",
    "\n",
    "# ① 세부지역 단위 마커 (발전소 수 기반 반경)\n",
    "agg_layer = folium.FeatureGroup(name=\"세부지역 단위(지역별 색)\", show=True).add_to(m)\n",
    "bounds = []\n",
    "for _, r in tqdm(grouped.iterrows(), total=len(grouped), desc=\"좌표 통합 마커\"):\n",
    "    lat, lon = float(r['위도']), float(r['경도'])\n",
    "    name, cap, count = str(r['대표지역명']), float(r['총설비용량']), int(r['발전소수'])\n",
    "    color = pick_region_color(r['대표광역'])\n",
    "    popup_html = f\"<b>{html.escape(name)}</b><br>발전소 수: {count}개<br>총 설비용량: {cap:.2f} MW\"\n",
    "    radius = calc_radius(count, min_count, max_count)\n",
    "    folium.CircleMarker(\n",
    "        location=[lat, lon], radius=radius,\n",
    "        color=color, fill=True, fill_color=color, fill_opacity=0.85,\n",
    "        popup=folium.Popup(popup_html, max_width=320),\n",
    "        tooltip=f\"{name} ({cap:.2f} MW)\"\n",
    "    ).add_to(agg_layer)\n",
    "    bounds.append([lat, lon])\n",
    "\n",
    "# ② 개별 발전소 클러스터\n",
    "cluster_detail = MarkerCluster(name=\"개별 발전소\", show=False).add_to(m)\n",
    "for _, row in tqdm(df.iterrows(), total=len(df), desc=\"개별 발전소 마커\"):\n",
    "    lat, lon = float(row['위도']), float(row['경도'])\n",
    "    color = pick_region_color(row.get('광역지역','기타'))\n",
    "    pop = (\n",
    "        f\"<b>{html.escape(str(row.get('세부지역','')))}</b><br>\"\n",
    "        f\"<b>회사명:</b> {html.escape(str(row.get('회사명','정보없음')))}<br>\"\n",
    "        f\"<b>발전기명:</b> {html.escape(str(row.get('발전기명','정보없음')))}<br>\"\n",
    "        f\"<b>발전원:</b> {html.escape(str(row.get('발전원','정보없음')))}<br>\"\n",
    "        f\"<b>설비용량:</b> {float(row.get('설비용량',0)):.2f} MW\"\n",
    "    )\n",
    "    folium.CircleMarker(\n",
    "        location=[lat, lon], radius=5,\n",
    "        color=color, fill=True, fill_color=color, fill_opacity=0.85,\n",
    "        popup=folium.Popup(pop, max_width=320)\n",
    "    ).add_to(cluster_detail)\n",
    "\n",
    "if bounds:\n",
    "    m.fit_bounds(bounds)\n",
    "\n",
    "# ③ LayerControl\n",
    "folium.LayerControl(collapsed=False).add_to(m)\n",
    "\n",
    "# ====================================\n",
    "# 6️⃣ Plotly 버블 추가 (세부지역 클릭 시)\n",
    "# ====================================\n",
    "grouped_json = grouped.to_dict(orient='records')\n",
    "bubble_js = f\"\"\"\n",
    "<div id=\"right-graph\" style=\"position:fixed; top:10px; right:10px; width:480px; height:500px;\n",
    "background:white; z-index:9999; padding:10px; border:2px solid black; overflow:auto;\"></div>\n",
    "<script src=\"https://cdn.plot.ly/plotly-latest.min.js\"></script>\n",
    "<script>\n",
    "var df = {json.dumps(grouped_json, ensure_ascii=False)};\n",
    "\n",
    "function drawGraph(region){{\n",
    "    var filtered = df.filter(r=>r['대표광역']===region);\n",
    "    if(filtered.length===0) {{\n",
    "        document.getElementById('right-graph').innerHTML=\"<p>데이터 없음</p>\";\n",
    "        return;\n",
    "    }}\n",
    "    var x = filtered.map(r=>r['대표지역명']);\n",
    "    var y = filtered.map(r=>r['발전소수']);\n",
    "    var size = filtered.map(r=>r['총설비용량']);\n",
    "    var minSize=10,maxSize=50;\n",
    "    var minVal=Math.min(...size), maxVal=Math.max(...size);\n",
    "    var scale = maxVal!==minVal ? (maxSize-minSize)/(maxVal-minVal) : 1;\n",
    "    var bubbleSizes = size.map(s => minSize + (s - minVal)*scale);\n",
    "\n",
    "    var trace={{x:x, y:y, text:x.map((v,i)=>v+\"<br>총설비용량:\"+size[i]+\" MW\"), \n",
    "                mode:\"markers\", marker:{{size:bubbleSizes, color:\"steelblue\", sizemode:\"area\", sizemin:5}}}};\n",
    "    var layout={{title:region+\" 세부지역 발전소 현황\",\n",
    "                xaxis:{{title:\"세부지역\",tickangle:-45}}, yaxis:{{title:\"발전소 수\"}},\n",
    "                margin:{{l:40,r:10,t:40,b:100}}, hovermode:\"closest\"}};\n",
    "    Plotly.newPlot(\"right-graph\",[trace],layout,{{responsive:true}});\n",
    "}}\n",
    "\n",
    "// 클릭 이벤트\n",
    "agg_layer.eachLayer(function(layer){{\n",
    "    layer.on(\"click\", function(e){{\n",
    "        drawGraph(layer.options.tooltip.options['content'].split(' (')[0]);\n",
    "    }});\n",
    "}});\n",
    "</script>\n",
    "\"\"\"\n",
    "m.get_root().html.add_child(Element(bubble_js))\n"
   ]
  },
  {
   "cell_type": "markdown",
   "id": "beefe517",
   "metadata": {},
   "source": [
    "# **6.생성된 지도 저장 및 HTML로 자동으로 열기**"
   ]
  },
  {
   "cell_type": "code",
   "execution_count": 6,
   "id": "6b2ebd85",
   "metadata": {},
   "outputs": [
    {
     "ename": "KeyboardInterrupt",
     "evalue": "",
     "output_type": "error",
     "traceback": [
      "\u001b[31m---------------------------------------------------------------------------\u001b[39m",
      "\u001b[31mKeyboardInterrupt\u001b[39m                         Traceback (most recent call last)",
      "\u001b[36mCell\u001b[39m\u001b[36m \u001b[39m\u001b[32mIn[6]\u001b[39m\u001b[32m, line 2\u001b[39m\n\u001b[32m      1\u001b[39m \u001b[38;5;66;03m# 저장 + 열기\u001b[39;00m\n\u001b[32m----> \u001b[39m\u001b[32m2\u001b[39m \u001b[43mm\u001b[49m\u001b[43m.\u001b[49m\u001b[43msave\u001b[49m\u001b[43m(\u001b[49m\u001b[43mOUTPUT_HTML\u001b[49m\u001b[43m)\u001b[49m\n\u001b[32m      3\u001b[39m \u001b[38;5;28mprint\u001b[39m(\u001b[33mf\u001b[39m\u001b[33m\"\u001b[39m\u001b[33m✅ 지도 생성 완료: \u001b[39m\u001b[38;5;132;01m{\u001b[39;00mOUTPUT_HTML\u001b[38;5;132;01m}\u001b[39;00m\u001b[33m\"\u001b[39m)\n\u001b[32m      4\u001b[39m webbrowser.open(OUTPUT_HTML)\n",
      "\u001b[36mFile \u001b[39m\u001b[32mc:\\Users\\baesa\\AppData\\Local\\Programs\\Python\\Python311\\Lib\\site-packages\\branca\\element.py:232\u001b[39m, in \u001b[36mElement.save\u001b[39m\u001b[34m(self, outfile, close_file, **kwargs)\u001b[39m\n\u001b[32m    229\u001b[39m     fid = outfile\n\u001b[32m    231\u001b[39m root = \u001b[38;5;28mself\u001b[39m.get_root()\n\u001b[32m--> \u001b[39m\u001b[32m232\u001b[39m html = \u001b[43mroot\u001b[49m\u001b[43m.\u001b[49m\u001b[43mrender\u001b[49m\u001b[43m(\u001b[49m\u001b[43m*\u001b[49m\u001b[43m*\u001b[49m\u001b[43mkwargs\u001b[49m\u001b[43m)\u001b[49m\n\u001b[32m    233\u001b[39m fid.write(html.encode(\u001b[33m\"\u001b[39m\u001b[33mutf8\u001b[39m\u001b[33m\"\u001b[39m))\n\u001b[32m    234\u001b[39m \u001b[38;5;28;01mif\u001b[39;00m close_file:\n",
      "\u001b[36mFile \u001b[39m\u001b[32mc:\\Users\\baesa\\AppData\\Local\\Programs\\Python\\Python311\\Lib\\site-packages\\branca\\element.py:409\u001b[39m, in \u001b[36mFigure.render\u001b[39m\u001b[34m(self, **kwargs)\u001b[39m\n\u001b[32m    407\u001b[39m \u001b[38;5;250m\u001b[39m\u001b[33;03m\"\"\"Renders the HTML representation of the element.\"\"\"\u001b[39;00m\n\u001b[32m    408\u001b[39m \u001b[38;5;28;01mfor\u001b[39;00m name, child \u001b[38;5;129;01min\u001b[39;00m \u001b[38;5;28mself\u001b[39m._children.items():\n\u001b[32m--> \u001b[39m\u001b[32m409\u001b[39m     \u001b[43mchild\u001b[49m\u001b[43m.\u001b[49m\u001b[43mrender\u001b[49m\u001b[43m(\u001b[49m\u001b[43m*\u001b[49m\u001b[43m*\u001b[49m\u001b[43mkwargs\u001b[49m\u001b[43m)\u001b[49m\n\u001b[32m    410\u001b[39m \u001b[38;5;28;01mreturn\u001b[39;00m \u001b[38;5;28mself\u001b[39m._template.render(this=\u001b[38;5;28mself\u001b[39m, kwargs=kwargs)\n",
      "\u001b[36mFile \u001b[39m\u001b[32mc:\\Users\\baesa\\AppData\\Local\\Programs\\Python\\Python311\\Lib\\site-packages\\folium\\elements.py:46\u001b[39m, in \u001b[36mJSCSSMixin.render\u001b[39m\u001b[34m(self, **kwargs)\u001b[39m\n\u001b[32m     43\u001b[39m \u001b[38;5;28;01mfor\u001b[39;00m name, url \u001b[38;5;129;01min\u001b[39;00m \u001b[38;5;28mself\u001b[39m.default_css:\n\u001b[32m     44\u001b[39m     figure.header.add_child(CssLink(url), name=name)\n\u001b[32m---> \u001b[39m\u001b[32m46\u001b[39m \u001b[38;5;28;43msuper\u001b[39;49m\u001b[43m(\u001b[49m\u001b[43m)\u001b[49m\u001b[43m.\u001b[49m\u001b[43mrender\u001b[49m\u001b[43m(\u001b[49m\u001b[43m*\u001b[49m\u001b[43m*\u001b[49m\u001b[43mkwargs\u001b[49m\u001b[43m)\u001b[49m\n",
      "\u001b[36mFile \u001b[39m\u001b[32mc:\\Users\\baesa\\AppData\\Local\\Programs\\Python\\Python311\\Lib\\site-packages\\folium\\map.py:73\u001b[39m, in \u001b[36mClass.render\u001b[39m\u001b[34m(self, **kwargs)\u001b[39m\n\u001b[32m     64\u001b[39m     \u001b[38;5;66;03m# A bit weird. I tried adding IncludeStatement directly to both\u001b[39;00m\n\u001b[32m     65\u001b[39m     \u001b[38;5;66;03m# figure and script, but failed. So we render this ourself.\u001b[39;00m\n\u001b[32m     66\u001b[39m     figure.script.add_child(\n\u001b[32m     67\u001b[39m         Element(stmt._template.render(this=stmt, kwargs=\u001b[38;5;28mself\u001b[39m.includes)),\n\u001b[32m     68\u001b[39m         \u001b[38;5;66;03m# make sure each class include gets rendered only once\u001b[39;00m\n\u001b[32m   (...)\u001b[39m\u001b[32m     71\u001b[39m         index=-\u001b[32m1\u001b[39m,\n\u001b[32m     72\u001b[39m     )\n\u001b[32m---> \u001b[39m\u001b[32m73\u001b[39m \u001b[38;5;28;43msuper\u001b[39;49m\u001b[43m(\u001b[49m\u001b[43m)\u001b[49m\u001b[43m.\u001b[49m\u001b[43mrender\u001b[49m\u001b[43m(\u001b[49m\u001b[43m*\u001b[49m\u001b[43m*\u001b[49m\u001b[43mkwargs\u001b[49m\u001b[43m)\u001b[49m\n",
      "\u001b[36mFile \u001b[39m\u001b[32mc:\\Users\\baesa\\AppData\\Local\\Programs\\Python\\Python311\\Lib\\site-packages\\branca\\element.py:740\u001b[39m, in \u001b[36mMacroElement.render\u001b[39m\u001b[34m(self, **kwargs)\u001b[39m\n\u001b[32m    737\u001b[39m     figure.script.add_child(Element(script(\u001b[38;5;28mself\u001b[39m, kwargs)), name=\u001b[38;5;28mself\u001b[39m.get_name())\n\u001b[32m    739\u001b[39m \u001b[38;5;28;01mfor\u001b[39;00m name, element \u001b[38;5;129;01min\u001b[39;00m \u001b[38;5;28mself\u001b[39m._children.items():\n\u001b[32m--> \u001b[39m\u001b[32m740\u001b[39m     \u001b[43melement\u001b[49m\u001b[43m.\u001b[49m\u001b[43mrender\u001b[49m\u001b[43m(\u001b[49m\u001b[43m*\u001b[49m\u001b[43m*\u001b[49m\u001b[43mkwargs\u001b[49m\u001b[43m)\u001b[49m\n",
      "\u001b[36mFile \u001b[39m\u001b[32mc:\\Users\\baesa\\AppData\\Local\\Programs\\Python\\Python311\\Lib\\site-packages\\folium\\elements.py:46\u001b[39m, in \u001b[36mJSCSSMixin.render\u001b[39m\u001b[34m(self, **kwargs)\u001b[39m\n\u001b[32m     43\u001b[39m \u001b[38;5;28;01mfor\u001b[39;00m name, url \u001b[38;5;129;01min\u001b[39;00m \u001b[38;5;28mself\u001b[39m.default_css:\n\u001b[32m     44\u001b[39m     figure.header.add_child(CssLink(url), name=name)\n\u001b[32m---> \u001b[39m\u001b[32m46\u001b[39m \u001b[38;5;28;43msuper\u001b[39;49m\u001b[43m(\u001b[49m\u001b[43m)\u001b[49m\u001b[43m.\u001b[49m\u001b[43mrender\u001b[49m\u001b[43m(\u001b[49m\u001b[43m*\u001b[49m\u001b[43m*\u001b[49m\u001b[43mkwargs\u001b[49m\u001b[43m)\u001b[49m\n",
      "\u001b[36mFile \u001b[39m\u001b[32mc:\\Users\\baesa\\AppData\\Local\\Programs\\Python\\Python311\\Lib\\site-packages\\folium\\map.py:137\u001b[39m, in \u001b[36mLayer.render\u001b[39m\u001b[34m(self, **kwargs)\u001b[39m\n\u001b[32m    129\u001b[39m \u001b[38;5;28;01mif\u001b[39;00m \u001b[38;5;28mself\u001b[39m.show:\n\u001b[32m    130\u001b[39m     \u001b[38;5;28mself\u001b[39m.add_child(\n\u001b[32m    131\u001b[39m         ElementAddToElement(\n\u001b[32m    132\u001b[39m             element_name=\u001b[38;5;28mself\u001b[39m.get_name(),\n\u001b[32m   (...)\u001b[39m\u001b[32m    135\u001b[39m         name=\u001b[38;5;28mself\u001b[39m.get_name() + \u001b[33m\"\u001b[39m\u001b[33m_add\u001b[39m\u001b[33m\"\u001b[39m,\n\u001b[32m    136\u001b[39m     )\n\u001b[32m--> \u001b[39m\u001b[32m137\u001b[39m \u001b[38;5;28;43msuper\u001b[39;49m\u001b[43m(\u001b[49m\u001b[43m)\u001b[49m\u001b[43m.\u001b[49m\u001b[43mrender\u001b[49m\u001b[43m(\u001b[49m\u001b[43m*\u001b[49m\u001b[43m*\u001b[49m\u001b[43mkwargs\u001b[49m\u001b[43m)\u001b[49m\n",
      "\u001b[36mFile \u001b[39m\u001b[32mc:\\Users\\baesa\\AppData\\Local\\Programs\\Python\\Python311\\Lib\\site-packages\\folium\\map.py:73\u001b[39m, in \u001b[36mClass.render\u001b[39m\u001b[34m(self, **kwargs)\u001b[39m\n\u001b[32m     64\u001b[39m     \u001b[38;5;66;03m# A bit weird. I tried adding IncludeStatement directly to both\u001b[39;00m\n\u001b[32m     65\u001b[39m     \u001b[38;5;66;03m# figure and script, but failed. So we render this ourself.\u001b[39;00m\n\u001b[32m     66\u001b[39m     figure.script.add_child(\n\u001b[32m     67\u001b[39m         Element(stmt._template.render(this=stmt, kwargs=\u001b[38;5;28mself\u001b[39m.includes)),\n\u001b[32m     68\u001b[39m         \u001b[38;5;66;03m# make sure each class include gets rendered only once\u001b[39;00m\n\u001b[32m   (...)\u001b[39m\u001b[32m     71\u001b[39m         index=-\u001b[32m1\u001b[39m,\n\u001b[32m     72\u001b[39m     )\n\u001b[32m---> \u001b[39m\u001b[32m73\u001b[39m \u001b[38;5;28;43msuper\u001b[39;49m\u001b[43m(\u001b[49m\u001b[43m)\u001b[49m\u001b[43m.\u001b[49m\u001b[43mrender\u001b[49m\u001b[43m(\u001b[49m\u001b[43m*\u001b[49m\u001b[43m*\u001b[49m\u001b[43mkwargs\u001b[49m\u001b[43m)\u001b[49m\n",
      "\u001b[36mFile \u001b[39m\u001b[32mc:\\Users\\baesa\\AppData\\Local\\Programs\\Python\\Python311\\Lib\\site-packages\\branca\\element.py:740\u001b[39m, in \u001b[36mMacroElement.render\u001b[39m\u001b[34m(self, **kwargs)\u001b[39m\n\u001b[32m    737\u001b[39m     figure.script.add_child(Element(script(\u001b[38;5;28mself\u001b[39m, kwargs)), name=\u001b[38;5;28mself\u001b[39m.get_name())\n\u001b[32m    739\u001b[39m \u001b[38;5;28;01mfor\u001b[39;00m name, element \u001b[38;5;129;01min\u001b[39;00m \u001b[38;5;28mself\u001b[39m._children.items():\n\u001b[32m--> \u001b[39m\u001b[32m740\u001b[39m     \u001b[43melement\u001b[49m\u001b[43m.\u001b[49m\u001b[43mrender\u001b[49m\u001b[43m(\u001b[49m\u001b[43m*\u001b[49m\u001b[43m*\u001b[49m\u001b[43mkwargs\u001b[49m\u001b[43m)\u001b[49m\n",
      "\u001b[36mFile \u001b[39m\u001b[32mc:\\Users\\baesa\\AppData\\Local\\Programs\\Python\\Python311\\Lib\\site-packages\\folium\\map.py:481\u001b[39m, in \u001b[36mMarker.render\u001b[39m\u001b[34m(self)\u001b[39m\n\u001b[32m    479\u001b[39m \u001b[38;5;28;01mif\u001b[39;00m \u001b[38;5;28mself\u001b[39m.icon:\n\u001b[32m    480\u001b[39m     \u001b[38;5;28mself\u001b[39m.add_child(\u001b[38;5;28mself\u001b[39m.SetIcon(marker=\u001b[38;5;28mself\u001b[39m, icon=\u001b[38;5;28mself\u001b[39m.icon))\n\u001b[32m--> \u001b[39m\u001b[32m481\u001b[39m \u001b[38;5;28;43msuper\u001b[39;49m\u001b[43m(\u001b[49m\u001b[43m)\u001b[49m\u001b[43m.\u001b[49m\u001b[43mrender\u001b[49m\u001b[43m(\u001b[49m\u001b[43m)\u001b[49m\n",
      "\u001b[36mFile \u001b[39m\u001b[32mc:\\Users\\baesa\\AppData\\Local\\Programs\\Python\\Python311\\Lib\\site-packages\\branca\\element.py:737\u001b[39m, in \u001b[36mMacroElement.render\u001b[39m\u001b[34m(self, **kwargs)\u001b[39m\n\u001b[32m    735\u001b[39m script = \u001b[38;5;28mself\u001b[39m._template.module.\u001b[34m__dict__\u001b[39m.get(\u001b[33m\"\u001b[39m\u001b[33mscript\u001b[39m\u001b[33m\"\u001b[39m, \u001b[38;5;28;01mNone\u001b[39;00m)\n\u001b[32m    736\u001b[39m \u001b[38;5;28;01mif\u001b[39;00m script \u001b[38;5;129;01mis\u001b[39;00m \u001b[38;5;129;01mnot\u001b[39;00m \u001b[38;5;28;01mNone\u001b[39;00m:\n\u001b[32m--> \u001b[39m\u001b[32m737\u001b[39m     figure.script.add_child(\u001b[43mElement\u001b[49m\u001b[43m(\u001b[49m\u001b[43mscript\u001b[49m\u001b[43m(\u001b[49m\u001b[38;5;28;43mself\u001b[39;49m\u001b[43m,\u001b[49m\u001b[43m \u001b[49m\u001b[43mkwargs\u001b[49m\u001b[43m)\u001b[49m\u001b[43m)\u001b[49m, name=\u001b[38;5;28mself\u001b[39m.get_name())\n\u001b[32m    739\u001b[39m \u001b[38;5;28;01mfor\u001b[39;00m name, element \u001b[38;5;129;01min\u001b[39;00m \u001b[38;5;28mself\u001b[39m._children.items():\n\u001b[32m    740\u001b[39m     element.render(**kwargs)\n",
      "\u001b[36mFile \u001b[39m\u001b[32mc:\\Users\\baesa\\AppData\\Local\\Programs\\Python\\Python311\\Lib\\site-packages\\branca\\element.py:68\u001b[39m, in \u001b[36mElement.__init__\u001b[39m\u001b[34m(self, template, template_name)\u001b[39m\n\u001b[32m     65\u001b[39m \u001b[38;5;28mself\u001b[39m._template_name: Optional[\u001b[38;5;28mstr\u001b[39m] = template_name\n\u001b[32m     67\u001b[39m \u001b[38;5;28;01mif\u001b[39;00m template \u001b[38;5;129;01mis\u001b[39;00m \u001b[38;5;129;01mnot\u001b[39;00m \u001b[38;5;28;01mNone\u001b[39;00m:\n\u001b[32m---> \u001b[39m\u001b[32m68\u001b[39m     \u001b[38;5;28mself\u001b[39m._template = \u001b[43mTemplate\u001b[49m\u001b[43m(\u001b[49m\u001b[43mtemplate\u001b[49m\u001b[43m)\u001b[49m\n\u001b[32m     69\u001b[39m \u001b[38;5;28;01melif\u001b[39;00m template_name \u001b[38;5;129;01mis\u001b[39;00m \u001b[38;5;129;01mnot\u001b[39;00m \u001b[38;5;28;01mNone\u001b[39;00m:\n\u001b[32m     70\u001b[39m     \u001b[38;5;28mself\u001b[39m._template = ENV.get_template(template_name)\n",
      "\u001b[36mFile \u001b[39m\u001b[32mc:\\Users\\baesa\\AppData\\Local\\Programs\\Python\\Python311\\Lib\\site-packages\\jinja2\\environment.py:1214\u001b[39m, in \u001b[36mTemplate.__new__\u001b[39m\u001b[34m(cls, source, block_start_string, block_end_string, variable_start_string, variable_end_string, comment_start_string, comment_end_string, line_statement_prefix, line_comment_prefix, trim_blocks, lstrip_blocks, newline_sequence, keep_trailing_newline, extensions, optimized, undefined, finalize, autoescape, enable_async)\u001b[39m\n\u001b[32m   1167\u001b[39m \u001b[38;5;28;01mdef\u001b[39;00m\u001b[38;5;250m \u001b[39m\u001b[34m__new__\u001b[39m(\n\u001b[32m   1168\u001b[39m     \u001b[38;5;28mcls\u001b[39m,\n\u001b[32m   1169\u001b[39m     source: t.Union[\u001b[38;5;28mstr\u001b[39m, nodes.Template],\n\u001b[32m   (...)\u001b[39m\u001b[32m   1187\u001b[39m     enable_async: \u001b[38;5;28mbool\u001b[39m = \u001b[38;5;28;01mFalse\u001b[39;00m,\n\u001b[32m   1188\u001b[39m ) -> t.Any:  \u001b[38;5;66;03m# it returns a `Template`, but this breaks the sphinx build...\u001b[39;00m\n\u001b[32m   1189\u001b[39m     env = get_spontaneous_environment(\n\u001b[32m   1190\u001b[39m         \u001b[38;5;28mcls\u001b[39m.environment_class,  \u001b[38;5;66;03m# type: ignore\u001b[39;00m\n\u001b[32m   1191\u001b[39m         block_start_string,\n\u001b[32m   (...)\u001b[39m\u001b[32m   1212\u001b[39m         enable_async,\n\u001b[32m   1213\u001b[39m     )\n\u001b[32m-> \u001b[39m\u001b[32m1214\u001b[39m     \u001b[38;5;28;01mreturn\u001b[39;00m \u001b[43menv\u001b[49m\u001b[43m.\u001b[49m\u001b[43mfrom_string\u001b[49m\u001b[43m(\u001b[49m\u001b[43msource\u001b[49m\u001b[43m,\u001b[49m\u001b[43m \u001b[49m\u001b[43mtemplate_class\u001b[49m\u001b[43m=\u001b[49m\u001b[38;5;28;43mcls\u001b[39;49m\u001b[43m)\u001b[49m\n",
      "\u001b[36mFile \u001b[39m\u001b[32mc:\\Users\\baesa\\AppData\\Local\\Programs\\Python\\Python311\\Lib\\site-packages\\jinja2\\environment.py:1111\u001b[39m, in \u001b[36mEnvironment.from_string\u001b[39m\u001b[34m(self, source, globals, template_class)\u001b[39m\n\u001b[32m   1109\u001b[39m gs = \u001b[38;5;28mself\u001b[39m.make_globals(\u001b[38;5;28mglobals\u001b[39m)\n\u001b[32m   1110\u001b[39m \u001b[38;5;28mcls\u001b[39m = template_class \u001b[38;5;129;01mor\u001b[39;00m \u001b[38;5;28mself\u001b[39m.template_class\n\u001b[32m-> \u001b[39m\u001b[32m1111\u001b[39m \u001b[38;5;28;01mreturn\u001b[39;00m \u001b[38;5;28mcls\u001b[39m.from_code(\u001b[38;5;28mself\u001b[39m, \u001b[38;5;28;43mself\u001b[39;49m\u001b[43m.\u001b[49m\u001b[43mcompile\u001b[49m\u001b[43m(\u001b[49m\u001b[43msource\u001b[49m\u001b[43m)\u001b[49m, gs, \u001b[38;5;28;01mNone\u001b[39;00m)\n",
      "\u001b[36mFile \u001b[39m\u001b[32mc:\\Users\\baesa\\AppData\\Local\\Programs\\Python\\Python311\\Lib\\site-packages\\jinja2\\environment.py:763\u001b[39m, in \u001b[36mEnvironment.compile\u001b[39m\u001b[34m(self, source, name, filename, raw, defer_init)\u001b[39m\n\u001b[32m    761\u001b[39m \u001b[38;5;28;01mif\u001b[39;00m \u001b[38;5;28misinstance\u001b[39m(source, \u001b[38;5;28mstr\u001b[39m):\n\u001b[32m    762\u001b[39m     source_hint = source\n\u001b[32m--> \u001b[39m\u001b[32m763\u001b[39m     source = \u001b[38;5;28;43mself\u001b[39;49m\u001b[43m.\u001b[49m\u001b[43m_parse\u001b[49m\u001b[43m(\u001b[49m\u001b[43msource\u001b[49m\u001b[43m,\u001b[49m\u001b[43m \u001b[49m\u001b[43mname\u001b[49m\u001b[43m,\u001b[49m\u001b[43m \u001b[49m\u001b[43mfilename\u001b[49m\u001b[43m)\u001b[49m\n\u001b[32m    764\u001b[39m source = \u001b[38;5;28mself\u001b[39m._generate(source, name, filename, defer_init=defer_init)\n\u001b[32m    765\u001b[39m \u001b[38;5;28;01mif\u001b[39;00m raw:\n",
      "\u001b[36mFile \u001b[39m\u001b[32mc:\\Users\\baesa\\AppData\\Local\\Programs\\Python\\Python311\\Lib\\site-packages\\jinja2\\environment.py:622\u001b[39m, in \u001b[36mEnvironment._parse\u001b[39m\u001b[34m(self, source, name, filename)\u001b[39m\n\u001b[32m    618\u001b[39m \u001b[38;5;28;01mdef\u001b[39;00m\u001b[38;5;250m \u001b[39m\u001b[34m_parse\u001b[39m(\n\u001b[32m    619\u001b[39m     \u001b[38;5;28mself\u001b[39m, source: \u001b[38;5;28mstr\u001b[39m, name: t.Optional[\u001b[38;5;28mstr\u001b[39m], filename: t.Optional[\u001b[38;5;28mstr\u001b[39m]\n\u001b[32m    620\u001b[39m ) -> nodes.Template:\n\u001b[32m    621\u001b[39m \u001b[38;5;250m    \u001b[39m\u001b[33;03m\"\"\"Internal parsing function used by `parse` and `compile`.\"\"\"\u001b[39;00m\n\u001b[32m--> \u001b[39m\u001b[32m622\u001b[39m     \u001b[38;5;28;01mreturn\u001b[39;00m \u001b[43mParser\u001b[49m\u001b[43m(\u001b[49m\u001b[38;5;28;43mself\u001b[39;49m\u001b[43m,\u001b[49m\u001b[43m \u001b[49m\u001b[43msource\u001b[49m\u001b[43m,\u001b[49m\u001b[43m \u001b[49m\u001b[43mname\u001b[49m\u001b[43m,\u001b[49m\u001b[43m \u001b[49m\u001b[43mfilename\u001b[49m\u001b[43m)\u001b[49m.parse()\n",
      "\u001b[36mFile \u001b[39m\u001b[32mc:\\Users\\baesa\\AppData\\Local\\Programs\\Python\\Python311\\Lib\\site-packages\\jinja2\\parser.py:69\u001b[39m, in \u001b[36mParser.__init__\u001b[39m\u001b[34m(self, environment, source, name, filename, state)\u001b[39m\n\u001b[32m     65\u001b[39m \u001b[38;5;28mself\u001b[39m.closed = \u001b[38;5;28;01mFalse\u001b[39;00m\n\u001b[32m     66\u001b[39m \u001b[38;5;28mself\u001b[39m.extensions: t.Dict[\n\u001b[32m     67\u001b[39m     \u001b[38;5;28mstr\u001b[39m, t.Callable[[Parser], t.Union[nodes.Node, t.List[nodes.Node]]]\n\u001b[32m     68\u001b[39m ] = {}\n\u001b[32m---> \u001b[39m\u001b[32m69\u001b[39m \u001b[38;5;28;01mfor\u001b[39;00m extension \u001b[38;5;129;01min\u001b[39;00m \u001b[43menvironment\u001b[49m\u001b[43m.\u001b[49m\u001b[43miter_extensions\u001b[49m\u001b[43m(\u001b[49m\u001b[43m)\u001b[49m:\n\u001b[32m     70\u001b[39m     \u001b[38;5;28;01mfor\u001b[39;00m tag \u001b[38;5;129;01min\u001b[39;00m extension.tags:\n\u001b[32m     71\u001b[39m         \u001b[38;5;28mself\u001b[39m.extensions[tag] = extension.parse\n",
      "\u001b[36mFile \u001b[39m\u001b[32mc:\\Users\\baesa\\AppData\\Local\\Programs\\Python\\Python311\\Lib\\site-packages\\jinja2\\environment.py:464\u001b[39m, in \u001b[36mEnvironment.iter_extensions\u001b[39m\u001b[34m(self)\u001b[39m\n\u001b[32m    462\u001b[39m \u001b[38;5;28;01mdef\u001b[39;00m\u001b[38;5;250m \u001b[39m\u001b[34miter_extensions\u001b[39m(\u001b[38;5;28mself\u001b[39m) -> t.Iterator[\u001b[33m\"\u001b[39m\u001b[33mExtension\u001b[39m\u001b[33m\"\u001b[39m]:\n\u001b[32m    463\u001b[39m \u001b[38;5;250m    \u001b[39m\u001b[33;03m\"\"\"Iterates over the extensions by priority.\"\"\"\u001b[39;00m\n\u001b[32m--> \u001b[39m\u001b[32m464\u001b[39m     \u001b[38;5;28;01mreturn\u001b[39;00m \u001b[38;5;28miter\u001b[39m(\u001b[38;5;28msorted\u001b[39m(\u001b[38;5;28mself\u001b[39m.extensions.values(), key=\u001b[38;5;28;01mlambda\u001b[39;00m x: x.priority))\n",
      "\u001b[31mKeyboardInterrupt\u001b[39m: "
     ]
    }
   ],
   "source": [
    "# 저장 + 열기\n",
    "m.save(OUTPUT_HTML)\n",
    "print(f\"✅ 지도 생성 완료: {OUTPUT_HTML}\")\n",
    "webbrowser.open(OUTPUT_HTML)"
   ]
  },
  {
   "cell_type": "code",
   "execution_count": null,
   "id": "43535fae",
   "metadata": {},
   "outputs": [],
   "source": []
  }
 ],
 "metadata": {
  "kernelspec": {
   "display_name": "Python 3",
   "language": "python",
   "name": "python3"
  },
  "language_info": {
   "codemirror_mode": {
    "name": "ipython",
    "version": 3
   },
   "file_extension": ".py",
   "mimetype": "text/x-python",
   "name": "python",
   "nbconvert_exporter": "python",
   "pygments_lexer": "ipython3",
   "version": "3.11.0"
  }
 },
 "nbformat": 4,
 "nbformat_minor": 5
}
