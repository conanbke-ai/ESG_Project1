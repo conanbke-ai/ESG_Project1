{
 "cells": [
  {
   "cell_type": "code",
   "execution_count": 6,
   "id": "5bf349c0",
   "metadata": {},
   "outputs": [
    {
     "name": "stderr",
     "output_type": "stream",
     "text": [
      "CSV 처리 중: "
     ]
    },
    {
     "name": "stdout",
     "output_type": "stream",
     "text": [
      "[2025-10-27 12:00:32,891]✅ INFO - 📄 '한국남동발전㈜_(발전공기업 표준) 신재생에너지 사업현황_20221231.csv' 읽기 성공 (cp949)\n",
      "[2025-10-27 12:00:32,893]✅ INFO - 📄 '한국남부발전(주)_태양광발전기 사양정보_20250630.csv' 읽기 성공 (cp949)\n",
      "[2025-10-27 12:00:32,895]✅ INFO - 📄 '한국동서발전(주)_(발전공기업 표준)신재생에너지 사업현황_20230630.csv' 읽기 성공 (cp949)\n",
      "[2025-10-27 12:00:32,897]✅ INFO - 📄 '한국서부발전(주)_신재생에너지사업현황_20231231.csv' 읽기 성공 (cp949)\n",
      "[2025-10-27 12:00:32,900]✅ INFO - 📄 '남동발전량_2022_01.csv' 읽기 성공 (utf-8)\n",
      "[2025-10-27 12:00:32,924]✅ INFO - 📄 '남동발전량_2022_02.csv' 읽기 성공 (utf-8)\n",
      "[2025-10-27 12:00:32,945]✅ INFO - 📄 '남동발전량_2022_03.csv' 읽기 성공 (utf-8)\n",
      "[2025-10-27 12:00:32,968]✅ INFO - 📄 '남동발전량_2022_04.csv' 읽기 성공 (utf-8)\n",
      "[2025-10-27 12:00:32,990]✅ INFO - 📄 '남동발전량_2022_05.csv' 읽기 성공 (utf-8)\n"
     ]
    },
    {
     "name": "stderr",
     "output_type": "stream",
     "text": [
      "C:\\Users\\c\\AppData\\Local\\Temp\\ipykernel_24888\\913769041.py:43: ParserWarning: Length of header or names does not match length of data. This leads to a loss of data with index_col=False.\n",
      "  df = pd.read_csv(path, encoding=\"utf-8\", delimiter=delim, index_col=False)\n",
      "C:\\Users\\c\\AppData\\Local\\Temp\\ipykernel_24888\\913769041.py:43: ParserWarning: Length of header or names does not match length of data. This leads to a loss of data with index_col=False.\n",
      "  df = pd.read_csv(path, encoding=\"utf-8\", delimiter=delim, index_col=False)\n",
      "C:\\Users\\c\\AppData\\Local\\Temp\\ipykernel_24888\\913769041.py:43: ParserWarning: Length of header or names does not match length of data. This leads to a loss of data with index_col=False.\n",
      "  df = pd.read_csv(path, encoding=\"utf-8\", delimiter=delim, index_col=False)\n",
      "C:\\Users\\c\\AppData\\Local\\Temp\\ipykernel_24888\\913769041.py:43: ParserWarning: Length of header or names does not match length of data. This leads to a loss of data with index_col=False.\n",
      "  df = pd.read_csv(path, encoding=\"utf-8\", delimiter=delim, index_col=False)\n",
      "C:\\Users\\c\\AppData\\Local\\Temp\\ipykernel_24888\\913769041.py:43: ParserWarning: Length of header or names does not match length of data. This leads to a loss of data with index_col=False.\n",
      "  df = pd.read_csv(path, encoding=\"utf-8\", delimiter=delim, index_col=False)\n",
      "CSV 처리 중: "
     ]
    },
    {
     "name": "stdout",
     "output_type": "stream",
     "text": [
      "[2025-10-27 12:00:33,016]✅ INFO - 📄 '남동발전량_2022_06.csv' 읽기 성공 (utf-8)\n",
      "[2025-10-27 12:00:33,039]✅ INFO - 📄 '남동발전량_2022_07.csv' 읽기 성공 (utf-8)\n",
      "[2025-10-27 12:00:33,061]✅ INFO - 📄 '남동발전량_2022_08.csv' 읽기 성공 (utf-8)\n",
      "[2025-10-27 12:00:33,084]✅ INFO - 📄 '남동발전량_2022_09.csv' 읽기 성공 (utf-8)\n"
     ]
    },
    {
     "name": "stderr",
     "output_type": "stream",
     "text": [
      "C:\\Users\\c\\AppData\\Local\\Temp\\ipykernel_24888\\913769041.py:43: ParserWarning: Length of header or names does not match length of data. This leads to a loss of data with index_col=False.\n",
      "  df = pd.read_csv(path, encoding=\"utf-8\", delimiter=delim, index_col=False)\n",
      "C:\\Users\\c\\AppData\\Local\\Temp\\ipykernel_24888\\913769041.py:43: ParserWarning: Length of header or names does not match length of data. This leads to a loss of data with index_col=False.\n",
      "  df = pd.read_csv(path, encoding=\"utf-8\", delimiter=delim, index_col=False)\n",
      "C:\\Users\\c\\AppData\\Local\\Temp\\ipykernel_24888\\913769041.py:43: ParserWarning: Length of header or names does not match length of data. This leads to a loss of data with index_col=False.\n",
      "  df = pd.read_csv(path, encoding=\"utf-8\", delimiter=delim, index_col=False)\n",
      "C:\\Users\\c\\AppData\\Local\\Temp\\ipykernel_24888\\913769041.py:43: ParserWarning: Length of header or names does not match length of data. This leads to a loss of data with index_col=False.\n",
      "  df = pd.read_csv(path, encoding=\"utf-8\", delimiter=delim, index_col=False)\n"
     ]
    },
    {
     "name": "stdout",
     "output_type": "stream",
     "text": [
      "[2025-10-27 12:00:33,105]✅ INFO - 📄 '남동발전량_2022_10.csv' 읽기 성공 (utf-8)\n",
      "[2025-10-27 12:00:33,131]✅ INFO - 📄 '남동발전량_2022_11.csv' 읽기 성공 (utf-8)\n",
      "[2025-10-27 12:00:33,154]✅ INFO - 📄 '남동발전량_2022_12.csv' 읽기 성공 (utf-8)\n",
      "[2025-10-27 12:00:33,177]✅ INFO - 📄 '남동발전량_2023_01.csv' 읽기 성공 (utf-8)\n"
     ]
    },
    {
     "name": "stderr",
     "output_type": "stream",
     "text": [
      "C:\\Users\\c\\AppData\\Local\\Temp\\ipykernel_24888\\913769041.py:43: ParserWarning: Length of header or names does not match length of data. This leads to a loss of data with index_col=False.\n",
      "  df = pd.read_csv(path, encoding=\"utf-8\", delimiter=delim, index_col=False)\n",
      "C:\\Users\\c\\AppData\\Local\\Temp\\ipykernel_24888\\913769041.py:43: ParserWarning: Length of header or names does not match length of data. This leads to a loss of data with index_col=False.\n",
      "  df = pd.read_csv(path, encoding=\"utf-8\", delimiter=delim, index_col=False)\n",
      "C:\\Users\\c\\AppData\\Local\\Temp\\ipykernel_24888\\913769041.py:43: ParserWarning: Length of header or names does not match length of data. This leads to a loss of data with index_col=False.\n",
      "  df = pd.read_csv(path, encoding=\"utf-8\", delimiter=delim, index_col=False)\n",
      "C:\\Users\\c\\AppData\\Local\\Temp\\ipykernel_24888\\913769041.py:43: ParserWarning: Length of header or names does not match length of data. This leads to a loss of data with index_col=False.\n",
      "  df = pd.read_csv(path, encoding=\"utf-8\", delimiter=delim, index_col=False)\n",
      "CSV 처리 중: "
     ]
    },
    {
     "name": "stdout",
     "output_type": "stream",
     "text": [
      "[2025-10-27 12:00:33,205]✅ INFO - 📄 '남동발전량_2023_02.csv' 읽기 성공 (utf-8)\n",
      "[2025-10-27 12:00:33,229]✅ INFO - 📄 '남동발전량_2023_03.csv' 읽기 성공 (utf-8)\n",
      "[2025-10-27 12:00:33,254]✅ INFO - 📄 '남동발전량_2023_04.csv' 읽기 성공 (utf-8)\n",
      "[2025-10-27 12:00:33,278]✅ INFO - 📄 '남동발전량_2023_05.csv' 읽기 성공 (utf-8)\n",
      "[2025-10-27 12:00:33,303]✅ INFO - 📄 '남동발전량_2023_06.csv' 읽기 성공 (utf-8)\n"
     ]
    },
    {
     "name": "stderr",
     "output_type": "stream",
     "text": [
      "C:\\Users\\c\\AppData\\Local\\Temp\\ipykernel_24888\\913769041.py:43: ParserWarning: Length of header or names does not match length of data. This leads to a loss of data with index_col=False.\n",
      "  df = pd.read_csv(path, encoding=\"utf-8\", delimiter=delim, index_col=False)\n",
      "C:\\Users\\c\\AppData\\Local\\Temp\\ipykernel_24888\\913769041.py:43: ParserWarning: Length of header or names does not match length of data. This leads to a loss of data with index_col=False.\n",
      "  df = pd.read_csv(path, encoding=\"utf-8\", delimiter=delim, index_col=False)\n",
      "C:\\Users\\c\\AppData\\Local\\Temp\\ipykernel_24888\\913769041.py:43: ParserWarning: Length of header or names does not match length of data. This leads to a loss of data with index_col=False.\n",
      "  df = pd.read_csv(path, encoding=\"utf-8\", delimiter=delim, index_col=False)\n",
      "C:\\Users\\c\\AppData\\Local\\Temp\\ipykernel_24888\\913769041.py:43: ParserWarning: Length of header or names does not match length of data. This leads to a loss of data with index_col=False.\n",
      "  df = pd.read_csv(path, encoding=\"utf-8\", delimiter=delim, index_col=False)\n",
      "C:\\Users\\c\\AppData\\Local\\Temp\\ipykernel_24888\\913769041.py:43: ParserWarning: Length of header or names does not match length of data. This leads to a loss of data with index_col=False.\n",
      "  df = pd.read_csv(path, encoding=\"utf-8\", delimiter=delim, index_col=False)\n"
     ]
    },
    {
     "name": "stdout",
     "output_type": "stream",
     "text": [
      "[2025-10-27 12:00:33,326]✅ INFO - 📄 '남동발전량_2023_07.csv' 읽기 성공 (utf-8)\n"
     ]
    },
    {
     "name": "stderr",
     "output_type": "stream",
     "text": [
      "C:\\Users\\c\\AppData\\Local\\Temp\\ipykernel_24888\\913769041.py:43: ParserWarning: Length of header or names does not match length of data. This leads to a loss of data with index_col=False.\n",
      "  df = pd.read_csv(path, encoding=\"utf-8\", delimiter=delim, index_col=False)\n",
      "CSV 처리 중: "
     ]
    },
    {
     "name": "stdout",
     "output_type": "stream",
     "text": [
      "[2025-10-27 12:00:33,354]✅ INFO - 📄 '남동발전량_2023_08.csv' 읽기 성공 (utf-8)\n",
      "[2025-10-27 12:00:33,377]✅ INFO - 📄 '남동발전량_2023_09.csv' 읽기 성공 (utf-8)\n"
     ]
    },
    {
     "name": "stderr",
     "output_type": "stream",
     "text": [
      "C:\\Users\\c\\AppData\\Local\\Temp\\ipykernel_24888\\913769041.py:43: ParserWarning: Length of header or names does not match length of data. This leads to a loss of data with index_col=False.\n",
      "  df = pd.read_csv(path, encoding=\"utf-8\", delimiter=delim, index_col=False)\n",
      "C:\\Users\\c\\AppData\\Local\\Temp\\ipykernel_24888\\913769041.py:43: ParserWarning: Length of header or names does not match length of data. This leads to a loss of data with index_col=False.\n",
      "  df = pd.read_csv(path, encoding=\"utf-8\", delimiter=delim, index_col=False)\n"
     ]
    },
    {
     "name": "stdout",
     "output_type": "stream",
     "text": [
      "[2025-10-27 12:00:33,405]✅ INFO - 📄 '남동발전량_2023_10.csv' 읽기 성공 (utf-8)\n",
      "[2025-10-27 12:00:33,430]✅ INFO - 📄 '남동발전량_2023_11.csv' 읽기 성공 (utf-8)\n",
      "[2025-10-27 12:00:33,454]✅ INFO - 📄 '남동발전량_2023_12.csv' 읽기 성공 (utf-8)\n"
     ]
    },
    {
     "name": "stderr",
     "output_type": "stream",
     "text": [
      "C:\\Users\\c\\AppData\\Local\\Temp\\ipykernel_24888\\913769041.py:43: ParserWarning: Length of header or names does not match length of data. This leads to a loss of data with index_col=False.\n",
      "  df = pd.read_csv(path, encoding=\"utf-8\", delimiter=delim, index_col=False)\n",
      "C:\\Users\\c\\AppData\\Local\\Temp\\ipykernel_24888\\913769041.py:43: ParserWarning: Length of header or names does not match length of data. This leads to a loss of data with index_col=False.\n",
      "  df = pd.read_csv(path, encoding=\"utf-8\", delimiter=delim, index_col=False)\n",
      "C:\\Users\\c\\AppData\\Local\\Temp\\ipykernel_24888\\913769041.py:43: ParserWarning: Length of header or names does not match length of data. This leads to a loss of data with index_col=False.\n",
      "  df = pd.read_csv(path, encoding=\"utf-8\", delimiter=delim, index_col=False)\n",
      "CSV 처리 중: "
     ]
    },
    {
     "name": "stdout",
     "output_type": "stream",
     "text": [
      "[2025-10-27 12:00:33,480]✅ INFO - 📄 '남동발전량_2024_01.csv' 읽기 성공 (utf-8)\n"
     ]
    },
    {
     "name": "stderr",
     "output_type": "stream",
     "text": [
      "C:\\Users\\c\\AppData\\Local\\Temp\\ipykernel_24888\\913769041.py:43: ParserWarning: Length of header or names does not match length of data. This leads to a loss of data with index_col=False.\n",
      "  df = pd.read_csv(path, encoding=\"utf-8\", delimiter=delim, index_col=False)\n",
      "C:\\Users\\c\\AppData\\Local\\Temp\\ipykernel_24888\\913769041.py:43: ParserWarning: Length of header or names does not match length of data. This leads to a loss of data with index_col=False.\n",
      "  df = pd.read_csv(path, encoding=\"utf-8\", delimiter=delim, index_col=False)\n"
     ]
    },
    {
     "name": "stdout",
     "output_type": "stream",
     "text": [
      "[2025-10-27 12:00:33,546]✅ INFO - 📄 '남동발전량_2024_02.csv' 읽기 성공 (utf-8)\n",
      "[2025-10-27 12:00:33,622]✅ INFO - 📄 '남동발전량_2024_03.csv' 읽기 성공 (utf-8)\n"
     ]
    },
    {
     "name": "stderr",
     "output_type": "stream",
     "text": [
      "C:\\Users\\c\\AppData\\Local\\Temp\\ipykernel_24888\\913769041.py:43: ParserWarning: Length of header or names does not match length of data. This leads to a loss of data with index_col=False.\n",
      "  df = pd.read_csv(path, encoding=\"utf-8\", delimiter=delim, index_col=False)\n"
     ]
    },
    {
     "name": "stdout",
     "output_type": "stream",
     "text": [
      "[2025-10-27 12:00:33,681]✅ INFO - 📄 '남동발전량_2024_04.csv' 읽기 성공 (utf-8)\n",
      "[2025-10-27 12:00:33,740]✅ INFO - 📄 '남동발전량_2024_05.csv' 읽기 성공 (utf-8)\n"
     ]
    },
    {
     "name": "stderr",
     "output_type": "stream",
     "text": [
      "C:\\Users\\c\\AppData\\Local\\Temp\\ipykernel_24888\\913769041.py:43: ParserWarning: Length of header or names does not match length of data. This leads to a loss of data with index_col=False.\n",
      "  df = pd.read_csv(path, encoding=\"utf-8\", delimiter=delim, index_col=False)\n",
      "C:\\Users\\c\\AppData\\Local\\Temp\\ipykernel_24888\\913769041.py:43: ParserWarning: Length of header or names does not match length of data. This leads to a loss of data with index_col=False.\n",
      "  df = pd.read_csv(path, encoding=\"utf-8\", delimiter=delim, index_col=False)\n",
      "CSV 처리 중: C:\\Users\\c\\AppData\\Local\\Temp\\ipykernel_24888\\913769041.py:43: ParserWarning: Length of header or names does not match length of data. This leads to a loss of data with index_col=False.\n",
      "  df = pd.read_csv(path, encoding=\"utf-8\", delimiter=delim, index_col=False)\n"
     ]
    },
    {
     "name": "stdout",
     "output_type": "stream",
     "text": [
      "[2025-10-27 12:00:33,802]✅ INFO - 📄 '남동발전량_2024_06.csv' 읽기 성공 (utf-8)\n",
      "[2025-10-27 12:00:33,856]✅ INFO - 📄 '남동발전량_2024_07.csv' 읽기 성공 (utf-8)\n"
     ]
    },
    {
     "name": "stderr",
     "output_type": "stream",
     "text": [
      "C:\\Users\\c\\AppData\\Local\\Temp\\ipykernel_24888\\913769041.py:43: ParserWarning: Length of header or names does not match length of data. This leads to a loss of data with index_col=False.\n",
      "  df = pd.read_csv(path, encoding=\"utf-8\", delimiter=delim, index_col=False)\n"
     ]
    },
    {
     "name": "stdout",
     "output_type": "stream",
     "text": [
      "[2025-10-27 12:00:33,914]✅ INFO - 📄 '남동발전량_2024_08.csv' 읽기 성공 (utf-8)\n",
      "[2025-10-27 12:00:33,971]✅ INFO - 📄 '남동발전량_2024_09.csv' 읽기 성공 (utf-8)\n"
     ]
    },
    {
     "name": "stderr",
     "output_type": "stream",
     "text": [
      "C:\\Users\\c\\AppData\\Local\\Temp\\ipykernel_24888\\913769041.py:43: ParserWarning: Length of header or names does not match length of data. This leads to a loss of data with index_col=False.\n",
      "  df = pd.read_csv(path, encoding=\"utf-8\", delimiter=delim, index_col=False)\n",
      "C:\\Users\\c\\AppData\\Local\\Temp\\ipykernel_24888\\913769041.py:43: ParserWarning: Length of header or names does not match length of data. This leads to a loss of data with index_col=False.\n",
      "  df = pd.read_csv(path, encoding=\"utf-8\", delimiter=delim, index_col=False)\n",
      "CSV 처리 중: "
     ]
    },
    {
     "name": "stdout",
     "output_type": "stream",
     "text": [
      "[2025-10-27 12:00:34,026]✅ INFO - 📄 '남동발전량_2024_10.csv' 읽기 성공 (utf-8)\n"
     ]
    },
    {
     "name": "stderr",
     "output_type": "stream",
     "text": [
      "C:\\Users\\c\\AppData\\Local\\Temp\\ipykernel_24888\\913769041.py:43: ParserWarning: Length of header or names does not match length of data. This leads to a loss of data with index_col=False.\n",
      "  df = pd.read_csv(path, encoding=\"utf-8\", delimiter=delim, index_col=False)\n"
     ]
    },
    {
     "name": "stdout",
     "output_type": "stream",
     "text": [
      "[2025-10-27 12:00:34,083]✅ INFO - 📄 '남동발전량_2024_11.csv' 읽기 성공 (utf-8)\n"
     ]
    },
    {
     "name": "stderr",
     "output_type": "stream",
     "text": [
      "C:\\Users\\c\\AppData\\Local\\Temp\\ipykernel_24888\\913769041.py:43: ParserWarning: Length of header or names does not match length of data. This leads to a loss of data with index_col=False.\n",
      "  df = pd.read_csv(path, encoding=\"utf-8\", delimiter=delim, index_col=False)\n"
     ]
    },
    {
     "name": "stdout",
     "output_type": "stream",
     "text": [
      "[2025-10-27 12:00:34,142]✅ INFO - 📄 '남동발전량_2024_12.csv' 읽기 성공 (utf-8)\n"
     ]
    },
    {
     "name": "stderr",
     "output_type": "stream",
     "text": [
      "C:\\Users\\c\\AppData\\Local\\Temp\\ipykernel_24888\\913769041.py:43: ParserWarning: Length of header or names does not match length of data. This leads to a loss of data with index_col=False.\n",
      "  df = pd.read_csv(path, encoding=\"utf-8\", delimiter=delim, index_col=False)\n",
      "CSV 처리 중: "
     ]
    },
    {
     "name": "stdout",
     "output_type": "stream",
     "text": [
      "[2025-10-27 12:00:34,206]✅ INFO - 📄 '남동발전량_2025_01.csv' 읽기 성공 (utf-8)\n"
     ]
    },
    {
     "name": "stderr",
     "output_type": "stream",
     "text": [
      "C:\\Users\\c\\AppData\\Local\\Temp\\ipykernel_24888\\913769041.py:43: ParserWarning: Length of header or names does not match length of data. This leads to a loss of data with index_col=False.\n",
      "  df = pd.read_csv(path, encoding=\"utf-8\", delimiter=delim, index_col=False)\n"
     ]
    },
    {
     "name": "stdout",
     "output_type": "stream",
     "text": [
      "[2025-10-27 12:00:34,267]✅ INFO - 📄 '남동발전량_2025_02.csv' 읽기 성공 (utf-8)\n"
     ]
    },
    {
     "name": "stderr",
     "output_type": "stream",
     "text": [
      "C:\\Users\\c\\AppData\\Local\\Temp\\ipykernel_24888\\913769041.py:43: ParserWarning: Length of header or names does not match length of data. This leads to a loss of data with index_col=False.\n",
      "  df = pd.read_csv(path, encoding=\"utf-8\", delimiter=delim, index_col=False)\n",
      "C:\\Users\\c\\AppData\\Local\\Temp\\ipykernel_24888\\913769041.py:43: ParserWarning: Length of header or names does not match length of data. This leads to a loss of data with index_col=False.\n",
      "  df = pd.read_csv(path, encoding=\"utf-8\", delimiter=delim, index_col=False)\n"
     ]
    },
    {
     "name": "stdout",
     "output_type": "stream",
     "text": [
      "[2025-10-27 12:00:34,322]✅ INFO - 📄 '남동발전량_2025_03.csv' 읽기 성공 (utf-8)\n"
     ]
    },
    {
     "name": "stderr",
     "output_type": "stream",
     "text": [
      "CSV 처리 중: C:\\Users\\c\\AppData\\Local\\Temp\\ipykernel_24888\\913769041.py:43: ParserWarning: Length of header or names does not match length of data. This leads to a loss of data with index_col=False.\n",
      "  df = pd.read_csv(path, encoding=\"utf-8\", delimiter=delim, index_col=False)\n"
     ]
    },
    {
     "name": "stdout",
     "output_type": "stream",
     "text": [
      "[2025-10-27 12:00:34,381]✅ INFO - 📄 '남동발전량_2025_04.csv' 읽기 성공 (utf-8)\n"
     ]
    },
    {
     "name": "stderr",
     "output_type": "stream",
     "text": [
      "C:\\Users\\c\\AppData\\Local\\Temp\\ipykernel_24888\\913769041.py:43: ParserWarning: Length of header or names does not match length of data. This leads to a loss of data with index_col=False.\n",
      "  df = pd.read_csv(path, encoding=\"utf-8\", delimiter=delim, index_col=False)\n"
     ]
    },
    {
     "name": "stdout",
     "output_type": "stream",
     "text": [
      "[2025-10-27 12:00:34,444]✅ INFO - 📄 '남동발전량_2025_05.csv' 읽기 성공 (utf-8)\n",
      "[2025-10-27 12:00:34,503]✅ INFO - 📄 '남동발전량_2025_06.csv' 읽기 성공 (utf-8)\n"
     ]
    },
    {
     "name": "stderr",
     "output_type": "stream",
     "text": [
      "C:\\Users\\c\\AppData\\Local\\Temp\\ipykernel_24888\\913769041.py:43: ParserWarning: Length of header or names does not match length of data. This leads to a loss of data with index_col=False.\n",
      "  df = pd.read_csv(path, encoding=\"utf-8\", delimiter=delim, index_col=False)\n",
      "CSV 처리 중: "
     ]
    },
    {
     "name": "stdout",
     "output_type": "stream",
     "text": [
      "[2025-10-27 12:00:34,560]✅ INFO - 📄 '남동발전량_2025_07.csv' 읽기 성공 (utf-8)\n"
     ]
    },
    {
     "name": "stderr",
     "output_type": "stream",
     "text": [
      "C:\\Users\\c\\AppData\\Local\\Temp\\ipykernel_24888\\913769041.py:43: ParserWarning: Length of header or names does not match length of data. This leads to a loss of data with index_col=False.\n",
      "  df = pd.read_csv(path, encoding=\"utf-8\", delimiter=delim, index_col=False)\n"
     ]
    },
    {
     "name": "stdout",
     "output_type": "stream",
     "text": [
      "[2025-10-27 12:00:34,625]✅ INFO - 📄 '남동발전량_2025_08.csv' 읽기 성공 (utf-8)\n"
     ]
    },
    {
     "name": "stderr",
     "output_type": "stream",
     "text": [
      "C:\\Users\\c\\AppData\\Local\\Temp\\ipykernel_24888\\913769041.py:43: ParserWarning: Length of header or names does not match length of data. This leads to a loss of data with index_col=False.\n",
      "  df = pd.read_csv(path, encoding=\"utf-8\", delimiter=delim, index_col=False)\n",
      "C:\\Users\\c\\AppData\\Local\\Temp\\ipykernel_24888\\913769041.py:43: ParserWarning: Length of header or names does not match length of data. This leads to a loss of data with index_col=False.\n",
      "  df = pd.read_csv(path, encoding=\"utf-8\", delimiter=delim, index_col=False)\n"
     ]
    },
    {
     "name": "stdout",
     "output_type": "stream",
     "text": [
      "[2025-10-27 12:00:34,686]✅ INFO - 📄 '남동발전량_2025_09.csv' 읽기 성공 (utf-8)\n"
     ]
    },
    {
     "name": "stderr",
     "output_type": "stream",
     "text": [
      "CSV 처리 중: "
     ]
    },
    {
     "name": "stdout",
     "output_type": "stream",
     "text": [
      "[2025-10-27 12:00:34,764]✅ INFO - 📄 '한국남부발전(주)_[감우리] 태양광 발전실적_20250228.csv' 읽기 성공 (cp949)\n",
      "[2025-10-27 12:00:34,823]✅ INFO - 📄 '한국남부발전(주)_[남제주소내] 태양광발전실적_20250228.csv' 읽기 성공 (cp949)\n"
     ]
    },
    {
     "name": "stderr",
     "output_type": "stream",
     "text": [
      "CSV 처리 중: "
     ]
    },
    {
     "name": "stdout",
     "output_type": "stream",
     "text": [
      "[2025-10-27 12:00:34,933]✅ INFO - 📄 '한국남부발전(주)_[무릉리] 태양광발전실적_20250228.csv' 읽기 성공 (cp949)\n",
      "[2025-10-27 12:00:34,992]✅ INFO - 📄 '한국남부발전(주)_[부산복합자재창고] 태양광발전실적_20250228.csv' 읽기 성공 (cp949)\n"
     ]
    },
    {
     "name": "stderr",
     "output_type": "stream",
     "text": [
      "CSV 처리 중: "
     ]
    },
    {
     "name": "stdout",
     "output_type": "stream",
     "text": [
      "[2025-10-27 12:00:35,107]✅ INFO - 📄 '한국남부발전(주)_[부산본부] 태양광발전실적_20250228.csv' 읽기 성공 (cp949)\n",
      "[2025-10-27 12:00:35,276]✅ INFO - 📄 '한국남부발전(주)_[부산수처리장] 태양광발전실적_20250228.csv' 읽기 성공 (cp949)\n"
     ]
    },
    {
     "name": "stderr",
     "output_type": "stream",
     "text": [
      "CSV 처리 중: "
     ]
    },
    {
     "name": "stdout",
     "output_type": "stream",
     "text": [
      "[2025-10-27 12:00:35,363]✅ INFO - 📄 '한국남부발전(주)_[부산신항] 태양광발전실적_20250228.csv' 읽기 성공 (cp949)\n",
      "[2025-10-27 12:00:35,471]✅ INFO - 📄 '한국남부발전(주)_[부산역선상주차장] 태양광발전실적_20250228.csv' 읽기 성공 (cp949)\n"
     ]
    },
    {
     "name": "stderr",
     "output_type": "stream",
     "text": [
      "CSV 처리 중: "
     ]
    },
    {
     "name": "stdout",
     "output_type": "stream",
     "text": [
      "[2025-10-27 12:00:35,535]✅ INFO - 📄 '한국남부발전(주)_[부산운동장] 태양광발전실적_20250228.csv' 읽기 성공 (cp949)\n",
      "[2025-10-27 12:00:35,625]✅ INFO - 📄 '한국남부발전(주)_[삼척소내] 태양광발전실적_20250228.csv' 읽기 성공 (cp949)\n"
     ]
    },
    {
     "name": "stderr",
     "output_type": "stream",
     "text": [
      "CSV 처리 중: "
     ]
    },
    {
     "name": "stdout",
     "output_type": "stream",
     "text": [
      "[2025-10-27 12:00:35,869]✅ INFO - 📄 '한국남부발전(주)_[세화리] 태양광발전실적_20250630.csv' 읽기 성공 (cp949)\n",
      "[2025-10-27 12:00:35,926]✅ INFO - 📄 '한국남부발전(주)_[송당리] 태양광발전실적_20250228.csv' 읽기 성공 (cp949)\n"
     ]
    },
    {
     "name": "stderr",
     "output_type": "stream",
     "text": [
      "CSV 처리 중: "
     ]
    },
    {
     "name": "stdout",
     "output_type": "stream",
     "text": [
      "[2025-10-27 12:00:35,995]✅ INFO - 📄 '한국남부발전(주)_[신인천 1_2단계 주차장] 태양광발전실적_20250228.csv' 읽기 성공 (cp949)\n",
      "[2025-10-27 12:00:36,064]✅ INFO - 📄 '한국남부발전(주)_[신인천 북측부지] 태양광발전실적_20250228.csv' 읽기 성공 (cp949)\n"
     ]
    },
    {
     "name": "stderr",
     "output_type": "stream",
     "text": [
      "CSV 처리 중: "
     ]
    },
    {
     "name": "stdout",
     "output_type": "stream",
     "text": [
      "[2025-10-27 12:00:36,124]✅ INFO - 📄 '한국남부발전(주)_[신인천 주차장] 태양광발전실적_20250228.csv' 읽기 성공 (cp949)\n",
      "[2025-10-27 12:00:36,190]✅ INFO - 📄 '한국남부발전(주)_[신인천본관주차장] 태양광발전실적_20250630.csv' 읽기 성공 (cp949)\n"
     ]
    },
    {
     "name": "stderr",
     "output_type": "stream",
     "text": [
      "CSV 처리 중: "
     ]
    },
    {
     "name": "stdout",
     "output_type": "stream",
     "text": [
      "[2025-10-27 12:00:36,249]✅ INFO - 📄 '한국남부발전(주)_[신인천소내] 태양광발전실적_20250228.csv' 읽기 성공 (cp949)\n",
      "[2025-10-27 12:00:36,363]✅ INFO - 📄 '한국남부발전(주)_[신인천전망대] 태양광발전실적_20250228.csv' 읽기 성공 (cp949)\n"
     ]
    },
    {
     "name": "stderr",
     "output_type": "stream",
     "text": [
      "CSV 처리 중: "
     ]
    },
    {
     "name": "stdout",
     "output_type": "stream",
     "text": [
      "[2025-10-27 12:00:36,440]✅ INFO - 📄 '한국남부발전(주)_[신인천해수구취수구] 태양광발전실적_20250228.csv' 읽기 성공 (cp949)\n",
      "[2025-10-27 12:00:36,509]✅ INFO - 📄 '한국남부발전(주)_[신풍리] 태양광 발전실적_20250228.csv' 읽기 성공 (cp949)\n"
     ]
    },
    {
     "name": "stderr",
     "output_type": "stream",
     "text": [
      "CSV 처리 중: "
     ]
    },
    {
     "name": "stdout",
     "output_type": "stream",
     "text": [
      "[2025-10-27 12:00:36,574]✅ INFO - 📄 '한국남부발전(주)_[영월본부] 태양광발전실적_20250228.csv' 읽기 성공 (cp949)\n",
      "[2025-10-27 12:00:36,687]✅ INFO - 📄 '한국남부발전(주)_[영월철도부지] 태양광발전실적_20250228.csv' 읽기 성공 (cp949)\n"
     ]
    },
    {
     "name": "stderr",
     "output_type": "stream",
     "text": [
      "CSV 처리 중: "
     ]
    },
    {
     "name": "stdout",
     "output_type": "stream",
     "text": [
      "[2025-10-27 12:00:36,759]✅ INFO - 📄 '한국남부발전(주)_[와산리] 태양광발전실적_20250630.csv' 읽기 성공 (cp949)\n",
      "[2025-10-27 12:00:36,808]✅ INFO - 📄 '한국남부발전(주)_[용수리] 태양광발전실적_20250228.csv' 읽기 성공 (cp949)\n"
     ]
    },
    {
     "name": "stderr",
     "output_type": "stream",
     "text": [
      "CSV 처리 중: "
     ]
    },
    {
     "name": "stdout",
     "output_type": "stream",
     "text": [
      "[2025-10-27 12:00:36,869]✅ INFO - 📄 '한국남부발전(주)_[위미2리] 태양광발전실적_20250228.csv' 읽기 성공 (cp949)\n",
      "[2025-10-27 12:00:36,938]✅ INFO - 📄 '한국남부발전(주)_[이천D(백사면B)] 태양광발전실적_20250228.csv' 읽기 성공 (cp949)\n"
     ]
    },
    {
     "name": "stderr",
     "output_type": "stream",
     "text": [
      "CSV 처리 중: "
     ]
    },
    {
     "name": "stdout",
     "output_type": "stream",
     "text": [
      "[2025-10-27 12:00:36,990]✅ INFO - 📄 '한국남부발전(주)_[익산 다송리] 태양광발전실적_20250808.csv' 읽기 성공 (cp949)\n",
      "[2025-10-27 12:00:37,050]✅ INFO - 📄 '한국남부발전(주)_[인천수산정수장] 태양광발전실적_20250228.csv' 읽기 성공 (cp949)\n"
     ]
    },
    {
     "name": "stderr",
     "output_type": "stream",
     "text": [
      "CSV 처리 중: "
     ]
    },
    {
     "name": "stdout",
     "output_type": "stream",
     "text": [
      "[2025-10-27 12:00:37,165]✅ INFO - 📄 '한국남부발전(주)_[하동공설운동장] 태양광발전실적_20250228.csv' 읽기 성공 (cp949)\n",
      "[2025-10-27 12:00:37,285]✅ INFO - 📄 '한국남부발전(주)_[하동변전소] 태양광발전실적_20250228.csv' 읽기 성공 (cp949)\n"
     ]
    },
    {
     "name": "stderr",
     "output_type": "stream",
     "text": [
      "CSV 처리 중: "
     ]
    },
    {
     "name": "stdout",
     "output_type": "stream",
     "text": [
      "[2025-10-27 12:00:37,403]✅ INFO - 📄 '한국남부발전(주)_[하동보건소] 태양광발전실적_20250228.csv' 읽기 성공 (cp949)\n",
      "[2025-10-27 12:00:37,543]✅ INFO - 📄 '한국남부발전(주)_[하동본부] 태양광발전실적_20250228.csv' 읽기 성공 (cp949)\n"
     ]
    },
    {
     "name": "stderr",
     "output_type": "stream",
     "text": [
      "CSV 처리 중: "
     ]
    },
    {
     "name": "stdout",
     "output_type": "stream",
     "text": [
      "[2025-10-27 12:00:37,993]✅ INFO - 📄 '한국남부발전(주)_[하동정수장] 태양광발전실적_20250228.csv' 읽기 성공 (cp949)\n"
     ]
    },
    {
     "name": "stderr",
     "output_type": "stream",
     "text": [
      "CSV 처리 중: "
     ]
    },
    {
     "name": "stdout",
     "output_type": "stream",
     "text": [
      "[2025-10-27 12:00:38,112]✅ INFO - 📄 '한국남부발전(주)_[하동하수처리장] 태양광발전실적_20250228.csv' 읽기 성공 (cp949)\n"
     ]
    },
    {
     "name": "stderr",
     "output_type": "stream",
     "text": [
      "CSV 처리 중: "
     ]
    },
    {
     "name": "stdout",
     "output_type": "stream",
     "text": [
      "[2025-10-27 12:00:38,221]✅ INFO - 📄 '한국남부발전(주)_[행원소수력] 태양광발전실적_20250228.csv' 읽기 성공 (cp949)\n"
     ]
    },
    {
     "name": "stderr",
     "output_type": "stream",
     "text": [
      "CSV 처리 중: "
     ]
    },
    {
     "name": "stdout",
     "output_type": "stream",
     "text": [
      "[2025-10-27 12:00:38,328]✅ INFO - 📄 '한국남부발전(주)_[화촌주민참여형] 태양광발전실적_20250228.csv' 읽기 성공 (cp949)\n",
      "[2025-10-27 12:00:38,386]✅ INFO - 📄 '한국동서발전(주)_광양항광양냉장 태양광 발전량_20250630.csv' 읽기 성공 (cp949)\n"
     ]
    },
    {
     "name": "stderr",
     "output_type": "stream",
     "text": [
      "CSV 처리 중: "
     ]
    },
    {
     "name": "stdout",
     "output_type": "stream",
     "text": [
      "[2025-10-27 12:00:38,438]✅ INFO - 📄 '한국동서발전(주)_동해바이오연료저장고지붕태양광 발전 시간대별 발전량_20250630.csv' 읽기 성공 (cp949)\n",
      "[2025-10-27 12:00:38,492]✅ INFO - 📄 '한국동서발전(주)_일자별지점별 태양광 발전량 데이터_20250630.csv' 읽기 성공 (cp949)\n"
     ]
    },
    {
     "name": "stderr",
     "output_type": "stream",
     "text": [
      "CSV 처리 중: "
     ]
    },
    {
     "name": "stdout",
     "output_type": "stream",
     "text": [
      "[2025-10-27 12:00:38,730]✅ INFO - 📄 '한국서부발전(주)_신재생에너지발전량_20231231.csv' 읽기 성공 (cp949)\n",
      "[2025-10-27 12:00:38,792]✅ INFO - 📄 '한국서부발전(주)_태양광 발전 현황_20230630.csv' 읽기 성공 (cp949)\n"
     ]
    },
    {
     "name": "stderr",
     "output_type": "stream",
     "text": [
      "CSV 처리 중: \n",
      "기상데이터 병"
     ]
    },
    {
     "name": "stdout",
     "output_type": "stream",
     "text": [
      "[2025-10-27 12:00:39,477]✅ INFO - 📄 'OBS_ASOS_TIM_2013.csv' 읽기 성공 (cp949)\n"
     ]
    },
    {
     "name": "stderr",
     "output_type": "stream",
     "text": [
      "기상데이터 병"
     ]
    },
    {
     "name": "stdout",
     "output_type": "stream",
     "text": [
      "[2025-10-27 12:00:40,039]✅ INFO - 📄 'OBS_ASOS_TIM_2014.csv' 읽기 성공 (cp949)\n"
     ]
    },
    {
     "name": "stderr",
     "output_type": "stream",
     "text": [
      "기상데이터 병"
     ]
    },
    {
     "name": "stdout",
     "output_type": "stream",
     "text": [
      "[2025-10-27 12:00:40,611]✅ INFO - 📄 'OBS_ASOS_TIM_2015.csv' 읽기 성공 (cp949)\n"
     ]
    },
    {
     "name": "stderr",
     "output_type": "stream",
     "text": [
      "기상데이터 병"
     ]
    },
    {
     "name": "stdout",
     "output_type": "stream",
     "text": [
      "[2025-10-27 12:00:41,206]✅ INFO - 📄 'OBS_ASOS_TIM_2016.csv' 읽기 성공 (cp949)\n"
     ]
    },
    {
     "name": "stderr",
     "output_type": "stream",
     "text": [
      "기상데이터 병"
     ]
    },
    {
     "name": "stdout",
     "output_type": "stream",
     "text": [
      "[2025-10-27 12:00:41,783]✅ INFO - 📄 'OBS_ASOS_TIM_2017.csv' 읽기 성공 (cp949)\n"
     ]
    },
    {
     "name": "stderr",
     "output_type": "stream",
     "text": [
      "기상데이터 병"
     ]
    },
    {
     "name": "stdout",
     "output_type": "stream",
     "text": [
      "[2025-10-27 12:00:42,358]✅ INFO - 📄 'OBS_ASOS_TIM_2018.csv' 읽기 성공 (cp949)\n"
     ]
    },
    {
     "name": "stderr",
     "output_type": "stream",
     "text": [
      "기상데이터 병"
     ]
    },
    {
     "name": "stdout",
     "output_type": "stream",
     "text": [
      "[2025-10-27 12:00:42,960]✅ INFO - 📄 'OBS_ASOS_TIM_2019.csv' 읽기 성공 (cp949)\n"
     ]
    },
    {
     "name": "stderr",
     "output_type": "stream",
     "text": [
      "기상데이터 병"
     ]
    },
    {
     "name": "stdout",
     "output_type": "stream",
     "text": [
      "[2025-10-27 12:00:43,528]✅ INFO - 📄 'OBS_ASOS_TIM_2020.csv' 읽기 성공 (cp949)\n"
     ]
    },
    {
     "name": "stderr",
     "output_type": "stream",
     "text": [
      "기상데이터 병"
     ]
    },
    {
     "name": "stdout",
     "output_type": "stream",
     "text": [
      "[2025-10-27 12:00:44,102]✅ INFO - 📄 'OBS_ASOS_TIM_2021.csv' 읽기 성공 (cp949)\n"
     ]
    },
    {
     "name": "stderr",
     "output_type": "stream",
     "text": [
      "기상데이터 병"
     ]
    },
    {
     "name": "stdout",
     "output_type": "stream",
     "text": [
      "[2025-10-27 12:00:44,671]✅ INFO - 📄 'OBS_ASOS_TIM_2022.csv' 읽기 성공 (cp949)\n"
     ]
    },
    {
     "name": "stderr",
     "output_type": "stream",
     "text": [
      "기상데이터 병"
     ]
    },
    {
     "name": "stdout",
     "output_type": "stream",
     "text": [
      "[2025-10-27 12:00:45,253]✅ INFO - 📄 'OBS_ASOS_TIM_2023.csv' 읽기 성공 (cp949)\n"
     ]
    },
    {
     "name": "stderr",
     "output_type": "stream",
     "text": [
      "기상데이터 병"
     ]
    },
    {
     "name": "stdout",
     "output_type": "stream",
     "text": [
      "[2025-10-27 12:00:45,843]✅ INFO - 📄 'OBS_ASOS_TIM_2024.csv' 읽기 성공 (cp949)\n"
     ]
    },
    {
     "name": "stderr",
     "output_type": "stream",
     "text": [
      "기상데이터 병"
     ]
    },
    {
     "name": "stdout",
     "output_type": "stream",
     "text": [
      "[2025-10-27 12:00:46,352]✅ INFO - 📄 'OBS_ASOS_TIM_2025.csv' 읽기 성공 (cp949)\n"
     ]
    },
    {
     "name": "stderr",
     "output_type": "stream",
     "text": [
      "기상데이터 병\n"
     ]
    },
    {
     "name": "stdout",
     "output_type": "stream",
     "text": [
      "✅ 발전소-지점 매핑 + 기상데이터 병합 완료 → C:/ESG_Project1/file/merge_data/test_data2.csv\n",
      "[2025-10-27 12:00:49,481]✅ INFO - ✅ 발전소-지점 매핑 + 기상데이터 병합 완료 → C:/ESG_Project1/file/merge_data/test_data2.csv (총 119,136행)\n"
     ]
    }
   ],
   "source": [
    "import os\n",
    "import re\n",
    "import sys\n",
    "import math\n",
    "import json\n",
    "import requests\n",
    "import pandas as pd\n",
    "from glob import glob\n",
    "from tqdm import tqdm\n",
    "\n",
    "# ===== 모듈 경로 추가 & 로거 설정 =====\n",
    "sys.path.append(r\"C:\\ESG_Project1\\util\")\n",
    "from logger import setup_logger\n",
    "logger = setup_logger(__name__)\n",
    "\n",
    "# ----------------------------------------------------\n",
    "# 경로 설정\n",
    "# ----------------------------------------------------\n",
    "BASE_DIR = \"C:/ESG_Project1/file/\"\n",
    "SOLAR_DIR = os.path.join(BASE_DIR, \"solar_data_file\")\n",
    "SOLAR_LOCATION_DIR = os.path.join(BASE_DIR, \"solar_data_file/location\")\n",
    "KMA_DIR = os.path.join(BASE_DIR, \"KMA_data_file\")\n",
    "WEATHER_META = os.path.join(KMA_DIR, \"META_관측지점정보.csv\")\n",
    "MANAGED_JSON = os.path.join(SOLAR_LOCATION_DIR, \"json/managed_human.json\")\n",
    "LOCATION_JSON = os.path.join(SOLAR_LOCATION_DIR, \"json/cache_location.json\")\n",
    "OUT_CSV = os.path.join(BASE_DIR, \"merge_data/test_data2.csv\")\n",
    "\n",
    "TARGET_YEARS = list(range(2024, 2026))\n",
    "KAKAO_API_KEY = \"93c089f75a2730af2f15c01838e892d3\"\n",
    "\n",
    "# ----------------------------------------------------\n",
    "# CSV 유틸\n",
    "# ----------------------------------------------------\n",
    "def sniff_delimiter(path):\n",
    "    with open(path,\"rb\") as f:\n",
    "        raw=f.read(2048)\n",
    "    text=raw.decode(\"utf-8\",errors=\"ignore\")\n",
    "    return \",\" if text.count(\",\") >= text.count(\"\\t\") else \"\\t\"\n",
    "\n",
    "def read_csv_safe(path):\n",
    "    delim = sniff_delimiter(path)\n",
    "    try:\n",
    "        df = pd.read_csv(path, encoding=\"utf-8\", delimiter=delim, index_col=False)\n",
    "        logger.info(f\"📄 '{os.path.basename(path)}' 읽기 성공 (utf-8)\")\n",
    "        return df\n",
    "    except UnicodeDecodeError:\n",
    "        df = pd.read_csv(path, encoding=\"cp949\", delimiter=delim, index_col=False)\n",
    "        logger.info(f\"📄 '{os.path.basename(path)}' 읽기 성공 (cp949)\")\n",
    "        return df\n",
    "\n",
    "# ----------------------------------------------------\n",
    "# 문자열 정규화 & 컬럼 탐지\n",
    "# ----------------------------------------------------\n",
    "def norm(s: str) -> str:\n",
    "    s = s.strip().lower()\n",
    "    s = re.sub(r\"[\\s\\-\\_\\/\\(\\)\\[\\]\\.]+\", \"\", s)\n",
    "    return s\n",
    "\n",
    "PLANT_TOKENS = [\"발전소명\",\"발전소\",\"호기명\",\"호기\",\"플랜트\",\"사업명\",\"사업장\",\"설비명\",\"site\",\"plant\",\"facility\",\"name\"]\n",
    "LOC_TOKENS   = [\"위치\",\"주소\",\"지역\",\"시도\",\"시군구\",\"행정구역\",\"소재지\",\"address\",\"location\",\"region\",\"city\",\"province\",\"lat\",\"lon\",\"latitude\",\"longitude\"]\n",
    "SRC_TOKENS   = [\"에너지원\",\"에너지\",\"발전원\",\"전원\",\"연료\",\"source\",\"fuel\",\"type\"]\n",
    "\n",
    "def detect_col(columns, tokens):\n",
    "    for c in columns:\n",
    "        c_norm = norm(c)\n",
    "        for t in tokens:\n",
    "            if norm(t) in c_norm:\n",
    "                return c\n",
    "    return None\n",
    "\n",
    "# ----------------------------------------------------\n",
    "# 주소 단순화\n",
    "# ----------------------------------------------------\n",
    "def simplify_address(addr: str) -> str:\n",
    "    if not isinstance(addr, str): return addr\n",
    "    addr = addr.strip()\n",
    "    if not addr: return addr\n",
    "    short_province_pattern = r\"^(전남|전북|경남|경북|충남|충북|강원|제주|서울|부산|대구|인천|광주|대전|울산|세종)\"\n",
    "    long_province_pattern = r\"^(서울특별시|부산광역시|대구광역시|인천광역시|광주광역시|대전광역시|울산광역시|세종특별자치시|경기도|강원도|강원특별자치도|충청북도|충청남도|전라북도|전라남도|경상북도|경상남도|제주특별자치도)\"\n",
    "    tokens = []\n",
    "    parts = re.split(r\"\\s+\", addr)\n",
    "    if re.match(long_province_pattern, parts[0]): tokens.append(parts[0]); parts = parts[1:]\n",
    "    elif re.match(short_province_pattern, parts[0]): tokens.append(parts[0]); parts = parts[1:]\n",
    "    for p in parts:\n",
    "        if re.search(r\"(시|군|구|읍|면|동)$\", p): tokens.append(p)\n",
    "        if len(tokens) >= 3: break\n",
    "    if not tokens: return \" \".join(addr.split()[:3])\n",
    "    return \" \".join(tokens)\n",
    "\n",
    "# ----------------------------------------------------\n",
    "# Haversine 거리 계산\n",
    "# ----------------------------------------------------\n",
    "def haversine(lat1, lon1, lat2, lon2):\n",
    "    R = 6371\n",
    "    lat1, lon1, lat2, lon2 = map(math.radians, [lat1, lon1, lat2, lon2])\n",
    "    dlat, dlon = lat2 - lat1, lon2 - lon1\n",
    "    a = math.sin(dlat/2)**2 + math.cos(lat1)*math.cos(lat2)*math.sin(dlon/2)**2\n",
    "    return 2 * R * math.asin(math.sqrt(a))\n",
    "\n",
    "# ----------------------------------------------------\n",
    "# 카카오 API + 캐시\n",
    "# ----------------------------------------------------\n",
    "CACHE_PATH = os.path.join(SOLAR_LOCATION_DIR, \"json/cache_latlon.json\")\n",
    "if os.path.exists(CACHE_PATH):\n",
    "    with open(CACHE_PATH, \"r\", encoding=\"utf-8\") as f: CACHE = json.load(f)\n",
    "else: CACHE = {}\n",
    "\n",
    "def get_latlon_from_kakao(address: str):\n",
    "    if not isinstance(address, str) or not address.strip(): return None, None\n",
    "    addr_key = address.strip()\n",
    "    if addr_key in CACHE: return CACHE[addr_key][\"lat\"], CACHE[addr_key][\"lon\"]\n",
    "    url = \"https://dapi.kakao.com/v2/local/search/address.json\"\n",
    "    headers = {\"Authorization\": f\"KakaoAK {KAKAO_API_KEY}\"}\n",
    "    params = {\"query\": addr_key}\n",
    "    try:\n",
    "        resp = requests.get(url, headers=headers, params=params, timeout=5)\n",
    "        data = resp.json()\n",
    "        if data.get(\"documents\"):\n",
    "            doc = data[\"documents\"][0]\n",
    "            lat, lon = float(doc[\"y\"]), float(doc[\"x\"])\n",
    "            CACHE[addr_key] = {\"lat\": lat, \"lon\": lon}\n",
    "            with open(CACHE_PATH, \"w\", encoding=\"utf-8\") as f: json.dump(CACHE, f, ensure_ascii=False, indent=2)\n",
    "            return lat, lon\n",
    "    except Exception as e:\n",
    "        logger.info(f\"⚠️ 카카오 API 실패: {address} → {e}\")\n",
    "    return None, None\n",
    "\n",
    "# ----------------------------------------------------\n",
    "# CSV 처리 + 발전량 변환 함수\n",
    "# ----------------------------------------------------\n",
    "def extract_hour_from_col(colname):\n",
    "    s = str(colname).strip().lower()\n",
    "    m = re.search(r\"(\\d{1,2})\\s*[-~_]\\s*(\\d{1,2})\", s)\n",
    "    if m: return int(m.group(2)) if 1 <= int(m.group(2)) <= 24 else None\n",
    "    m = re.search(r\"(\\d{1,2})\\s*시\", s)\n",
    "    if m: return int(m.group(1)) if 1 <= int(m.group(1)) <= 24 else None\n",
    "    m = re.search(r\"(^|\\D)(\\d{1,2})(?!\\d)\", s)\n",
    "    if m: return int(m.group(2)) if 1 <= int(m.group(2)) <= 24 else None\n",
    "    return None\n",
    "\n",
    "def detect_hour_cols(df):\n",
    "    candidates = []\n",
    "    for c in df.columns:\n",
    "        h = extract_hour_from_col(c)\n",
    "        if h is not None: candidates.append((c, h))\n",
    "    return [c for c, h in sorted(candidates, key=lambda x:x[1])]\n",
    "\n",
    "def detect_unit(colname):\n",
    "    name = str(colname).lower()\n",
    "    if \"mwh\" in name: return \"mwh\"\n",
    "    elif \"kwh\" in name: return \"kwh\"\n",
    "    elif \"wh\" in name: return \"wh\"\n",
    "    return None\n",
    "\n",
    "def detect_unit_from_cols(cols):\n",
    "    for c in cols:\n",
    "        u = detect_unit(c)\n",
    "        if u: return u\n",
    "    return None\n",
    "\n",
    "def convert_to_mwh(val, unit):\n",
    "    try:\n",
    "        val = float(val)\n",
    "        if unit==\"wh\": val/=1_000_000\n",
    "        elif unit==\"kwh\": val/=1_000\n",
    "        return round(val,4)\n",
    "    except: return 0.0\n",
    "\n",
    "def extract_plant_name(filename):\n",
    "    match = re.search(r\"\\[(.*?)\\]\", filename)\n",
    "    return match.group(1).strip() if match else None\n",
    "\n",
    "# ----------------------------------------------------\n",
    "# 발전량 + 위치 매핑 + KMA 병합\n",
    "# ----------------------------------------------------\n",
    "all_frames = []\n",
    "\n",
    "files = sorted(glob(os.path.join(SOLAR_DIR, \"**\", \"*.csv\"), recursive=True))\n",
    "for f in tqdm(files, desc=\"CSV 처리 중\"):\n",
    "    try:\n",
    "        df = read_csv_safe(f)\n",
    "        name_col = detect_col(df.columns, PLANT_TOKENS)\n",
    "        date_col = detect_col(df.columns, [\"일자\",\"날짜\",\"년월일\",\"date\"])\n",
    "        ho_col   = detect_col(df.columns, [\"호기\",\"unit\"])\n",
    "        hour_cols = detect_hour_cols(df)\n",
    "        plant_name = extract_plant_name(os.path.basename(f))\n",
    "\n",
    "        if not hour_cols or not date_col: continue\n",
    "\n",
    "        if name_col: df[\"발전소명\"] = df[name_col].astype(str).str.strip()\n",
    "        else: df[\"발전소명\"] = plant_name if plant_name else \"미상\"\n",
    "\n",
    "        unit = detect_unit_from_cols(hour_cols)\n",
    "        if not unit: unit=\"kwh\"\n",
    "\n",
    "        df_long = df.melt(id_vars=[c for c in [date_col, ho_col, \"발전소명\"] if c in df.columns],\n",
    "                          value_vars=hour_cols, var_name=\"시간대\", value_name=\"발전량(MWh)\")\n",
    "        df_long[date_col] = pd.to_datetime(df_long[date_col].astype(str).str.replace(r\"[^0-9]\",\"\",regex=True).str[:8], format=\"%Y%m%d\", errors=\"coerce\")\n",
    "        df_long = df_long[df_long[date_col].dt.year.isin(TARGET_YEARS)]\n",
    "        hours = df_long[\"시간대\"].apply(extract_hour_from_col).astype(\"Int64\")\n",
    "        df_long = df_long[hours.notna()].copy()\n",
    "        df_long[\"일시\"] = df_long[date_col] + pd.to_timedelta(hours-1, unit=\"h\")\n",
    "        df_long[\"발전량(MWh)\"] = df_long[\"발전량(MWh)\"].apply(lambda x: convert_to_mwh(x, unit))\n",
    "        df_clean = df_long[[\"일시\",\"발전소명\",\"발전량(MWh)\"]].copy()\n",
    "        all_frames.append(df_clean)\n",
    "    except Exception as e:\n",
    "        logger.error(f\"❌ 오류: {os.path.basename(f)} → {e}\")\n",
    "\n",
    "if not all_frames: raise SystemExit(\"❌ 처리할 데이터 없음\")\n",
    "\n",
    "merged = pd.concat(all_frames, ignore_index=True)\n",
    "final_df = merged.groupby([\"발전소명\",\"일시\"], as_index=False)[\"발전량(MWh)\"].sum()\n",
    "final_df[\"일시\"] = final_df[\"일시\"].dt.strftime(\"%Y-%m-%d %H:%M:%S\")\n",
    "final_df[\"발전량(MWh)\"] = final_df[\"발전량(MWh)\"].apply(lambda x: f\"{x:.4f}\")\n",
    "\n",
    "# ----------------------------------------------------\n",
    "# location + KMA 병합\n",
    "# ----------------------------------------------------\n",
    "try:\n",
    "    with open(MANAGED_JSON, \"r\", encoding=\"utf-8\") as f: managed_map = json.load(f)\n",
    "except: managed_map = {}\n",
    "final_df[\"매핑용발전소명\"] = final_df[\"발전소명\"].map(managed_map).fillna(final_df[\"발전소명\"])\n",
    "\n",
    "try:\n",
    "    with open(LOCATION_JSON,\"r\",encoding=\"utf-8\") as f: loc_df=pd.DataFrame(json.load(f))\n",
    "except: loc_df=pd.DataFrame(columns=[\"발전소명\",\"지점\",\"지점명\"])\n",
    "loc_df = loc_df[[\"발전소명\",\"지점\",\"지점명\"]].drop_duplicates(subset=[\"발전소명\"])\n",
    "\n",
    "final_df = pd.merge(final_df, loc_df, left_on=\"매핑용발전소명\", right_on=\"발전소명\", how=\"left\", suffixes=(\"\",\"_loc\"))\n",
    "if \"지점\" in final_df.columns: final_df[\"지점\"] = pd.to_numeric(final_df[\"지점\"], errors=\"coerce\").astype(\"Int64\")\n",
    "final_df.drop(columns=[\"매핑용발전소명\",\"발전소명_loc\"], inplace=True, errors=\"ignore\")\n",
    "final_df = final_df[[\"일시\",\"발전소명\",\"지점명\",\"지점\",\"발전량(MWh)\"]]\n",
    "\n",
    "# KMA 데이터 병합\n",
    "weather_files = sorted(glob(os.path.join(KMA_DIR,\"OBS_ASOS_TIM_*.csv\")))\n",
    "weather_frames = []\n",
    "for wf in tqdm(weather_files, desc=\"기상데이터 병합\"):\n",
    "    try:\n",
    "        tmp = read_csv_safe(wf)\n",
    "        tmp[\"일시\"] = pd.to_datetime(tmp[\"일시\"], errors=\"coerce\", format=\"mixed\")\n",
    "        tmp = tmp[[\"지점\",\"지점명\",\"일시\",\"기온(°C)\",\"강수량(mm)\",\"일조(hr)\",\"일사(MJ/m2)\"]]\n",
    "        weather_frames.append(tmp)\n",
    "    except Exception as e:\n",
    "        logger.warning(f\"⚠️ 기상파일 '{os.path.basename(wf)}' 처리 실패: {e}\")\n",
    "df_weather = pd.concat(weather_frames, ignore_index=True).drop_duplicates(subset=[\"지점\",\"일시\"])\n",
    "\n",
    "final_df[\"일시\"] = pd.to_datetime(final_df[\"일시\"], errors=\"coerce\").dt.floor(\"h\")\n",
    "df_weather[\"일시\"] = pd.to_datetime(df_weather[\"일시\"], errors=\"coerce\").dt.floor(\"h\")\n",
    "final_df = pd.merge(final_df, df_weather, how=\"left\", on=[\"지점\",\"일시\"])\n",
    "final_df[[\"발전량(MWh)\",\"기온(°C)\",\"강수량(mm)\",\"일조(hr)\",\"일사(MJ/m2)\"]] = \\\n",
    "    final_df[[\"발전량(MWh)\",\"기온(°C)\",\"강수량(mm)\",\"일조(hr)\",\"일사(MJ/m2)\"]].fillna(0)\n",
    "\n",
    "# 컬럼 정리\n",
    "final_df = final_df.rename(columns={\n",
    "    \"발전소명\":\"발전구분\",\n",
    "    \"지점명\":\"지역\",\n",
    "    \"지점\":\"지점번호\",\n",
    "    \"발전량(MWh)\":\"합산발전량(MWh)\"\n",
    "})\n",
    "final_df = final_df.sort_values(by=[\"발전구분\",\"일시\"]).reset_index(drop=True)\n",
    "\n",
    "# 저장\n",
    "os.makedirs(os.path.dirname(OUT_CSV), exist_ok=True)\n",
    "final_df.to_csv(OUT_CSV, index=False, encoding=\"utf-8-sig\")\n",
    "print(f\"✅ 발전소-지점 매핑 + 기상데이터 병합 완료 → {OUT_CSV}\")\n",
    "logger.info(f\"✅ 발전소-지점 매핑 + 기상데이터 병합 완료 → {OUT_CSV} (총 {len(final_df):,}행)\")\n"
   ]
  }
 ],
 "metadata": {
  "kernelspec": {
   "display_name": "Python [conda env:python311]",
   "language": "python",
   "name": "conda-env-python311-py"
  },
  "language_info": {
   "codemirror_mode": {
    "name": "ipython",
    "version": 3
   },
   "file_extension": ".py",
   "mimetype": "text/x-python",
   "name": "python",
   "nbconvert_exporter": "python",
   "pygments_lexer": "ipython3",
   "version": "3.11.14"
  }
 },
 "nbformat": 4,
 "nbformat_minor": 5
}
