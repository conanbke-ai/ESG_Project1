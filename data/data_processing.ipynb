{
 "cells": [
  {
   "cell_type": "code",
   "execution_count": 2,
   "id": "5bf349c0",
   "metadata": {},
   "outputs": [
    {
     "name": "stdout",
     "output_type": "stream",
     "text": [
      "[2025-10-28 10:36:25,551]✅ INFO - 📄 '한국남동발전㈜_(발전공기업 표준) 신재생에너지 사업현황_20221231.csv' 읽기 성공 (cp949)\n",
      "[2025-10-28 10:36:25,556]✅ INFO - 📄 '한국남부발전(주)_태양광발전기 사양정보_20250630.csv' 읽기 성공 (cp949)\n",
      "[2025-10-28 10:36:25,561]✅ INFO - 📄 '한국동서발전(주)_(발전공기업 표준)신재생에너지 사업현황_20230630.csv' 읽기 성공 (cp949)\n",
      "[2025-10-28 10:36:25,564]✅ INFO - 📄 '한국서부발전(주)_신재생에너지사업현황_20231231.csv' 읽기 성공 (cp949)\n",
      "[2025-10-28 10:36:25,567]✅ INFO - ✅ 발전소 데이터 통합 완료 (273개)\n",
      "[2025-10-28 10:36:25,572]✅ INFO - 📍 진행중 0/273\n",
      "[2025-10-28 10:36:25,588]✅ INFO - 📍 진행중 10/273\n",
      "[2025-10-28 10:36:25,903]✅ INFO - 📍 진행중 20/273\n",
      "[2025-10-28 10:36:25,915]✅ INFO - 📍 진행중 30/273\n",
      "[2025-10-28 10:36:25,980]✅ INFO - 📍 진행중 40/273\n",
      "[2025-10-28 10:36:25,990]✅ INFO - 📍 진행중 50/273\n",
      "[2025-10-28 10:36:26,000]✅ INFO - 📍 진행중 60/273\n",
      "[2025-10-28 10:36:26,013]✅ INFO - 📍 진행중 70/273\n",
      "[2025-10-28 10:36:26,025]✅ INFO - 📍 진행중 80/273\n",
      "[2025-10-28 10:36:26,091]✅ INFO - 📍 진행중 90/273\n",
      "[2025-10-28 10:36:26,102]✅ INFO - 📍 진행중 100/273\n",
      "[2025-10-28 10:36:26,113]✅ INFO - 📍 진행중 110/273\n",
      "[2025-10-28 10:36:26,124]✅ INFO - 📍 진행중 120/273\n",
      "[2025-10-28 10:36:26,134]✅ INFO - 📍 진행중 130/273\n",
      "[2025-10-28 10:36:26,145]✅ INFO - 📍 진행중 140/273\n",
      "[2025-10-28 10:36:26,156]✅ INFO - 📍 진행중 150/273\n",
      "[2025-10-28 10:36:26,216]✅ INFO - 📍 진행중 160/273\n",
      "[2025-10-28 10:36:26,227]✅ INFO - 📍 진행중 170/273\n",
      "[2025-10-28 10:36:26,238]✅ INFO - 📍 진행중 180/273\n",
      "[2025-10-28 10:36:26,249]✅ INFO - 📍 진행중 190/273\n",
      "[2025-10-28 10:36:26,259]✅ INFO - 📍 진행중 200/273\n",
      "[2025-10-28 10:36:26,269]✅ INFO - 📍 진행중 210/273\n",
      "[2025-10-28 10:36:26,281]✅ INFO - 📍 진행중 220/273\n",
      "[2025-10-28 10:36:26,293]✅ INFO - 📍 진행중 230/273\n",
      "[2025-10-28 10:36:26,302]✅ INFO - 📍 진행중 240/273\n",
      "[2025-10-28 10:36:26,315]✅ INFO - 📍 진행중 250/273\n",
      "[2025-10-28 10:36:26,326]✅ INFO - 📍 진행중 260/273\n",
      "[2025-10-28 10:36:26,337]✅ INFO - 📍 진행중 270/273\n",
      "[2025-10-28 10:36:26,344]✅ INFO - 📁 결과 파일: C:/ESG_Project1/data/json/cache_location.json\n",
      "[2025-10-28 10:36:26,344]✅ INFO - 🗂 캐시 파일: C:/ESG_Project1/data/json/cache_latlon.json\n"
     ]
    },
    {
     "name": "stderr",
     "output_type": "stream",
     "text": [
      "CSV 처리 중:   0%|                                                                              | 0/45 [00:00<?, ?it/s]"
     ]
    },
    {
     "name": "stdout",
     "output_type": "stream",
     "text": [
      "[2025-10-28 10:36:26,358]✅ INFO - 📄 '한국남동발전㈜_(발전공기업 표준) 신재생에너지 사업현황_20221231.csv' 읽기 성공 (cp949)\n",
      "⚠️ 시간 컬럼 없음: 한국남동발전㈜_(발전공기업 표준) 신재생에너지 사업현황_20221231.csv\n",
      "[2025-10-28 10:36:26,358]✅ WARNING - ⚠️ 시간 컬럼 없음: 한국남동발전㈜_(발전공기업 표준) 신재생에너지 사업현황_20221231.csv\n",
      "[2025-10-28 10:36:26,361]✅ INFO - 📄 '한국남부발전(주)_태양광발전기 사양정보_20250630.csv' 읽기 성공 (cp949)\n",
      "⚠️ 시간 컬럼 없음: 한국남부발전(주)_태양광발전기 사양정보_20250630.csv\n",
      "[2025-10-28 10:36:26,361]✅ WARNING - ⚠️ 시간 컬럼 없음: 한국남부발전(주)_태양광발전기 사양정보_20250630.csv\n",
      "[2025-10-28 10:36:26,364]✅ INFO - 📄 '한국동서발전(주)_(발전공기업 표준)신재생에너지 사업현황_20230630.csv' 읽기 성공 (cp949)\n",
      "⚠️ 시간 컬럼 없음: 한국동서발전(주)_(발전공기업 표준)신재생에너지 사업현황_20230630.csv\n",
      "[2025-10-28 10:36:26,364]✅ WARNING - ⚠️ 시간 컬럼 없음: 한국동서발전(주)_(발전공기업 표준)신재생에너지 사업현황_20230630.csv\n",
      "[2025-10-28 10:36:26,366]✅ INFO - 📄 '한국서부발전(주)_신재생에너지사업현황_20231231.csv' 읽기 성공 (cp949)\n",
      "⚠️ 시간 컬럼 없음: 한국서부발전(주)_신재생에너지사업현황_20231231.csv\n",
      "[2025-10-28 10:36:26,366]✅ WARNING - ⚠️ 시간 컬럼 없음: 한국서부발전(주)_신재생에너지사업현황_20231231.csv\n",
      "[2025-10-28 10:36:26,378]✅ INFO - 📄 '한국남부발전(주)_[감우리] 태양광 발전실적_20250228.csv' 읽기 성공 (cp949)\n",
      "[2025-10-28 10:36:26,441]✅ INFO - 📄 '한국남부발전(주)_[남제주소내] 태양광발전실적_20250228.csv' 읽기 성공 (cp949)\n"
     ]
    },
    {
     "name": "stderr",
     "output_type": "stream",
     "text": [
      "CSV 처리 중:  13%|█████████▎                                                            | 6/45 [00:00<00:01, 32.43it/s]"
     ]
    },
    {
     "name": "stdout",
     "output_type": "stream",
     "text": [
      "[2025-10-28 10:36:26,548]✅ INFO - 📄 '한국남부발전(주)_[무릉리] 태양광발전실적_20250228.csv' 읽기 성공 (cp949)\n",
      "[2025-10-28 10:36:26,608]✅ INFO - 📄 '한국남부발전(주)_[부산복합자재창고] 태양광발전실적_20250228.csv' 읽기 성공 (cp949)\n",
      "[2025-10-28 10:36:26,724]✅ INFO - 📄 '한국남부발전(주)_[부산본부] 태양광발전실적_20250228.csv' 읽기 성공 (cp949)\n",
      "[2025-10-28 10:36:26,905]✅ INFO - 📄 '한국남부발전(주)_[부산수처리장] 태양광발전실적_20250228.csv' 읽기 성공 (cp949)\n"
     ]
    },
    {
     "name": "stderr",
     "output_type": "stream",
     "text": [
      "CSV 처리 중:  22%|███████████████▎                                                     | 10/45 [00:00<00:02, 14.61it/s]"
     ]
    },
    {
     "name": "stdout",
     "output_type": "stream",
     "text": [
      "[2025-10-28 10:36:26,984]✅ INFO - 📄 '한국남부발전(주)_[부산신항] 태양광발전실적_20250228.csv' 읽기 성공 (cp949)\n",
      "[2025-10-28 10:36:27,095]✅ INFO - 📄 '한국남부발전(주)_[부산역선상주차장] 태양광발전실적_20250228.csv' 읽기 성공 (cp949)\n"
     ]
    },
    {
     "name": "stderr",
     "output_type": "stream",
     "text": [
      "CSV 처리 중:  27%|██████████████████▍                                                  | 12/45 [00:00<00:02, 13.65it/s]"
     ]
    },
    {
     "name": "stdout",
     "output_type": "stream",
     "text": [
      "[2025-10-28 10:36:27,156]✅ INFO - 📄 '한국남부발전(주)_[부산운동장] 태양광발전실적_20250228.csv' 읽기 성공 (cp949)\n",
      "[2025-10-28 10:36:27,255]✅ INFO - 📄 '한국남부발전(주)_[삼척소내] 태양광발전실적_20250228.csv' 읽기 성공 (cp949)\n"
     ]
    },
    {
     "name": "stderr",
     "output_type": "stream",
     "text": [
      "CSV 처리 중:  31%|█████████████████████▍                                               | 14/45 [00:01<00:03, 10.11it/s]"
     ]
    },
    {
     "name": "stdout",
     "output_type": "stream",
     "text": [
      "[2025-10-28 10:36:27,492]✅ INFO - 📄 '한국남부발전(주)_[세화리] 태양광발전실적_20250630.csv' 읽기 성공 (cp949)\n",
      "[2025-10-28 10:36:27,549]✅ INFO - 📄 '한국남부발전(주)_[송당리] 태양광발전실적_20250228.csv' 읽기 성공 (cp949)\n"
     ]
    },
    {
     "name": "stderr",
     "output_type": "stream",
     "text": [
      "CSV 처리 중:  36%|████████████████████████▌                                            | 16/45 [00:01<00:02, 11.26it/s]"
     ]
    },
    {
     "name": "stdout",
     "output_type": "stream",
     "text": [
      "[2025-10-28 10:36:27,618]✅ INFO - 📄 '한국남부발전(주)_[신인천 1_2단계 주차장] 태양광발전실적_20250228.csv' 읽기 성공 (cp949)\n",
      "[2025-10-28 10:36:27,682]✅ INFO - 📄 '한국남부발전(주)_[신인천 북측부지] 태양광발전실적_20250228.csv' 읽기 성공 (cp949)\n"
     ]
    },
    {
     "name": "stderr",
     "output_type": "stream",
     "text": [
      "CSV 처리 중:  40%|███████████████████████████▌                                         | 18/45 [00:01<00:02, 12.31it/s]"
     ]
    },
    {
     "name": "stdout",
     "output_type": "stream",
     "text": [
      "[2025-10-28 10:36:27,743]✅ INFO - 📄 '한국남부발전(주)_[신인천 주차장] 태양광발전실적_20250228.csv' 읽기 성공 (cp949)\n",
      "[2025-10-28 10:36:27,805]✅ INFO - 📄 '한국남부발전(주)_[신인천본관주차장] 태양광발전실적_20250630.csv' 읽기 성공 (cp949)\n"
     ]
    },
    {
     "name": "stderr",
     "output_type": "stream",
     "text": [
      "CSV 처리 중:  44%|██████████████████████████████▋                                      | 20/45 [00:01<00:01, 13.35it/s]"
     ]
    },
    {
     "name": "stdout",
     "output_type": "stream",
     "text": [
      "[2025-10-28 10:36:27,863]✅ INFO - 📄 '한국남부발전(주)_[신인천소내] 태양광발전실적_20250228.csv' 읽기 성공 (cp949)\n",
      "[2025-10-28 10:36:27,981]✅ INFO - 📄 '한국남부발전(주)_[신인천전망대] 태양광발전실적_20250228.csv' 읽기 성공 (cp949)\n"
     ]
    },
    {
     "name": "stderr",
     "output_type": "stream",
     "text": [
      "CSV 처리 중:  49%|█████████████████████████████████▋                                   | 22/45 [00:01<00:01, 12.20it/s]"
     ]
    },
    {
     "name": "stdout",
     "output_type": "stream",
     "text": [
      "[2025-10-28 10:36:28,059]✅ INFO - 📄 '한국남부발전(주)_[신인천해수구취수구] 태양광발전실적_20250228.csv' 읽기 성공 (cp949)\n",
      "[2025-10-28 10:36:28,130]✅ INFO - 📄 '한국남부발전(주)_[신풍리] 태양광 발전실적_20250228.csv' 읽기 성공 (cp949)\n"
     ]
    },
    {
     "name": "stderr",
     "output_type": "stream",
     "text": [
      "CSV 처리 중:  53%|████████████████████████████████████▊                                | 24/45 [00:01<00:01, 13.01it/s]"
     ]
    },
    {
     "name": "stdout",
     "output_type": "stream",
     "text": [
      "[2025-10-28 10:36:28,191]✅ INFO - 📄 '한국남부발전(주)_[영월본부] 태양광발전실적_20250228.csv' 읽기 성공 (cp949)\n",
      "[2025-10-28 10:36:28,308]✅ INFO - 📄 '한국남부발전(주)_[영월철도부지] 태양광발전실적_20250228.csv' 읽기 성공 (cp949)\n"
     ]
    },
    {
     "name": "stderr",
     "output_type": "stream",
     "text": [
      "CSV 처리 중:  58%|███████████████████████████████████████▊                             | 26/45 [00:02<00:01, 12.02it/s]"
     ]
    },
    {
     "name": "stdout",
     "output_type": "stream",
     "text": [
      "[2025-10-28 10:36:28,382]✅ INFO - 📄 '한국남부발전(주)_[와산리] 태양광발전실적_20250630.csv' 읽기 성공 (cp949)\n",
      "[2025-10-28 10:36:28,433]✅ INFO - 📄 '한국남부발전(주)_[용수리] 태양광발전실적_20250228.csv' 읽기 성공 (cp949)\n"
     ]
    },
    {
     "name": "stderr",
     "output_type": "stream",
     "text": [
      "CSV 처리 중:  62%|██████████████████████████████████████████▉                          | 28/45 [00:02<00:01, 13.40it/s]"
     ]
    },
    {
     "name": "stdout",
     "output_type": "stream",
     "text": [
      "[2025-10-28 10:36:28,494]✅ INFO - 📄 '한국남부발전(주)_[위미2리] 태양광발전실적_20250228.csv' 읽기 성공 (cp949)\n",
      "[2025-10-28 10:36:28,565]✅ INFO - 📄 '한국남부발전(주)_[이천D(백사면B)] 태양광발전실적_20250228.csv' 읽기 성공 (cp949)\n"
     ]
    },
    {
     "name": "stderr",
     "output_type": "stream",
     "text": [
      "CSV 처리 중:  67%|██████████████████████████████████████████████                       | 30/45 [00:02<00:01, 13.88it/s]"
     ]
    },
    {
     "name": "stdout",
     "output_type": "stream",
     "text": [
      "[2025-10-28 10:36:28,621]✅ INFO - 📄 '한국남부발전(주)_[익산 다송리] 태양광발전실적_20250808.csv' 읽기 성공 (cp949)\n",
      "[2025-10-28 10:36:28,678]✅ INFO - 📄 '한국남부발전(주)_[인천수산정수장] 태양광발전실적_20250228.csv' 읽기 성공 (cp949)\n"
     ]
    },
    {
     "name": "stderr",
     "output_type": "stream",
     "text": [
      "CSV 처리 중:  71%|█████████████████████████████████████████████████                    | 32/45 [00:02<00:00, 13.45it/s]"
     ]
    },
    {
     "name": "stdout",
     "output_type": "stream",
     "text": [
      "[2025-10-28 10:36:28,788]✅ INFO - 📄 '한국남부발전(주)_[하동공설운동장] 태양광발전실적_20250228.csv' 읽기 성공 (cp949)\n",
      "[2025-10-28 10:36:28,910]✅ INFO - 📄 '한국남부발전(주)_[하동변전소] 태양광발전실적_20250228.csv' 읽기 성공 (cp949)\n"
     ]
    },
    {
     "name": "stderr",
     "output_type": "stream",
     "text": [
      "CSV 처리 중:  76%|████████████████████████████████████████████████████▏                | 34/45 [00:02<00:00, 11.48it/s]"
     ]
    },
    {
     "name": "stdout",
     "output_type": "stream",
     "text": [
      "[2025-10-28 10:36:29,021]✅ INFO - 📄 '한국남부발전(주)_[하동보건소] 태양광발전실적_20250228.csv' 읽기 성공 (cp949)\n",
      "[2025-10-28 10:36:29,162]✅ INFO - 📄 '한국남부발전(주)_[하동본부] 태양광발전실적_20250228.csv' 읽기 성공 (cp949)\n"
     ]
    },
    {
     "name": "stderr",
     "output_type": "stream",
     "text": [
      "CSV 처리 중:  80%|███████████████████████████████████████████████████████▏             | 36/45 [00:03<00:01,  6.81it/s]"
     ]
    },
    {
     "name": "stdout",
     "output_type": "stream",
     "text": [
      "[2025-10-28 10:36:29,595]✅ INFO - 📄 '한국남부발전(주)_[하동정수장] 태양광발전실적_20250228.csv' 읽기 성공 (cp949)\n"
     ]
    },
    {
     "name": "stderr",
     "output_type": "stream",
     "text": [
      "CSV 처리 중:  82%|████████████████████████████████████████████████████████▋            | 37/45 [00:03<00:01,  6.98it/s]"
     ]
    },
    {
     "name": "stdout",
     "output_type": "stream",
     "text": [
      "[2025-10-28 10:36:29,722]✅ INFO - 📄 '한국남부발전(주)_[하동하수처리장] 태양광발전실적_20250228.csv' 읽기 성공 (cp949)\n"
     ]
    },
    {
     "name": "stderr",
     "output_type": "stream",
     "text": [
      "CSV 처리 중:  84%|██████████████████████████████████████████████████████████▎          | 38/45 [00:03<00:00,  7.30it/s]"
     ]
    },
    {
     "name": "stdout",
     "output_type": "stream",
     "text": [
      "[2025-10-28 10:36:29,836]✅ INFO - 📄 '한국남부발전(주)_[행원소수력] 태양광발전실적_20250228.csv' 읽기 성공 (cp949)\n"
     ]
    },
    {
     "name": "stderr",
     "output_type": "stream",
     "text": [
      "CSV 처리 중:  87%|███████████████████████████████████████████████████████████▊         | 39/45 [00:03<00:00,  7.17it/s]"
     ]
    },
    {
     "name": "stdout",
     "output_type": "stream",
     "text": [
      "[2025-10-28 10:36:29,978]✅ INFO - 📄 '한국남부발전(주)_[화촌주민참여형] 태양광발전실적_20250228.csv' 읽기 성공 (cp949)\n",
      "[2025-10-28 10:36:30,034]✅ INFO - 📄 '한국동서발전(주)_광양항광양냉장 태양광 발전량_20250630.csv' 읽기 성공 (cp949)\n"
     ]
    },
    {
     "name": "stderr",
     "output_type": "stream",
     "text": [
      "CSV 처리 중:  91%|██████████████████████████████████████████████████████████████▊      | 41/45 [00:03<00:00,  9.23it/s]"
     ]
    },
    {
     "name": "stdout",
     "output_type": "stream",
     "text": [
      "[2025-10-28 10:36:30,094]✅ INFO - 📄 '한국동서발전(주)_동해바이오연료저장고지붕태양광 발전 시간대별 발전량_20250630.csv' 읽기 성공 (cp949)\n",
      "[2025-10-28 10:36:30,149]✅ INFO - 📄 '한국동서발전(주)_일자별지점별 태양광 발전량 데이터_20250630.csv' 읽기 성공 (cp949)\n"
     ]
    },
    {
     "name": "stderr",
     "output_type": "stream",
     "text": [
      "CSV 처리 중:  96%|█████████████████████████████████████████████████████████████████▉   | 43/45 [00:04<00:00,  8.00it/s]"
     ]
    },
    {
     "name": "stdout",
     "output_type": "stream",
     "text": [
      "[2025-10-28 10:36:30,412]✅ INFO - 📄 '한국서부발전(주)_신재생에너지발전량_20231231.csv' 읽기 성공 (cp949)\n",
      "[2025-10-28 10:36:30,480]✅ INFO - 📄 '한국서부발전(주)_태양광 발전 현황_20230630.csv' 읽기 성공 (cp949)\n"
     ]
    },
    {
     "name": "stderr",
     "output_type": "stream",
     "text": [
      "CSV 처리 중: 100%|█████████████████████████████████████████████████████████████████████| 45/45 [00:04<00:00, 10.58it/s]\n"
     ]
    },
    {
     "name": "stdout",
     "output_type": "stream",
     "text": [
      "[2025-10-28 10:36:31,325]✅ INFO - ✅ managed_human.json 로드 완료 (64개 매핑)\n",
      "[2025-10-28 10:36:31,355]✅ INFO - ✅ location_all_plants_with_station.json 로드 완료 (273행)\n"
     ]
    },
    {
     "name": "stderr",
     "output_type": "stream",
     "text": [
      "기상데이터 병합:   0%|                                                                          | 0/13 [00:00<?, ?it/s]"
     ]
    },
    {
     "name": "stdout",
     "output_type": "stream",
     "text": [
      "[2025-10-28 10:36:31,839]✅ INFO - 📄 'OBS_ASOS_TIM_2013.csv' 읽기 성공 (cp949)\n"
     ]
    },
    {
     "name": "stderr",
     "output_type": "stream",
     "text": [
      "기상데이터 병합:   8%|█████                                                             | 1/13 [00:00<00:07,  1.68it/s]"
     ]
    },
    {
     "name": "stdout",
     "output_type": "stream",
     "text": [
      "[2025-10-28 10:36:32,458]✅ INFO - 📄 'OBS_ASOS_TIM_2014.csv' 읽기 성공 (cp949)\n"
     ]
    },
    {
     "name": "stderr",
     "output_type": "stream",
     "text": [
      "기상데이터 병합:  15%|██████████▏                                                       | 2/13 [00:01<00:06,  1.67it/s]"
     ]
    },
    {
     "name": "stdout",
     "output_type": "stream",
     "text": [
      "[2025-10-28 10:36:33,041]✅ INFO - 📄 'OBS_ASOS_TIM_2015.csv' 읽기 성공 (cp949)\n"
     ]
    },
    {
     "name": "stderr",
     "output_type": "stream",
     "text": [
      "기상데이터 병합:  23%|███████████████▏                                                  | 3/13 [00:01<00:05,  1.69it/s]"
     ]
    },
    {
     "name": "stdout",
     "output_type": "stream",
     "text": [
      "[2025-10-28 10:36:33,628]✅ INFO - 📄 'OBS_ASOS_TIM_2016.csv' 읽기 성공 (cp949)\n"
     ]
    },
    {
     "name": "stderr",
     "output_type": "stream",
     "text": [
      "기상데이터 병합:  31%|████████████████████▎                                             | 4/13 [00:02<00:05,  1.68it/s]"
     ]
    },
    {
     "name": "stdout",
     "output_type": "stream",
     "text": [
      "[2025-10-28 10:36:34,227]✅ INFO - 📄 'OBS_ASOS_TIM_2017.csv' 읽기 성공 (cp949)\n"
     ]
    },
    {
     "name": "stderr",
     "output_type": "stream",
     "text": [
      "기상데이터 병합:  38%|█████████████████████████▍                                        | 5/13 [00:02<00:04,  1.69it/s]"
     ]
    },
    {
     "name": "stdout",
     "output_type": "stream",
     "text": [
      "[2025-10-28 10:36:34,811]✅ INFO - 📄 'OBS_ASOS_TIM_2018.csv' 읽기 성공 (cp949)\n"
     ]
    },
    {
     "name": "stderr",
     "output_type": "stream",
     "text": [
      "기상데이터 병합:  46%|██████████████████████████████▍                                   | 6/13 [00:03<00:04,  1.71it/s]"
     ]
    },
    {
     "name": "stdout",
     "output_type": "stream",
     "text": [
      "[2025-10-28 10:36:35,386]✅ INFO - 📄 'OBS_ASOS_TIM_2019.csv' 읽기 성공 (cp949)\n"
     ]
    },
    {
     "name": "stderr",
     "output_type": "stream",
     "text": [
      "기상데이터 병합:  54%|███████████████████████████████████▌                              | 7/13 [00:04<00:03,  1.70it/s]"
     ]
    },
    {
     "name": "stdout",
     "output_type": "stream",
     "text": [
      "[2025-10-28 10:36:35,983]✅ INFO - 📄 'OBS_ASOS_TIM_2020.csv' 읽기 성공 (cp949)\n"
     ]
    },
    {
     "name": "stderr",
     "output_type": "stream",
     "text": [
      "기상데이터 병합:  62%|████████████████████████████████████████▌                         | 8/13 [00:04<00:02,  1.70it/s]"
     ]
    },
    {
     "name": "stdout",
     "output_type": "stream",
     "text": [
      "[2025-10-28 10:36:36,565]✅ INFO - 📄 'OBS_ASOS_TIM_2021.csv' 읽기 성공 (cp949)\n"
     ]
    },
    {
     "name": "stderr",
     "output_type": "stream",
     "text": [
      "기상데이터 병합:  69%|█████████████████████████████████████████████▋                    | 9/13 [00:05<00:02,  1.71it/s]"
     ]
    },
    {
     "name": "stdout",
     "output_type": "stream",
     "text": [
      "[2025-10-28 10:36:37,148]✅ INFO - 📄 'OBS_ASOS_TIM_2022.csv' 읽기 성공 (cp949)\n"
     ]
    },
    {
     "name": "stderr",
     "output_type": "stream",
     "text": [
      "기상데이터 병합:  77%|██████████████████████████████████████████████████               | 10/13 [00:05<00:01,  1.71it/s]"
     ]
    },
    {
     "name": "stdout",
     "output_type": "stream",
     "text": [
      "[2025-10-28 10:36:37,730]✅ INFO - 📄 'OBS_ASOS_TIM_2023.csv' 읽기 성공 (cp949)\n"
     ]
    },
    {
     "name": "stderr",
     "output_type": "stream",
     "text": [
      "기상데이터 병합:  85%|███████████████████████████████████████████████████████          | 11/13 [00:06<00:01,  1.70it/s]"
     ]
    },
    {
     "name": "stdout",
     "output_type": "stream",
     "text": [
      "[2025-10-28 10:36:38,334]✅ INFO - 📄 'OBS_ASOS_TIM_2024.csv' 읽기 성공 (cp949)\n"
     ]
    },
    {
     "name": "stderr",
     "output_type": "stream",
     "text": [
      "기상데이터 병합:  92%|████████████████████████████████████████████████████████████     | 12/13 [00:07<00:00,  1.69it/s]"
     ]
    },
    {
     "name": "stdout",
     "output_type": "stream",
     "text": [
      "[2025-10-28 10:36:38,859]✅ INFO - 📄 'OBS_ASOS_TIM_2025.csv' 읽기 성공 (cp949)\n"
     ]
    },
    {
     "name": "stderr",
     "output_type": "stream",
     "text": [
      "기상데이터 병합: 100%|█████████████████████████████████████████████████████████████████| 13/13 [00:07<00:00,  1.72it/s]\n"
     ]
    },
    {
     "name": "stdout",
     "output_type": "stream",
     "text": [
      "[2025-10-28 10:36:40,498]✅ INFO - 📊 기상 데이터 총 10600217행 병합 완료\n",
      "✅ 발전량+기상데이터 병합 완료 → 총 471,672행\n",
      "✅ 발전소-지점 매핑 완료 → C:/ESG_Project1/file/merge_data\\train_data.csv\n",
      "[2025-10-28 10:36:44,612]✅ INFO - ✅ 발전소-지점 매핑 완료 → C:/ESG_Project1/file/merge_data\\train_data.csv (총 471,672행)\n"
     ]
    }
   ],
   "source": [
    "import os\n",
    "import re\n",
    "import sys\n",
    "import math\n",
    "import json\n",
    "import requests\n",
    "import pandas as pd\n",
    "from glob import glob\n",
    "from tqdm import tqdm\n",
    "\n",
    "# ===== 모듈 경로 추가 & 로거 설정 =====\n",
    "sys.path.append(r\"C:\\ESG_Project1\\util\")\n",
    "from logger import setup_logger\n",
    "logger = setup_logger(__name__)\n",
    "\n",
    "# ----------------------------------------------------\n",
    "# 🔹 경로 설정\n",
    "# ----------------------------------------------------\n",
    "BASE_DIR = \"C:/ESG_Project1/file/\"\n",
    "DATA_DIR = \"C:/ESG_Project1/data/\"\n",
    "\n",
    "SOLAR_DIR = os.path.join(BASE_DIR, \"solar_data_file\")\n",
    "SOLAR_LOCATION_DIR = os.path.join(BASE_DIR, \"solar_data_file/location\")\n",
    "KMA_DIR = os.path.join(BASE_DIR, \"KMA_data_file\")\n",
    "WEATHER_META = os.path.join(KMA_DIR, \"META_관측지점정보.csv\")\n",
    "MANAGED_JSON = os.path.join(DATA_DIR, \"json/managed_human.json\")\n",
    "LOCATION_JSON = os.path.join(DATA_DIR, \"json/cache_location.json\")\n",
    "\n",
    "OUT_FILE_NAME = 'train_data.csv'\n",
    "OUT_CSV = os.path.join(BASE_DIR, \"merge_data\", OUT_FILE_NAME)\n",
    "\n",
    "# ----------------------------------------------------\n",
    "# 🔹 년도 설정\n",
    "# ----------------------------------------------------\n",
    "TARGET_YEARS = TARGET_YEARS = list(range(2024, 2025 + 1))\n",
    "\n",
    "# ----------------------------------------------------\n",
    "# 🔹 카카오 API 키 (반드시 입력)\n",
    "# ----------------------------------------------------\n",
    "KAKAO_API_KEY = \"93c089f75a2730af2f15c01838e892d3\"  # ⚠️ 여기에 REST API 키 입력\n",
    "\n",
    "# ----------------------------------------------------\n",
    "# 🔹 CSV 유틸\n",
    "# ----------------------------------------------------\n",
    "def sniff_delimiter(path):\n",
    "    with open(path,\"rb\") as f:\n",
    "        raw=f.read(2048)\n",
    "    text=raw.decode(\"utf-8\",errors=\"ignore\")\n",
    "    return \",\" if text.count(\",\") >= text.count(\"\\t\") else \"\\t\"\n",
    "\n",
    "def read_csv_safe(path):\n",
    "    delim = sniff_delimiter(path)\n",
    "    try:\n",
    "        df = pd.read_csv(path, encoding=\"utf-8\", delimiter=delim, index_col=False)\n",
    "        logger.info(f\"📄 '{os.path.basename(path)}' 읽기 성공 (utf-8)\")\n",
    "        return df\n",
    "    except UnicodeDecodeError:\n",
    "        df = pd.read_csv(path, encoding=\"cp949\", delimiter=delim, index_col=False)\n",
    "        logger.info(f\"📄 '{os.path.basename(path)}' 읽기 성공 (cp949)\")\n",
    "        return df\n",
    "\n",
    "# ----------------------------------------------------\n",
    "# 🔹 문자열 정규화\n",
    "# ----------------------------------------------------\n",
    "def norm(s: str) -> str:\n",
    "    s = s.strip().lower()\n",
    "    s = re.sub(r\"[\\s\\-\\_\\/\\(\\)\\[\\]\\.]+\", \"\", s)\n",
    "    return s\n",
    "\n",
    "# ----------------------------------------------------\n",
    "# 🔹 컬럼명 탐지용 키워드\n",
    "# ----------------------------------------------------\n",
    "PLANT_TOKENS = [\"발전소명\",\"발전소\",\"호기명\",\"호기\",\"플랜트\",\"사업명\",\"사업장\",\"설비명\",\"site\",\"plant\",\"facility\",\"name\"]\n",
    "LOC_TOKENS   = [\"위치\",\"주소\",\"지역\",\"시도\",\"시군구\",\"행정구역\",\"소재지\",\"address\",\"location\",\"region\",\"city\",\"province\",\"lat\",\"lon\",\"latitude\",\"longitude\"]\n",
    "SRC_TOKENS   = [\"에너지원\",\"에너지\",\"발전원\",\"전원\",\"연료\",\"source\",\"fuel\",\"type\"]\n",
    "\n",
    "def detect_col(columns, tokens):\n",
    "    cols = list(columns)\n",
    "    for c in cols:\n",
    "        c_norm = norm(c)\n",
    "        for t in tokens:\n",
    "            if norm(t) in c_norm:\n",
    "                return c\n",
    "    return None\n",
    "\n",
    "# ----------------------------------------------------\n",
    "# 🔹 주소 단순화\n",
    "# ----------------------------------------------------\n",
    "def simplify_address(addr: str) -> str:\n",
    "    \"\"\"\n",
    "    주소에서 '도/시/군/구/읍/면/동' 또는 축약된 도 이름(전남, 경북 등)을 포함해\n",
    "    최대 4단계까지만 남김.\n",
    "    예: '전남 여수시 소라면 죽림리 25' -> '전남 여수시 소라면'\n",
    "         '전라남도 여수시 소라면' -> '전라남도 여수시 소라면'\n",
    "    \"\"\"\n",
    "    if not isinstance(addr, str):\n",
    "        return addr\n",
    "\n",
    "    addr = addr.strip()\n",
    "    if not addr:\n",
    "        return addr\n",
    "\n",
    "    # ✅ 축약형 도 이름 (전남, 경북 등)도 포함\n",
    "    short_province_pattern = r\"^(전남|전북|경남|경북|충남|충북|강원|제주|서울|부산|대구|인천|광주|대전|울산|세종)\"\n",
    "    long_province_pattern = r\"^(서울특별시|부산광역시|대구광역시|인천광역시|광주광역시|대전광역시|울산광역시|세종특별자치시|경기도|강원도|강원특별자치도|충청북도|충청남도|전라북도|전라남도|경상북도|경상남도|제주특별자치도)\"\n",
    "\n",
    "    tokens = []\n",
    "    parts = re.split(r\"\\s+\", addr)\n",
    "\n",
    "    # 1️⃣ 첫 부분이 도(또는 축약형 도)면 추가\n",
    "    if re.match(long_province_pattern, parts[0]):\n",
    "        tokens.append(parts[0])\n",
    "        parts = parts[1:]\n",
    "    elif re.match(short_province_pattern, parts[0]):\n",
    "        tokens.append(parts[0])\n",
    "        parts = parts[1:]\n",
    "\n",
    "    # 2️⃣ 나머지에서 시, 군, 구, 읍, 면, 동 순으로 최대 3~4개까지 추출\n",
    "    for p in parts:\n",
    "        if re.search(r\"(시|군|구|읍|면|동)$\", p):\n",
    "            tokens.append(p)\n",
    "        if len(tokens) >= 3:\n",
    "            break\n",
    "\n",
    "    # 3️⃣ 만약 아무 것도 못 잡았으면 앞의 3단어만 반환\n",
    "    if not tokens:\n",
    "        return \" \".join(addr.split()[:3])\n",
    "\n",
    "    return \" \".join(tokens)\n",
    "\n",
    "# ----------------------------------------------------\n",
    "# 🔹 Haversine 거리 계산\n",
    "# ----------------------------------------------------\n",
    "def haversine(lat1, lon1, lat2, lon2):\n",
    "    R = 6371\n",
    "    lat1, lon1, lat2, lon2 = map(math.radians, [lat1, lon1, lat2, lon2])\n",
    "    dlat = lat2 - lat1\n",
    "    dlon = lon2 - lon1\n",
    "    a = math.sin(dlat/2)**2 + math.cos(lat1)*math.cos(lat2)*math.sin(dlon/2)**2\n",
    "    return 2 * R * math.asin(math.sqrt(a))\n",
    "\n",
    "# ----------------------------------------------------\n",
    "# 🔹 카카오 API (캐싱 지원)\n",
    "# ----------------------------------------------------\n",
    "CACHE_PATH = os.path.join(DATA_DIR, \"json/cache_latlon.json\")\n",
    "if os.path.exists(CACHE_PATH):\n",
    "    with open(CACHE_PATH, \"r\", encoding=\"utf-8\") as f:\n",
    "        CACHE = json.load(f)\n",
    "else:\n",
    "    CACHE = {}\n",
    "\n",
    "def get_latlon_from_kakao(address: str):\n",
    "    \"\"\"카카오 API를 이용해 주소 → 위도/경도. 캐시 사용.\"\"\"\n",
    "    if not isinstance(address, str) or not address.strip():\n",
    "        return None, None\n",
    "\n",
    "    addr_key = address.strip()\n",
    "    if addr_key in CACHE:\n",
    "        return CACHE[addr_key][\"lat\"], CACHE[addr_key][\"lon\"]\n",
    "\n",
    "    url = \"https://dapi.kakao.com/v2/local/search/address.json\"\n",
    "    headers = {\"Authorization\": f\"KakaoAK {KAKAO_API_KEY}\"}\n",
    "    params = {\"query\": addr_key}\n",
    "\n",
    "    try:\n",
    "        resp = requests.get(url, headers=headers, params=params, timeout=5)\n",
    "        data = resp.json()\n",
    "        if data.get(\"documents\"):\n",
    "            doc = data[\"documents\"][0]\n",
    "            lat, lon = float(doc[\"y\"]), float(doc[\"x\"])\n",
    "            CACHE[addr_key] = {\"lat\": lat, \"lon\": lon}\n",
    "\n",
    "            # 중간 저장 (안전)\n",
    "            with open(CACHE_PATH, \"w\", encoding=\"utf-8\") as f:\n",
    "                json.dump(CACHE, f, ensure_ascii=False, indent=2)\n",
    "            return lat, lon\n",
    "    except Exception as e:\n",
    "        logger.info(f\"⚠️ 카카오 API 실패: {address} → {e}\")\n",
    "    return None, None\n",
    "\n",
    "# ----------------------------------------------------\n",
    "# 🔹 발전소 위치 데이터 통합\n",
    "# ----------------------------------------------------\n",
    "rows = []\n",
    "files = sorted(glob(os.path.join(SOLAR_LOCATION_DIR, \"**\", \"*.csv\"), recursive=True))\n",
    "for f in files:\n",
    "    try:\n",
    "        df = read_csv_safe(f)\n",
    "        cols = list(df.columns)\n",
    "        plant_col = detect_col(cols, PLANT_TOKENS)\n",
    "        loc_col   = detect_col(cols, LOC_TOKENS)\n",
    "        src_col   = detect_col(cols, SRC_TOKENS)\n",
    "\n",
    "        if not plant_col or not loc_col:\n",
    "            logger.info(f\"⚠️ 주요 컬럼 누락: {f}\")\n",
    "            continue\n",
    "\n",
    "        if src_col not in df.columns:\n",
    "            df[\"에너지원\"] = \"태양광\"\n",
    "            src_col = \"에너지원\"\n",
    "\n",
    "        sub = df[[plant_col, src_col, loc_col]].copy()\n",
    "        sub.columns = [\"발전소명\", \"에너지원\", \"위치\"]\n",
    "        sub[\"위치\"] = sub[\"위치\"].astype(str).apply(simplify_address)\n",
    "        sub[\"source_file\"] = os.path.basename(f)\n",
    "        rows.append(sub)\n",
    "    except Exception as e:\n",
    "        logger.info(f\"❌ 파일 오류: {f} → {e}\")\n",
    "\n",
    "if not rows:\n",
    "    logger.info(\"❌ 발전소 데이터 추출 실패\")\n",
    "    exit()\n",
    "\n",
    "result = pd.concat(rows, ignore_index=True)\n",
    "logger.info(f\"✅ 발전소 데이터 통합 완료 ({len(result)}개)\")\n",
    "\n",
    "# ----------------------------------------------------\n",
    "# 🔹 META 기상관측소 불러오기\n",
    "# ----------------------------------------------------\n",
    "meta_df = pd.read_csv(WEATHER_META, encoding=\"cp949\")\n",
    "meta_df = meta_df.dropna(subset=[\"위도\", \"경도\"])\n",
    "\n",
    "# ----------------------------------------------------\n",
    "# 🔹 카카오 API로 위경도 + 최근접 지점 찾기\n",
    "# ----------------------------------------------------\n",
    "lat_list, lon_list, near_stn, near_stn_name = [], [], [], []\n",
    "\n",
    "for i, row in result.iterrows():\n",
    "    addr = row[\"위치\"]\n",
    "    lat, lon = get_latlon_from_kakao(addr)\n",
    "    lat_list.append(lat)\n",
    "    lon_list.append(lon)\n",
    "\n",
    "    if lat is not None and lon is not None:\n",
    "        meta_df[\"dist\"] = meta_df.apply(\n",
    "            lambda x: haversine(lat, lon, x[\"위도\"], x[\"경도\"]), axis=1\n",
    "        )\n",
    "        nearest = meta_df.loc[meta_df[\"dist\"].idxmin()]\n",
    "        near_stn.append(int(nearest[\"지점\"]))\n",
    "        near_stn_name.append(nearest[\"지점명\"])\n",
    "    else:\n",
    "        near_stn.append(None)\n",
    "        near_stn_name.append(None)\n",
    "\n",
    "    if i % 10 == 0:\n",
    "        logger.info(f\"📍 진행중 {i}/{len(result)}\")\n",
    "\n",
    "# ----------------------------------------------------\n",
    "# 🔹 결과 저장\n",
    "# ----------------------------------------------------\n",
    "result[\"위도\"] = lat_list\n",
    "result[\"경도\"] = lon_list\n",
    "result[\"지점\"] = near_stn\n",
    "result[\"지점명\"] = near_stn_name\n",
    "\n",
    "# ✅ 정수형 변환 (None 허용)\n",
    "result[\"지점\"] = result[\"지점\"].astype(\"Int64\")\n",
    "\n",
    "result.to_json(LOCATION_JSON, orient=\"records\", force_ascii=False, indent=2)\n",
    "\n",
    "# 캐시 최종 저장\n",
    "with open(CACHE_PATH, \"w\", encoding=\"utf-8\") as f:\n",
    "    json.dump(CACHE, f, ensure_ascii=False, indent=2)\n",
    "\n",
    "logger.info(f\"📁 결과 파일: {LOCATION_JSON}\")\n",
    "logger.info(f\"🗂 캐시 파일: {CACHE_PATH}\")\n",
    "\n",
    "# ----------------------------------------------------\n",
    "# 🔹 파일명에서 [발전소명] 추출\n",
    "# ----------------------------------------------------\n",
    "def extract_plant_name(filename):\n",
    "    match = re.search(r\"\\[(.*?)\\]\", filename)\n",
    "    return match.group(1).strip() if match else None\n",
    "\n",
    "# ----------------------------------------------------\n",
    "# 🔹 시간 숫자 추출 (0-1시, 1시, 23_24시 등 전부 커버)\n",
    "# ----------------------------------------------------\n",
    "def extract_hour_from_col(colname):\n",
    "    s = str(colname).strip().lower()\n",
    "    m = re.search(r\"(\\d{1,2})\\s*[-~_]\\s*(\\d{1,2})\", s)\n",
    "    if m:\n",
    "        end = int(m.group(2))\n",
    "        return end if 1 <= end <= 24 else None\n",
    "    m = re.search(r\"(\\d{1,2})\\s*시\", s)\n",
    "    if m:\n",
    "        h = int(m.group(1))\n",
    "        return h if 1 <= h <= 24 else None\n",
    "    m = re.search(r\"(^|\\D)(\\d{1,2})(?!\\d)\", s)\n",
    "    if m:\n",
    "        h = int(m.group(2))\n",
    "        return h if 1 <= h <= 24 else None\n",
    "    return None\n",
    "\n",
    "# ----------------------------------------------------\n",
    "# 🔹 시간 컬럼 탐지\n",
    "# ----------------------------------------------------\n",
    "def detect_hour_cols(df):\n",
    "    candidates = []\n",
    "    for c in df.columns:\n",
    "        h = extract_hour_from_col(c)\n",
    "        if h is not None:\n",
    "            candidates.append((c, h))\n",
    "    return [c for c, h in sorted(candidates, key=lambda x: x[1])]\n",
    "\n",
    "# ----------------------------------------------------\n",
    "# 🔹 단위 감지\n",
    "# ----------------------------------------------------\n",
    "def detect_unit(colname):\n",
    "    name = colname.lower()\n",
    "    if \"mwh\" in name:\n",
    "        return \"mwh\"\n",
    "    elif \"kwh\" in name:\n",
    "        return \"kwh\"\n",
    "    elif \"wh\" in name:\n",
    "        return \"wh\"\n",
    "    return None\n",
    "\n",
    "def detect_unit_from_cols(cols):\n",
    "    for c in cols:\n",
    "        u = detect_unit(c)\n",
    "        if u:\n",
    "            return u\n",
    "    return None\n",
    "\n",
    "# ----------------------------------------------------\n",
    "# 🔹 단위 변환 (Wh / kWh / MWh → MWh)\n",
    "# ----------------------------------------------------\n",
    "def convert_to_mwh(val, unit):\n",
    "    try:\n",
    "        val = float(val)\n",
    "        if unit == \"wh\":\n",
    "            val /= 1_000_000\n",
    "        elif unit == \"kwh\":\n",
    "            val /= 1_000\n",
    "        return round(val, 4)\n",
    "    except:\n",
    "        return 0.0\n",
    "\n",
    "# ----------------------------------------------------\n",
    "# 🔹 주요 컬럼 탐지\n",
    "# ----------------------------------------------------\n",
    "def detect_columns(df):\n",
    "    cols = df.columns\n",
    "    name_col = next((c for c in cols if any(x in c for x in [\"발전소\", \"발전기\", \"발전구분\", \"site\", \"plant\"])), None)\n",
    "    date_col = next((c for c in cols if any(x in c for x in [\"일자\", \"날짜\", \"년월일\", \"date\"])), None)\n",
    "    ho_col = next((c for c in cols if \"호기\" in c or \"unit\" in c), None)\n",
    "    return name_col, date_col, ho_col\n",
    "\n",
    "# ----------------------------------------------------\n",
    "# 🔹 메인 처리\n",
    "# ----------------------------------------------------\n",
    "all_frames = []\n",
    "\n",
    "files = sorted(glob(os.path.join(SOLAR_DIR, \"**\", \"*.csv\")))\n",
    "for f in tqdm(files, desc=\"CSV 처리 중\"):\n",
    "    try:\n",
    "        df = read_csv_safe(f)\n",
    "\n",
    "        name_col, date_col, ho_col = detect_columns(df)\n",
    "        hour_cols = detect_hour_cols(df)\n",
    "        plant_name = extract_plant_name(os.path.basename(f))\n",
    "\n",
    "        # 시간 컬럼 누락\n",
    "        if not hour_cols:\n",
    "            msg = f\"⚠️ 시간 컬럼 없음: {os.path.basename(f)}\"\n",
    "            print(msg)\n",
    "            logger.warning(msg)\n",
    "            continue\n",
    "\n",
    "        # 날짜 컬럼 누락\n",
    "        if not date_col:\n",
    "            msg = f\"⚠️ 날짜 컬럼 없음: {os.path.basename(f)}\"\n",
    "            print(msg)\n",
    "            logger.warning(msg)\n",
    "            continue\n",
    "\n",
    "        # 발전소명\n",
    "        if name_col:\n",
    "            df[\"발전소명\"] = df[name_col].astype(str).str.strip()\n",
    "            # ⚠️ 파일명으로 대체한 게 아닐 경우 → '태양광' 없는 행 제외\n",
    "            df = df[df[\"발전소명\"].str.contains(\"태양광\", na=False)]\n",
    "        else:\n",
    "            df[\"발전소명\"] = plant_name if plant_name else \"미상\"\n",
    "\n",
    "        # 발전소명 보정\n",
    "        df[\"발전소명\"] = df[\"발전소명\"].replace({\n",
    "            \"영암에프원태양광b\": \"(군산)영암F1태양광\"\n",
    "        })\n",
    "\n",
    "        # 단위\n",
    "        unit = detect_unit_from_cols(hour_cols)\n",
    "        if not unit:\n",
    "            unit = \"kwh\" if not name_col else \"mwh\"\n",
    "    \n",
    "        # Melt\n",
    "        df_long = df.melt(\n",
    "            id_vars=[c for c in [date_col, ho_col, \"발전소명\"] if c in df.columns],\n",
    "            value_vars=hour_cols,\n",
    "            var_name=\"시간대\",\n",
    "            value_name=\"발전량(MWh)\"\n",
    "        )\n",
    "\n",
    "        # ✅ 날짜 전처리\n",
    "        df_long[date_col] = (\n",
    "            df_long[date_col]\n",
    "            .astype(str)\n",
    "            .str.replace(r\"[^0-9]\", \"\", regex=True)\n",
    "            .str[:8]\n",
    "        )\n",
    "\n",
    "        df_long[date_col] = pd.to_datetime(df_long[date_col], format=\"%Y%m%d\", errors=\"coerce\")\n",
    "        df_long = df_long[df_long[date_col].dt.year.isin(TARGET_YEARS)]\n",
    "\n",
    "        # ✅ 시간 추출 및 일시 생성\n",
    "        hours = df_long[\"시간대\"].apply(extract_hour_from_col).astype(\"Int64\")\n",
    "        df_long = df_long[hours.notna()].copy()\n",
    "        df_long[\"일시\"] = df_long[date_col] + pd.to_timedelta(hours - 1, unit=\"h\")\n",
    "\n",
    "        # ✅ 단위 변환\n",
    "        df_long[\"발전량(MWh)\"] = df_long[\"발전량(MWh)\"].apply(lambda x: convert_to_mwh(x, unit))\n",
    "\n",
    "        # ✅ 정리\n",
    "        df_clean = df_long[[\"일시\", \"발전소명\", \"발전량(MWh)\"]].copy()\n",
    "        all_frames.append(df_clean)\n",
    "\n",
    "    except Exception as e:\n",
    "        msg = f\"❌ 오류: {os.path.basename(f)} → {e}\"\n",
    "        print(msg)\n",
    "        logger.error(msg)\n",
    "\n",
    "# ----------------------------------------------------\n",
    "# 🔹 병합 및 후처리\n",
    "# ----------------------------------------------------\n",
    "if not all_frames:\n",
    "    raise SystemExit(\"❌ 처리할 데이터 없음\")\n",
    "\n",
    "merged = pd.concat(all_frames, ignore_index=True)\n",
    "\n",
    "# ✅ 호기 합산 포함 → 발전소명 + 일시 기준 합계\n",
    "final_df = merged.groupby([\"발전소명\", \"일시\"], as_index=False)[\"발전량(MWh)\"].sum()\n",
    "\n",
    "final_df = final_df.drop_duplicates(subset=[\"발전소명\", \"일시\", \"발전량(MWh)\"])\n",
    "\n",
    "# ✅ 날짜 포맷 단일화\n",
    "final_df[\"일시\"] = final_df[\"일시\"].dt.strftime(\"%Y-%m-%d %H:%M:%S\")\n",
    "\n",
    "# ✅ 소수점 4자리 고정\n",
    "final_df[\"발전량(MWh)\"] = final_df[\"발전량(MWh)\"].apply(lambda x: f\"{x:.4f}\")\n",
    "\n",
    "# ✅ 컬럼 순서 조정\n",
    "final_df = final_df[[\"일시\", \"발전소명\", \"발전량(MWh)\"]]\n",
    "\n",
    "# 1️⃣ managed_human.json 로드\n",
    "try:\n",
    "    with open(MANAGED_JSON, \"r\", encoding=\"utf-8\") as f:\n",
    "        managed_map = json.load(f)\n",
    "    logger.info(f\"✅ managed_human.json 로드 완료 ({len(managed_map)}개 매핑)\")\n",
    "except Exception as e:\n",
    "    logger.error(f\"❌ managed_human.json 로드 실패: {e}\")\n",
    "    managed_map = {}\n",
    "\n",
    "# 2️⃣ 매핑용 컬럼 생성\n",
    "#    final_df의 발전소명을 managed_human.json 기준으로 변환한 \"매핑용 발전소명\" 생성\n",
    "final_df[\"매핑용발전소명\"] = final_df[\"발전소명\"].map(managed_map).fillna(final_df[\"발전소명\"])\n",
    "\n",
    "# 3️⃣ location 데이터 로드\n",
    "try:\n",
    "    with open(LOCATION_JSON, \"r\", encoding=\"utf-8\") as f:\n",
    "        loc_data = json.load(f)\n",
    "    loc_df = pd.DataFrame(loc_data)\n",
    "    logger.info(f\"✅ location_all_plants_with_station.json 로드 완료 ({len(loc_df)}행)\")\n",
    "except Exception as e:\n",
    "    logger.error(f\"❌ location_all_plants_with_station.json 로드 실패: {e}\")\n",
    "    loc_df = pd.DataFrame(columns=[\"발전소명\", \"지점\", \"지점명\"])\n",
    "\n",
    "# 4️⃣ 필요한 컬럼만 유지\n",
    "loc_df = loc_df[[\"발전소명\", \"지점\", \"지점명\"]].drop_duplicates(subset=[\"발전소명\"])\n",
    "\n",
    "# 5️⃣ 매핑용 발전소명을 기준으로 병합\n",
    "final_df = pd.merge(\n",
    "    final_df,\n",
    "    loc_df,\n",
    "    left_on=\"매핑용발전소명\",\n",
    "    right_on=\"발전소명\",\n",
    "    how=\"left\",\n",
    "    suffixes=(\"\", \"_loc\")\n",
    ")\n",
    "\n",
    "# 🔹 float으로 들어온 지점을 Int64로 변환 (NaN 허용)\n",
    "if \"지점\" in final_df.columns:\n",
    "    final_df[\"지점\"] = pd.to_numeric(final_df[\"지점\"], errors=\"coerce\").astype(\"Int64\")\n",
    "\n",
    "# 6️⃣ 사용하지 않는 보조 컬럼 정리\n",
    "final_df.drop(columns=[\"매핑용발전소명\", \"발전소명_loc\"], inplace=True, errors=\"ignore\")\n",
    "\n",
    "# 8️⃣ 컬럼 순서 정리\n",
    "final_df = final_df[[\"일시\", \"발전소명\", \"지점명\", \"지점\", \"발전량(MWh)\"]]\n",
    "\n",
    "\n",
    "# ----------------------------------------------------\n",
    "# 🔹 KMA 기상 데이터 병합 (일시 포맷/컬럼명 보정 포함)\n",
    "# ----------------------------------------------------\n",
    "weather_files = sorted(glob(os.path.join(KMA_DIR, \"OBS_ASOS_TIM_*.csv\")))\n",
    "weather_frames = []\n",
    "\n",
    "for wf in tqdm(weather_files, desc=\"기상데이터 병합\"):\n",
    "    try:\n",
    "        tmp = read_csv_safe(wf)\n",
    "\n",
    "        # ✅ 날짜 포맷 통일 (초 있든 없든 처리)\n",
    "        tmp[\"일시\"] = pd.to_datetime(tmp[\"일시\"], errors=\"coerce\", format=\"mixed\")\n",
    "\n",
    "        # ✅ 주요 컬럼만 선택 및 이름 통일\n",
    "        tmp = tmp[[\"지점\",\"지점명\",\"일시\",\"기온(°C)\",\"강수량(mm)\",\"일조(hr)\",\"일사(MJ/m2)\"]]\n",
    "        weather_frames.append(tmp)\n",
    "\n",
    "    except Exception as e:\n",
    "        logger.warning(f\"⚠️ 기상파일 '{os.path.basename(wf)}' 처리 실패: {e}\")\n",
    "\n",
    "# ✅ 병합용 기상 데이터 완성\n",
    "df_weather = pd.concat(weather_frames, ignore_index=True).drop_duplicates(subset=[\"지점\",\"일시\"])\n",
    "logger.info(f\"📊 기상 데이터 총 {len(df_weather)}행 병합 완료\")\n",
    "\n",
    "\n",
    "# ----------------------------------------------------\n",
    "# 🔹 발전량 + 기상데이터 병합 함수\n",
    "# ----------------------------------------------------\n",
    "def merge_weather(df_power):\n",
    "    # ✅ datetime 통일 (초 제거)\n",
    "    df_power[\"일시\"] = pd.to_datetime(df_power[\"일시\"], errors=\"coerce\")\n",
    "    df_power[\"일시\"] = df_power[\"일시\"].dt.floor(\"h\")  # 시 단위 정규화\n",
    "    df_weather[\"일시\"] = pd.to_datetime(df_weather[\"일시\"], errors=\"coerce\")\n",
    "    df_weather[\"일시\"] = df_weather[\"일시\"].dt.floor(\"h\")\n",
    "\n",
    "    # ✅ 병합 (지점, 일시 기준)\n",
    "    merged = pd.merge(df_power, df_weather,\n",
    "                      how=\"left\", on=[\"지점\", \"일시\"],\n",
    "                      suffixes=(\"\", \"_wx\"))\n",
    "\n",
    "    # ✅ 결측값 0으로 채움 (선택적)\n",
    "    merged[[\"발전량(MWh)\",\"기온(°C)\",\"강수량(mm)\",\"일조(hr)\",\"일사(MJ/m2)\"]] = \\\n",
    "        merged[[\"발전량(MWh)\",\"기온(°C)\",\"강수량(mm)\",\"일조(hr)\",\"일사(MJ/m2)\"]].fillna(0)\n",
    "\n",
    "    # ✅ 최종 컬럼 정리\n",
    "    merged = merged[[\"일시\",\"발전소명\",\"지점명\",\"지점\",\n",
    "                     \"발전량(MWh)\",\"기온(°C)\",\"강수량(mm)\",\n",
    "                     \"일조(hr)\",\"일사(MJ/m2)\"]]\n",
    "    merged = merged.sort_values([\"지점명\", \"일시\"]).reset_index(drop=True)\n",
    "\n",
    "    return merged\n",
    "\n",
    "# ----------------------------------------------------\n",
    "# 🔹 실행\n",
    "# ----------------------------------------------------\n",
    "final_df = merge_weather(final_df)\n",
    "print(f\"✅ 발전량+기상데이터 병합 완료 → 총 {len(final_df):,}행\")\n",
    "\n",
    "# 🔹 발전소별 정렬 추가\n",
    "final_df = final_df.sort_values(by=[\"발전소명\", \"일시\"]).reset_index(drop=True)\n",
    "\n",
    "# 🔹 컬럼명 변경\n",
    "final_df = final_df.rename(columns={\n",
    "    \"발전소명\": \"발전구분\",\n",
    "    \"지점명\": \"지역\",\n",
    "    \"지점\": \"지점번호\",\n",
    "    \"발전량(MWh)\": \"합산발전량(MWh)\"\n",
    "})\n",
    "\n",
    "# 9️⃣ 결과 저장\n",
    "final_df.to_csv(OUT_CSV, index=False, encoding=\"utf-8-sig\")\n",
    "\n",
    "print(f\"✅ 발전소-지점 매핑 완료 → {OUT_CSV}\")\n",
    "logger.info(f\"✅ 발전소-지점 매핑 완료 → {OUT_CSV} (총 {len(final_df):,}행)\")"
   ]
  }
 ],
 "metadata": {
  "kernelspec": {
   "display_name": "Python [conda env:python311]",
   "language": "python",
   "name": "conda-env-python311-py"
  }
 },
 "nbformat": 4,
 "nbformat_minor": 5
}
