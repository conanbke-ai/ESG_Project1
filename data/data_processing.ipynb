{
 "cells": [
  {
   "cell_type": "code",
   "execution_count": 23,
   "id": "54a462c0",
   "metadata": {},
   "outputs": [
    {
     "name": "stdout",
     "output_type": "stream",
     "text": [
      "[2025-10-22 13:02:15,800]✅ INFO - 🗂 90개의 발전소 CSV 파일 수집됨\n"
     ]
    },
    {
     "name": "stderr",
     "output_type": "stream",
     "text": [
      "CSV 불러오기:   0%|          | 0/90 [00:00<?, ?it/s]"
     ]
    },
    {
     "name": "stdout",
     "output_type": "stream",
     "text": [
      "[2025-10-22 13:02:16,000]✅ INFO - 📄 '남동발전량_2022_01.csv' 읽기 성공 (utf-8)\n",
      "[2025-10-22 13:02:16,045]✅ INFO - 📄 남동발전량_2022_01.csv 불러옴 (682행)\n",
      "[2025-10-22 13:02:16,049]✅ INFO -    컬럼: ['발전구분', '호기', '일자', '1시 발전량(MWh)', '2시 발전량(MWh)', '3시 발전량(MWh)', '4시 발전량(MWh)', '5시 발전량(MWh)', '6시 발전량(MWh)', '7시 발전량(MWh)', '8시 발전량(MWh)', '9시 발전량(MWh)', '10시 발전량(MWh)', '11시 발전량(MWh)', '12시 발전량(MWh)', '13시 발전량(MWh)', '14시 발전량(MWh)', '15시 발전량(MWh)', '16시 발전량(MWh)', '17시 발전량(MWh)', '18시 발전량(MWh)', '19시 발전량(MWh)', '20시 발전량(MWh)', '21시 발전량(MWh)', '22시 발전량(MWh)', '23시 발전량(MWh)', '24시 발전량(MWh)', '총량(KW)', '평균(KW)', '최대(시간별)', '최소(시간별)', '최대', '최소']\n",
      "[2025-10-22 13:02:16,080]✅ INFO -    샘플:\n",
      "       발전구분  호기         일자  1시 발전량(MWh)  2시 발전량(MWh)  3시 발전량(MWh)  \\\n",
      "0     영동태양광   1 2022-01-31          0.0            0            0   \n",
      "1  삼천포태양광#5   1 2022-01-31          0.0            0            0   \n",
      "\n",
      "   4시 발전량(MWh)  5시 발전량(MWh)  6시 발전량(MWh)  7시 발전량(MWh)  ...  21시 발전량(MWh)  \\\n",
      "0            0            0            0            0  ...       493.920   \n",
      "1            0            0            0            0  ...      2495.991   \n",
      "\n",
      "   22시 발전량(MWh)  23시 발전량(MWh)  24시 발전량(MWh)     총량(KW)  평균(KW)  최대(시간별)  \\\n",
      "0       590.688         590.4       128.448   4583.424     191   593.76   \n",
      "1       922.580           0.0         0.000  19116.254     797  2523.68   \n",
      "\n",
      "   최소(시간별)        최대  최소  \n",
      "0    37.44   593.760   0  \n",
      "1     3.82  2523.683   0  \n",
      "\n",
      "[2 rows x 33 columns]\n"
     ]
    },
    {
     "name": "stderr",
     "output_type": "stream",
     "text": [
      "C:\\Users\\baesa\\AppData\\Local\\Temp\\ipykernel_23424\\4114509180.py:45: ParserWarning: Length of header or names does not match length of data. This leads to a loss of data with index_col=False.\n",
      "  df = pd.read_csv(path, encoding=\"utf-8\", delimiter=delim, index_col=False)\n",
      "CSV 불러오기:   1%|          | 1/90 [00:00<00:13,  6.79it/s]"
     ]
    },
    {
     "name": "stdout",
     "output_type": "stream",
     "text": [
      "[2025-10-22 13:02:16,102]✅ INFO - 📄 '남동발전량_2022_02.csv' 읽기 성공 (utf-8)\n",
      "[2025-10-22 13:02:16,110]✅ INFO - 📄 남동발전량_2022_02.csv 불러옴 (616행)\n",
      "[2025-10-22 13:02:16,113]✅ INFO -    컬럼: ['발전구분', '호기', '일자', '1시 발전량(MWh)', '2시 발전량(MWh)', '3시 발전량(MWh)', '4시 발전량(MWh)', '5시 발전량(MWh)', '6시 발전량(MWh)', '7시 발전량(MWh)', '8시 발전량(MWh)', '9시 발전량(MWh)', '10시 발전량(MWh)', '11시 발전량(MWh)', '12시 발전량(MWh)', '13시 발전량(MWh)', '14시 발전량(MWh)', '15시 발전량(MWh)', '16시 발전량(MWh)', '17시 발전량(MWh)', '18시 발전량(MWh)', '19시 발전량(MWh)', '20시 발전량(MWh)', '21시 발전량(MWh)', '22시 발전량(MWh)', '23시 발전량(MWh)', '24시 발전량(MWh)', '총량(KW)', '평균(KW)', '최대(시간별)', '최소(시간별)', '최대', '최소']\n"
     ]
    },
    {
     "name": "stderr",
     "output_type": "stream",
     "text": [
      "C:\\Users\\baesa\\AppData\\Local\\Temp\\ipykernel_23424\\4114509180.py:45: ParserWarning: Length of header or names does not match length of data. This leads to a loss of data with index_col=False.\n",
      "  df = pd.read_csv(path, encoding=\"utf-8\", delimiter=delim, index_col=False)\n"
     ]
    },
    {
     "name": "stdout",
     "output_type": "stream",
     "text": [
      "[2025-10-22 13:02:16,135]✅ INFO -    샘플:\n",
      "       발전구분  호기         일자  1시 발전량(MWh)  2시 발전량(MWh)  3시 발전량(MWh)  \\\n",
      "0     영동태양광   1 2022-02-28          0.0            0            0   \n",
      "1  삼천포태양광#5   1 2022-02-28          0.0            0            0   \n",
      "\n",
      "   4시 발전량(MWh)  5시 발전량(MWh)  6시 발전량(MWh)  7시 발전량(MWh)  ...  21시 발전량(MWh)  \\\n",
      "0            0            0            0            0  ...       491.424   \n",
      "1            0            0            0            0  ...      2475.917   \n",
      "\n",
      "   22시 발전량(MWh)  23시 발전량(MWh)  24시 발전량(MWh)     총량(KW)  평균(KW)  최대(시간별)  \\\n",
      "0       590.496        589.44       137.664   3946.464     164   590.49   \n",
      "1       606.144          0.00         0.000  14405.496     600  2493.92   \n",
      "\n",
      "   최소(시간별)        최대  최소  \n",
      "0    7.968   590.496   0  \n",
      "1   76.030  2493.921   0  \n",
      "\n",
      "[2 rows x 33 columns]\n",
      "[2025-10-22 13:02:16,156]✅ INFO - 📄 '남동발전량_2022_03.csv' 읽기 성공 (utf-8)\n"
     ]
    },
    {
     "name": "stderr",
     "output_type": "stream",
     "text": [
      "C:\\Users\\baesa\\AppData\\Local\\Temp\\ipykernel_23424\\4114509180.py:45: ParserWarning: Length of header or names does not match length of data. This leads to a loss of data with index_col=False.\n",
      "  df = pd.read_csv(path, encoding=\"utf-8\", delimiter=delim, index_col=False)\n"
     ]
    },
    {
     "name": "stdout",
     "output_type": "stream",
     "text": [
      "[2025-10-22 13:02:16,165]✅ INFO - 📄 남동발전량_2022_03.csv 불러옴 (682행)\n",
      "[2025-10-22 13:02:16,169]✅ INFO -    컬럼: ['발전구분', '호기', '일자', '1시 발전량(MWh)', '2시 발전량(MWh)', '3시 발전량(MWh)', '4시 발전량(MWh)', '5시 발전량(MWh)', '6시 발전량(MWh)', '7시 발전량(MWh)', '8시 발전량(MWh)', '9시 발전량(MWh)', '10시 발전량(MWh)', '11시 발전량(MWh)', '12시 발전량(MWh)', '13시 발전량(MWh)', '14시 발전량(MWh)', '15시 발전량(MWh)', '16시 발전량(MWh)', '17시 발전량(MWh)', '18시 발전량(MWh)', '19시 발전량(MWh)', '20시 발전량(MWh)', '21시 발전량(MWh)', '22시 발전량(MWh)', '23시 발전량(MWh)', '24시 발전량(MWh)', '총량(KW)', '평균(KW)', '최대(시간별)', '최소(시간별)', '최대', '최소']\n",
      "[2025-10-22 13:02:16,194]✅ INFO -    샘플:\n",
      "       발전구분  호기         일자  1시 발전량(MWh)  2시 발전량(MWh)  3시 발전량(MWh)  \\\n",
      "0     영동태양광   1 2022-03-31          0.0          0.0            0   \n",
      "1  삼천포태양광#5   1 2022-03-31          0.0          0.0            0   \n",
      "\n",
      "   4시 발전량(MWh)  5시 발전량(MWh)  6시 발전량(MWh)  7시 발전량(MWh)  ...  21시 발전량(MWh)  \\\n",
      "0            0            0            0        0.000  ...         0.000   \n",
      "1            0            0            0        6.229  ...       931.368   \n",
      "\n",
      "   22시 발전량(MWh)  23시 발전량(MWh)  24시 발전량(MWh)    총량(KW)  평균(KW)  최대(시간별)  \\\n",
      "0           0.0           0.0           0.0   660.192      28   258.52   \n",
      "1           0.0           0.0           0.0  9568.733     399  2527.44   \n",
      "\n",
      "   최소(시간별)        최대  최소  \n",
      "0     0.57   258.528   0  \n",
      "1     6.22  2527.445   0  \n",
      "\n",
      "[2 rows x 33 columns]\n"
     ]
    },
    {
     "name": "stderr",
     "output_type": "stream",
     "text": [
      "CSV 불러오기:   3%|▎         | 3/90 [00:00<00:06, 12.54it/s]"
     ]
    },
    {
     "name": "stdout",
     "output_type": "stream",
     "text": [
      "[2025-10-22 13:02:16,227]✅ INFO - 📄 '남동발전량_2022_04.csv' 읽기 성공 (utf-8)\n",
      "[2025-10-22 13:02:16,239]✅ INFO - 📄 남동발전량_2022_04.csv 불러옴 (660행)\n",
      "[2025-10-22 13:02:16,243]✅ INFO -    컬럼: ['발전구분', '호기', '일자', '1시 발전량(MWh)', '2시 발전량(MWh)', '3시 발전량(MWh)', '4시 발전량(MWh)', '5시 발전량(MWh)', '6시 발전량(MWh)', '7시 발전량(MWh)', '8시 발전량(MWh)', '9시 발전량(MWh)', '10시 발전량(MWh)', '11시 발전량(MWh)', '12시 발전량(MWh)', '13시 발전량(MWh)', '14시 발전량(MWh)', '15시 발전량(MWh)', '16시 발전량(MWh)', '17시 발전량(MWh)', '18시 발전량(MWh)', '19시 발전량(MWh)', '20시 발전량(MWh)', '21시 발전량(MWh)', '22시 발전량(MWh)', '23시 발전량(MWh)', '24시 발전량(MWh)', '총량(KW)', '평균(KW)', '최대(시간별)', '최소(시간별)', '최대', '최소']\n",
      "[2025-10-22 13:02:16,268]✅ INFO -    샘플:\n",
      "       발전구분  호기         일자  1시 발전량(MWh)  2시 발전량(MWh)  3시 발전량(MWh)  \\\n",
      "0     영동태양광   1 2022-04-30          0.0          0.0            0   \n",
      "1  삼천포태양광#5   1 2022-04-30          0.0          0.0            0   \n",
      "\n",
      "   4시 발전량(MWh)  5시 발전량(MWh)  6시 발전량(MWh)  7시 발전량(MWh)  ...  21시 발전량(MWh)  \\\n",
      "0            0            0          0.0       17.472  ...        507.36   \n",
      "1            0            0          0.0      140.775  ...       2506.82   \n",
      "\n",
      "   22시 발전량(MWh)  23시 발전량(MWh)  24시 발전량(MWh)     총량(KW)  평균(KW)  최대(시간별)  \\\n",
      "0       589.248       572.064          62.4   4711.296     196   589.24   \n",
      "1       685.807         0.000           0.0  16217.077     676  2534.13   \n",
      "\n",
      "   최소(시간별)        최대  최소  \n",
      "0    17.47   589.248   0  \n",
      "1   140.77  2534.139   0  \n",
      "\n",
      "[2 rows x 33 columns]\n"
     ]
    },
    {
     "name": "stderr",
     "output_type": "stream",
     "text": [
      "C:\\Users\\baesa\\AppData\\Local\\Temp\\ipykernel_23424\\4114509180.py:45: ParserWarning: Length of header or names does not match length of data. This leads to a loss of data with index_col=False.\n",
      "  df = pd.read_csv(path, encoding=\"utf-8\", delimiter=delim, index_col=False)\n"
     ]
    },
    {
     "name": "stdout",
     "output_type": "stream",
     "text": [
      "[2025-10-22 13:02:16,295]✅ INFO - 📄 '남동발전량_2022_05.csv' 읽기 성공 (utf-8)\n",
      "[2025-10-22 13:02:16,308]✅ INFO - 📄 남동발전량_2022_05.csv 불러옴 (682행)\n",
      "[2025-10-22 13:02:16,310]✅ INFO -    컬럼: ['발전구분', '호기', '일자', '1시 발전량(MWh)', '2시 발전량(MWh)', '3시 발전량(MWh)', '4시 발전량(MWh)', '5시 발전량(MWh)', '6시 발전량(MWh)', '7시 발전량(MWh)', '8시 발전량(MWh)', '9시 발전량(MWh)', '10시 발전량(MWh)', '11시 발전량(MWh)', '12시 발전량(MWh)', '13시 발전량(MWh)', '14시 발전량(MWh)', '15시 발전량(MWh)', '16시 발전량(MWh)', '17시 발전량(MWh)', '18시 발전량(MWh)', '19시 발전량(MWh)', '20시 발전량(MWh)', '21시 발전량(MWh)', '22시 발전량(MWh)', '23시 발전량(MWh)', '24시 발전량(MWh)', '총량(KW)', '평균(KW)', '최대(시간별)', '최소(시간별)', '최대', '최소']\n"
     ]
    },
    {
     "name": "stderr",
     "output_type": "stream",
     "text": [
      "C:\\Users\\baesa\\AppData\\Local\\Temp\\ipykernel_23424\\4114509180.py:45: ParserWarning: Length of header or names does not match length of data. This leads to a loss of data with index_col=False.\n",
      "  df = pd.read_csv(path, encoding=\"utf-8\", delimiter=delim, index_col=False)\n"
     ]
    },
    {
     "name": "stdout",
     "output_type": "stream",
     "text": [
      "[2025-10-22 13:02:16,340]✅ INFO -    샘플:\n",
      "       발전구분  호기         일자  1시 발전량(MWh)  2시 발전량(MWh)  3시 발전량(MWh)  \\\n",
      "0     영동태양광   1 2022-05-31       67.776          0.0          0.0   \n",
      "1  삼천포태양광#5   1 2022-05-31        0.000          0.0          0.0   \n",
      "\n",
      "   4시 발전량(MWh)  5시 발전량(MWh)  6시 발전량(MWh)  7시 발전량(MWh)  ...  21시 발전량(MWh)  \\\n",
      "0          0.0            0        0.192       19.104  ...         0.000   \n",
      "1          0.0            0        0.000      139.205  ...      2497.041   \n",
      "\n",
      "   22시 발전량(MWh)  23시 발전량(MWh)  24시 발전량(MWh)     총량(KW)  평균(KW)  최대(시간별)  \\\n",
      "0         0.000           0.0       428.832   3646.560     152   659.71   \n",
      "1       398.445           0.0         0.000  23049.133     960  2676.31   \n",
      "\n",
      "   최소(시간별)        최대  최소  \n",
      "0     0.19   659.712   0  \n",
      "1   139.20  2676.314   0  \n",
      "\n",
      "[2 rows x 33 columns]\n"
     ]
    },
    {
     "name": "stderr",
     "output_type": "stream",
     "text": [
      "CSV 불러오기:   6%|▌         | 5/90 [00:00<00:06, 13.01it/s]"
     ]
    },
    {
     "name": "stdout",
     "output_type": "stream",
     "text": [
      "[2025-10-22 13:02:16,364]✅ INFO - 📄 '남동발전량_2022_06.csv' 읽기 성공 (utf-8)\n",
      "[2025-10-22 13:02:16,375]✅ INFO - 📄 남동발전량_2022_06.csv 불러옴 (660행)\n",
      "[2025-10-22 13:02:16,377]✅ INFO -    컬럼: ['발전구분', '호기', '일자', '1시 발전량(MWh)', '2시 발전량(MWh)', '3시 발전량(MWh)', '4시 발전량(MWh)', '5시 발전량(MWh)', '6시 발전량(MWh)', '7시 발전량(MWh)', '8시 발전량(MWh)', '9시 발전량(MWh)', '10시 발전량(MWh)', '11시 발전량(MWh)', '12시 발전량(MWh)', '13시 발전량(MWh)', '14시 발전량(MWh)', '15시 발전량(MWh)', '16시 발전량(MWh)', '17시 발전량(MWh)', '18시 발전량(MWh)', '19시 발전량(MWh)', '20시 발전량(MWh)', '21시 발전량(MWh)', '22시 발전량(MWh)', '23시 발전량(MWh)', '24시 발전량(MWh)', '총량(KW)', '평균(KW)', '최대(시간별)', '최소(시간별)', '최대', '최소']\n",
      "[2025-10-22 13:02:16,396]✅ INFO -    샘플:\n",
      "       발전구분  호기         일자  1시 발전량(MWh)  2시 발전량(MWh)  3시 발전량(MWh)  \\\n",
      "0     영동태양광   1 2022-06-30          0.0          0.0          0.0   \n",
      "1  삼천포태양광#5   1 2022-06-30          0.0          0.0          0.0   \n",
      "\n",
      "   4시 발전량(MWh)  5시 발전량(MWh)  6시 발전량(MWh)  7시 발전량(MWh)  ...  21시 발전량(MWh)  \\\n",
      "0          0.0            0          0.0        0.000  ...         0.000   \n",
      "1          0.0            0          0.0      131.049  ...      2496.236   \n",
      "\n",
      "   22시 발전량(MWh)  23시 발전량(MWh)  24시 발전량(MWh)     총량(KW)  평균(KW)  최대(시간별)  \\\n",
      "0         0.000         0.000         0.000      0.000       0     0.00   \n",
      "1      2472.359      2404.237        19.594  17206.671     717  2496.23   \n",
      "\n",
      "   최소(시간별)        최대  최소  \n",
      "0     0.00     0.000   0  \n",
      "1    10.66  2496.236   0  \n",
      "\n",
      "[2 rows x 33 columns]\n"
     ]
    },
    {
     "name": "stderr",
     "output_type": "stream",
     "text": [
      "C:\\Users\\baesa\\AppData\\Local\\Temp\\ipykernel_23424\\4114509180.py:45: ParserWarning: Length of header or names does not match length of data. This leads to a loss of data with index_col=False.\n",
      "  df = pd.read_csv(path, encoding=\"utf-8\", delimiter=delim, index_col=False)\n"
     ]
    },
    {
     "name": "stdout",
     "output_type": "stream",
     "text": [
      "[2025-10-22 13:02:16,420]✅ INFO - 📄 '남동발전량_2022_07.csv' 읽기 성공 (utf-8)\n",
      "[2025-10-22 13:02:16,429]✅ INFO - 📄 남동발전량_2022_07.csv 불러옴 (682행)\n",
      "[2025-10-22 13:02:16,431]✅ INFO -    컬럼: ['발전구분', '호기', '일자', '1시 발전량(MWh)', '2시 발전량(MWh)', '3시 발전량(MWh)', '4시 발전량(MWh)', '5시 발전량(MWh)', '6시 발전량(MWh)', '7시 발전량(MWh)', '8시 발전량(MWh)', '9시 발전량(MWh)', '10시 발전량(MWh)', '11시 발전량(MWh)', '12시 발전량(MWh)', '13시 발전량(MWh)', '14시 발전량(MWh)', '15시 발전량(MWh)', '16시 발전량(MWh)', '17시 발전량(MWh)', '18시 발전량(MWh)', '19시 발전량(MWh)', '20시 발전량(MWh)', '21시 발전량(MWh)', '22시 발전량(MWh)', '23시 발전량(MWh)', '24시 발전량(MWh)', '총량(KW)', '평균(KW)', '최대(시간별)', '최소(시간별)', '최대', '최소']\n",
      "[2025-10-22 13:02:16,458]✅ INFO -    샘플:\n",
      "       발전구분  호기         일자  1시 발전량(MWh)  2시 발전량(MWh)  3시 발전량(MWh)  \\\n",
      "0     영동태양광   1 2022-07-31      582.336       581.28      374.784   \n",
      "1  삼천포태양광#5   1 2022-07-31        0.000         0.00        0.000   \n",
      "\n",
      "   4시 발전량(MWh)  5시 발전량(MWh)  6시 발전량(MWh)  7시 발전량(MWh)  ...  21시 발전량(MWh)  \\\n",
      "0          0.0            0          0.0          0.0  ...           0.0   \n",
      "1          0.0            0          0.0          0.0  ...           0.0   \n",
      "\n",
      "   22시 발전량(MWh)  23시 발전량(MWh)  24시 발전량(MWh)    총량(KW)  평균(KW)  최대(시간별)  \\\n",
      "0           0.0           0.0       293.472  2252.352      94   582.33   \n",
      "1           0.0           0.0         0.000  2176.872      91   795.47   \n",
      "\n",
      "   최소(시간별)       최대  최소  \n",
      "0   12.768  582.336   0  \n",
      "1   47.000  795.474   0  \n",
      "\n",
      "[2 rows x 33 columns]\n"
     ]
    },
    {
     "name": "stderr",
     "output_type": "stream",
     "text": [
      "C:\\Users\\baesa\\AppData\\Local\\Temp\\ipykernel_23424\\4114509180.py:45: ParserWarning: Length of header or names does not match length of data. This leads to a loss of data with index_col=False.\n",
      "  df = pd.read_csv(path, encoding=\"utf-8\", delimiter=delim, index_col=False)\n",
      "CSV 불러오기:   8%|▊         | 7/90 [00:00<00:05, 14.49it/s]"
     ]
    },
    {
     "name": "stdout",
     "output_type": "stream",
     "text": [
      "[2025-10-22 13:02:16,480]✅ INFO - 📄 '남동발전량_2022_08.csv' 읽기 성공 (utf-8)\n",
      "[2025-10-22 13:02:16,490]✅ INFO - 📄 남동발전량_2022_08.csv 불러옴 (682행)\n",
      "[2025-10-22 13:02:16,492]✅ INFO -    컬럼: ['발전구분', '호기', '일자', '1시 발전량(MWh)', '2시 발전량(MWh)', '3시 발전량(MWh)', '4시 발전량(MWh)', '5시 발전량(MWh)', '6시 발전량(MWh)', '7시 발전량(MWh)', '8시 발전량(MWh)', '9시 발전량(MWh)', '10시 발전량(MWh)', '11시 발전량(MWh)', '12시 발전량(MWh)', '13시 발전량(MWh)', '14시 발전량(MWh)', '15시 발전량(MWh)', '16시 발전량(MWh)', '17시 발전량(MWh)', '18시 발전량(MWh)', '19시 발전량(MWh)', '20시 발전량(MWh)', '21시 발전량(MWh)', '22시 발전량(MWh)', '23시 발전량(MWh)', '24시 발전량(MWh)', '총량(KW)', '평균(KW)', '최대(시간별)', '최소(시간별)', '최대', '최소']\n",
      "[2025-10-22 13:02:16,518]✅ INFO -    샘플:\n",
      "       발전구분  호기         일자  1시 발전량(MWh)  2시 발전량(MWh)  3시 발전량(MWh)  \\\n",
      "0     영동태양광   1 2022-08-31          0.0          0.0          0.0   \n",
      "1  삼천포태양광#5   1 2022-08-31          0.0          0.0          0.0   \n",
      "\n",
      "   4시 발전량(MWh)  5시 발전량(MWh)  6시 발전량(MWh)  7시 발전량(MWh)  ...  21시 발전량(MWh)  \\\n",
      "0          0.0            0            0          0.0  ...         0.000   \n",
      "1          0.0            0            0          0.0  ...      2509.565   \n",
      "\n",
      "   22시 발전량(MWh)  23시 발전량(MWh)  24시 발전량(MWh)    총량(KW)  평균(KW)  최대(시간별)  \\\n",
      "0          0.00           0.0       278.208   622.080      26   278.20   \n",
      "1        433.37           0.0         0.000  5795.395     241  2509.56   \n",
      "\n",
      "   최소(시간별)        최대  최소  \n",
      "0    0.096   278.208   0  \n",
      "1    7.720  2509.565   0  \n",
      "\n",
      "[2 rows x 33 columns]\n",
      "[2025-10-22 13:02:16,534]✅ INFO - 📄 '남동발전량_2022_09.csv' 읽기 성공 (utf-8)\n"
     ]
    },
    {
     "name": "stderr",
     "output_type": "stream",
     "text": [
      "C:\\Users\\baesa\\AppData\\Local\\Temp\\ipykernel_23424\\4114509180.py:45: ParserWarning: Length of header or names does not match length of data. This leads to a loss of data with index_col=False.\n",
      "  df = pd.read_csv(path, encoding=\"utf-8\", delimiter=delim, index_col=False)\n",
      "C:\\Users\\baesa\\AppData\\Local\\Temp\\ipykernel_23424\\4114509180.py:45: ParserWarning: Length of header or names does not match length of data. This leads to a loss of data with index_col=False.\n",
      "  df = pd.read_csv(path, encoding=\"utf-8\", delimiter=delim, index_col=False)\n"
     ]
    },
    {
     "name": "stdout",
     "output_type": "stream",
     "text": [
      "[2025-10-22 13:02:16,543]✅ INFO - 📄 남동발전량_2022_09.csv 불러옴 (660행)\n",
      "[2025-10-22 13:02:16,545]✅ INFO -    컬럼: ['발전구분', '호기', '일자', '1시 발전량(MWh)', '2시 발전량(MWh)', '3시 발전량(MWh)', '4시 발전량(MWh)', '5시 발전량(MWh)', '6시 발전량(MWh)', '7시 발전량(MWh)', '8시 발전량(MWh)', '9시 발전량(MWh)', '10시 발전량(MWh)', '11시 발전량(MWh)', '12시 발전량(MWh)', '13시 발전량(MWh)', '14시 발전량(MWh)', '15시 발전량(MWh)', '16시 발전량(MWh)', '17시 발전량(MWh)', '18시 발전량(MWh)', '19시 발전량(MWh)', '20시 발전량(MWh)', '21시 발전량(MWh)', '22시 발전량(MWh)', '23시 발전량(MWh)', '24시 발전량(MWh)', '총량(KW)', '평균(KW)', '최대(시간별)', '최소(시간별)', '최대', '최소']\n",
      "[2025-10-22 13:02:16,566]✅ INFO -    샘플:\n",
      "       발전구분  호기         일자  1시 발전량(MWh)  2시 발전량(MWh)  3시 발전량(MWh)  \\\n",
      "0     영동태양광   1 2022-09-30          0.0          0.0          0.0   \n",
      "1  삼천포태양광#5   1 2022-09-30          0.0          0.0          0.0   \n",
      "\n",
      "   4시 발전량(MWh)  5시 발전량(MWh)  6시 발전량(MWh)  7시 발전량(MWh)  ...  21시 발전량(MWh)  \\\n",
      "0          0.0            0          0.0        0.000  ...        98.496   \n",
      "1          0.0            0          0.0        7.232  ...      2520.205   \n",
      "\n",
      "   22시 발전량(MWh)  23시 발전량(MWh)  24시 발전량(MWh)     총량(KW)  평균(KW)  최대(시간별)  \\\n",
      "0         0.000           0.0           0.0   7239.936     302   823.96   \n",
      "1      1410.158           0.0           0.0  20898.726     871  2799.34   \n",
      "\n",
      "   최소(시간별)        최대  최소  \n",
      "0   18.336   823.968   0  \n",
      "1    7.230  2799.348   0  \n",
      "\n",
      "[2 rows x 33 columns]\n"
     ]
    },
    {
     "name": "stderr",
     "output_type": "stream",
     "text": [
      "CSV 불러오기:  10%|█         | 9/90 [00:00<00:05, 15.73it/s]"
     ]
    },
    {
     "name": "stdout",
     "output_type": "stream",
     "text": [
      "[2025-10-22 13:02:16,589]✅ INFO - 📄 '남동발전량_2022_10.csv' 읽기 성공 (utf-8)\n",
      "[2025-10-22 13:02:16,599]✅ INFO - 📄 남동발전량_2022_10.csv 불러옴 (682행)\n"
     ]
    },
    {
     "name": "stderr",
     "output_type": "stream",
     "text": [
      "C:\\Users\\baesa\\AppData\\Local\\Temp\\ipykernel_23424\\4114509180.py:45: ParserWarning: Length of header or names does not match length of data. This leads to a loss of data with index_col=False.\n",
      "  df = pd.read_csv(path, encoding=\"utf-8\", delimiter=delim, index_col=False)\n"
     ]
    },
    {
     "name": "stdout",
     "output_type": "stream",
     "text": [
      "[2025-10-22 13:02:16,602]✅ INFO -    컬럼: ['발전구분', '호기', '일자', '1시 발전량(MWh)', '2시 발전량(MWh)', '3시 발전량(MWh)', '4시 발전량(MWh)', '5시 발전량(MWh)', '6시 발전량(MWh)', '7시 발전량(MWh)', '8시 발전량(MWh)', '9시 발전량(MWh)', '10시 발전량(MWh)', '11시 발전량(MWh)', '12시 발전량(MWh)', '13시 발전량(MWh)', '14시 발전량(MWh)', '15시 발전량(MWh)', '16시 발전량(MWh)', '17시 발전량(MWh)', '18시 발전량(MWh)', '19시 발전량(MWh)', '20시 발전량(MWh)', '21시 발전량(MWh)', '22시 발전량(MWh)', '23시 발전량(MWh)', '24시 발전량(MWh)', '총량(KW)', '평균(KW)', '최대(시간별)', '최소(시간별)', '최대', '최소']\n",
      "[2025-10-22 13:02:16,625]✅ INFO -    샘플:\n",
      "       발전구분  호기         일자  1시 발전량(MWh)  2시 발전량(MWh)  3시 발전량(MWh)  \\\n",
      "0     영동태양광   1 2022-10-31          0.0            0            0   \n",
      "1  삼천포태양광#5   1 2022-10-31          0.0            0            0   \n",
      "\n",
      "   4시 발전량(MWh)  5시 발전량(MWh)  6시 발전량(MWh)  7시 발전량(MWh)  ...  21시 발전량(MWh)  \\\n",
      "0            0            0            0          0.0  ...       684.000   \n",
      "1            0            0            0          0.0  ...      2492.224   \n",
      "\n",
      "   22시 발전량(MWh)  23시 발전량(MWh)  24시 발전량(MWh)     총량(KW)  평균(KW)  최대(시간별)  \\\n",
      "0       511.584           0.0           0.0   3998.592     167   684.48   \n",
      "1      1198.292           0.0           0.0  18796.552     783  2492.22   \n",
      "\n",
      "   최소(시간별)        최대  최소  \n",
      "0    0.864   684.480   0  \n",
      "1   21.610  2492.224   0  \n",
      "\n",
      "[2 rows x 33 columns]\n",
      "[2025-10-22 13:02:16,645]✅ INFO - 📄 '남동발전량_2022_11.csv' 읽기 성공 (utf-8)\n",
      "[2025-10-22 13:02:16,655]✅ INFO - 📄 남동발전량_2022_11.csv 불러옴 (660행)\n",
      "[2025-10-22 13:02:16,657]✅ INFO -    컬럼: ['발전구분', '호기', '일자', '1시 발전량(MWh)', '2시 발전량(MWh)', '3시 발전량(MWh)', '4시 발전량(MWh)', '5시 발전량(MWh)', '6시 발전량(MWh)', '7시 발전량(MWh)', '8시 발전량(MWh)', '9시 발전량(MWh)', '10시 발전량(MWh)', '11시 발전량(MWh)', '12시 발전량(MWh)', '13시 발전량(MWh)', '14시 발전량(MWh)', '15시 발전량(MWh)', '16시 발전량(MWh)', '17시 발전량(MWh)', '18시 발전량(MWh)', '19시 발전량(MWh)', '20시 발전량(MWh)', '21시 발전량(MWh)', '22시 발전량(MWh)', '23시 발전량(MWh)', '24시 발전량(MWh)', '총량(KW)', '평균(KW)', '최대(시간별)', '최소(시간별)', '최대', '최소']\n",
      "[2025-10-22 13:02:16,674]✅ INFO -    샘플:\n",
      "       발전구분  호기         일자  1시 발전량(MWh)  2시 발전량(MWh)  3시 발전량(MWh)  \\\n",
      "0     영동태양광   1 2022-11-30          0.0            0            0   \n",
      "1  삼천포태양광#5   1 2022-11-30          0.0            0            0   \n",
      "\n",
      "   4시 발전량(MWh)  5시 발전량(MWh)  6시 발전량(MWh)  7시 발전량(MWh)  ...  21시 발전량(MWh)  \\\n",
      "0            0            0            0            0  ...       504.096   \n",
      "1            0            0            0            0  ...         0.000   \n",
      "\n",
      "   22시 발전량(MWh)  23시 발전량(MWh)  24시 발전량(MWh)    총량(KW)  평균(KW)  최대(시간별)  \\\n",
      "0           0.0           0.0           0.0  4130.976     172   686.59   \n",
      "1           0.0           0.0           0.0  8509.544     355  2470.89   \n",
      "\n",
      "   최소(시간별)        최대  최소  \n",
      "0   38.016   686.592   0  \n",
      "1   17.110  2470.890   0  \n",
      "\n",
      "[2 rows x 33 columns]\n"
     ]
    },
    {
     "name": "stderr",
     "output_type": "stream",
     "text": [
      "C:\\Users\\baesa\\AppData\\Local\\Temp\\ipykernel_23424\\4114509180.py:45: ParserWarning: Length of header or names does not match length of data. This leads to a loss of data with index_col=False.\n",
      "  df = pd.read_csv(path, encoding=\"utf-8\", delimiter=delim, index_col=False)\n",
      "CSV 불러오기:  12%|█▏        | 11/90 [00:00<00:04, 16.59it/s]"
     ]
    },
    {
     "name": "stdout",
     "output_type": "stream",
     "text": [
      "[2025-10-22 13:02:16,697]✅ INFO - 📄 '남동발전량_2022_12.csv' 읽기 성공 (utf-8)\n",
      "[2025-10-22 13:02:16,708]✅ INFO - 📄 남동발전량_2022_12.csv 불러옴 (682행)\n",
      "[2025-10-22 13:02:16,709]✅ INFO -    컬럼: ['발전구분', '호기', '일자', '1시 발전량(MWh)', '2시 발전량(MWh)', '3시 발전량(MWh)', '4시 발전량(MWh)', '5시 발전량(MWh)', '6시 발전량(MWh)', '7시 발전량(MWh)', '8시 발전량(MWh)', '9시 발전량(MWh)', '10시 발전량(MWh)', '11시 발전량(MWh)', '12시 발전량(MWh)', '13시 발전량(MWh)', '14시 발전량(MWh)', '15시 발전량(MWh)', '16시 발전량(MWh)', '17시 발전량(MWh)', '18시 발전량(MWh)', '19시 발전량(MWh)', '20시 발전량(MWh)', '21시 발전량(MWh)', '22시 발전량(MWh)', '23시 발전량(MWh)', '24시 발전량(MWh)', '총량(KW)', '평균(KW)', '최대(시간별)', '최소(시간별)', '최대', '최소']\n",
      "[2025-10-22 13:02:16,731]✅ INFO -    샘플:\n",
      "       발전구분  호기         일자  1시 발전량(MWh)  2시 발전량(MWh)  3시 발전량(MWh)  \\\n",
      "0     영동태양광   1 2022-12-31          0.0            0          0.0   \n",
      "1  삼천포태양광#5   1 2022-12-31          0.0            0          0.0   \n",
      "\n",
      "   4시 발전량(MWh)  5시 발전량(MWh)  6시 발전량(MWh)  7시 발전량(MWh)  ...  21시 발전량(MWh)  \\\n",
      "0          0.0            0            0            0  ...       542.016   \n",
      "1          0.0            0            0            0  ...       526.262   \n",
      "\n",
      "   22시 발전량(MWh)  23시 발전량(MWh)  24시 발전량(MWh)     총량(KW)  평균(KW)  최대(시간별)  \\\n",
      "0           0.0           0.0           0.0   3762.816     157   690.91   \n",
      "1           0.0           0.0           0.0  17649.706     735  3001.18   \n",
      "\n",
      "   최소(시간별)        최대  최소  \n",
      "0   16.896   690.912   0  \n",
      "1    1.460  3001.185   0  \n",
      "\n",
      "[2 rows x 33 columns]\n",
      "[2025-10-22 13:02:16,752]✅ INFO - 📄 '남동발전량_2023_01.csv' 읽기 성공 (utf-8)\n"
     ]
    },
    {
     "name": "stderr",
     "output_type": "stream",
     "text": [
      "C:\\Users\\baesa\\AppData\\Local\\Temp\\ipykernel_23424\\4114509180.py:45: ParserWarning: Length of header or names does not match length of data. This leads to a loss of data with index_col=False.\n",
      "  df = pd.read_csv(path, encoding=\"utf-8\", delimiter=delim, index_col=False)\n",
      "C:\\Users\\baesa\\AppData\\Local\\Temp\\ipykernel_23424\\4114509180.py:45: ParserWarning: Length of header or names does not match length of data. This leads to a loss of data with index_col=False.\n",
      "  df = pd.read_csv(path, encoding=\"utf-8\", delimiter=delim, index_col=False)\n"
     ]
    },
    {
     "name": "stdout",
     "output_type": "stream",
     "text": [
      "[2025-10-22 13:02:16,761]✅ INFO - 📄 남동발전량_2023_01.csv 불러옴 (682행)\n",
      "[2025-10-22 13:02:16,763]✅ INFO -    컬럼: ['발전구분', '호기', '일자', '1시 발전량(MWh)', '2시 발전량(MWh)', '3시 발전량(MWh)', '4시 발전량(MWh)', '5시 발전량(MWh)', '6시 발전량(MWh)', '7시 발전량(MWh)', '8시 발전량(MWh)', '9시 발전량(MWh)', '10시 발전량(MWh)', '11시 발전량(MWh)', '12시 발전량(MWh)', '13시 발전량(MWh)', '14시 발전량(MWh)', '15시 발전량(MWh)', '16시 발전량(MWh)', '17시 발전량(MWh)', '18시 발전량(MWh)', '19시 발전량(MWh)', '20시 발전량(MWh)', '21시 발전량(MWh)', '22시 발전량(MWh)', '23시 발전량(MWh)', '24시 발전량(MWh)', '총량(KW)', '평균(KW)', '최대(시간별)', '최소(시간별)', '최대', '최소']\n",
      "[2025-10-22 13:02:16,787]✅ INFO -    샘플:\n",
      "       발전구분  호기         일자  1시 발전량(MWh)  2시 발전량(MWh)  3시 발전량(MWh)  \\\n",
      "0     영동태양광   1 2023-01-31          0.0          0.0            0   \n",
      "1  삼천포태양광#5   1 2023-01-31          0.0          0.0            0   \n",
      "\n",
      "   4시 발전량(MWh)  5시 발전량(MWh)  6시 발전량(MWh)  7시 발전량(MWh)  ...  21시 발전량(MWh)  \\\n",
      "0            0          0.0            0            0  ...       524.352   \n",
      "1            0          0.0            0            0  ...       248.406   \n",
      "\n",
      "   22시 발전량(MWh)  23시 발전량(MWh)  24시 발전량(MWh)     총량(KW)  평균(KW)  최대(시간별)  \\\n",
      "0           0.0           0.0           0.0   3959.424     165   690.43   \n",
      "1           0.0           0.0           0.0  20683.740     862  3242.95   \n",
      "\n",
      "   최소(시간별)        최대  최소  \n",
      "0   21.408   690.432   0  \n",
      "1    8.300  3242.954   0  \n",
      "\n",
      "[2 rows x 33 columns]\n"
     ]
    },
    {
     "name": "stderr",
     "output_type": "stream",
     "text": [
      "CSV 불러오기:  14%|█▍        | 13/90 [00:00<00:04, 16.99it/s]"
     ]
    },
    {
     "name": "stdout",
     "output_type": "stream",
     "text": [
      "[2025-10-22 13:02:16,813]✅ INFO - 📄 '남동발전량_2023_02.csv' 읽기 성공 (utf-8)\n",
      "[2025-10-22 13:02:16,821]✅ INFO - 📄 남동발전량_2023_02.csv 불러옴 (616행)\n"
     ]
    },
    {
     "name": "stderr",
     "output_type": "stream",
     "text": [
      "C:\\Users\\baesa\\AppData\\Local\\Temp\\ipykernel_23424\\4114509180.py:45: ParserWarning: Length of header or names does not match length of data. This leads to a loss of data with index_col=False.\n",
      "  df = pd.read_csv(path, encoding=\"utf-8\", delimiter=delim, index_col=False)\n"
     ]
    },
    {
     "name": "stdout",
     "output_type": "stream",
     "text": [
      "[2025-10-22 13:02:16,823]✅ INFO -    컬럼: ['발전구분', '호기', '일자', '1시 발전량(MWh)', '2시 발전량(MWh)', '3시 발전량(MWh)', '4시 발전량(MWh)', '5시 발전량(MWh)', '6시 발전량(MWh)', '7시 발전량(MWh)', '8시 발전량(MWh)', '9시 발전량(MWh)', '10시 발전량(MWh)', '11시 발전량(MWh)', '12시 발전량(MWh)', '13시 발전량(MWh)', '14시 발전량(MWh)', '15시 발전량(MWh)', '16시 발전량(MWh)', '17시 발전량(MWh)', '18시 발전량(MWh)', '19시 발전량(MWh)', '20시 발전량(MWh)', '21시 발전량(MWh)', '22시 발전량(MWh)', '23시 발전량(MWh)', '24시 발전량(MWh)', '총량(KW)', '평균(KW)', '최대(시간별)', '최소(시간별)', '최대', '최소']\n",
      "[2025-10-22 13:02:16,839]✅ INFO -    샘플:\n",
      "       발전구분  호기         일자  1시 발전량(MWh)  2시 발전량(MWh)  3시 발전량(MWh)  \\\n",
      "0     영동태양광   1 2023-02-28          0.0            0            0   \n",
      "1  삼천포태양광#5   1 2023-02-28          0.0            0            0   \n",
      "\n",
      "   4시 발전량(MWh)  5시 발전량(MWh)  6시 발전량(MWh)  7시 발전량(MWh)  ...  21시 발전량(MWh)  \\\n",
      "0            0            0            0            0  ...       372.384   \n",
      "1            0            0            0            0  ...      2506.508   \n",
      "\n",
      "   22시 발전량(MWh)  23시 발전량(MWh)  24시 발전량(MWh)     총량(KW)  평균(KW)  최대(시간별)  \\\n",
      "0         0.000           0.0           0.0   3674.592     153   690.24   \n",
      "1       925.532           0.0           0.0  23687.002     987  3076.49   \n",
      "\n",
      "   최소(시간별)        최대  최소  \n",
      "0    40.32   690.240   0  \n",
      "1    75.76  3076.492   0  \n",
      "\n",
      "[2 rows x 33 columns]\n"
     ]
    },
    {
     "name": "stderr",
     "output_type": "stream",
     "text": [
      "C:\\Users\\baesa\\AppData\\Local\\Temp\\ipykernel_23424\\4114509180.py:45: ParserWarning: Length of header or names does not match length of data. This leads to a loss of data with index_col=False.\n",
      "  df = pd.read_csv(path, encoding=\"utf-8\", delimiter=delim, index_col=False)\n"
     ]
    },
    {
     "name": "stdout",
     "output_type": "stream",
     "text": [
      "[2025-10-22 13:02:16,859]✅ INFO - 📄 '남동발전량_2023_03.csv' 읽기 성공 (utf-8)\n",
      "[2025-10-22 13:02:16,869]✅ INFO - 📄 남동발전량_2023_03.csv 불러옴 (682행)\n",
      "[2025-10-22 13:02:16,872]✅ INFO -    컬럼: ['발전구분', '호기', '일자', '1시 발전량(MWh)', '2시 발전량(MWh)', '3시 발전량(MWh)', '4시 발전량(MWh)', '5시 발전량(MWh)', '6시 발전량(MWh)', '7시 발전량(MWh)', '8시 발전량(MWh)', '9시 발전량(MWh)', '10시 발전량(MWh)', '11시 발전량(MWh)', '12시 발전량(MWh)', '13시 발전량(MWh)', '14시 발전량(MWh)', '15시 발전량(MWh)', '16시 발전량(MWh)', '17시 발전량(MWh)', '18시 발전량(MWh)', '19시 발전량(MWh)', '20시 발전량(MWh)', '21시 발전량(MWh)', '22시 발전량(MWh)', '23시 발전량(MWh)', '24시 발전량(MWh)', '총량(KW)', '평균(KW)', '최대(시간별)', '최소(시간별)', '최대', '최소']\n",
      "[2025-10-22 13:02:16,895]✅ INFO -    샘플:\n",
      "       발전구분  호기         일자  1시 발전량(MWh)  2시 발전량(MWh)  3시 발전량(MWh)  \\\n",
      "0     영동태양광   1 2023-03-31          0.0            0            0   \n",
      "1  삼천포태양광#5   1 2023-03-31          0.0            0            0   \n",
      "\n",
      "   4시 발전량(MWh)  5시 발전량(MWh)  6시 발전량(MWh)  7시 발전량(MWh)  ...  21시 발전량(MWh)  \\\n",
      "0            0            0            0        0.000  ...       651.360   \n",
      "1            0            0            0       25.311  ...      2531.053   \n",
      "\n",
      "   22시 발전량(MWh)  23시 발전량(MWh)  24시 발전량(MWh)     총량(KW)  평균(KW)  최대(시간별)  \\\n",
      "0        51.552           0.0           0.0   5309.088     221   690.62   \n",
      "1       997.958           0.0           0.0  23387.607     974  2795.58   \n",
      "\n",
      "   최소(시간별)        최대  최소  \n",
      "0   20.544   690.624   0  \n",
      "1   25.310  2795.581   0  \n",
      "\n",
      "[2 rows x 33 columns]\n"
     ]
    },
    {
     "name": "stderr",
     "output_type": "stream",
     "text": [
      "CSV 불러오기:  17%|█▋        | 15/90 [00:00<00:04, 17.42it/s]"
     ]
    },
    {
     "name": "stdout",
     "output_type": "stream",
     "text": [
      "[2025-10-22 13:02:16,920]✅ INFO - 📄 '남동발전량_2023_04.csv' 읽기 성공 (utf-8)\n",
      "[2025-10-22 13:02:16,931]✅ INFO - 📄 남동발전량_2023_04.csv 불러옴 (660행)\n",
      "[2025-10-22 13:02:16,933]✅ INFO -    컬럼: ['발전구분', '호기', '일자', '1시 발전량(MWh)', '2시 발전량(MWh)', '3시 발전량(MWh)', '4시 발전량(MWh)', '5시 발전량(MWh)', '6시 발전량(MWh)', '7시 발전량(MWh)', '8시 발전량(MWh)', '9시 발전량(MWh)', '10시 발전량(MWh)', '11시 발전량(MWh)', '12시 발전량(MWh)', '13시 발전량(MWh)', '14시 발전량(MWh)', '15시 발전량(MWh)', '16시 발전량(MWh)', '17시 발전량(MWh)', '18시 발전량(MWh)', '19시 발전량(MWh)', '20시 발전량(MWh)', '21시 발전량(MWh)', '22시 발전량(MWh)', '23시 발전량(MWh)', '24시 발전량(MWh)', '총량(KW)', '평균(KW)', '최대(시간별)', '최소(시간별)', '최대', '최소']\n",
      "[2025-10-22 13:02:16,960]✅ INFO -    샘플:\n",
      "       발전구분  호기         일자  1시 발전량(MWh)  2시 발전량(MWh)  3시 발전량(MWh)  \\\n",
      "0     영동태양광   1 2023-04-30          0.0            0            0   \n",
      "1  삼천포태양광#5   1 2023-04-30          0.0            0            0   \n",
      "\n",
      "   4시 발전량(MWh)  5시 발전량(MWh)  6시 발전량(MWh)  7시 발전량(MWh)  ...  21시 발전량(MWh)  \\\n",
      "0            0            0          0.0          0.0  ...           0.0   \n",
      "1            0            0          0.0          0.0  ...           0.0   \n",
      "\n",
      "   22시 발전량(MWh)  23시 발전량(MWh)  24시 발전량(MWh)  총량(KW)  평균(KW)  최대(시간별)  최소(시간별)  \\\n",
      "0           0.0           0.0           0.0     0.0       0      0.0      0.0   \n",
      "1           0.0           0.0           0.0     0.0       0      0.0      0.0   \n",
      "\n",
      "    최대  최소  \n",
      "0  0.0   0  \n",
      "1  0.0   0  \n",
      "\n",
      "[2 rows x 33 columns]\n",
      "[2025-10-22 13:02:16,984]✅ INFO - 📄 '남동발전량_2023_05.csv' 읽기 성공 (utf-8)\n"
     ]
    },
    {
     "name": "stderr",
     "output_type": "stream",
     "text": [
      "C:\\Users\\baesa\\AppData\\Local\\Temp\\ipykernel_23424\\4114509180.py:45: ParserWarning: Length of header or names does not match length of data. This leads to a loss of data with index_col=False.\n",
      "  df = pd.read_csv(path, encoding=\"utf-8\", delimiter=delim, index_col=False)\n",
      "C:\\Users\\baesa\\AppData\\Local\\Temp\\ipykernel_23424\\4114509180.py:45: ParserWarning: Length of header or names does not match length of data. This leads to a loss of data with index_col=False.\n",
      "  df = pd.read_csv(path, encoding=\"utf-8\", delimiter=delim, index_col=False)\n"
     ]
    },
    {
     "name": "stdout",
     "output_type": "stream",
     "text": [
      "[2025-10-22 13:02:16,996]✅ INFO - 📄 남동발전량_2023_05.csv 불러옴 (682행)\n",
      "[2025-10-22 13:02:16,997]✅ INFO -    컬럼: ['발전구분', '호기', '일자', '1시 발전량(MWh)', '2시 발전량(MWh)', '3시 발전량(MWh)', '4시 발전량(MWh)', '5시 발전량(MWh)', '6시 발전량(MWh)', '7시 발전량(MWh)', '8시 발전량(MWh)', '9시 발전량(MWh)', '10시 발전량(MWh)', '11시 발전량(MWh)', '12시 발전량(MWh)', '13시 발전량(MWh)', '14시 발전량(MWh)', '15시 발전량(MWh)', '16시 발전량(MWh)', '17시 발전량(MWh)', '18시 발전량(MWh)', '19시 발전량(MWh)', '20시 발전량(MWh)', '21시 발전량(MWh)', '22시 발전량(MWh)', '23시 발전량(MWh)', '24시 발전량(MWh)', '총량(KW)', '평균(KW)', '최대(시간별)', '최소(시간별)', '최대', '최소']\n",
      "[2025-10-22 13:02:17,019]✅ INFO -    샘플:\n",
      "       발전구분  호기         일자  1시 발전량(MWh)  2시 발전량(MWh)  3시 발전량(MWh)  \\\n",
      "0     영동태양광   1 2023-05-31          0.0            0            0   \n",
      "1  삼천포태양광#5   1 2023-05-31          0.0            0            0   \n",
      "\n",
      "   4시 발전량(MWh)  5시 발전량(MWh)  6시 발전량(MWh)  7시 발전량(MWh)  ...  21시 발전량(MWh)  \\\n",
      "0            0            0        0.000       16.224  ...       655.584   \n",
      "1            0            0        7.255      198.190  ...      2501.617   \n",
      "\n",
      "   22시 발전량(MWh)  23시 발전량(MWh)  24시 발전량(MWh)     총량(KW)  평균(KW)  최대(시간별)  \\\n",
      "0        54.528           0.0           0.0   5621.952     234   702.43   \n",
      "1       925.764           0.0           0.0  22423.751     934  2691.13   \n",
      "\n",
      "   최소(시간별)        최대  최소  \n",
      "0   16.224   702.432   0  \n",
      "1    7.250  2691.132   0  \n",
      "\n",
      "[2 rows x 33 columns]\n"
     ]
    },
    {
     "name": "stderr",
     "output_type": "stream",
     "text": [
      "CSV 불러오기:  19%|█▉        | 17/90 [00:01<00:04, 16.92it/s]"
     ]
    },
    {
     "name": "stdout",
     "output_type": "stream",
     "text": [
      "[2025-10-22 13:02:17,043]✅ INFO - 📄 '남동발전량_2023_06.csv' 읽기 성공 (utf-8)\n"
     ]
    },
    {
     "name": "stderr",
     "output_type": "stream",
     "text": [
      "C:\\Users\\baesa\\AppData\\Local\\Temp\\ipykernel_23424\\4114509180.py:45: ParserWarning: Length of header or names does not match length of data. This leads to a loss of data with index_col=False.\n",
      "  df = pd.read_csv(path, encoding=\"utf-8\", delimiter=delim, index_col=False)\n"
     ]
    },
    {
     "name": "stdout",
     "output_type": "stream",
     "text": [
      "[2025-10-22 13:02:17,053]✅ INFO - 📄 남동발전량_2023_06.csv 불러옴 (660행)\n",
      "[2025-10-22 13:02:17,054]✅ INFO -    컬럼: ['발전구분', '호기', '일자', '1시 발전량(MWh)', '2시 발전량(MWh)', '3시 발전량(MWh)', '4시 발전량(MWh)', '5시 발전량(MWh)', '6시 발전량(MWh)', '7시 발전량(MWh)', '8시 발전량(MWh)', '9시 발전량(MWh)', '10시 발전량(MWh)', '11시 발전량(MWh)', '12시 발전량(MWh)', '13시 발전량(MWh)', '14시 발전량(MWh)', '15시 발전량(MWh)', '16시 발전량(MWh)', '17시 발전량(MWh)', '18시 발전량(MWh)', '19시 발전량(MWh)', '20시 발전량(MWh)', '21시 발전량(MWh)', '22시 발전량(MWh)', '23시 발전량(MWh)', '24시 발전량(MWh)', '총량(KW)', '평균(KW)', '최대(시간별)', '최소(시간별)', '최대', '최소']\n",
      "[2025-10-22 13:02:17,070]✅ INFO -    샘플:\n",
      "       발전구분  호기         일자  1시 발전량(MWh)  2시 발전량(MWh)  3시 발전량(MWh)  \\\n",
      "0     영동태양광   1 2023-06-30          0.0            0            0   \n",
      "1  삼천포태양광#5   1 2023-06-30          0.0            0            0   \n",
      "\n",
      "   4시 발전량(MWh)  5시 발전량(MWh)  6시 발전량(MWh)  7시 발전량(MWh)  ...  21시 발전량(MWh)  \\\n",
      "0            0            0          0.0          0.0  ...         2.016   \n",
      "1            0            0          0.0          0.0  ...         0.000   \n",
      "\n",
      "   22시 발전량(MWh)  23시 발전량(MWh)  24시 발전량(MWh)    총량(KW)  평균(KW)  최대(시간별)  \\\n",
      "0           0.0             0           0.0  1559.904      65   685.82   \n",
      "1           0.0             0           0.0  2754.178     115  1138.15   \n",
      "\n",
      "   최소(시간별)        최대  최소  \n",
      "0    2.016   685.824   0  \n",
      "1    0.745  1138.158   0  \n",
      "\n",
      "[2 rows x 33 columns]\n"
     ]
    },
    {
     "name": "stderr",
     "output_type": "stream",
     "text": [
      "C:\\Users\\baesa\\AppData\\Local\\Temp\\ipykernel_23424\\4114509180.py:45: ParserWarning: Length of header or names does not match length of data. This leads to a loss of data with index_col=False.\n",
      "  df = pd.read_csv(path, encoding=\"utf-8\", delimiter=delim, index_col=False)\n"
     ]
    },
    {
     "name": "stdout",
     "output_type": "stream",
     "text": [
      "[2025-10-22 13:02:17,090]✅ INFO - 📄 '남동발전량_2023_07.csv' 읽기 성공 (utf-8)\n",
      "[2025-10-22 13:02:17,101]✅ INFO - 📄 남동발전량_2023_07.csv 불러옴 (682행)\n",
      "[2025-10-22 13:02:17,105]✅ INFO -    컬럼: ['발전구분', '호기', '일자', '1시 발전량(MWh)', '2시 발전량(MWh)', '3시 발전량(MWh)', '4시 발전량(MWh)', '5시 발전량(MWh)', '6시 발전량(MWh)', '7시 발전량(MWh)', '8시 발전량(MWh)', '9시 발전량(MWh)', '10시 발전량(MWh)', '11시 발전량(MWh)', '12시 발전량(MWh)', '13시 발전량(MWh)', '14시 발전량(MWh)', '15시 발전량(MWh)', '16시 발전량(MWh)', '17시 발전량(MWh)', '18시 발전량(MWh)', '19시 발전량(MWh)', '20시 발전량(MWh)', '21시 발전량(MWh)', '22시 발전량(MWh)', '23시 발전량(MWh)', '24시 발전량(MWh)', '총량(KW)', '평균(KW)', '최대(시간별)', '최소(시간별)', '최대', '최소']\n",
      "[2025-10-22 13:02:17,133]✅ INFO -    샘플:\n",
      "       발전구분  호기         일자  1시 발전량(MWh)  2시 발전량(MWh)  3시 발전량(MWh)  \\\n",
      "0     영동태양광   1 2023-07-31            0            0            0   \n",
      "1  삼천포태양광#5   1 2023-07-31            0            0            0   \n",
      "\n",
      "   4시 발전량(MWh)  5시 발전량(MWh)  6시 발전량(MWh)  7시 발전량(MWh)  ...  21시 발전량(MWh)  \\\n",
      "0            0            0          0.0        0.000  ...       378.048   \n",
      "1            0            0          0.0       76.551  ...       129.004   \n",
      "\n",
      "   22시 발전량(MWh)  23시 발전량(MWh)  24시 발전량(MWh)     총량(KW)  평균(KW)  최대(시간별)  \\\n",
      "0           0.0             0           0.0   4056.672     169   686.68   \n",
      "1           0.0             0           0.0  18825.925     784  2529.31   \n",
      "\n",
      "   최소(시간별)        최대  최소  \n",
      "0   11.136   686.688   0  \n",
      "1   76.550  2529.314   0  \n",
      "\n",
      "[2 rows x 33 columns]\n"
     ]
    },
    {
     "name": "stderr",
     "output_type": "stream",
     "text": [
      "CSV 불러오기:  21%|██        | 19/90 [00:01<00:04, 17.28it/s]"
     ]
    },
    {
     "name": "stdout",
     "output_type": "stream",
     "text": [
      "[2025-10-22 13:02:17,153]✅ INFO - 📄 '남동발전량_2023_08.csv' 읽기 성공 (utf-8)\n",
      "[2025-10-22 13:02:17,166]✅ INFO - 📄 남동발전량_2023_08.csv 불러옴 (682행)\n",
      "[2025-10-22 13:02:17,172]✅ INFO -    컬럼: ['발전구분', '호기', '일자', '1시 발전량(MWh)', '2시 발전량(MWh)', '3시 발전량(MWh)', '4시 발전량(MWh)', '5시 발전량(MWh)', '6시 발전량(MWh)', '7시 발전량(MWh)', '8시 발전량(MWh)', '9시 발전량(MWh)', '10시 발전량(MWh)', '11시 발전량(MWh)', '12시 발전량(MWh)', '13시 발전량(MWh)', '14시 발전량(MWh)', '15시 발전량(MWh)', '16시 발전량(MWh)', '17시 발전량(MWh)', '18시 발전량(MWh)', '19시 발전량(MWh)', '20시 발전량(MWh)', '21시 발전량(MWh)', '22시 발전량(MWh)', '23시 발전량(MWh)', '24시 발전량(MWh)', '총량(KW)', '평균(KW)', '최대(시간별)', '최소(시간별)', '최대', '최소']\n",
      "[2025-10-22 13:02:17,198]✅ INFO -    샘플:\n",
      "       발전구분  호기         일자  1시 발전량(MWh)  2시 발전량(MWh)  3시 발전량(MWh)  \\\n",
      "0     영동태양광   1 2023-08-31            0            0            0   \n",
      "1  삼천포태양광#5   1 2023-08-31            0            0            0   \n",
      "\n",
      "   4시 발전량(MWh)  5시 발전량(MWh)  6시 발전량(MWh)  7시 발전량(MWh)  ...  21시 발전량(MWh)  \\\n",
      "0            0            0          0.0        0.000  ...         324.0   \n",
      "1            0            0          0.0        0.723  ...           0.0   \n",
      "\n",
      "   22시 발전량(MWh)  23시 발전량(MWh)  24시 발전량(MWh)     총량(KW)  평균(KW)  최대(시간별)  \\\n",
      "0           0.0             0           0.0   3714.432     155   686.49   \n",
      "1           0.0             0           0.0  11819.080     492  2538.64   \n",
      "\n",
      "   최소(시간별)        최대  최소  \n",
      "0    1.056   686.496   0  \n",
      "1    0.720  2538.646   0  \n",
      "\n",
      "[2 rows x 33 columns]\n"
     ]
    },
    {
     "name": "stderr",
     "output_type": "stream",
     "text": [
      "C:\\Users\\baesa\\AppData\\Local\\Temp\\ipykernel_23424\\4114509180.py:45: ParserWarning: Length of header or names does not match length of data. This leads to a loss of data with index_col=False.\n",
      "  df = pd.read_csv(path, encoding=\"utf-8\", delimiter=delim, index_col=False)\n",
      "C:\\Users\\baesa\\AppData\\Local\\Temp\\ipykernel_23424\\4114509180.py:45: ParserWarning: Length of header or names does not match length of data. This leads to a loss of data with index_col=False.\n",
      "  df = pd.read_csv(path, encoding=\"utf-8\", delimiter=delim, index_col=False)\n"
     ]
    },
    {
     "name": "stdout",
     "output_type": "stream",
     "text": [
      "[2025-10-22 13:02:17,219]✅ INFO - 📄 '남동발전량_2023_09.csv' 읽기 성공 (utf-8)\n",
      "[2025-10-22 13:02:17,231]✅ INFO - 📄 남동발전량_2023_09.csv 불러옴 (690행)\n",
      "[2025-10-22 13:02:17,233]✅ INFO -    컬럼: ['발전구분', '호기', '일자', '1시 발전량(MWh)', '2시 발전량(MWh)', '3시 발전량(MWh)', '4시 발전량(MWh)', '5시 발전량(MWh)', '6시 발전량(MWh)', '7시 발전량(MWh)', '8시 발전량(MWh)', '9시 발전량(MWh)', '10시 발전량(MWh)', '11시 발전량(MWh)', '12시 발전량(MWh)', '13시 발전량(MWh)', '14시 발전량(MWh)', '15시 발전량(MWh)', '16시 발전량(MWh)', '17시 발전량(MWh)', '18시 발전량(MWh)', '19시 발전량(MWh)', '20시 발전량(MWh)', '21시 발전량(MWh)', '22시 발전량(MWh)', '23시 발전량(MWh)', '24시 발전량(MWh)', '총량(KW)', '평균(KW)', '최대(시간별)', '최소(시간별)', '최대', '최소']\n",
      "[2025-10-22 13:02:17,253]✅ INFO -    샘플:\n",
      "       발전구분  호기         일자  1시 발전량(MWh)  2시 발전량(MWh)  3시 발전량(MWh)  \\\n",
      "0     영동태양광   1 2023-09-30            0            0            0   \n",
      "1  삼천포태양광#5   1 2023-09-30            0            0            0   \n",
      "\n",
      "   4시 발전량(MWh)  5시 발전량(MWh)  6시 발전량(MWh)  7시 발전량(MWh)  ...  21시 발전량(MWh)  \\\n",
      "0            0            0          0.0          0.0  ...           0.0   \n",
      "1            0            0          0.0          0.0  ...           0.0   \n",
      "\n",
      "   22시 발전량(MWh)  23시 발전량(MWh)  24시 발전량(MWh)  총량(KW)  평균(KW)  최대(시간별)  최소(시간별)  \\\n",
      "0           0.0             0           0.0     0.0       0      0.0      0.0   \n",
      "1           0.0             0           0.0     0.0       0      0.0      0.0   \n",
      "\n",
      "    최대  최소  \n",
      "0  0.0   0  \n",
      "1  0.0   0  \n",
      "\n",
      "[2 rows x 33 columns]\n"
     ]
    },
    {
     "name": "stderr",
     "output_type": "stream",
     "text": [
      "CSV 불러오기:  23%|██▎       | 21/90 [00:01<00:04, 16.99it/s]"
     ]
    },
    {
     "name": "stdout",
     "output_type": "stream",
     "text": [
      "[2025-10-22 13:02:17,276]✅ INFO - 📄 '남동발전량_2023_10.csv' 읽기 성공 (utf-8)\n",
      "[2025-10-22 13:02:17,286]✅ INFO - 📄 남동발전량_2023_10.csv 불러옴 (713행)\n",
      "[2025-10-22 13:02:17,288]✅ INFO -    컬럼: ['발전구분', '호기', '일자', '1시 발전량(MWh)', '2시 발전량(MWh)', '3시 발전량(MWh)', '4시 발전량(MWh)', '5시 발전량(MWh)', '6시 발전량(MWh)', '7시 발전량(MWh)', '8시 발전량(MWh)', '9시 발전량(MWh)', '10시 발전량(MWh)', '11시 발전량(MWh)', '12시 발전량(MWh)', '13시 발전량(MWh)', '14시 발전량(MWh)', '15시 발전량(MWh)', '16시 발전량(MWh)', '17시 발전량(MWh)', '18시 발전량(MWh)', '19시 발전량(MWh)', '20시 발전량(MWh)', '21시 발전량(MWh)', '22시 발전량(MWh)', '23시 발전량(MWh)', '24시 발전량(MWh)', '총량(KW)', '평균(KW)', '최대(시간별)', '최소(시간별)', '최대', '최소']\n",
      "[2025-10-22 13:02:17,304]✅ INFO -    샘플:\n",
      "       발전구분  호기         일자  1시 발전량(MWh)  2시 발전량(MWh)  3시 발전량(MWh)  \\\n",
      "0     영동태양광   1 2023-10-31            0            0            0   \n",
      "1  삼천포태양광#5   1 2023-10-31            0            0            0   \n",
      "\n",
      "   4시 발전량(MWh)  5시 발전량(MWh)  6시 발전량(MWh)  7시 발전량(MWh)  ...  21시 발전량(MWh)  \\\n",
      "0            0            0            0          0.0  ...       257.472   \n",
      "1            0            0            0          0.0  ...         0.000   \n",
      "\n",
      "   22시 발전량(MWh)  23시 발전량(MWh)  24시 발전량(MWh)     총량(KW)  평균(KW)  최대(시간별)  \\\n",
      "0             0             0           0.0   4471.488     186   691.96   \n",
      "1             0             0           0.0  18899.749     787  2825.01   \n",
      "\n",
      "   최소(시간별)        최대  최소  \n",
      "0    0.570   691.968   0  \n",
      "1   95.775  2825.016   0  \n",
      "\n",
      "[2 rows x 33 columns]\n",
      "[2025-10-22 13:02:17,322]✅ INFO - 📄 '남동발전량_2023_11.csv' 읽기 성공 (utf-8)\n"
     ]
    },
    {
     "name": "stderr",
     "output_type": "stream",
     "text": [
      "C:\\Users\\baesa\\AppData\\Local\\Temp\\ipykernel_23424\\4114509180.py:45: ParserWarning: Length of header or names does not match length of data. This leads to a loss of data with index_col=False.\n",
      "  df = pd.read_csv(path, encoding=\"utf-8\", delimiter=delim, index_col=False)\n",
      "C:\\Users\\baesa\\AppData\\Local\\Temp\\ipykernel_23424\\4114509180.py:45: ParserWarning: Length of header or names does not match length of data. This leads to a loss of data with index_col=False.\n",
      "  df = pd.read_csv(path, encoding=\"utf-8\", delimiter=delim, index_col=False)\n"
     ]
    },
    {
     "name": "stdout",
     "output_type": "stream",
     "text": [
      "[2025-10-22 13:02:17,330]✅ INFO - 📄 남동발전량_2023_11.csv 불러옴 (690행)\n",
      "[2025-10-22 13:02:17,333]✅ INFO -    컬럼: ['발전구분', '호기', '일자', '1시 발전량(MWh)', '2시 발전량(MWh)', '3시 발전량(MWh)', '4시 발전량(MWh)', '5시 발전량(MWh)', '6시 발전량(MWh)', '7시 발전량(MWh)', '8시 발전량(MWh)', '9시 발전량(MWh)', '10시 발전량(MWh)', '11시 발전량(MWh)', '12시 발전량(MWh)', '13시 발전량(MWh)', '14시 발전량(MWh)', '15시 발전량(MWh)', '16시 발전량(MWh)', '17시 발전량(MWh)', '18시 발전량(MWh)', '19시 발전량(MWh)', '20시 발전량(MWh)', '21시 발전량(MWh)', '22시 발전량(MWh)', '23시 발전량(MWh)', '24시 발전량(MWh)', '총량(KW)', '평균(KW)', '최대(시간별)', '최소(시간별)', '최대', '최소']\n",
      "[2025-10-22 13:02:17,351]✅ INFO -    샘플:\n",
      "       발전구분  호기         일자  1시 발전량(MWh)  2시 발전량(MWh)  3시 발전량(MWh)  \\\n",
      "0     영동태양광   1 2023-11-30          0.0            0            0   \n",
      "1  삼천포태양광#5   1 2023-11-30          0.0            0            0   \n",
      "\n",
      "   4시 발전량(MWh)  5시 발전량(MWh)  6시 발전량(MWh)  7시 발전량(MWh)  ...  21시 발전량(MWh)  \\\n",
      "0            0            0            0          0.0  ...       139.488   \n",
      "1            0            0            0          0.0  ...         0.000   \n",
      "\n",
      "   22시 발전량(MWh)  23시 발전량(MWh)  24시 발전량(MWh)     총량(KW)  평균(KW)  최대(시간별)  \\\n",
      "0           0.0           0.0           0.0   4202.112     175   691.58   \n",
      "1           0.0           0.0           0.0  17982.045     749  3092.22   \n",
      "\n",
      "   최소(시간별)        최대  최소  \n",
      "0    9.408   691.584   0  \n",
      "1   22.770  3092.223   0  \n",
      "\n",
      "[2 rows x 33 columns]\n",
      "[2025-10-22 13:02:17,371]✅ INFO - 📄 '남동발전량_2023_12.csv' 읽기 성공 (utf-8)\n",
      "[2025-10-22 13:02:17,380]✅ INFO - 📄 남동발전량_2023_12.csv 불러옴 (713행)\n",
      "[2025-10-22 13:02:17,382]✅ INFO -    컬럼: ['발전구분', '호기', '일자', '1시 발전량(MWh)', '2시 발전량(MWh)', '3시 발전량(MWh)', '4시 발전량(MWh)', '5시 발전량(MWh)', '6시 발전량(MWh)', '7시 발전량(MWh)', '8시 발전량(MWh)', '9시 발전량(MWh)', '10시 발전량(MWh)', '11시 발전량(MWh)', '12시 발전량(MWh)', '13시 발전량(MWh)', '14시 발전량(MWh)', '15시 발전량(MWh)', '16시 발전량(MWh)', '17시 발전량(MWh)', '18시 발전량(MWh)', '19시 발전량(MWh)', '20시 발전량(MWh)', '21시 발전량(MWh)', '22시 발전량(MWh)', '23시 발전량(MWh)', '24시 발전량(MWh)', '총량(KW)', '평균(KW)', '최대(시간별)', '최소(시간별)', '최대', '최소']\n",
      "[2025-10-22 13:02:17,398]✅ INFO -    샘플:\n",
      "       발전구분  호기         일자  1시 발전량(MWh)  2시 발전량(MWh)  3시 발전량(MWh)  \\\n",
      "0     영동태양광   1 2023-12-31            0            0            0   \n",
      "1  삼천포태양광#5   1 2023-12-31            0            0            0   \n",
      "\n",
      "   4시 발전량(MWh)  5시 발전량(MWh)  6시 발전량(MWh)  7시 발전량(MWh)  ...  21시 발전량(MWh)  \\\n",
      "0            0            0            0            0  ...           0.0   \n",
      "1            0            0            0            0  ...           0.0   \n",
      "\n",
      "   22시 발전량(MWh)  23시 발전량(MWh)  24시 발전량(MWh)     총량(KW)  평균(KW)  최대(시간별)  \\\n",
      "0             0             0           0.0    118.464       5    20.73   \n",
      "1             0             0           0.0  13975.292     582  2517.44   \n",
      "\n",
      "   최소(시간별)        최대  최소  \n",
      "0    6.240    20.736   0  \n",
      "1    0.376  2517.445   0  \n",
      "\n",
      "[2 rows x 33 columns]\n"
     ]
    },
    {
     "name": "stderr",
     "output_type": "stream",
     "text": [
      "C:\\Users\\baesa\\AppData\\Local\\Temp\\ipykernel_23424\\4114509180.py:45: ParserWarning: Length of header or names does not match length of data. This leads to a loss of data with index_col=False.\n",
      "  df = pd.read_csv(path, encoding=\"utf-8\", delimiter=delim, index_col=False)\n",
      "CSV 불러오기:  27%|██▋       | 24/90 [00:01<00:03, 18.35it/s]"
     ]
    },
    {
     "name": "stdout",
     "output_type": "stream",
     "text": [
      "[2025-10-22 13:02:17,419]✅ INFO - 📄 '남동발전량_2024_01.csv' 읽기 성공 (utf-8)\n",
      "[2025-10-22 13:02:17,426]✅ INFO - 📄 남동발전량_2024_01.csv 불러옴 (713행)\n",
      "[2025-10-22 13:02:17,427]✅ INFO -    컬럼: ['발전구분', '호기', '일자', '1시 발전량(MWh)', '2시 발전량(MWh)', '3시 발전량(MWh)', '4시 발전량(MWh)', '5시 발전량(MWh)', '6시 발전량(MWh)', '7시 발전량(MWh)', '8시 발전량(MWh)', '9시 발전량(MWh)', '10시 발전량(MWh)', '11시 발전량(MWh)', '12시 발전량(MWh)', '13시 발전량(MWh)', '14시 발전량(MWh)', '15시 발전량(MWh)', '16시 발전량(MWh)', '17시 발전량(MWh)', '18시 발전량(MWh)', '19시 발전량(MWh)', '20시 발전량(MWh)', '21시 발전량(MWh)', '22시 발전량(MWh)', '23시 발전량(MWh)', '24시 발전량(MWh)', '총량(KW)', '평균(KW)', '최대(시간별)', '최소(시간별)', '최대', '최소']\n",
      "[2025-10-22 13:02:17,438]✅ INFO -    샘플:\n",
      "       발전구분  호기         일자  1시 발전량(MWh)  2시 발전량(MWh)  3시 발전량(MWh)  \\\n",
      "0     영동태양광   1 2024-01-31            0            0            0   \n",
      "1  삼천포태양광#5   1 2024-01-31            0            0            0   \n",
      "\n",
      "   4시 발전량(MWh)  5시 발전량(MWh)  6시 발전량(MWh)  7시 발전량(MWh)  ...  21시 발전량(MWh)  \\\n",
      "0            0            0            0            0  ...       316.224   \n",
      "1            0            0            0            0  ...         0.000   \n",
      "\n",
      "   22시 발전량(MWh)  23시 발전량(MWh)  24시 발전량(MWh)     총량(KW)  평균(KW)  최대(시간별)  \\\n",
      "0             0             0           0.0   4267.680     178   700.80   \n",
      "1             0             0           0.0  11619.727     484  2531.31   \n",
      "\n",
      "   최소(시간별)        최대  최소  \n",
      "0    1.536   700.800   0  \n",
      "1   40.810  2531.311   0  \n",
      "\n",
      "[2 rows x 33 columns]\n"
     ]
    },
    {
     "name": "stderr",
     "output_type": "stream",
     "text": [
      "C:\\Users\\baesa\\AppData\\Local\\Temp\\ipykernel_23424\\4114509180.py:45: ParserWarning: Length of header or names does not match length of data. This leads to a loss of data with index_col=False.\n",
      "  df = pd.read_csv(path, encoding=\"utf-8\", delimiter=delim, index_col=False)\n"
     ]
    },
    {
     "name": "stdout",
     "output_type": "stream",
     "text": [
      "[2025-10-22 13:02:17,455]✅ INFO - 📄 '남동발전량_2024_02.csv' 읽기 성공 (utf-8)\n"
     ]
    },
    {
     "name": "stderr",
     "output_type": "stream",
     "text": [
      "C:\\Users\\baesa\\AppData\\Local\\Temp\\ipykernel_23424\\4114509180.py:45: ParserWarning: Length of header or names does not match length of data. This leads to a loss of data with index_col=False.\n",
      "  df = pd.read_csv(path, encoding=\"utf-8\", delimiter=delim, index_col=False)\n"
     ]
    },
    {
     "name": "stdout",
     "output_type": "stream",
     "text": [
      "[2025-10-22 13:02:17,477]✅ INFO - 📄 남동발전량_2024_02.csv 불러옴 (667행)\n",
      "[2025-10-22 13:02:17,486]✅ INFO -    컬럼: ['발전구분', '호기', '일자', '1시 발전량(MWh)', '2시 발전량(MWh)', '3시 발전량(MWh)', '4시 발전량(MWh)', '5시 발전량(MWh)', '6시 발전량(MWh)', '7시 발전량(MWh)', '8시 발전량(MWh)', '9시 발전량(MWh)', '10시 발전량(MWh)', '11시 발전량(MWh)', '12시 발전량(MWh)', '13시 발전량(MWh)', '14시 발전량(MWh)', '15시 발전량(MWh)', '16시 발전량(MWh)', '17시 발전량(MWh)', '18시 발전량(MWh)', '19시 발전량(MWh)', '20시 발전량(MWh)', '21시 발전량(MWh)', '22시 발전량(MWh)', '23시 발전량(MWh)', '24시 발전량(MWh)', '총량(KW)', '평균(KW)', '최대(시간별)', '최소(시간별)', '최대', '최소']\n",
      "[2025-10-22 13:02:17,506]✅ INFO -    샘플:\n",
      "       발전구분  호기         일자  1시 발전량(MWh)  2시 발전량(MWh)  3시 발전량(MWh)  \\\n",
      "0     영동태양광   1 2024-02-29            0            0            0   \n",
      "1  삼천포태양광#5   1 2024-02-29            0            0            0   \n",
      "\n",
      "   4시 발전량(MWh)  5시 발전량(MWh)  6시 발전량(MWh)  7시 발전량(MWh)  ...  21시 발전량(MWh)  \\\n",
      "0            0            0            0          0.0  ...           0.0   \n",
      "1            0            0            0          0.0  ...           0.0   \n",
      "\n",
      "   22시 발전량(MWh)  23시 발전량(MWh)  24시 발전량(MWh)    총량(KW)  평균(KW)  최대(시간별)  \\\n",
      "0           0.0             0           0.0  1442.688      60   691.58   \n",
      "1           0.0             0           0.0  2091.211      87   765.44   \n",
      "\n",
      "   최소(시간별)       최대  최소  \n",
      "0   21.024  691.584   0  \n",
      "1    4.683  765.444   0  \n",
      "\n",
      "[2 rows x 33 columns]\n"
     ]
    },
    {
     "name": "stderr",
     "output_type": "stream",
     "text": [
      "CSV 불러오기:  29%|██▉       | 26/90 [00:01<00:03, 18.15it/s]"
     ]
    },
    {
     "name": "stdout",
     "output_type": "stream",
     "text": [
      "[2025-10-22 13:02:17,533]✅ INFO - 📄 '남동발전량_2024_03.csv' 읽기 성공 (utf-8)\n",
      "[2025-10-22 13:02:17,543]✅ INFO - 📄 남동발전량_2024_03.csv 불러옴 (713행)\n",
      "[2025-10-22 13:02:17,547]✅ INFO -    컬럼: ['발전구분', '호기', '일자', '1시 발전량(MWh)', '2시 발전량(MWh)', '3시 발전량(MWh)', '4시 발전량(MWh)', '5시 발전량(MWh)', '6시 발전량(MWh)', '7시 발전량(MWh)', '8시 발전량(MWh)', '9시 발전량(MWh)', '10시 발전량(MWh)', '11시 발전량(MWh)', '12시 발전량(MWh)', '13시 발전량(MWh)', '14시 발전량(MWh)', '15시 발전량(MWh)', '16시 발전량(MWh)', '17시 발전량(MWh)', '18시 발전량(MWh)', '19시 발전량(MWh)', '20시 발전량(MWh)', '21시 발전량(MWh)', '22시 발전량(MWh)', '23시 발전량(MWh)', '24시 발전량(MWh)', '총량(KW)', '평균(KW)', '최대(시간별)', '최소(시간별)', '최대', '최소']\n"
     ]
    },
    {
     "name": "stderr",
     "output_type": "stream",
     "text": [
      "C:\\Users\\baesa\\AppData\\Local\\Temp\\ipykernel_23424\\4114509180.py:45: ParserWarning: Length of header or names does not match length of data. This leads to a loss of data with index_col=False.\n",
      "  df = pd.read_csv(path, encoding=\"utf-8\", delimiter=delim, index_col=False)\n"
     ]
    },
    {
     "name": "stdout",
     "output_type": "stream",
     "text": [
      "[2025-10-22 13:02:17,565]✅ INFO -    샘플:\n",
      "       발전구분  호기         일자  1시 발전량(MWh)  2시 발전량(MWh)  3시 발전량(MWh)  \\\n",
      "0     영동태양광   1 2024-03-31            0            0            0   \n",
      "1  삼천포태양광#5   1 2024-03-31            0            0            0   \n",
      "\n",
      "   4시 발전량(MWh)  5시 발전량(MWh)  6시 발전량(MWh)  7시 발전량(MWh)  ...  21시 발전량(MWh)  \\\n",
      "0            0            0            0        0.000  ...       547.584   \n",
      "1            0            0            0       22.497  ...         0.000   \n",
      "\n",
      "   22시 발전량(MWh)  23시 발전량(MWh)  24시 발전량(MWh)     총량(KW)  평균(KW)  최대(시간별)  \\\n",
      "0           0.0             0           0.0   5219.616     217   864.38   \n",
      "1           0.0             0           0.0  15105.057     629  2530.88   \n",
      "\n",
      "   최소(시간별)        최대  최소  \n",
      "0    10.08   864.384   0  \n",
      "1    22.49  2530.883   0  \n",
      "\n",
      "[2 rows x 33 columns]\n",
      "[2025-10-22 13:02:17,584]✅ INFO - 📄 '남동발전량_2024_04.csv' 읽기 성공 (utf-8)\n"
     ]
    },
    {
     "name": "stderr",
     "output_type": "stream",
     "text": [
      "C:\\Users\\baesa\\AppData\\Local\\Temp\\ipykernel_23424\\4114509180.py:45: ParserWarning: Length of header or names does not match length of data. This leads to a loss of data with index_col=False.\n",
      "  df = pd.read_csv(path, encoding=\"utf-8\", delimiter=delim, index_col=False)\n"
     ]
    },
    {
     "name": "stdout",
     "output_type": "stream",
     "text": [
      "[2025-10-22 13:02:17,596]✅ INFO - 📄 남동발전량_2024_04.csv 불러옴 (690행)\n",
      "[2025-10-22 13:02:17,599]✅ INFO -    컬럼: ['발전구분', '호기', '일자', '1시 발전량(MWh)', '2시 발전량(MWh)', '3시 발전량(MWh)', '4시 발전량(MWh)', '5시 발전량(MWh)', '6시 발전량(MWh)', '7시 발전량(MWh)', '8시 발전량(MWh)', '9시 발전량(MWh)', '10시 발전량(MWh)', '11시 발전량(MWh)', '12시 발전량(MWh)', '13시 발전량(MWh)', '14시 발전량(MWh)', '15시 발전량(MWh)', '16시 발전량(MWh)', '17시 발전량(MWh)', '18시 발전량(MWh)', '19시 발전량(MWh)', '20시 발전량(MWh)', '21시 발전량(MWh)', '22시 발전량(MWh)', '23시 발전량(MWh)', '24시 발전량(MWh)', '총량(KW)', '평균(KW)', '최대(시간별)', '최소(시간별)', '최대', '최소']\n",
      "[2025-10-22 13:02:17,619]✅ INFO -    샘플:\n",
      "       발전구분  호기         일자  1시 발전량(MWh)  2시 발전량(MWh)  3시 발전량(MWh)  \\\n",
      "0     영동태양광   1 2024-04-30            0            0            0   \n",
      "1  삼천포태양광#5   1 2024-04-30            0            0            0   \n",
      "\n",
      "   4시 발전량(MWh)  5시 발전량(MWh)  6시 발전량(MWh)  7시 발전량(MWh)  ...  21시 발전량(MWh)  \\\n",
      "0            0            0          0.0        0.096  ...           0.0   \n",
      "1            0            0          0.0        2.019  ...           0.0   \n",
      "\n",
      "   22시 발전량(MWh)  23시 발전량(MWh)  24시 발전량(MWh)    총량(KW)  평균(KW)  최대(시간별)  \\\n",
      "0           0.0             0           0.0  1859.808      77   685.05   \n",
      "1           0.0             0           0.0  9211.831     384  2534.35   \n",
      "\n",
      "   최소(시간별)        최대  최소  \n",
      "0    0.096   685.056   0  \n",
      "1    2.019  2534.350   0  \n",
      "\n",
      "[2 rows x 33 columns]\n"
     ]
    },
    {
     "name": "stderr",
     "output_type": "stream",
     "text": [
      "CSV 불러오기:  31%|███       | 28/90 [00:01<00:03, 18.29it/s]C:\\Users\\baesa\\AppData\\Local\\Temp\\ipykernel_23424\\4114509180.py:45: ParserWarning: Length of header or names does not match length of data. This leads to a loss of data with index_col=False.\n",
      "  df = pd.read_csv(path, encoding=\"utf-8\", delimiter=delim, index_col=False)\n"
     ]
    },
    {
     "name": "stdout",
     "output_type": "stream",
     "text": [
      "[2025-10-22 13:02:17,648]✅ INFO - 📄 '남동발전량_2024_05.csv' 읽기 성공 (utf-8)\n",
      "[2025-10-22 13:02:17,659]✅ INFO - 📄 남동발전량_2024_05.csv 불러옴 (705행)\n",
      "[2025-10-22 13:02:17,660]✅ INFO -    컬럼: ['발전구분', '호기', '일자', '1시 발전량(MWh)', '2시 발전량(MWh)', '3시 발전량(MWh)', '4시 발전량(MWh)', '5시 발전량(MWh)', '6시 발전량(MWh)', '7시 발전량(MWh)', '8시 발전량(MWh)', '9시 발전량(MWh)', '10시 발전량(MWh)', '11시 발전량(MWh)', '12시 발전량(MWh)', '13시 발전량(MWh)', '14시 발전량(MWh)', '15시 발전량(MWh)', '16시 발전량(MWh)', '17시 발전량(MWh)', '18시 발전량(MWh)', '19시 발전량(MWh)', '20시 발전량(MWh)', '21시 발전량(MWh)', '22시 발전량(MWh)', '23시 발전량(MWh)', '24시 발전량(MWh)', '총량(KW)', '평균(KW)', '최대(시간별)', '최소(시간별)', '최대', '최소']\n",
      "[2025-10-22 13:02:17,687]✅ INFO -    샘플:\n",
      "       발전구분  호기         일자  1시 발전량(MWh)  2시 발전량(MWh)  3시 발전량(MWh)  \\\n",
      "0     영동태양광   1 2024-05-31            0            0            0   \n",
      "1  삼천포태양광#5   1 2024-05-31            0            0            0   \n",
      "\n",
      "   4시 발전량(MWh)  5시 발전량(MWh)  6시 발전량(MWh)  7시 발전량(MWh)  ...  21시 발전량(MWh)  \\\n",
      "0            0            0        0.000         5.28  ...       677.664   \n",
      "1            0            0        0.106        91.96  ...         0.000   \n",
      "\n",
      "   22시 발전량(MWh)  23시 발전량(MWh)  24시 발전량(MWh)     총량(KW)  평균(KW)  최대(시간별)  \\\n",
      "0       167.616             0           0.0   6014.688     251   813.88   \n",
      "1         0.000             0           0.0  15400.094     642  2536.80   \n",
      "\n",
      "   최소(시간별)        최대  최소  \n",
      "0     5.28   813.888   0  \n",
      "1     0.10  2536.806   0  \n",
      "\n",
      "[2 rows x 33 columns]\n"
     ]
    },
    {
     "name": "stderr",
     "output_type": "stream",
     "text": [
      "C:\\Users\\baesa\\AppData\\Local\\Temp\\ipykernel_23424\\4114509180.py:45: ParserWarning: Length of header or names does not match length of data. This leads to a loss of data with index_col=False.\n",
      "  df = pd.read_csv(path, encoding=\"utf-8\", delimiter=delim, index_col=False)\n"
     ]
    },
    {
     "name": "stdout",
     "output_type": "stream",
     "text": [
      "[2025-10-22 13:02:17,710]✅ INFO - 📄 '남동발전량_2024_06.csv' 읽기 성공 (utf-8)\n",
      "[2025-10-22 13:02:17,721]✅ INFO - 📄 남동발전량_2024_06.csv 불러옴 (660행)\n",
      "[2025-10-22 13:02:17,725]✅ INFO -    컬럼: ['발전구분', '호기', '일자', '1시 발전량(MWh)', '2시 발전량(MWh)', '3시 발전량(MWh)', '4시 발전량(MWh)', '5시 발전량(MWh)', '6시 발전량(MWh)', '7시 발전량(MWh)', '8시 발전량(MWh)', '9시 발전량(MWh)', '10시 발전량(MWh)', '11시 발전량(MWh)', '12시 발전량(MWh)', '13시 발전량(MWh)', '14시 발전량(MWh)', '15시 발전량(MWh)', '16시 발전량(MWh)', '17시 발전량(MWh)', '18시 발전량(MWh)', '19시 발전량(MWh)', '20시 발전량(MWh)', '21시 발전량(MWh)', '22시 발전량(MWh)', '23시 발전량(MWh)', '24시 발전량(MWh)', '총량(KW)', '평균(KW)', '최대(시간별)', '최소(시간별)', '최대', '최소']\n",
      "[2025-10-22 13:02:17,747]✅ INFO -    샘플:\n",
      "       발전구분  호기         일자  1시 발전량(MWh)  2시 발전량(MWh)  3시 발전량(MWh)  \\\n",
      "0     영동태양광   1 2024-06-30            0            0            0   \n",
      "1  삼천포태양광#5   1 2024-06-30            0            0            0   \n",
      "\n",
      "   4시 발전량(MWh)  5시 발전량(MWh)  6시 발전량(MWh)  7시 발전량(MWh)  ...  21시 발전량(MWh)  \\\n",
      "0            0            0          0.0        0.000  ...         0.192   \n",
      "1            0            0          0.0        5.526  ...         0.000   \n",
      "\n",
      "   22시 발전량(MWh)  23시 발전량(MWh)  24시 발전량(MWh)    총량(KW)  평균(KW)  최대(시간별)  \\\n",
      "0           0.0             0           0.0  1698.144      71   685.82   \n",
      "1           0.0             0           0.0  1852.096      77   427.74   \n",
      "\n",
      "   최소(시간별)       최대  최소  \n",
      "0    0.192  685.824   0  \n",
      "1    5.526  427.748   0  \n",
      "\n",
      "[2 rows x 33 columns]\n"
     ]
    },
    {
     "name": "stderr",
     "output_type": "stream",
     "text": [
      "CSV 불러오기:  33%|███▎      | 30/90 [00:01<00:03, 17.06it/s]"
     ]
    },
    {
     "name": "stdout",
     "output_type": "stream",
     "text": [
      "[2025-10-22 13:02:17,785]✅ INFO - 📄 '남동발전량_2024_07.csv' 읽기 성공 (utf-8)\n",
      "[2025-10-22 13:02:17,795]✅ INFO - 📄 남동발전량_2024_07.csv 불러옴 (682행)\n",
      "[2025-10-22 13:02:17,799]✅ INFO -    컬럼: ['발전구분', '호기', '일자', '1시 발전량(MWh)', '2시 발전량(MWh)', '3시 발전량(MWh)', '4시 발전량(MWh)', '5시 발전량(MWh)', '6시 발전량(MWh)', '7시 발전량(MWh)', '8시 발전량(MWh)', '9시 발전량(MWh)', '10시 발전량(MWh)', '11시 발전량(MWh)', '12시 발전량(MWh)', '13시 발전량(MWh)', '14시 발전량(MWh)', '15시 발전량(MWh)', '16시 발전량(MWh)', '17시 발전량(MWh)', '18시 발전량(MWh)', '19시 발전량(MWh)', '20시 발전량(MWh)', '21시 발전량(MWh)', '22시 발전량(MWh)', '23시 발전량(MWh)', '24시 발전량(MWh)', '총량(KW)', '평균(KW)', '최대(시간별)', '최소(시간별)', '최대', '최소']\n",
      "[2025-10-22 13:02:17,828]✅ INFO -    샘플:\n",
      "       발전구분  호기         일자  1시 발전량(MWh)  2시 발전량(MWh)  3시 발전량(MWh)  \\\n",
      "0     영동태양광   1 2024-07-31            0            0            0   \n",
      "1  삼천포태양광#5   1 2024-07-31            0            0            0   \n",
      "\n",
      "   4시 발전량(MWh)  5시 발전량(MWh)  6시 발전량(MWh)  7시 발전량(MWh)  ...  21시 발전량(MWh)  \\\n",
      "0            0            0          0.0         0.00  ...       676.128   \n",
      "1            0            0          0.0        24.08  ...         0.000   \n",
      "\n",
      "   22시 발전량(MWh)  23시 발전량(MWh)  24시 발전량(MWh)     총량(KW)  평균(KW)  최대(시간별)  \\\n",
      "0       227.712             0           0.0   5682.048     237   794.40   \n",
      "1         0.000             0           0.0  14000.409     583  2531.95   \n",
      "\n",
      "   최소(시간별)        최대  최소  \n",
      "0   10.752   794.400   0  \n",
      "1   24.080  2531.956   0  \n",
      "\n",
      "[2 rows x 33 columns]\n"
     ]
    },
    {
     "name": "stderr",
     "output_type": "stream",
     "text": [
      "C:\\Users\\baesa\\AppData\\Local\\Temp\\ipykernel_23424\\4114509180.py:45: ParserWarning: Length of header or names does not match length of data. This leads to a loss of data with index_col=False.\n",
      "  df = pd.read_csv(path, encoding=\"utf-8\", delimiter=delim, index_col=False)\n"
     ]
    },
    {
     "name": "stdout",
     "output_type": "stream",
     "text": [
      "[2025-10-22 13:02:17,853]✅ INFO - 📄 '남동발전량_2024_08.csv' 읽기 성공 (utf-8)\n",
      "[2025-10-22 13:02:17,867]✅ INFO - 📄 남동발전량_2024_08.csv 불러옴 (682행)\n",
      "[2025-10-22 13:02:17,870]✅ INFO -    컬럼: ['발전구분', '호기', '일자', '1시 발전량(MWh)', '2시 발전량(MWh)', '3시 발전량(MWh)', '4시 발전량(MWh)', '5시 발전량(MWh)', '6시 발전량(MWh)', '7시 발전량(MWh)', '8시 발전량(MWh)', '9시 발전량(MWh)', '10시 발전량(MWh)', '11시 발전량(MWh)', '12시 발전량(MWh)', '13시 발전량(MWh)', '14시 발전량(MWh)', '15시 발전량(MWh)', '16시 발전량(MWh)', '17시 발전량(MWh)', '18시 발전량(MWh)', '19시 발전량(MWh)', '20시 발전량(MWh)', '21시 발전량(MWh)', '22시 발전량(MWh)', '23시 발전량(MWh)', '24시 발전량(MWh)', '총량(KW)', '평균(KW)', '최대(시간별)', '최소(시간별)', '최대', '최소']\n"
     ]
    },
    {
     "name": "stderr",
     "output_type": "stream",
     "text": [
      "C:\\Users\\baesa\\AppData\\Local\\Temp\\ipykernel_23424\\4114509180.py:45: ParserWarning: Length of header or names does not match length of data. This leads to a loss of data with index_col=False.\n",
      "  df = pd.read_csv(path, encoding=\"utf-8\", delimiter=delim, index_col=False)\n"
     ]
    },
    {
     "name": "stdout",
     "output_type": "stream",
     "text": [
      "[2025-10-22 13:02:17,896]✅ INFO -    샘플:\n",
      "       발전구분  호기         일자  1시 발전량(MWh)  2시 발전량(MWh)  3시 발전량(MWh)  \\\n",
      "0     영동태양광   1 2024-08-31            0            0            0   \n",
      "1  삼천포태양광#5   1 2024-08-31            0            0            0   \n",
      "\n",
      "   4시 발전량(MWh)  5시 발전량(MWh)  6시 발전량(MWh)  7시 발전량(MWh)  ...  21시 발전량(MWh)  \\\n",
      "0            0            0          0.0          0.0  ...       577.248   \n",
      "1            0            0          0.0          0.0  ...         0.000   \n",
      "\n",
      "   22시 발전량(MWh)  23시 발전량(MWh)  24시 발전량(MWh)  총량(KW)  평균(KW)  최대(시간별)  최소(시간별)  \\\n",
      "0           0.0             0           0.0  5337.6     222   758.97    5.184   \n",
      "1           0.0             0           0.0     0.0       0     0.00    0.000   \n",
      "\n",
      "        최대  최소  \n",
      "0  758.976   0  \n",
      "1    0.000   0  \n",
      "\n",
      "[2 rows x 33 columns]\n"
     ]
    },
    {
     "name": "stderr",
     "output_type": "stream",
     "text": [
      "CSV 불러오기:  36%|███▌      | 32/90 [00:01<00:03, 16.04it/s]"
     ]
    },
    {
     "name": "stdout",
     "output_type": "stream",
     "text": [
      "[2025-10-22 13:02:17,924]✅ INFO - 📄 '남동발전량_2024_09.csv' 읽기 성공 (utf-8)\n",
      "[2025-10-22 13:02:17,938]✅ INFO - 📄 남동발전량_2024_09.csv 불러옴 (659행)\n",
      "[2025-10-22 13:02:17,942]✅ INFO -    컬럼: ['발전구분', '호기', '일자', '1시 발전량(MWh)', '2시 발전량(MWh)', '3시 발전량(MWh)', '4시 발전량(MWh)', '5시 발전량(MWh)', '6시 발전량(MWh)', '7시 발전량(MWh)', '8시 발전량(MWh)', '9시 발전량(MWh)', '10시 발전량(MWh)', '11시 발전량(MWh)', '12시 발전량(MWh)', '13시 발전량(MWh)', '14시 발전량(MWh)', '15시 발전량(MWh)', '16시 발전량(MWh)', '17시 발전량(MWh)', '18시 발전량(MWh)', '19시 발전량(MWh)', '20시 발전량(MWh)', '21시 발전량(MWh)', '22시 발전량(MWh)', '23시 발전량(MWh)', '24시 발전량(MWh)', '총량(KW)', '평균(KW)', '최대(시간별)', '최소(시간별)', '최대', '최소']\n"
     ]
    },
    {
     "name": "stderr",
     "output_type": "stream",
     "text": [
      "C:\\Users\\baesa\\AppData\\Local\\Temp\\ipykernel_23424\\4114509180.py:45: ParserWarning: Length of header or names does not match length of data. This leads to a loss of data with index_col=False.\n",
      "  df = pd.read_csv(path, encoding=\"utf-8\", delimiter=delim, index_col=False)\n"
     ]
    },
    {
     "name": "stdout",
     "output_type": "stream",
     "text": [
      "[2025-10-22 13:02:17,971]✅ INFO -    샘플:\n",
      "       발전구분  호기         일자  1시 발전량(MWh)  2시 발전량(MWh)  3시 발전량(MWh)  \\\n",
      "0     영동태양광   1 2024-09-30            0            0            0   \n",
      "1  삼천포태양광#5   1 2024-09-30            0            0            0   \n",
      "\n",
      "   4시 발전량(MWh)  5시 발전량(MWh)  6시 발전량(MWh)  7시 발전량(MWh)  ...  21시 발전량(MWh)  \\\n",
      "0            0            0          0.0         0.00  ...       517.152   \n",
      "1            0            0          0.0         2.51  ...       591.860   \n",
      "\n",
      "   22시 발전량(MWh)  23시 발전량(MWh)  24시 발전량(MWh)     총량(KW)  평균(KW)  최대(시간별)  \\\n",
      "0           0.0             0           0.0   4336.992     181   689.76   \n",
      "1           0.0             0           0.0  19643.658     818  2332.84   \n",
      "\n",
      "   최소(시간별)        최대  최소  \n",
      "0     1.24   689.760   0  \n",
      "1     2.51  2332.843   0  \n",
      "\n",
      "[2 rows x 33 columns]\n",
      "[2025-10-22 13:02:17,999]✅ INFO - 📄 '남동발전량_2024_10.csv' 읽기 성공 (utf-8)\n",
      "[2025-10-22 13:02:18,015]✅ INFO - 📄 남동발전량_2024_10.csv 불러옴 (694행)\n",
      "[2025-10-22 13:02:18,018]✅ INFO -    컬럼: ['발전구분', '호기', '일자', '1시 발전량(MWh)', '2시 발전량(MWh)', '3시 발전량(MWh)', '4시 발전량(MWh)', '5시 발전량(MWh)', '6시 발전량(MWh)', '7시 발전량(MWh)', '8시 발전량(MWh)', '9시 발전량(MWh)', '10시 발전량(MWh)', '11시 발전량(MWh)', '12시 발전량(MWh)', '13시 발전량(MWh)', '14시 발전량(MWh)', '15시 발전량(MWh)', '16시 발전량(MWh)', '17시 발전량(MWh)', '18시 발전량(MWh)', '19시 발전량(MWh)', '20시 발전량(MWh)', '21시 발전량(MWh)', '22시 발전량(MWh)', '23시 발전량(MWh)', '24시 발전량(MWh)', '총량(KW)', '평균(KW)', '최대(시간별)', '최소(시간별)', '최대', '최소']\n",
      "[2025-10-22 13:02:18,040]✅ INFO -    샘플:\n",
      "       발전구분  호기         일자  1시 발전량(MWh)  2시 발전량(MWh)  3시 발전량(MWh)  \\\n",
      "0     영동태양광   1 2024-10-31            0            0            0   \n",
      "1  삼천포태양광#5   1 2024-10-31            0            0            0   \n",
      "\n",
      "   4시 발전량(MWh)  5시 발전량(MWh)  6시 발전량(MWh)  7시 발전량(MWh)  ...  21시 발전량(MWh)  \\\n",
      "0            0            0            0          0.0  ...       210.624   \n",
      "1            0            0            0          0.0  ...         0.000   \n",
      "\n",
      "   22시 발전량(MWh)  23시 발전량(MWh)  24시 발전량(MWh)    총량(KW)  평균(KW)  최대(시간별)  \\\n",
      "0           0.0           0.0           0.0  4377.024     182   718.56   \n",
      "1           0.0           0.0           0.0  8436.499     352  2487.54   \n",
      "\n",
      "   최소(시간별)        최대  최소  \n",
      "0    9.984   718.560   0  \n",
      "1   64.590  2487.541   0  \n",
      "\n",
      "[2 rows x 33 columns]\n"
     ]
    },
    {
     "name": "stderr",
     "output_type": "stream",
     "text": [
      "C:\\Users\\baesa\\AppData\\Local\\Temp\\ipykernel_23424\\4114509180.py:45: ParserWarning: Length of header or names does not match length of data. This leads to a loss of data with index_col=False.\n",
      "  df = pd.read_csv(path, encoding=\"utf-8\", delimiter=delim, index_col=False)\n",
      "CSV 불러오기:  38%|███▊      | 34/90 [00:02<00:03, 15.35it/s]"
     ]
    },
    {
     "name": "stdout",
     "output_type": "stream",
     "text": [
      "[2025-10-22 13:02:18,060]✅ INFO - 📄 '남동발전량_2024_11.csv' 읽기 성공 (utf-8)\n",
      "[2025-10-22 13:02:18,071]✅ INFO - 📄 남동발전량_2024_11.csv 불러옴 (690행)\n",
      "[2025-10-22 13:02:18,074]✅ INFO -    컬럼: ['발전구분', '호기', '일자', '1시 발전량(MWh)', '2시 발전량(MWh)', '3시 발전량(MWh)', '4시 발전량(MWh)', '5시 발전량(MWh)', '6시 발전량(MWh)', '7시 발전량(MWh)', '8시 발전량(MWh)', '9시 발전량(MWh)', '10시 발전량(MWh)', '11시 발전량(MWh)', '12시 발전량(MWh)', '13시 발전량(MWh)', '14시 발전량(MWh)', '15시 발전량(MWh)', '16시 발전량(MWh)', '17시 발전량(MWh)', '18시 발전량(MWh)', '19시 발전량(MWh)', '20시 발전량(MWh)', '21시 발전량(MWh)', '22시 발전량(MWh)', '23시 발전량(MWh)', '24시 발전량(MWh)', '총량(KW)', '평균(KW)', '최대(시간별)', '최소(시간별)', '최대', '최소']\n"
     ]
    },
    {
     "name": "stderr",
     "output_type": "stream",
     "text": [
      "C:\\Users\\baesa\\AppData\\Local\\Temp\\ipykernel_23424\\4114509180.py:45: ParserWarning: Length of header or names does not match length of data. This leads to a loss of data with index_col=False.\n",
      "  df = pd.read_csv(path, encoding=\"utf-8\", delimiter=delim, index_col=False)\n"
     ]
    },
    {
     "name": "stdout",
     "output_type": "stream",
     "text": [
      "[2025-10-22 13:02:18,097]✅ INFO -    샘플:\n",
      "       발전구분  호기         일자  1시 발전량(MWh)  2시 발전량(MWh)  3시 발전량(MWh)  \\\n",
      "0     영동태양광   1 2024-11-30            0            0            0   \n",
      "1  삼천포태양광#5   1 2024-11-30            0            0            0   \n",
      "\n",
      "   4시 발전량(MWh)  5시 발전량(MWh)  6시 발전량(MWh)  7시 발전량(MWh)  ...  21시 발전량(MWh)  \\\n",
      "0            0            0            0          0.0  ...       119.712   \n",
      "1            0            0            0          0.0  ...         0.000   \n",
      "\n",
      "   22시 발전량(MWh)  23시 발전량(MWh)  24시 발전량(MWh)     총량(KW)  평균(KW)  최대(시간별)  \\\n",
      "0           0.0             0           0.0   3921.984     163   686.78   \n",
      "1           0.0             0           0.0  16576.749     691  2879.51   \n",
      "\n",
      "   최소(시간별)        최대  최소  \n",
      "0     3.55   686.784   0  \n",
      "1     0.70  2879.514   0  \n",
      "\n",
      "[2 rows x 33 columns]\n"
     ]
    },
    {
     "name": "stderr",
     "output_type": "stream",
     "text": [
      "C:\\Users\\baesa\\AppData\\Local\\Temp\\ipykernel_23424\\4114509180.py:45: ParserWarning: Length of header or names does not match length of data. This leads to a loss of data with index_col=False.\n",
      "  df = pd.read_csv(path, encoding=\"utf-8\", delimiter=delim, index_col=False)\n"
     ]
    },
    {
     "name": "stdout",
     "output_type": "stream",
     "text": [
      "[2025-10-22 13:02:18,119]✅ INFO - 📄 '남동발전량_2024_12.csv' 읽기 성공 (utf-8)\n",
      "[2025-10-22 13:02:18,131]✅ INFO - 📄 남동발전량_2024_12.csv 불러옴 (713행)\n",
      "[2025-10-22 13:02:18,134]✅ INFO -    컬럼: ['발전구분', '호기', '일자', '1시 발전량(MWh)', '2시 발전량(MWh)', '3시 발전량(MWh)', '4시 발전량(MWh)', '5시 발전량(MWh)', '6시 발전량(MWh)', '7시 발전량(MWh)', '8시 발전량(MWh)', '9시 발전량(MWh)', '10시 발전량(MWh)', '11시 발전량(MWh)', '12시 발전량(MWh)', '13시 발전량(MWh)', '14시 발전량(MWh)', '15시 발전량(MWh)', '16시 발전량(MWh)', '17시 발전량(MWh)', '18시 발전량(MWh)', '19시 발전량(MWh)', '20시 발전량(MWh)', '21시 발전량(MWh)', '22시 발전량(MWh)', '23시 발전량(MWh)', '24시 발전량(MWh)', '총량(KW)', '평균(KW)', '최대(시간별)', '최소(시간별)', '최대', '최소']\n",
      "[2025-10-22 13:02:18,152]✅ INFO -    샘플:\n",
      "       발전구분  호기         일자  1시 발전량(MWh)  2시 발전량(MWh)  3시 발전량(MWh)  \\\n",
      "0     영동태양광   1 2024-12-31            0            0            0   \n",
      "1  삼천포태양광#5   1 2024-12-31            0            0            0   \n",
      "\n",
      "   4시 발전량(MWh)  5시 발전량(MWh)  6시 발전량(MWh)  7시 발전량(MWh)  ...  21시 발전량(MWh)  \\\n",
      "0            0            0            0          0.0  ...       371.616   \n",
      "1            0            0            0          0.0  ...         0.000   \n",
      "\n",
      "   22시 발전량(MWh)  23시 발전량(MWh)  24시 발전량(MWh)     총량(KW)  평균(KW)  최대(시간별)  \\\n",
      "0           0.0             0           0.0   3877.536     162   689.18   \n",
      "1           0.0             0           0.0  16032.232     668  2534.26   \n",
      "\n",
      "   최소(시간별)        최대  최소  \n",
      "0   18.048   689.184   0  \n",
      "1  147.039  2534.265   0  \n",
      "\n",
      "[2 rows x 33 columns]\n"
     ]
    },
    {
     "name": "stderr",
     "output_type": "stream",
     "text": [
      "CSV 불러오기:  40%|████      | 36/90 [00:02<00:03, 16.05it/s]"
     ]
    },
    {
     "name": "stdout",
     "output_type": "stream",
     "text": [
      "[2025-10-22 13:02:18,175]✅ INFO - 📄 '남동발전량_2025_01.csv' 읽기 성공 (utf-8)\n"
     ]
    },
    {
     "name": "stderr",
     "output_type": "stream",
     "text": [
      "C:\\Users\\baesa\\AppData\\Local\\Temp\\ipykernel_23424\\4114509180.py:45: ParserWarning: Length of header or names does not match length of data. This leads to a loss of data with index_col=False.\n",
      "  df = pd.read_csv(path, encoding=\"utf-8\", delimiter=delim, index_col=False)\n"
     ]
    },
    {
     "name": "stdout",
     "output_type": "stream",
     "text": [
      "[2025-10-22 13:02:18,183]✅ INFO - 📄 남동발전량_2025_01.csv 불러옴 (713행)\n",
      "[2025-10-22 13:02:18,188]✅ INFO -    컬럼: ['발전구분', '호기', '일자', '1시 발전량(MWh)', '2시 발전량(MWh)', '3시 발전량(MWh)', '4시 발전량(MWh)', '5시 발전량(MWh)', '6시 발전량(MWh)', '7시 발전량(MWh)', '8시 발전량(MWh)', '9시 발전량(MWh)', '10시 발전량(MWh)', '11시 발전량(MWh)', '12시 발전량(MWh)', '13시 발전량(MWh)', '14시 발전량(MWh)', '15시 발전량(MWh)', '16시 발전량(MWh)', '17시 발전량(MWh)', '18시 발전량(MWh)', '19시 발전량(MWh)', '20시 발전량(MWh)', '21시 발전량(MWh)', '22시 발전량(MWh)', '23시 발전량(MWh)', '24시 발전량(MWh)', '총량(KW)', '평균(KW)', '최대(시간별)', '최소(시간별)', '최대', '최소']\n",
      "[2025-10-22 13:02:18,211]✅ INFO -    샘플:\n",
      "       발전구분  호기         일자  1시 발전량(MWh)  2시 발전량(MWh)  3시 발전량(MWh)  \\\n",
      "0     영동태양광   1 2025-01-31            0            0            0   \n",
      "1  삼천포태양광#5   1 2025-01-31            0            0            0   \n",
      "\n",
      "   4시 발전량(MWh)  5시 발전량(MWh)  6시 발전량(MWh)  7시 발전량(MWh)  ...  21시 발전량(MWh)  \\\n",
      "0            0            0            0            0  ...           0.0   \n",
      "1            0            0            0            0  ...           0.0   \n",
      "\n",
      "   22시 발전량(MWh)  23시 발전량(MWh)  24시 발전량(MWh)    총량(KW)  평균(KW)  최대(시간별)  \\\n",
      "0           0.0             0           0.0  2128.608      89   689.28   \n",
      "1           0.0             0           0.0  7444.094     310  2488.85   \n",
      "\n",
      "   최소(시간별)        최대  최소  \n",
      "0   18.432   689.280   0  \n",
      "1    2.540  2488.857   0  \n",
      "\n",
      "[2 rows x 33 columns]\n"
     ]
    },
    {
     "name": "stderr",
     "output_type": "stream",
     "text": [
      "C:\\Users\\baesa\\AppData\\Local\\Temp\\ipykernel_23424\\4114509180.py:45: ParserWarning: Length of header or names does not match length of data. This leads to a loss of data with index_col=False.\n",
      "  df = pd.read_csv(path, encoding=\"utf-8\", delimiter=delim, index_col=False)\n"
     ]
    },
    {
     "name": "stdout",
     "output_type": "stream",
     "text": [
      "[2025-10-22 13:02:18,242]✅ INFO - 📄 '남동발전량_2025_02.csv' 읽기 성공 (utf-8)\n",
      "[2025-10-22 13:02:18,254]✅ INFO - 📄 남동발전량_2025_02.csv 불러옴 (644행)\n",
      "[2025-10-22 13:02:18,257]✅ INFO -    컬럼: ['발전구분', '호기', '일자', '1시 발전량(MWh)', '2시 발전량(MWh)', '3시 발전량(MWh)', '4시 발전량(MWh)', '5시 발전량(MWh)', '6시 발전량(MWh)', '7시 발전량(MWh)', '8시 발전량(MWh)', '9시 발전량(MWh)', '10시 발전량(MWh)', '11시 발전량(MWh)', '12시 발전량(MWh)', '13시 발전량(MWh)', '14시 발전량(MWh)', '15시 발전량(MWh)', '16시 발전량(MWh)', '17시 발전량(MWh)', '18시 발전량(MWh)', '19시 발전량(MWh)', '20시 발전량(MWh)', '21시 발전량(MWh)', '22시 발전량(MWh)', '23시 발전량(MWh)', '24시 발전량(MWh)', '총량(KW)', '평균(KW)', '최대(시간별)', '최소(시간별)', '최대', '최소']\n",
      "[2025-10-22 13:02:18,286]✅ INFO -    샘플:\n",
      "       발전구분  호기         일자  1시 발전량(MWh)  2시 발전량(MWh)  3시 발전량(MWh)  \\\n",
      "0     영동태양광   1 2025-02-28            0            0            0   \n",
      "1  삼천포태양광#5   1 2025-02-28            0            0            0   \n",
      "\n",
      "   4시 발전량(MWh)  5시 발전량(MWh)  6시 발전량(MWh)  7시 발전량(MWh)  ...  21시 발전량(MWh)  \\\n",
      "0            0            0            0          0.0  ...       681.984   \n",
      "1            0            0            0          0.0  ...         7.023   \n",
      "\n",
      "   22시 발전량(MWh)  23시 발전량(MWh)  24시 발전량(MWh)     총량(KW)  평균(KW)  최대(시간별)  \\\n",
      "0        21.216             0           0.0   5351.904     223   825.40   \n",
      "1         0.000             0           0.0  17833.629     743  2935.05   \n",
      "\n",
      "   최소(시간별)        최대  최소  \n",
      "0   10.368   825.408   0  \n",
      "1    7.020  2935.053   0  \n",
      "\n",
      "[2 rows x 33 columns]\n"
     ]
    },
    {
     "name": "stderr",
     "output_type": "stream",
     "text": [
      "CSV 불러오기:  42%|████▏     | 38/90 [00:02<00:03, 15.69it/s]"
     ]
    },
    {
     "name": "stdout",
     "output_type": "stream",
     "text": [
      "[2025-10-22 13:02:18,311]✅ INFO - 📄 '남동발전량_2025_03.csv' 읽기 성공 (utf-8)\n",
      "[2025-10-22 13:02:18,331]✅ INFO - 📄 남동발전량_2025_03.csv 불러옴 (713행)\n"
     ]
    },
    {
     "name": "stderr",
     "output_type": "stream",
     "text": [
      "C:\\Users\\baesa\\AppData\\Local\\Temp\\ipykernel_23424\\4114509180.py:45: ParserWarning: Length of header or names does not match length of data. This leads to a loss of data with index_col=False.\n",
      "  df = pd.read_csv(path, encoding=\"utf-8\", delimiter=delim, index_col=False)\n"
     ]
    },
    {
     "name": "stdout",
     "output_type": "stream",
     "text": [
      "[2025-10-22 13:02:18,338]✅ INFO -    컬럼: ['발전구분', '호기', '일자', '1시 발전량(MWh)', '2시 발전량(MWh)', '3시 발전량(MWh)', '4시 발전량(MWh)', '5시 발전량(MWh)', '6시 발전량(MWh)', '7시 발전량(MWh)', '8시 발전량(MWh)', '9시 발전량(MWh)', '10시 발전량(MWh)', '11시 발전량(MWh)', '12시 발전량(MWh)', '13시 발전량(MWh)', '14시 발전량(MWh)', '15시 발전량(MWh)', '16시 발전량(MWh)', '17시 발전량(MWh)', '18시 발전량(MWh)', '19시 발전량(MWh)', '20시 발전량(MWh)', '21시 발전량(MWh)', '22시 발전량(MWh)', '23시 발전량(MWh)', '24시 발전량(MWh)', '총량(KW)', '평균(KW)', '최대(시간별)', '최소(시간별)', '최대', '최소']\n",
      "[2025-10-22 13:02:18,374]✅ INFO -    샘플:\n",
      "       발전구분  호기         일자  1시 발전량(MWh)  2시 발전량(MWh)  3시 발전량(MWh)  \\\n",
      "0     영동태양광   1 2025-03-31            0            0            0   \n",
      "1  삼천포태양광#5   1 2025-03-31            0            0            0   \n",
      "\n",
      "   4시 발전량(MWh)  5시 발전량(MWh)  6시 발전량(MWh)  7시 발전량(MWh)  ...  21시 발전량(MWh)  \\\n",
      "0            0            0            0        0.000  ...       662.208   \n",
      "1            0            0            0       17.651  ...       943.397   \n",
      "\n",
      "   22시 발전량(MWh)  23시 발전량(MWh)  24시 발전량(MWh)     총량(KW)  평균(KW)  최대(시간별)  \\\n",
      "0           0.0             0           0.0   6148.512     256    916.8   \n",
      "1           0.0             0           0.0  23455.191     977   2875.2   \n",
      "\n",
      "   최소(시간별)        최대  최소  \n",
      "0    4.512   916.800   0  \n",
      "1   17.651  2875.209   0  \n",
      "\n",
      "[2 rows x 33 columns]\n"
     ]
    },
    {
     "name": "stderr",
     "output_type": "stream",
     "text": [
      "C:\\Users\\baesa\\AppData\\Local\\Temp\\ipykernel_23424\\4114509180.py:45: ParserWarning: Length of header or names does not match length of data. This leads to a loss of data with index_col=False.\n",
      "  df = pd.read_csv(path, encoding=\"utf-8\", delimiter=delim, index_col=False)\n"
     ]
    },
    {
     "name": "stdout",
     "output_type": "stream",
     "text": [
      "[2025-10-22 13:02:18,501]✅ INFO - 📄 '남동발전량_2025_04.csv' 읽기 성공 (utf-8)\n",
      "[2025-10-22 13:02:18,514]✅ INFO - 📄 남동발전량_2025_04.csv 불러옴 (690행)\n",
      "[2025-10-22 13:02:18,517]✅ INFO -    컬럼: ['발전구분', '호기', '일자', '1시 발전량(MWh)', '2시 발전량(MWh)', '3시 발전량(MWh)', '4시 발전량(MWh)', '5시 발전량(MWh)', '6시 발전량(MWh)', '7시 발전량(MWh)', '8시 발전량(MWh)', '9시 발전량(MWh)', '10시 발전량(MWh)', '11시 발전량(MWh)', '12시 발전량(MWh)', '13시 발전량(MWh)', '14시 발전량(MWh)', '15시 발전량(MWh)', '16시 발전량(MWh)', '17시 발전량(MWh)', '18시 발전량(MWh)', '19시 발전량(MWh)', '20시 발전량(MWh)', '21시 발전량(MWh)', '22시 발전량(MWh)', '23시 발전량(MWh)', '24시 발전량(MWh)', '총량(KW)', '평균(KW)', '최대(시간별)', '최소(시간별)', '최대', '최소']\n",
      "[2025-10-22 13:02:18,598]✅ INFO -    샘플:\n",
      "       발전구분  호기         일자  1시 발전량(MWh)  2시 발전량(MWh)  3시 발전량(MWh)  \\\n",
      "0     영동태양광   1 2025-04-30            0            0            0   \n",
      "1  삼천포태양광#5   1 2025-04-30            0            0            0   \n",
      "\n",
      "   4시 발전량(MWh)  5시 발전량(MWh)  6시 발전량(MWh)  7시 발전량(MWh)  ...  21시 발전량(MWh)  \\\n",
      "0            0            0          0.0        0.000  ...       679.104   \n",
      "1            0            0          0.0      142.013  ...      1165.712   \n",
      "\n",
      "   22시 발전량(MWh)  23시 발전량(MWh)  24시 발전량(MWh)     총량(KW)  평균(KW)  최대(시간별)  \\\n",
      "0       173.088           0.0           0.0   5425.824     226   688.89   \n",
      "1         0.000           0.0           0.0  23984.797     999  2829.60   \n",
      "\n",
      "   최소(시간별)        최대  최소  \n",
      "0   16.128   688.896   0  \n",
      "1  142.013  2829.600   0  \n",
      "\n",
      "[2 rows x 33 columns]\n"
     ]
    },
    {
     "name": "stderr",
     "output_type": "stream",
     "text": [
      "CSV 불러오기:  44%|████▍     | 40/90 [00:02<00:04, 10.97it/s]"
     ]
    },
    {
     "name": "stdout",
     "output_type": "stream",
     "text": [
      "[2025-10-22 13:02:18,627]✅ INFO - 📄 '남동발전량_2025_05.csv' 읽기 성공 (utf-8)\n"
     ]
    },
    {
     "name": "stderr",
     "output_type": "stream",
     "text": [
      "C:\\Users\\baesa\\AppData\\Local\\Temp\\ipykernel_23424\\4114509180.py:45: ParserWarning: Length of header or names does not match length of data. This leads to a loss of data with index_col=False.\n",
      "  df = pd.read_csv(path, encoding=\"utf-8\", delimiter=delim, index_col=False)\n"
     ]
    },
    {
     "name": "stdout",
     "output_type": "stream",
     "text": [
      "[2025-10-22 13:02:18,653]✅ INFO - 📄 남동발전량_2025_05.csv 불러옴 (713행)\n",
      "[2025-10-22 13:02:18,661]✅ INFO -    컬럼: ['발전구분', '호기', '일자', '1시 발전량(MWh)', '2시 발전량(MWh)', '3시 발전량(MWh)', '4시 발전량(MWh)', '5시 발전량(MWh)', '6시 발전량(MWh)', '7시 발전량(MWh)', '8시 발전량(MWh)', '9시 발전량(MWh)', '10시 발전량(MWh)', '11시 발전량(MWh)', '12시 발전량(MWh)', '13시 발전량(MWh)', '14시 발전량(MWh)', '15시 발전량(MWh)', '16시 발전량(MWh)', '17시 발전량(MWh)', '18시 발전량(MWh)', '19시 발전량(MWh)', '20시 발전량(MWh)', '21시 발전량(MWh)', '22시 발전량(MWh)', '23시 발전량(MWh)', '24시 발전량(MWh)', '총량(KW)', '평균(KW)', '최대(시간별)', '최소(시간별)', '최대', '최소']\n",
      "[2025-10-22 13:02:18,687]✅ INFO -    샘플:\n",
      "       발전구분  호기         일자  1시 발전량(MWh)  2시 발전량(MWh)  3시 발전량(MWh)  \\\n",
      "0     영동태양광   1 2025-05-31            0            0            0   \n",
      "1  삼천포태양광#5   1 2025-05-31            0            0            0   \n",
      "\n",
      "   4시 발전량(MWh)  5시 발전량(MWh)  6시 발전량(MWh)  7시 발전량(MWh)  ...  21시 발전량(MWh)  \\\n",
      "0            0            0        0.000        4.608  ...       684.672   \n",
      "1            0            0       13.857      237.009  ...       512.910   \n",
      "\n",
      "   22시 발전량(MWh)  23시 발전량(MWh)  24시 발전량(MWh)     총량(KW)  평균(KW)  최대(시간별)  \\\n",
      "0       159.648             0           0.0   5217.504     217   691.77   \n",
      "1         0.000             0           0.0  18812.006     784  2535.43   \n",
      "\n",
      "   최소(시간별)        최대  최소  \n",
      "0    4.608   691.776   0  \n",
      "1   13.857  2535.438   0  \n",
      "\n",
      "[2 rows x 33 columns]\n",
      "[2025-10-22 13:02:18,708]✅ INFO - 📄 '남동발전량_2025_06.csv' 읽기 성공 (utf-8)\n",
      "[2025-10-22 13:02:18,720]✅ INFO - 📄 남동발전량_2025_06.csv 불러옴 (690행)\n",
      "[2025-10-22 13:02:18,723]✅ INFO -    컬럼: ['발전구분', '호기', '일자', '1시 발전량(MWh)', '2시 발전량(MWh)', '3시 발전량(MWh)', '4시 발전량(MWh)', '5시 발전량(MWh)', '6시 발전량(MWh)', '7시 발전량(MWh)', '8시 발전량(MWh)', '9시 발전량(MWh)', '10시 발전량(MWh)', '11시 발전량(MWh)', '12시 발전량(MWh)', '13시 발전량(MWh)', '14시 발전량(MWh)', '15시 발전량(MWh)', '16시 발전량(MWh)', '17시 발전량(MWh)', '18시 발전량(MWh)', '19시 발전량(MWh)', '20시 발전량(MWh)', '21시 발전량(MWh)', '22시 발전량(MWh)', '23시 발전량(MWh)', '24시 발전량(MWh)', '총량(KW)', '평균(KW)', '최대(시간별)', '최소(시간별)', '최대', '최소']\n",
      "[2025-10-22 13:02:18,749]✅ INFO -    샘플:\n",
      "       발전구분  호기         일자  1시 발전량(MWh)  2시 발전량(MWh)  3시 발전량(MWh)  \\\n",
      "0     영동태양광   1 2025-06-30            0            0            0   \n",
      "1  삼천포태양광#5   1 2025-06-30            0            0            0   \n",
      "\n",
      "   4시 발전량(MWh)  5시 발전량(MWh)  6시 발전량(MWh)  7시 발전량(MWh)  ...  21시 발전량(MWh)  \\\n",
      "0            0            0          0.0        1.344  ...       616.224   \n",
      "1            0            0          0.0       80.509  ...         0.000   \n",
      "\n",
      "   22시 발전량(MWh)  23시 발전량(MWh)  24시 발전량(MWh)    총량(KW)  평균(KW)  최대(시간별)  \\\n",
      "0           0.0             0           0.0  4981.152     208   686.40   \n",
      "1           0.0             0           0.0  1477.302      62   799.76   \n",
      "\n",
      "   최소(시간별)       최대  최소  \n",
      "0    1.344  686.400   0  \n",
      "1   80.509  799.761   0  \n",
      "\n",
      "[2 rows x 33 columns]\n"
     ]
    },
    {
     "name": "stderr",
     "output_type": "stream",
     "text": [
      "C:\\Users\\baesa\\AppData\\Local\\Temp\\ipykernel_23424\\4114509180.py:45: ParserWarning: Length of header or names does not match length of data. This leads to a loss of data with index_col=False.\n",
      "  df = pd.read_csv(path, encoding=\"utf-8\", delimiter=delim, index_col=False)\n",
      "CSV 불러오기:  47%|████▋     | 42/90 [00:02<00:04, 11.53it/s]"
     ]
    },
    {
     "name": "stdout",
     "output_type": "stream",
     "text": [
      "[2025-10-22 13:02:18,779]✅ INFO - 📄 '남동발전량_2025_07.csv' 읽기 성공 (utf-8)\n"
     ]
    },
    {
     "name": "stderr",
     "output_type": "stream",
     "text": [
      "C:\\Users\\baesa\\AppData\\Local\\Temp\\ipykernel_23424\\4114509180.py:45: ParserWarning: Length of header or names does not match length of data. This leads to a loss of data with index_col=False.\n",
      "  df = pd.read_csv(path, encoding=\"utf-8\", delimiter=delim, index_col=False)\n"
     ]
    },
    {
     "name": "stdout",
     "output_type": "stream",
     "text": [
      "[2025-10-22 13:02:18,793]✅ INFO - 📄 남동발전량_2025_07.csv 불러옴 (713행)\n",
      "[2025-10-22 13:02:18,796]✅ INFO -    컬럼: ['발전구분', '호기', '일자', '1시 발전량(MWh)', '2시 발전량(MWh)', '3시 발전량(MWh)', '4시 발전량(MWh)', '5시 발전량(MWh)', '6시 발전량(MWh)', '7시 발전량(MWh)', '8시 발전량(MWh)', '9시 발전량(MWh)', '10시 발전량(MWh)', '11시 발전량(MWh)', '12시 발전량(MWh)', '13시 발전량(MWh)', '14시 발전량(MWh)', '15시 발전량(MWh)', '16시 발전량(MWh)', '17시 발전량(MWh)', '18시 발전량(MWh)', '19시 발전량(MWh)', '20시 발전량(MWh)', '21시 발전량(MWh)', '22시 발전량(MWh)', '23시 발전량(MWh)', '24시 발전량(MWh)', '총량(KW)', '평균(KW)', '최대(시간별)', '최소(시간별)', '최대', '최소']\n",
      "[2025-10-22 13:02:18,823]✅ INFO -    샘플:\n",
      "       발전구분  호기         일자  1시 발전량(MWh)  2시 발전량(MWh)  3시 발전량(MWh)  \\\n",
      "0     영동태양광   1 2025-07-31            0            0            0   \n",
      "1  삼천포태양광#5   1 2025-07-31            0            0            0   \n",
      "\n",
      "   4시 발전량(MWh)  5시 발전량(MWh)  6시 발전량(MWh)  7시 발전량(MWh)  ...  21시 발전량(MWh)  \\\n",
      "0            0            0          0.0        7.104  ...        12.576   \n",
      "1            0            0          0.0       99.540  ...         0.000   \n",
      "\n",
      "   22시 발전량(MWh)  23시 발전량(MWh)  24시 발전량(MWh)     총량(KW)  평균(KW)  최대(시간별)  \\\n",
      "0           0.0             0           0.0   3851.040     160   682.46   \n",
      "1           0.0             0           0.0  20766.627     865  2817.98   \n",
      "\n",
      "   최소(시간별)        최대  최소  \n",
      "0    7.104   682.464   0  \n",
      "1   99.540  2817.986   0  \n",
      "\n",
      "[2 rows x 33 columns]\n",
      "[2025-10-22 13:02:18,851]✅ INFO - 📄 '남동발전량_2025_08.csv' 읽기 성공 (utf-8)\n",
      "[2025-10-22 13:02:18,870]✅ INFO - 📄 남동발전량_2025_08.csv 불러옴 (713행)\n",
      "[2025-10-22 13:02:18,872]✅ INFO -    컬럼: ['발전구분', '호기', '일자', '1시 발전량(MWh)', '2시 발전량(MWh)', '3시 발전량(MWh)', '4시 발전량(MWh)', '5시 발전량(MWh)', '6시 발전량(MWh)', '7시 발전량(MWh)', '8시 발전량(MWh)', '9시 발전량(MWh)', '10시 발전량(MWh)', '11시 발전량(MWh)', '12시 발전량(MWh)', '13시 발전량(MWh)', '14시 발전량(MWh)', '15시 발전량(MWh)', '16시 발전량(MWh)', '17시 발전량(MWh)', '18시 발전량(MWh)', '19시 발전량(MWh)', '20시 발전량(MWh)', '21시 발전량(MWh)', '22시 발전량(MWh)', '23시 발전량(MWh)', '24시 발전량(MWh)', '총량(KW)', '평균(KW)', '최대(시간별)', '최소(시간별)', '최대', '최소']\n",
      "[2025-10-22 13:02:18,900]✅ INFO -    샘플:\n",
      "       발전구분  호기         일자  1시 발전량(MWh)  2시 발전량(MWh)  3시 발전량(MWh)  \\\n",
      "0     영동태양광   1 2025-08-31            0            0            0   \n",
      "1  삼천포태양광#5   1 2025-08-31            0            0            0   \n",
      "\n",
      "   4시 발전량(MWh)  5시 발전량(MWh)  6시 발전량(MWh)  7시 발전량(MWh)  ...  21시 발전량(MWh)  \\\n",
      "0            0            0          0.0        8.736  ...           0.0   \n",
      "1            0            0          0.0       47.009  ...           0.0   \n",
      "\n",
      "   22시 발전량(MWh)  23시 발전량(MWh)  24시 발전량(MWh)     총량(KW)  평균(KW)  최대(시간별)  \\\n",
      "0             0             0           0.0   4353.408     181   707.23   \n",
      "1             0             0           0.0  10424.597     434  2455.34   \n",
      "\n",
      "   최소(시간별)        최대  최소  \n",
      "0    8.736   707.232   0  \n",
      "1   47.000  2455.345   0  \n",
      "\n",
      "[2 rows x 33 columns]\n"
     ]
    },
    {
     "name": "stderr",
     "output_type": "stream",
     "text": [
      "C:\\Users\\baesa\\AppData\\Local\\Temp\\ipykernel_23424\\4114509180.py:45: ParserWarning: Length of header or names does not match length of data. This leads to a loss of data with index_col=False.\n",
      "  df = pd.read_csv(path, encoding=\"utf-8\", delimiter=delim, index_col=False)\n",
      "CSV 불러오기:  49%|████▉     | 44/90 [00:02<00:03, 12.05it/s]"
     ]
    },
    {
     "name": "stdout",
     "output_type": "stream",
     "text": [
      "[2025-10-22 13:02:18,930]✅ INFO - 📄 '남동발전량_2025_09.csv' 읽기 성공 (utf-8)\n",
      "[2025-10-22 13:02:18,944]✅ INFO - 📄 남동발전량_2025_09.csv 불러옴 (690행)\n",
      "[2025-10-22 13:02:18,947]✅ INFO -    컬럼: ['발전구분', '호기', '일자', '1시 발전량(MWh)', '2시 발전량(MWh)', '3시 발전량(MWh)', '4시 발전량(MWh)', '5시 발전량(MWh)', '6시 발전량(MWh)', '7시 발전량(MWh)', '8시 발전량(MWh)', '9시 발전량(MWh)', '10시 발전량(MWh)', '11시 발전량(MWh)', '12시 발전량(MWh)', '13시 발전량(MWh)', '14시 발전량(MWh)', '15시 발전량(MWh)', '16시 발전량(MWh)', '17시 발전량(MWh)', '18시 발전량(MWh)', '19시 발전량(MWh)', '20시 발전량(MWh)', '21시 발전량(MWh)', '22시 발전량(MWh)', '23시 발전량(MWh)', '24시 발전량(MWh)', '총량(KW)', '평균(KW)', '최대(시간별)', '최소(시간별)', '최대', '최소']\n"
     ]
    },
    {
     "name": "stderr",
     "output_type": "stream",
     "text": [
      "C:\\Users\\baesa\\AppData\\Local\\Temp\\ipykernel_23424\\4114509180.py:45: ParserWarning: Length of header or names does not match length of data. This leads to a loss of data with index_col=False.\n",
      "  df = pd.read_csv(path, encoding=\"utf-8\", delimiter=delim, index_col=False)\n"
     ]
    },
    {
     "name": "stdout",
     "output_type": "stream",
     "text": [
      "[2025-10-22 13:02:18,981]✅ INFO -    샘플:\n",
      "       발전구분  호기         일자  1시 발전량(MWh)  2시 발전량(MWh)  3시 발전량(MWh)  \\\n",
      "0     영동태양광   1 2025-09-30            0            0            0   \n",
      "1  삼천포태양광#5   1 2025-09-30            0            0            0   \n",
      "\n",
      "   4시 발전량(MWh)  5시 발전량(MWh)  6시 발전량(MWh)  7시 발전량(MWh)  ...  21시 발전량(MWh)  \\\n",
      "0            0            0            0        1.056  ...           0.0   \n",
      "1            0            0            0       43.928  ...           0.0   \n",
      "\n",
      "   22시 발전량(MWh)  23시 발전량(MWh)  24시 발전량(MWh)     총량(KW)  평균(KW)  최대(시간별)  \\\n",
      "0             0             0           0.0   2117.472      88   685.05   \n",
      "1             0             0           0.0  12383.924     516  2405.42   \n",
      "\n",
      "   최소(시간별)        최대  최소  \n",
      "0    1.056   685.056   0  \n",
      "1   43.928  2405.429   0  \n",
      "\n",
      "[2 rows x 33 columns]\n"
     ]
    },
    {
     "name": "stderr",
     "output_type": "stream",
     "text": [
      "C:\\Users\\baesa\\AppData\\Local\\Temp\\ipykernel_23424\\4114509180.py:45: ParserWarning: Length of header or names does not match length of data. This leads to a loss of data with index_col=False.\n",
      "  df = pd.read_csv(path, encoding=\"utf-8\", delimiter=delim, index_col=False)\n"
     ]
    },
    {
     "name": "stdout",
     "output_type": "stream",
     "text": [
      "[2025-10-22 13:02:19,043]✅ INFO - 📄 '남동발전량_2022_01.csv' 읽기 성공 (utf-8)\n",
      "[2025-10-22 13:02:19,054]✅ INFO - 📄 남동발전량_2022_01.csv 불러옴 (682행)\n",
      "[2025-10-22 13:02:19,057]✅ INFO -    컬럼: ['발전구분', '호기', '일자', '1시 발전량(MWh)', '2시 발전량(MWh)', '3시 발전량(MWh)', '4시 발전량(MWh)', '5시 발전량(MWh)', '6시 발전량(MWh)', '7시 발전량(MWh)', '8시 발전량(MWh)', '9시 발전량(MWh)', '10시 발전량(MWh)', '11시 발전량(MWh)', '12시 발전량(MWh)', '13시 발전량(MWh)', '14시 발전량(MWh)', '15시 발전량(MWh)', '16시 발전량(MWh)', '17시 발전량(MWh)', '18시 발전량(MWh)', '19시 발전량(MWh)', '20시 발전량(MWh)', '21시 발전량(MWh)', '22시 발전량(MWh)', '23시 발전량(MWh)', '24시 발전량(MWh)', '총량(KW)', '평균(KW)', '최대(시간별)', '최소(시간별)', '최대', '최소']\n",
      "[2025-10-22 13:02:19,085]✅ INFO -    샘플:\n",
      "       발전구분  호기         일자  1시 발전량(MWh)  2시 발전량(MWh)  3시 발전량(MWh)  \\\n",
      "0     영동태양광   1 2022-01-31          0.0            0            0   \n",
      "1  삼천포태양광#5   1 2022-01-31          0.0            0            0   \n",
      "\n",
      "   4시 발전량(MWh)  5시 발전량(MWh)  6시 발전량(MWh)  7시 발전량(MWh)  ...  21시 발전량(MWh)  \\\n",
      "0            0            0            0            0  ...       493.920   \n",
      "1            0            0            0            0  ...      2495.991   \n",
      "\n",
      "   22시 발전량(MWh)  23시 발전량(MWh)  24시 발전량(MWh)     총량(KW)  평균(KW)  최대(시간별)  \\\n",
      "0       590.688         590.4       128.448   4583.424     191   593.76   \n",
      "1       922.580           0.0         0.000  19116.254     797  2523.68   \n",
      "\n",
      "   최소(시간별)        최대  최소  \n",
      "0    37.44   593.760   0  \n",
      "1     3.82  2523.683   0  \n",
      "\n",
      "[2 rows x 33 columns]\n"
     ]
    },
    {
     "name": "stderr",
     "output_type": "stream",
     "text": [
      "CSV 불러오기:  51%|█████     | 46/90 [00:03<00:03, 11.56it/s]C:\\Users\\baesa\\AppData\\Local\\Temp\\ipykernel_23424\\4114509180.py:45: ParserWarning: Length of header or names does not match length of data. This leads to a loss of data with index_col=False.\n",
      "  df = pd.read_csv(path, encoding=\"utf-8\", delimiter=delim, index_col=False)\n"
     ]
    },
    {
     "name": "stdout",
     "output_type": "stream",
     "text": [
      "[2025-10-22 13:02:19,117]✅ INFO - 📄 '남동발전량_2022_02.csv' 읽기 성공 (utf-8)\n",
      "[2025-10-22 13:02:19,143]✅ INFO - 📄 남동발전량_2022_02.csv 불러옴 (616행)\n",
      "[2025-10-22 13:02:19,147]✅ INFO -    컬럼: ['발전구분', '호기', '일자', '1시 발전량(MWh)', '2시 발전량(MWh)', '3시 발전량(MWh)', '4시 발전량(MWh)', '5시 발전량(MWh)', '6시 발전량(MWh)', '7시 발전량(MWh)', '8시 발전량(MWh)', '9시 발전량(MWh)', '10시 발전량(MWh)', '11시 발전량(MWh)', '12시 발전량(MWh)', '13시 발전량(MWh)', '14시 발전량(MWh)', '15시 발전량(MWh)', '16시 발전량(MWh)', '17시 발전량(MWh)', '18시 발전량(MWh)', '19시 발전량(MWh)', '20시 발전량(MWh)', '21시 발전량(MWh)', '22시 발전량(MWh)', '23시 발전량(MWh)', '24시 발전량(MWh)', '총량(KW)', '평균(KW)', '최대(시간별)', '최소(시간별)', '최대', '최소']\n",
      "[2025-10-22 13:02:19,183]✅ INFO -    샘플:\n",
      "       발전구분  호기         일자  1시 발전량(MWh)  2시 발전량(MWh)  3시 발전량(MWh)  \\\n",
      "0     영동태양광   1 2022-02-28          0.0            0            0   \n",
      "1  삼천포태양광#5   1 2022-02-28          0.0            0            0   \n",
      "\n",
      "   4시 발전량(MWh)  5시 발전량(MWh)  6시 발전량(MWh)  7시 발전량(MWh)  ...  21시 발전량(MWh)  \\\n",
      "0            0            0            0            0  ...       491.424   \n",
      "1            0            0            0            0  ...      2475.917   \n",
      "\n",
      "   22시 발전량(MWh)  23시 발전량(MWh)  24시 발전량(MWh)     총량(KW)  평균(KW)  최대(시간별)  \\\n",
      "0       590.496        589.44       137.664   3946.464     164   590.49   \n",
      "1       606.144          0.00         0.000  14405.496     600  2493.92   \n",
      "\n",
      "   최소(시간별)        최대  최소  \n",
      "0    7.968   590.496   0  \n",
      "1   76.030  2493.921   0  \n",
      "\n",
      "[2 rows x 33 columns]\n",
      "[2025-10-22 13:02:19,213]✅ INFO - 📄 '남동발전량_2022_03.csv' 읽기 성공 (utf-8)\n",
      "[2025-10-22 13:02:19,228]✅ INFO - 📄 남동발전량_2022_03.csv 불러옴 (682행)\n",
      "[2025-10-22 13:02:19,236]✅ INFO -    컬럼: ['발전구분', '호기', '일자', '1시 발전량(MWh)', '2시 발전량(MWh)', '3시 발전량(MWh)', '4시 발전량(MWh)', '5시 발전량(MWh)', '6시 발전량(MWh)', '7시 발전량(MWh)', '8시 발전량(MWh)', '9시 발전량(MWh)', '10시 발전량(MWh)', '11시 발전량(MWh)', '12시 발전량(MWh)', '13시 발전량(MWh)', '14시 발전량(MWh)', '15시 발전량(MWh)', '16시 발전량(MWh)', '17시 발전량(MWh)', '18시 발전량(MWh)', '19시 발전량(MWh)', '20시 발전량(MWh)', '21시 발전량(MWh)', '22시 발전량(MWh)', '23시 발전량(MWh)', '24시 발전량(MWh)', '총량(KW)', '평균(KW)', '최대(시간별)', '최소(시간별)', '최대', '최소']\n",
      "[2025-10-22 13:02:19,267]✅ INFO -    샘플:\n",
      "       발전구분  호기         일자  1시 발전량(MWh)  2시 발전량(MWh)  3시 발전량(MWh)  \\\n",
      "0     영동태양광   1 2022-03-31          0.0          0.0            0   \n",
      "1  삼천포태양광#5   1 2022-03-31          0.0          0.0            0   \n",
      "\n",
      "   4시 발전량(MWh)  5시 발전량(MWh)  6시 발전량(MWh)  7시 발전량(MWh)  ...  21시 발전량(MWh)  \\\n",
      "0            0            0            0        0.000  ...         0.000   \n",
      "1            0            0            0        6.229  ...       931.368   \n",
      "\n",
      "   22시 발전량(MWh)  23시 발전량(MWh)  24시 발전량(MWh)    총량(KW)  평균(KW)  최대(시간별)  \\\n",
      "0           0.0           0.0           0.0   660.192      28   258.52   \n",
      "1           0.0           0.0           0.0  9568.733     399  2527.44   \n",
      "\n",
      "   최소(시간별)        최대  최소  \n",
      "0     0.57   258.528   0  \n",
      "1     6.22  2527.445   0  \n",
      "\n",
      "[2 rows x 33 columns]\n"
     ]
    },
    {
     "name": "stderr",
     "output_type": "stream",
     "text": [
      "C:\\Users\\baesa\\AppData\\Local\\Temp\\ipykernel_23424\\4114509180.py:45: ParserWarning: Length of header or names does not match length of data. This leads to a loss of data with index_col=False.\n",
      "  df = pd.read_csv(path, encoding=\"utf-8\", delimiter=delim, index_col=False)\n",
      "CSV 불러오기:  53%|█████▎    | 48/90 [00:03<00:03, 11.42it/s]C:\\Users\\baesa\\AppData\\Local\\Temp\\ipykernel_23424\\4114509180.py:45: ParserWarning: Length of header or names does not match length of data. This leads to a loss of data with index_col=False.\n",
      "  df = pd.read_csv(path, encoding=\"utf-8\", delimiter=delim, index_col=False)\n"
     ]
    },
    {
     "name": "stdout",
     "output_type": "stream",
     "text": [
      "[2025-10-22 13:02:19,303]✅ INFO - 📄 '남동발전량_2022_04.csv' 읽기 성공 (utf-8)\n",
      "[2025-10-22 13:02:19,314]✅ INFO - 📄 남동발전량_2022_04.csv 불러옴 (660행)\n",
      "[2025-10-22 13:02:19,317]✅ INFO -    컬럼: ['발전구분', '호기', '일자', '1시 발전량(MWh)', '2시 발전량(MWh)', '3시 발전량(MWh)', '4시 발전량(MWh)', '5시 발전량(MWh)', '6시 발전량(MWh)', '7시 발전량(MWh)', '8시 발전량(MWh)', '9시 발전량(MWh)', '10시 발전량(MWh)', '11시 발전량(MWh)', '12시 발전량(MWh)', '13시 발전량(MWh)', '14시 발전량(MWh)', '15시 발전량(MWh)', '16시 발전량(MWh)', '17시 발전량(MWh)', '18시 발전량(MWh)', '19시 발전량(MWh)', '20시 발전량(MWh)', '21시 발전량(MWh)', '22시 발전량(MWh)', '23시 발전량(MWh)', '24시 발전량(MWh)', '총량(KW)', '평균(KW)', '최대(시간별)', '최소(시간별)', '최대', '최소']\n",
      "[2025-10-22 13:02:19,343]✅ INFO -    샘플:\n",
      "       발전구분  호기         일자  1시 발전량(MWh)  2시 발전량(MWh)  3시 발전량(MWh)  \\\n",
      "0     영동태양광   1 2022-04-30          0.0          0.0            0   \n",
      "1  삼천포태양광#5   1 2022-04-30          0.0          0.0            0   \n",
      "\n",
      "   4시 발전량(MWh)  5시 발전량(MWh)  6시 발전량(MWh)  7시 발전량(MWh)  ...  21시 발전량(MWh)  \\\n",
      "0            0            0          0.0       17.472  ...        507.36   \n",
      "1            0            0          0.0      140.775  ...       2506.82   \n",
      "\n",
      "   22시 발전량(MWh)  23시 발전량(MWh)  24시 발전량(MWh)     총량(KW)  평균(KW)  최대(시간별)  \\\n",
      "0       589.248       572.064          62.4   4711.296     196   589.24   \n",
      "1       685.807         0.000           0.0  16217.077     676  2534.13   \n",
      "\n",
      "   최소(시간별)        최대  최소  \n",
      "0    17.47   589.248   0  \n",
      "1   140.77  2534.139   0  \n",
      "\n",
      "[2 rows x 33 columns]\n",
      "[2025-10-22 13:02:19,367]✅ INFO - 📄 '남동발전량_2022_05.csv' 읽기 성공 (utf-8)\n",
      "[2025-10-22 13:02:19,379]✅ INFO - 📄 남동발전량_2022_05.csv 불러옴 (682행)\n",
      "[2025-10-22 13:02:19,381]✅ INFO -    컬럼: ['발전구분', '호기', '일자', '1시 발전량(MWh)', '2시 발전량(MWh)', '3시 발전량(MWh)', '4시 발전량(MWh)', '5시 발전량(MWh)', '6시 발전량(MWh)', '7시 발전량(MWh)', '8시 발전량(MWh)', '9시 발전량(MWh)', '10시 발전량(MWh)', '11시 발전량(MWh)', '12시 발전량(MWh)', '13시 발전량(MWh)', '14시 발전량(MWh)', '15시 발전량(MWh)', '16시 발전량(MWh)', '17시 발전량(MWh)', '18시 발전량(MWh)', '19시 발전량(MWh)', '20시 발전량(MWh)', '21시 발전량(MWh)', '22시 발전량(MWh)', '23시 발전량(MWh)', '24시 발전량(MWh)', '총량(KW)', '평균(KW)', '최대(시간별)', '최소(시간별)', '최대', '최소']\n",
      "[2025-10-22 13:02:19,409]✅ INFO -    샘플:\n",
      "       발전구분  호기         일자  1시 발전량(MWh)  2시 발전량(MWh)  3시 발전량(MWh)  \\\n",
      "0     영동태양광   1 2022-05-31       67.776          0.0          0.0   \n",
      "1  삼천포태양광#5   1 2022-05-31        0.000          0.0          0.0   \n",
      "\n",
      "   4시 발전량(MWh)  5시 발전량(MWh)  6시 발전량(MWh)  7시 발전량(MWh)  ...  21시 발전량(MWh)  \\\n",
      "0          0.0            0        0.192       19.104  ...         0.000   \n",
      "1          0.0            0        0.000      139.205  ...      2497.041   \n",
      "\n",
      "   22시 발전량(MWh)  23시 발전량(MWh)  24시 발전량(MWh)     총량(KW)  평균(KW)  최대(시간별)  \\\n",
      "0         0.000           0.0       428.832   3646.560     152   659.71   \n",
      "1       398.445           0.0         0.000  23049.133     960  2676.31   \n",
      "\n",
      "   최소(시간별)        최대  최소  \n",
      "0     0.19   659.712   0  \n",
      "1   139.20  2676.314   0  \n",
      "\n",
      "[2 rows x 33 columns]\n"
     ]
    },
    {
     "name": "stderr",
     "output_type": "stream",
     "text": [
      "C:\\Users\\baesa\\AppData\\Local\\Temp\\ipykernel_23424\\4114509180.py:45: ParserWarning: Length of header or names does not match length of data. This leads to a loss of data with index_col=False.\n",
      "  df = pd.read_csv(path, encoding=\"utf-8\", delimiter=delim, index_col=False)\n",
      "CSV 불러오기:  56%|█████▌    | 50/90 [00:03<00:03, 12.15it/s]"
     ]
    },
    {
     "name": "stdout",
     "output_type": "stream",
     "text": [
      "[2025-10-22 13:02:19,434]✅ INFO - 📄 '남동발전량_2022_06.csv' 읽기 성공 (utf-8)\n",
      "[2025-10-22 13:02:19,446]✅ INFO - 📄 남동발전량_2022_06.csv 불러옴 (660행)\n",
      "[2025-10-22 13:02:19,448]✅ INFO -    컬럼: ['발전구분', '호기', '일자', '1시 발전량(MWh)', '2시 발전량(MWh)', '3시 발전량(MWh)', '4시 발전량(MWh)', '5시 발전량(MWh)', '6시 발전량(MWh)', '7시 발전량(MWh)', '8시 발전량(MWh)', '9시 발전량(MWh)', '10시 발전량(MWh)', '11시 발전량(MWh)', '12시 발전량(MWh)', '13시 발전량(MWh)', '14시 발전량(MWh)', '15시 발전량(MWh)', '16시 발전량(MWh)', '17시 발전량(MWh)', '18시 발전량(MWh)', '19시 발전량(MWh)', '20시 발전량(MWh)', '21시 발전량(MWh)', '22시 발전량(MWh)', '23시 발전량(MWh)', '24시 발전량(MWh)', '총량(KW)', '평균(KW)', '최대(시간별)', '최소(시간별)', '최대', '최소']\n",
      "[2025-10-22 13:02:19,470]✅ INFO -    샘플:\n",
      "       발전구분  호기         일자  1시 발전량(MWh)  2시 발전량(MWh)  3시 발전량(MWh)  \\\n",
      "0     영동태양광   1 2022-06-30          0.0          0.0          0.0   \n",
      "1  삼천포태양광#5   1 2022-06-30          0.0          0.0          0.0   \n",
      "\n",
      "   4시 발전량(MWh)  5시 발전량(MWh)  6시 발전량(MWh)  7시 발전량(MWh)  ...  21시 발전량(MWh)  \\\n",
      "0          0.0            0          0.0        0.000  ...         0.000   \n",
      "1          0.0            0          0.0      131.049  ...      2496.236   \n",
      "\n",
      "   22시 발전량(MWh)  23시 발전량(MWh)  24시 발전량(MWh)     총량(KW)  평균(KW)  최대(시간별)  \\\n",
      "0         0.000         0.000         0.000      0.000       0     0.00   \n",
      "1      2472.359      2404.237        19.594  17206.671     717  2496.23   \n",
      "\n",
      "   최소(시간별)        최대  최소  \n",
      "0     0.00     0.000   0  \n",
      "1    10.66  2496.236   0  \n",
      "\n",
      "[2 rows x 33 columns]\n",
      "[2025-10-22 13:02:19,492]✅ INFO - 📄 '남동발전량_2022_07.csv' 읽기 성공 (utf-8)\n"
     ]
    },
    {
     "name": "stderr",
     "output_type": "stream",
     "text": [
      "C:\\Users\\baesa\\AppData\\Local\\Temp\\ipykernel_23424\\4114509180.py:45: ParserWarning: Length of header or names does not match length of data. This leads to a loss of data with index_col=False.\n",
      "  df = pd.read_csv(path, encoding=\"utf-8\", delimiter=delim, index_col=False)\n",
      "C:\\Users\\baesa\\AppData\\Local\\Temp\\ipykernel_23424\\4114509180.py:45: ParserWarning: Length of header or names does not match length of data. This leads to a loss of data with index_col=False.\n",
      "  df = pd.read_csv(path, encoding=\"utf-8\", delimiter=delim, index_col=False)\n"
     ]
    },
    {
     "name": "stdout",
     "output_type": "stream",
     "text": [
      "[2025-10-22 13:02:19,499]✅ INFO - 📄 남동발전량_2022_07.csv 불러옴 (682행)\n",
      "[2025-10-22 13:02:19,502]✅ INFO -    컬럼: ['발전구분', '호기', '일자', '1시 발전량(MWh)', '2시 발전량(MWh)', '3시 발전량(MWh)', '4시 발전량(MWh)', '5시 발전량(MWh)', '6시 발전량(MWh)', '7시 발전량(MWh)', '8시 발전량(MWh)', '9시 발전량(MWh)', '10시 발전량(MWh)', '11시 발전량(MWh)', '12시 발전량(MWh)', '13시 발전량(MWh)', '14시 발전량(MWh)', '15시 발전량(MWh)', '16시 발전량(MWh)', '17시 발전량(MWh)', '18시 발전량(MWh)', '19시 발전량(MWh)', '20시 발전량(MWh)', '21시 발전량(MWh)', '22시 발전량(MWh)', '23시 발전량(MWh)', '24시 발전량(MWh)', '총량(KW)', '평균(KW)', '최대(시간별)', '최소(시간별)', '최대', '최소']\n",
      "[2025-10-22 13:02:19,526]✅ INFO -    샘플:\n",
      "       발전구분  호기         일자  1시 발전량(MWh)  2시 발전량(MWh)  3시 발전량(MWh)  \\\n",
      "0     영동태양광   1 2022-07-31      582.336       581.28      374.784   \n",
      "1  삼천포태양광#5   1 2022-07-31        0.000         0.00        0.000   \n",
      "\n",
      "   4시 발전량(MWh)  5시 발전량(MWh)  6시 발전량(MWh)  7시 발전량(MWh)  ...  21시 발전량(MWh)  \\\n",
      "0          0.0            0          0.0          0.0  ...           0.0   \n",
      "1          0.0            0          0.0          0.0  ...           0.0   \n",
      "\n",
      "   22시 발전량(MWh)  23시 발전량(MWh)  24시 발전량(MWh)    총량(KW)  평균(KW)  최대(시간별)  \\\n",
      "0           0.0           0.0       293.472  2252.352      94   582.33   \n",
      "1           0.0           0.0         0.000  2176.872      91   795.47   \n",
      "\n",
      "   최소(시간별)       최대  최소  \n",
      "0   12.768  582.336   0  \n",
      "1   47.000  795.474   0  \n",
      "\n",
      "[2 rows x 33 columns]\n"
     ]
    },
    {
     "name": "stderr",
     "output_type": "stream",
     "text": [
      "CSV 불러오기:  58%|█████▊    | 52/90 [00:03<00:02, 13.30it/s]C:\\Users\\baesa\\AppData\\Local\\Temp\\ipykernel_23424\\4114509180.py:45: ParserWarning: Length of header or names does not match length of data. This leads to a loss of data with index_col=False.\n",
      "  df = pd.read_csv(path, encoding=\"utf-8\", delimiter=delim, index_col=False)\n"
     ]
    },
    {
     "name": "stdout",
     "output_type": "stream",
     "text": [
      "[2025-10-22 13:02:19,553]✅ INFO - 📄 '남동발전량_2022_08.csv' 읽기 성공 (utf-8)\n",
      "[2025-10-22 13:02:19,562]✅ INFO - 📄 남동발전량_2022_08.csv 불러옴 (682행)\n",
      "[2025-10-22 13:02:19,564]✅ INFO -    컬럼: ['발전구분', '호기', '일자', '1시 발전량(MWh)', '2시 발전량(MWh)', '3시 발전량(MWh)', '4시 발전량(MWh)', '5시 발전량(MWh)', '6시 발전량(MWh)', '7시 발전량(MWh)', '8시 발전량(MWh)', '9시 발전량(MWh)', '10시 발전량(MWh)', '11시 발전량(MWh)', '12시 발전량(MWh)', '13시 발전량(MWh)', '14시 발전량(MWh)', '15시 발전량(MWh)', '16시 발전량(MWh)', '17시 발전량(MWh)', '18시 발전량(MWh)', '19시 발전량(MWh)', '20시 발전량(MWh)', '21시 발전량(MWh)', '22시 발전량(MWh)', '23시 발전량(MWh)', '24시 발전량(MWh)', '총량(KW)', '평균(KW)', '최대(시간별)', '최소(시간별)', '최대', '최소']\n",
      "[2025-10-22 13:02:19,583]✅ INFO -    샘플:\n",
      "       발전구분  호기         일자  1시 발전량(MWh)  2시 발전량(MWh)  3시 발전량(MWh)  \\\n",
      "0     영동태양광   1 2022-08-31          0.0          0.0          0.0   \n",
      "1  삼천포태양광#5   1 2022-08-31          0.0          0.0          0.0   \n",
      "\n",
      "   4시 발전량(MWh)  5시 발전량(MWh)  6시 발전량(MWh)  7시 발전량(MWh)  ...  21시 발전량(MWh)  \\\n",
      "0          0.0            0            0          0.0  ...         0.000   \n",
      "1          0.0            0            0          0.0  ...      2509.565   \n",
      "\n",
      "   22시 발전량(MWh)  23시 발전량(MWh)  24시 발전량(MWh)    총량(KW)  평균(KW)  최대(시간별)  \\\n",
      "0          0.00           0.0       278.208   622.080      26   278.20   \n",
      "1        433.37           0.0         0.000  5795.395     241  2509.56   \n",
      "\n",
      "   최소(시간별)        최대  최소  \n",
      "0    0.096   278.208   0  \n",
      "1    7.720  2509.565   0  \n",
      "\n",
      "[2 rows x 33 columns]\n",
      "[2025-10-22 13:02:19,603]✅ INFO - 📄 '남동발전량_2022_09.csv' 읽기 성공 (utf-8)\n",
      "[2025-10-22 13:02:19,614]✅ INFO - 📄 남동발전량_2022_09.csv 불러옴 (660행)\n",
      "[2025-10-22 13:02:19,616]✅ INFO -    컬럼: ['발전구분', '호기', '일자', '1시 발전량(MWh)', '2시 발전량(MWh)', '3시 발전량(MWh)', '4시 발전량(MWh)', '5시 발전량(MWh)', '6시 발전량(MWh)', '7시 발전량(MWh)', '8시 발전량(MWh)', '9시 발전량(MWh)', '10시 발전량(MWh)', '11시 발전량(MWh)', '12시 발전량(MWh)', '13시 발전량(MWh)', '14시 발전량(MWh)', '15시 발전량(MWh)', '16시 발전량(MWh)', '17시 발전량(MWh)', '18시 발전량(MWh)', '19시 발전량(MWh)', '20시 발전량(MWh)', '21시 발전량(MWh)', '22시 발전량(MWh)', '23시 발전량(MWh)', '24시 발전량(MWh)', '총량(KW)', '평균(KW)', '최대(시간별)', '최소(시간별)', '최대', '최소']\n"
     ]
    },
    {
     "name": "stderr",
     "output_type": "stream",
     "text": [
      "C:\\Users\\baesa\\AppData\\Local\\Temp\\ipykernel_23424\\4114509180.py:45: ParserWarning: Length of header or names does not match length of data. This leads to a loss of data with index_col=False.\n",
      "  df = pd.read_csv(path, encoding=\"utf-8\", delimiter=delim, index_col=False)\n"
     ]
    },
    {
     "name": "stdout",
     "output_type": "stream",
     "text": [
      "[2025-10-22 13:02:19,641]✅ INFO -    샘플:\n",
      "       발전구분  호기         일자  1시 발전량(MWh)  2시 발전량(MWh)  3시 발전량(MWh)  \\\n",
      "0     영동태양광   1 2022-09-30          0.0          0.0          0.0   \n",
      "1  삼천포태양광#5   1 2022-09-30          0.0          0.0          0.0   \n",
      "\n",
      "   4시 발전량(MWh)  5시 발전량(MWh)  6시 발전량(MWh)  7시 발전량(MWh)  ...  21시 발전량(MWh)  \\\n",
      "0          0.0            0          0.0        0.000  ...        98.496   \n",
      "1          0.0            0          0.0        7.232  ...      2520.205   \n",
      "\n",
      "   22시 발전량(MWh)  23시 발전량(MWh)  24시 발전량(MWh)     총량(KW)  평균(KW)  최대(시간별)  \\\n",
      "0         0.000           0.0           0.0   7239.936     302   823.96   \n",
      "1      1410.158           0.0           0.0  20898.726     871  2799.34   \n",
      "\n",
      "   최소(시간별)        최대  최소  \n",
      "0   18.336   823.968   0  \n",
      "1    7.230  2799.348   0  \n",
      "\n",
      "[2 rows x 33 columns]\n"
     ]
    },
    {
     "name": "stderr",
     "output_type": "stream",
     "text": [
      "CSV 불러오기:  60%|██████    | 54/90 [00:03<00:02, 14.33it/s]"
     ]
    },
    {
     "name": "stdout",
     "output_type": "stream",
     "text": [
      "[2025-10-22 13:02:19,664]✅ INFO - 📄 '남동발전량_2022_10.csv' 읽기 성공 (utf-8)\n",
      "[2025-10-22 13:02:19,675]✅ INFO - 📄 남동발전량_2022_10.csv 불러옴 (682행)\n",
      "[2025-10-22 13:02:19,677]✅ INFO -    컬럼: ['발전구분', '호기', '일자', '1시 발전량(MWh)', '2시 발전량(MWh)', '3시 발전량(MWh)', '4시 발전량(MWh)', '5시 발전량(MWh)', '6시 발전량(MWh)', '7시 발전량(MWh)', '8시 발전량(MWh)', '9시 발전량(MWh)', '10시 발전량(MWh)', '11시 발전량(MWh)', '12시 발전량(MWh)', '13시 발전량(MWh)', '14시 발전량(MWh)', '15시 발전량(MWh)', '16시 발전량(MWh)', '17시 발전량(MWh)', '18시 발전량(MWh)', '19시 발전량(MWh)', '20시 발전량(MWh)', '21시 발전량(MWh)', '22시 발전량(MWh)', '23시 발전량(MWh)', '24시 발전량(MWh)', '총량(KW)', '평균(KW)', '최대(시간별)', '최소(시간별)', '최대', '최소']\n",
      "[2025-10-22 13:02:19,700]✅ INFO -    샘플:\n",
      "       발전구분  호기         일자  1시 발전량(MWh)  2시 발전량(MWh)  3시 발전량(MWh)  \\\n",
      "0     영동태양광   1 2022-10-31          0.0            0            0   \n",
      "1  삼천포태양광#5   1 2022-10-31          0.0            0            0   \n",
      "\n",
      "   4시 발전량(MWh)  5시 발전량(MWh)  6시 발전량(MWh)  7시 발전량(MWh)  ...  21시 발전량(MWh)  \\\n",
      "0            0            0            0          0.0  ...       684.000   \n",
      "1            0            0            0          0.0  ...      2492.224   \n",
      "\n",
      "   22시 발전량(MWh)  23시 발전량(MWh)  24시 발전량(MWh)     총량(KW)  평균(KW)  최대(시간별)  \\\n",
      "0       511.584           0.0           0.0   3998.592     167   684.48   \n",
      "1      1198.292           0.0           0.0  18796.552     783  2492.22   \n",
      "\n",
      "   최소(시간별)        최대  최소  \n",
      "0    0.864   684.480   0  \n",
      "1   21.610  2492.224   0  \n",
      "\n",
      "[2 rows x 33 columns]\n",
      "[2025-10-22 13:02:19,716]✅ INFO - 📄 '남동발전량_2022_11.csv' 읽기 성공 (utf-8)\n"
     ]
    },
    {
     "name": "stderr",
     "output_type": "stream",
     "text": [
      "C:\\Users\\baesa\\AppData\\Local\\Temp\\ipykernel_23424\\4114509180.py:45: ParserWarning: Length of header or names does not match length of data. This leads to a loss of data with index_col=False.\n",
      "  df = pd.read_csv(path, encoding=\"utf-8\", delimiter=delim, index_col=False)\n",
      "C:\\Users\\baesa\\AppData\\Local\\Temp\\ipykernel_23424\\4114509180.py:45: ParserWarning: Length of header or names does not match length of data. This leads to a loss of data with index_col=False.\n",
      "  df = pd.read_csv(path, encoding=\"utf-8\", delimiter=delim, index_col=False)\n"
     ]
    },
    {
     "name": "stdout",
     "output_type": "stream",
     "text": [
      "[2025-10-22 13:02:19,728]✅ INFO - 📄 남동발전량_2022_11.csv 불러옴 (660행)\n",
      "[2025-10-22 13:02:19,730]✅ INFO -    컬럼: ['발전구분', '호기', '일자', '1시 발전량(MWh)', '2시 발전량(MWh)', '3시 발전량(MWh)', '4시 발전량(MWh)', '5시 발전량(MWh)', '6시 발전량(MWh)', '7시 발전량(MWh)', '8시 발전량(MWh)', '9시 발전량(MWh)', '10시 발전량(MWh)', '11시 발전량(MWh)', '12시 발전량(MWh)', '13시 발전량(MWh)', '14시 발전량(MWh)', '15시 발전량(MWh)', '16시 발전량(MWh)', '17시 발전량(MWh)', '18시 발전량(MWh)', '19시 발전량(MWh)', '20시 발전량(MWh)', '21시 발전량(MWh)', '22시 발전량(MWh)', '23시 발전량(MWh)', '24시 발전량(MWh)', '총량(KW)', '평균(KW)', '최대(시간별)', '최소(시간별)', '최대', '최소']\n",
      "[2025-10-22 13:02:19,758]✅ INFO -    샘플:\n",
      "       발전구분  호기         일자  1시 발전량(MWh)  2시 발전량(MWh)  3시 발전량(MWh)  \\\n",
      "0     영동태양광   1 2022-11-30          0.0            0            0   \n",
      "1  삼천포태양광#5   1 2022-11-30          0.0            0            0   \n",
      "\n",
      "   4시 발전량(MWh)  5시 발전량(MWh)  6시 발전량(MWh)  7시 발전량(MWh)  ...  21시 발전량(MWh)  \\\n",
      "0            0            0            0            0  ...       504.096   \n",
      "1            0            0            0            0  ...         0.000   \n",
      "\n",
      "   22시 발전량(MWh)  23시 발전량(MWh)  24시 발전량(MWh)    총량(KW)  평균(KW)  최대(시간별)  \\\n",
      "0           0.0           0.0           0.0  4130.976     172   686.59   \n",
      "1           0.0           0.0           0.0  8509.544     355  2470.89   \n",
      "\n",
      "   최소(시간별)        최대  최소  \n",
      "0   38.016   686.592   0  \n",
      "1   17.110  2470.890   0  \n",
      "\n",
      "[2 rows x 33 columns]\n"
     ]
    },
    {
     "name": "stderr",
     "output_type": "stream",
     "text": [
      "CSV 불러오기:  62%|██████▏   | 56/90 [00:03<00:02, 15.07it/s]C:\\Users\\baesa\\AppData\\Local\\Temp\\ipykernel_23424\\4114509180.py:45: ParserWarning: Length of header or names does not match length of data. This leads to a loss of data with index_col=False.\n",
      "  df = pd.read_csv(path, encoding=\"utf-8\", delimiter=delim, index_col=False)\n"
     ]
    },
    {
     "name": "stdout",
     "output_type": "stream",
     "text": [
      "[2025-10-22 13:02:19,781]✅ INFO - 📄 '남동발전량_2022_12.csv' 읽기 성공 (utf-8)\n",
      "[2025-10-22 13:02:19,795]✅ INFO - 📄 남동발전량_2022_12.csv 불러옴 (682행)\n",
      "[2025-10-22 13:02:19,798]✅ INFO -    컬럼: ['발전구분', '호기', '일자', '1시 발전량(MWh)', '2시 발전량(MWh)', '3시 발전량(MWh)', '4시 발전량(MWh)', '5시 발전량(MWh)', '6시 발전량(MWh)', '7시 발전량(MWh)', '8시 발전량(MWh)', '9시 발전량(MWh)', '10시 발전량(MWh)', '11시 발전량(MWh)', '12시 발전량(MWh)', '13시 발전량(MWh)', '14시 발전량(MWh)', '15시 발전량(MWh)', '16시 발전량(MWh)', '17시 발전량(MWh)', '18시 발전량(MWh)', '19시 발전량(MWh)', '20시 발전량(MWh)', '21시 발전량(MWh)', '22시 발전량(MWh)', '23시 발전량(MWh)', '24시 발전량(MWh)', '총량(KW)', '평균(KW)', '최대(시간별)', '최소(시간별)', '최대', '최소']\n",
      "[2025-10-22 13:02:19,819]✅ INFO -    샘플:\n",
      "       발전구분  호기         일자  1시 발전량(MWh)  2시 발전량(MWh)  3시 발전량(MWh)  \\\n",
      "0     영동태양광   1 2022-12-31          0.0            0          0.0   \n",
      "1  삼천포태양광#5   1 2022-12-31          0.0            0          0.0   \n",
      "\n",
      "   4시 발전량(MWh)  5시 발전량(MWh)  6시 발전량(MWh)  7시 발전량(MWh)  ...  21시 발전량(MWh)  \\\n",
      "0          0.0            0            0            0  ...       542.016   \n",
      "1          0.0            0            0            0  ...       526.262   \n",
      "\n",
      "   22시 발전량(MWh)  23시 발전량(MWh)  24시 발전량(MWh)     총량(KW)  평균(KW)  최대(시간별)  \\\n",
      "0           0.0           0.0           0.0   3762.816     157   690.91   \n",
      "1           0.0           0.0           0.0  17649.706     735  3001.18   \n",
      "\n",
      "   최소(시간별)        최대  최소  \n",
      "0   16.896   690.912   0  \n",
      "1    1.460  3001.185   0  \n",
      "\n",
      "[2 rows x 33 columns]\n"
     ]
    },
    {
     "name": "stderr",
     "output_type": "stream",
     "text": [
      "C:\\Users\\baesa\\AppData\\Local\\Temp\\ipykernel_23424\\4114509180.py:45: ParserWarning: Length of header or names does not match length of data. This leads to a loss of data with index_col=False.\n",
      "  df = pd.read_csv(path, encoding=\"utf-8\", delimiter=delim, index_col=False)\n"
     ]
    },
    {
     "name": "stdout",
     "output_type": "stream",
     "text": [
      "[2025-10-22 13:02:19,838]✅ INFO - 📄 '남동발전량_2023_01.csv' 읽기 성공 (utf-8)\n",
      "[2025-10-22 13:02:19,851]✅ INFO - 📄 남동발전량_2023_01.csv 불러옴 (682행)\n",
      "[2025-10-22 13:02:19,854]✅ INFO -    컬럼: ['발전구분', '호기', '일자', '1시 발전량(MWh)', '2시 발전량(MWh)', '3시 발전량(MWh)', '4시 발전량(MWh)', '5시 발전량(MWh)', '6시 발전량(MWh)', '7시 발전량(MWh)', '8시 발전량(MWh)', '9시 발전량(MWh)', '10시 발전량(MWh)', '11시 발전량(MWh)', '12시 발전량(MWh)', '13시 발전량(MWh)', '14시 발전량(MWh)', '15시 발전량(MWh)', '16시 발전량(MWh)', '17시 발전량(MWh)', '18시 발전량(MWh)', '19시 발전량(MWh)', '20시 발전량(MWh)', '21시 발전량(MWh)', '22시 발전량(MWh)', '23시 발전량(MWh)', '24시 발전량(MWh)', '총량(KW)', '평균(KW)', '최대(시간별)', '최소(시간별)', '최대', '최소']\n",
      "[2025-10-22 13:02:19,870]✅ INFO -    샘플:\n",
      "       발전구분  호기         일자  1시 발전량(MWh)  2시 발전량(MWh)  3시 발전량(MWh)  \\\n",
      "0     영동태양광   1 2023-01-31          0.0          0.0            0   \n",
      "1  삼천포태양광#5   1 2023-01-31          0.0          0.0            0   \n",
      "\n",
      "   4시 발전량(MWh)  5시 발전량(MWh)  6시 발전량(MWh)  7시 발전량(MWh)  ...  21시 발전량(MWh)  \\\n",
      "0            0          0.0            0            0  ...       524.352   \n",
      "1            0          0.0            0            0  ...       248.406   \n",
      "\n",
      "   22시 발전량(MWh)  23시 발전량(MWh)  24시 발전량(MWh)     총량(KW)  평균(KW)  최대(시간별)  \\\n",
      "0           0.0           0.0           0.0   3959.424     165   690.43   \n",
      "1           0.0           0.0           0.0  20683.740     862  3242.95   \n",
      "\n",
      "   최소(시간별)        최대  최소  \n",
      "0   21.408   690.432   0  \n",
      "1    8.300  3242.954   0  \n",
      "\n",
      "[2 rows x 33 columns]\n"
     ]
    },
    {
     "name": "stderr",
     "output_type": "stream",
     "text": [
      "CSV 불러오기:  64%|██████▍   | 58/90 [00:03<00:02, 15.67it/s]"
     ]
    },
    {
     "name": "stdout",
     "output_type": "stream",
     "text": [
      "[2025-10-22 13:02:19,893]✅ INFO - 📄 '남동발전량_2023_02.csv' 읽기 성공 (utf-8)\n",
      "[2025-10-22 13:02:19,903]✅ INFO - 📄 남동발전량_2023_02.csv 불러옴 (616행)\n",
      "[2025-10-22 13:02:19,907]✅ INFO -    컬럼: ['발전구분', '호기', '일자', '1시 발전량(MWh)', '2시 발전량(MWh)', '3시 발전량(MWh)', '4시 발전량(MWh)', '5시 발전량(MWh)', '6시 발전량(MWh)', '7시 발전량(MWh)', '8시 발전량(MWh)', '9시 발전량(MWh)', '10시 발전량(MWh)', '11시 발전량(MWh)', '12시 발전량(MWh)', '13시 발전량(MWh)', '14시 발전량(MWh)', '15시 발전량(MWh)', '16시 발전량(MWh)', '17시 발전량(MWh)', '18시 발전량(MWh)', '19시 발전량(MWh)', '20시 발전량(MWh)', '21시 발전량(MWh)', '22시 발전량(MWh)', '23시 발전량(MWh)', '24시 발전량(MWh)', '총량(KW)', '평균(KW)', '최대(시간별)', '최소(시간별)', '최대', '최소']\n",
      "[2025-10-22 13:02:19,926]✅ INFO -    샘플:\n",
      "       발전구분  호기         일자  1시 발전량(MWh)  2시 발전량(MWh)  3시 발전량(MWh)  \\\n",
      "0     영동태양광   1 2023-02-28          0.0            0            0   \n",
      "1  삼천포태양광#5   1 2023-02-28          0.0            0            0   \n",
      "\n",
      "   4시 발전량(MWh)  5시 발전량(MWh)  6시 발전량(MWh)  7시 발전량(MWh)  ...  21시 발전량(MWh)  \\\n",
      "0            0            0            0            0  ...       372.384   \n",
      "1            0            0            0            0  ...      2506.508   \n",
      "\n",
      "   22시 발전량(MWh)  23시 발전량(MWh)  24시 발전량(MWh)     총량(KW)  평균(KW)  최대(시간별)  \\\n",
      "0         0.000           0.0           0.0   3674.592     153   690.24   \n",
      "1       925.532           0.0           0.0  23687.002     987  3076.49   \n",
      "\n",
      "   최소(시간별)        최대  최소  \n",
      "0    40.32   690.240   0  \n",
      "1    75.76  3076.492   0  \n",
      "\n",
      "[2 rows x 33 columns]\n",
      "[2025-10-22 13:02:19,946]✅ INFO - 📄 '남동발전량_2023_03.csv' 읽기 성공 (utf-8)\n"
     ]
    },
    {
     "name": "stderr",
     "output_type": "stream",
     "text": [
      "C:\\Users\\baesa\\AppData\\Local\\Temp\\ipykernel_23424\\4114509180.py:45: ParserWarning: Length of header or names does not match length of data. This leads to a loss of data with index_col=False.\n",
      "  df = pd.read_csv(path, encoding=\"utf-8\", delimiter=delim, index_col=False)\n",
      "C:\\Users\\baesa\\AppData\\Local\\Temp\\ipykernel_23424\\4114509180.py:45: ParserWarning: Length of header or names does not match length of data. This leads to a loss of data with index_col=False.\n",
      "  df = pd.read_csv(path, encoding=\"utf-8\", delimiter=delim, index_col=False)\n"
     ]
    },
    {
     "name": "stdout",
     "output_type": "stream",
     "text": [
      "[2025-10-22 13:02:19,956]✅ INFO - 📄 남동발전량_2023_03.csv 불러옴 (682행)\n",
      "[2025-10-22 13:02:19,961]✅ INFO -    컬럼: ['발전구분', '호기', '일자', '1시 발전량(MWh)', '2시 발전량(MWh)', '3시 발전량(MWh)', '4시 발전량(MWh)', '5시 발전량(MWh)', '6시 발전량(MWh)', '7시 발전량(MWh)', '8시 발전량(MWh)', '9시 발전량(MWh)', '10시 발전량(MWh)', '11시 발전량(MWh)', '12시 발전량(MWh)', '13시 발전량(MWh)', '14시 발전량(MWh)', '15시 발전량(MWh)', '16시 발전량(MWh)', '17시 발전량(MWh)', '18시 발전량(MWh)', '19시 발전량(MWh)', '20시 발전량(MWh)', '21시 발전량(MWh)', '22시 발전량(MWh)', '23시 발전량(MWh)', '24시 발전량(MWh)', '총량(KW)', '평균(KW)', '최대(시간별)', '최소(시간별)', '최대', '최소']\n",
      "[2025-10-22 13:02:19,981]✅ INFO -    샘플:\n",
      "       발전구분  호기         일자  1시 발전량(MWh)  2시 발전량(MWh)  3시 발전량(MWh)  \\\n",
      "0     영동태양광   1 2023-03-31          0.0            0            0   \n",
      "1  삼천포태양광#5   1 2023-03-31          0.0            0            0   \n",
      "\n",
      "   4시 발전량(MWh)  5시 발전량(MWh)  6시 발전량(MWh)  7시 발전량(MWh)  ...  21시 발전량(MWh)  \\\n",
      "0            0            0            0        0.000  ...       651.360   \n",
      "1            0            0            0       25.311  ...      2531.053   \n",
      "\n",
      "   22시 발전량(MWh)  23시 발전량(MWh)  24시 발전량(MWh)     총량(KW)  평균(KW)  최대(시간별)  \\\n",
      "0        51.552           0.0           0.0   5309.088     221   690.62   \n",
      "1       997.958           0.0           0.0  23387.607     974  2795.58   \n",
      "\n",
      "   최소(시간별)        최대  최소  \n",
      "0   20.544   690.624   0  \n",
      "1   25.310  2795.581   0  \n",
      "\n",
      "[2 rows x 33 columns]\n"
     ]
    },
    {
     "name": "stderr",
     "output_type": "stream",
     "text": [
      "CSV 불러오기:  67%|██████▋   | 60/90 [00:04<00:01, 16.44it/s]"
     ]
    },
    {
     "name": "stdout",
     "output_type": "stream",
     "text": [
      "[2025-10-22 13:02:20,001]✅ INFO - 📄 '남동발전량_2023_04.csv' 읽기 성공 (utf-8)\n",
      "[2025-10-22 13:02:20,012]✅ INFO - 📄 남동발전량_2023_04.csv 불러옴 (660행)\n"
     ]
    },
    {
     "name": "stderr",
     "output_type": "stream",
     "text": [
      "C:\\Users\\baesa\\AppData\\Local\\Temp\\ipykernel_23424\\4114509180.py:45: ParserWarning: Length of header or names does not match length of data. This leads to a loss of data with index_col=False.\n",
      "  df = pd.read_csv(path, encoding=\"utf-8\", delimiter=delim, index_col=False)\n"
     ]
    },
    {
     "name": "stdout",
     "output_type": "stream",
     "text": [
      "[2025-10-22 13:02:20,013]✅ INFO -    컬럼: ['발전구분', '호기', '일자', '1시 발전량(MWh)', '2시 발전량(MWh)', '3시 발전량(MWh)', '4시 발전량(MWh)', '5시 발전량(MWh)', '6시 발전량(MWh)', '7시 발전량(MWh)', '8시 발전량(MWh)', '9시 발전량(MWh)', '10시 발전량(MWh)', '11시 발전량(MWh)', '12시 발전량(MWh)', '13시 발전량(MWh)', '14시 발전량(MWh)', '15시 발전량(MWh)', '16시 발전량(MWh)', '17시 발전량(MWh)', '18시 발전량(MWh)', '19시 발전량(MWh)', '20시 발전량(MWh)', '21시 발전량(MWh)', '22시 발전량(MWh)', '23시 발전량(MWh)', '24시 발전량(MWh)', '총량(KW)', '평균(KW)', '최대(시간별)', '최소(시간별)', '최대', '최소']\n",
      "[2025-10-22 13:02:20,030]✅ INFO -    샘플:\n",
      "       발전구분  호기         일자  1시 발전량(MWh)  2시 발전량(MWh)  3시 발전량(MWh)  \\\n",
      "0     영동태양광   1 2023-04-30          0.0            0            0   \n",
      "1  삼천포태양광#5   1 2023-04-30          0.0            0            0   \n",
      "\n",
      "   4시 발전량(MWh)  5시 발전량(MWh)  6시 발전량(MWh)  7시 발전량(MWh)  ...  21시 발전량(MWh)  \\\n",
      "0            0            0          0.0          0.0  ...           0.0   \n",
      "1            0            0          0.0          0.0  ...           0.0   \n",
      "\n",
      "   22시 발전량(MWh)  23시 발전량(MWh)  24시 발전량(MWh)  총량(KW)  평균(KW)  최대(시간별)  최소(시간별)  \\\n",
      "0           0.0           0.0           0.0     0.0       0      0.0      0.0   \n",
      "1           0.0           0.0           0.0     0.0       0      0.0      0.0   \n",
      "\n",
      "    최대  최소  \n",
      "0  0.0   0  \n",
      "1  0.0   0  \n",
      "\n",
      "[2 rows x 33 columns]\n",
      "[2025-10-22 13:02:20,047]✅ INFO - 📄 '남동발전량_2023_05.csv' 읽기 성공 (utf-8)\n",
      "[2025-10-22 13:02:20,058]✅ INFO - 📄 남동발전량_2023_05.csv 불러옴 (682행)\n"
     ]
    },
    {
     "name": "stderr",
     "output_type": "stream",
     "text": [
      "C:\\Users\\baesa\\AppData\\Local\\Temp\\ipykernel_23424\\4114509180.py:45: ParserWarning: Length of header or names does not match length of data. This leads to a loss of data with index_col=False.\n",
      "  df = pd.read_csv(path, encoding=\"utf-8\", delimiter=delim, index_col=False)\n"
     ]
    },
    {
     "name": "stdout",
     "output_type": "stream",
     "text": [
      "[2025-10-22 13:02:20,059]✅ INFO -    컬럼: ['발전구분', '호기', '일자', '1시 발전량(MWh)', '2시 발전량(MWh)', '3시 발전량(MWh)', '4시 발전량(MWh)', '5시 발전량(MWh)', '6시 발전량(MWh)', '7시 발전량(MWh)', '8시 발전량(MWh)', '9시 발전량(MWh)', '10시 발전량(MWh)', '11시 발전량(MWh)', '12시 발전량(MWh)', '13시 발전량(MWh)', '14시 발전량(MWh)', '15시 발전량(MWh)', '16시 발전량(MWh)', '17시 발전량(MWh)', '18시 발전량(MWh)', '19시 발전량(MWh)', '20시 발전량(MWh)', '21시 발전량(MWh)', '22시 발전량(MWh)', '23시 발전량(MWh)', '24시 발전량(MWh)', '총량(KW)', '평균(KW)', '최대(시간별)', '최소(시간별)', '최대', '최소']\n",
      "[2025-10-22 13:02:20,081]✅ INFO -    샘플:\n",
      "       발전구분  호기         일자  1시 발전량(MWh)  2시 발전량(MWh)  3시 발전량(MWh)  \\\n",
      "0     영동태양광   1 2023-05-31          0.0            0            0   \n",
      "1  삼천포태양광#5   1 2023-05-31          0.0            0            0   \n",
      "\n",
      "   4시 발전량(MWh)  5시 발전량(MWh)  6시 발전량(MWh)  7시 발전량(MWh)  ...  21시 발전량(MWh)  \\\n",
      "0            0            0        0.000       16.224  ...       655.584   \n",
      "1            0            0        7.255      198.190  ...      2501.617   \n",
      "\n",
      "   22시 발전량(MWh)  23시 발전량(MWh)  24시 발전량(MWh)     총량(KW)  평균(KW)  최대(시간별)  \\\n",
      "0        54.528           0.0           0.0   5621.952     234   702.43   \n",
      "1       925.764           0.0           0.0  22423.751     934  2691.13   \n",
      "\n",
      "   최소(시간별)        최대  최소  \n",
      "0   16.224   702.432   0  \n",
      "1    7.250  2691.132   0  \n",
      "\n",
      "[2 rows x 33 columns]\n"
     ]
    },
    {
     "name": "stderr",
     "output_type": "stream",
     "text": [
      "CSV 불러오기:  69%|██████▉   | 62/90 [00:04<00:01, 17.34it/s]"
     ]
    },
    {
     "name": "stdout",
     "output_type": "stream",
     "text": [
      "[2025-10-22 13:02:20,104]✅ INFO - 📄 '남동발전량_2023_06.csv' 읽기 성공 (utf-8)\n",
      "[2025-10-22 13:02:20,115]✅ INFO - 📄 남동발전량_2023_06.csv 불러옴 (660행)\n",
      "[2025-10-22 13:02:20,117]✅ INFO -    컬럼: ['발전구분', '호기', '일자', '1시 발전량(MWh)', '2시 발전량(MWh)', '3시 발전량(MWh)', '4시 발전량(MWh)', '5시 발전량(MWh)', '6시 발전량(MWh)', '7시 발전량(MWh)', '8시 발전량(MWh)', '9시 발전량(MWh)', '10시 발전량(MWh)', '11시 발전량(MWh)', '12시 발전량(MWh)', '13시 발전량(MWh)', '14시 발전량(MWh)', '15시 발전량(MWh)', '16시 발전량(MWh)', '17시 발전량(MWh)', '18시 발전량(MWh)', '19시 발전량(MWh)', '20시 발전량(MWh)', '21시 발전량(MWh)', '22시 발전량(MWh)', '23시 발전량(MWh)', '24시 발전량(MWh)', '총량(KW)', '평균(KW)', '최대(시간별)', '최소(시간별)', '최대', '최소']\n",
      "[2025-10-22 13:02:20,140]✅ INFO -    샘플:\n",
      "       발전구분  호기         일자  1시 발전량(MWh)  2시 발전량(MWh)  3시 발전량(MWh)  \\\n",
      "0     영동태양광   1 2023-06-30          0.0            0            0   \n",
      "1  삼천포태양광#5   1 2023-06-30          0.0            0            0   \n",
      "\n",
      "   4시 발전량(MWh)  5시 발전량(MWh)  6시 발전량(MWh)  7시 발전량(MWh)  ...  21시 발전량(MWh)  \\\n",
      "0            0            0          0.0          0.0  ...         2.016   \n",
      "1            0            0          0.0          0.0  ...         0.000   \n",
      "\n",
      "   22시 발전량(MWh)  23시 발전량(MWh)  24시 발전량(MWh)    총량(KW)  평균(KW)  최대(시간별)  \\\n",
      "0           0.0             0           0.0  1559.904      65   685.82   \n",
      "1           0.0             0           0.0  2754.178     115  1138.15   \n",
      "\n",
      "   최소(시간별)        최대  최소  \n",
      "0    2.016   685.824   0  \n",
      "1    0.745  1138.158   0  \n",
      "\n",
      "[2 rows x 33 columns]\n",
      "[2025-10-22 13:02:20,162]✅ INFO - 📄 '남동발전량_2023_07.csv' 읽기 성공 (utf-8)\n"
     ]
    },
    {
     "name": "stderr",
     "output_type": "stream",
     "text": [
      "C:\\Users\\baesa\\AppData\\Local\\Temp\\ipykernel_23424\\4114509180.py:45: ParserWarning: Length of header or names does not match length of data. This leads to a loss of data with index_col=False.\n",
      "  df = pd.read_csv(path, encoding=\"utf-8\", delimiter=delim, index_col=False)\n",
      "C:\\Users\\baesa\\AppData\\Local\\Temp\\ipykernel_23424\\4114509180.py:45: ParserWarning: Length of header or names does not match length of data. This leads to a loss of data with index_col=False.\n",
      "  df = pd.read_csv(path, encoding=\"utf-8\", delimiter=delim, index_col=False)\n"
     ]
    },
    {
     "name": "stdout",
     "output_type": "stream",
     "text": [
      "[2025-10-22 13:02:20,175]✅ INFO - 📄 남동발전량_2023_07.csv 불러옴 (682행)\n",
      "[2025-10-22 13:02:20,176]✅ INFO -    컬럼: ['발전구분', '호기', '일자', '1시 발전량(MWh)', '2시 발전량(MWh)', '3시 발전량(MWh)', '4시 발전량(MWh)', '5시 발전량(MWh)', '6시 발전량(MWh)', '7시 발전량(MWh)', '8시 발전량(MWh)', '9시 발전량(MWh)', '10시 발전량(MWh)', '11시 발전량(MWh)', '12시 발전량(MWh)', '13시 발전량(MWh)', '14시 발전량(MWh)', '15시 발전량(MWh)', '16시 발전량(MWh)', '17시 발전량(MWh)', '18시 발전량(MWh)', '19시 발전량(MWh)', '20시 발전량(MWh)', '21시 발전량(MWh)', '22시 발전량(MWh)', '23시 발전량(MWh)', '24시 발전량(MWh)', '총량(KW)', '평균(KW)', '최대(시간별)', '최소(시간별)', '최대', '최소']\n",
      "[2025-10-22 13:02:20,197]✅ INFO -    샘플:\n",
      "       발전구분  호기         일자  1시 발전량(MWh)  2시 발전량(MWh)  3시 발전량(MWh)  \\\n",
      "0     영동태양광   1 2023-07-31            0            0            0   \n",
      "1  삼천포태양광#5   1 2023-07-31            0            0            0   \n",
      "\n",
      "   4시 발전량(MWh)  5시 발전량(MWh)  6시 발전량(MWh)  7시 발전량(MWh)  ...  21시 발전량(MWh)  \\\n",
      "0            0            0          0.0        0.000  ...       378.048   \n",
      "1            0            0          0.0       76.551  ...       129.004   \n",
      "\n",
      "   22시 발전량(MWh)  23시 발전량(MWh)  24시 발전량(MWh)     총량(KW)  평균(KW)  최대(시간별)  \\\n",
      "0           0.0             0           0.0   4056.672     169   686.68   \n",
      "1           0.0             0           0.0  18825.925     784  2529.31   \n",
      "\n",
      "   최소(시간별)        최대  최소  \n",
      "0   11.136   686.688   0  \n",
      "1   76.550  2529.314   0  \n",
      "\n",
      "[2 rows x 33 columns]\n"
     ]
    },
    {
     "name": "stderr",
     "output_type": "stream",
     "text": [
      "CSV 불러오기:  71%|███████   | 64/90 [00:04<00:01, 17.36it/s]"
     ]
    },
    {
     "name": "stdout",
     "output_type": "stream",
     "text": [
      "[2025-10-22 13:02:20,228]✅ INFO - 📄 '남동발전량_2023_08.csv' 읽기 성공 (utf-8)\n"
     ]
    },
    {
     "name": "stderr",
     "output_type": "stream",
     "text": [
      "C:\\Users\\baesa\\AppData\\Local\\Temp\\ipykernel_23424\\4114509180.py:45: ParserWarning: Length of header or names does not match length of data. This leads to a loss of data with index_col=False.\n",
      "  df = pd.read_csv(path, encoding=\"utf-8\", delimiter=delim, index_col=False)\n"
     ]
    },
    {
     "name": "stdout",
     "output_type": "stream",
     "text": [
      "[2025-10-22 13:02:20,246]✅ INFO - 📄 남동발전량_2023_08.csv 불러옴 (682행)\n",
      "[2025-10-22 13:02:20,252]✅ INFO -    컬럼: ['발전구분', '호기', '일자', '1시 발전량(MWh)', '2시 발전량(MWh)', '3시 발전량(MWh)', '4시 발전량(MWh)', '5시 발전량(MWh)', '6시 발전량(MWh)', '7시 발전량(MWh)', '8시 발전량(MWh)', '9시 발전량(MWh)', '10시 발전량(MWh)', '11시 발전량(MWh)', '12시 발전량(MWh)', '13시 발전량(MWh)', '14시 발전량(MWh)', '15시 발전량(MWh)', '16시 발전량(MWh)', '17시 발전량(MWh)', '18시 발전량(MWh)', '19시 발전량(MWh)', '20시 발전량(MWh)', '21시 발전량(MWh)', '22시 발전량(MWh)', '23시 발전량(MWh)', '24시 발전량(MWh)', '총량(KW)', '평균(KW)', '최대(시간별)', '최소(시간별)', '최대', '최소']\n",
      "[2025-10-22 13:02:20,279]✅ INFO -    샘플:\n",
      "       발전구분  호기         일자  1시 발전량(MWh)  2시 발전량(MWh)  3시 발전량(MWh)  \\\n",
      "0     영동태양광   1 2023-08-31            0            0            0   \n",
      "1  삼천포태양광#5   1 2023-08-31            0            0            0   \n",
      "\n",
      "   4시 발전량(MWh)  5시 발전량(MWh)  6시 발전량(MWh)  7시 발전량(MWh)  ...  21시 발전량(MWh)  \\\n",
      "0            0            0          0.0        0.000  ...         324.0   \n",
      "1            0            0          0.0        0.723  ...           0.0   \n",
      "\n",
      "   22시 발전량(MWh)  23시 발전량(MWh)  24시 발전량(MWh)     총량(KW)  평균(KW)  최대(시간별)  \\\n",
      "0           0.0             0           0.0   3714.432     155   686.49   \n",
      "1           0.0             0           0.0  11819.080     492  2538.64   \n",
      "\n",
      "   최소(시간별)        최대  최소  \n",
      "0    1.056   686.496   0  \n",
      "1    0.720  2538.646   0  \n",
      "\n",
      "[2 rows x 33 columns]\n",
      "[2025-10-22 13:02:20,300]✅ INFO - 📄 '남동발전량_2023_09.csv' 읽기 성공 (utf-8)\n",
      "[2025-10-22 13:02:20,312]✅ INFO - 📄 남동발전량_2023_09.csv 불러옴 (690행)\n",
      "[2025-10-22 13:02:20,317]✅ INFO -    컬럼: ['발전구분', '호기', '일자', '1시 발전량(MWh)', '2시 발전량(MWh)', '3시 발전량(MWh)', '4시 발전량(MWh)', '5시 발전량(MWh)', '6시 발전량(MWh)', '7시 발전량(MWh)', '8시 발전량(MWh)', '9시 발전량(MWh)', '10시 발전량(MWh)', '11시 발전량(MWh)', '12시 발전량(MWh)', '13시 발전량(MWh)', '14시 발전량(MWh)', '15시 발전량(MWh)', '16시 발전량(MWh)', '17시 발전량(MWh)', '18시 발전량(MWh)', '19시 발전량(MWh)', '20시 발전량(MWh)', '21시 발전량(MWh)', '22시 발전량(MWh)', '23시 발전량(MWh)', '24시 발전량(MWh)', '총량(KW)', '평균(KW)', '최대(시간별)', '최소(시간별)', '최대', '최소']\n",
      "[2025-10-22 13:02:20,337]✅ INFO -    샘플:\n",
      "       발전구분  호기         일자  1시 발전량(MWh)  2시 발전량(MWh)  3시 발전량(MWh)  \\\n",
      "0     영동태양광   1 2023-09-30            0            0            0   \n",
      "1  삼천포태양광#5   1 2023-09-30            0            0            0   \n",
      "\n",
      "   4시 발전량(MWh)  5시 발전량(MWh)  6시 발전량(MWh)  7시 발전량(MWh)  ...  21시 발전량(MWh)  \\\n",
      "0            0            0          0.0          0.0  ...           0.0   \n",
      "1            0            0          0.0          0.0  ...           0.0   \n",
      "\n",
      "   22시 발전량(MWh)  23시 발전량(MWh)  24시 발전량(MWh)  총량(KW)  평균(KW)  최대(시간별)  최소(시간별)  \\\n",
      "0           0.0             0           0.0     0.0       0      0.0      0.0   \n",
      "1           0.0             0           0.0     0.0       0      0.0      0.0   \n",
      "\n",
      "    최대  최소  \n",
      "0  0.0   0  \n",
      "1  0.0   0  \n",
      "\n",
      "[2 rows x 33 columns]\n"
     ]
    },
    {
     "name": "stderr",
     "output_type": "stream",
     "text": [
      "C:\\Users\\baesa\\AppData\\Local\\Temp\\ipykernel_23424\\4114509180.py:45: ParserWarning: Length of header or names does not match length of data. This leads to a loss of data with index_col=False.\n",
      "  df = pd.read_csv(path, encoding=\"utf-8\", delimiter=delim, index_col=False)\n",
      "CSV 불러오기:  73%|███████▎  | 66/90 [00:04<00:01, 16.24it/s]"
     ]
    },
    {
     "name": "stdout",
     "output_type": "stream",
     "text": [
      "[2025-10-22 13:02:20,360]✅ INFO - 📄 '남동발전량_2023_10.csv' 읽기 성공 (utf-8)\n",
      "[2025-10-22 13:02:20,371]✅ INFO - 📄 남동발전량_2023_10.csv 불러옴 (713행)\n",
      "[2025-10-22 13:02:20,376]✅ INFO -    컬럼: ['발전구분', '호기', '일자', '1시 발전량(MWh)', '2시 발전량(MWh)', '3시 발전량(MWh)', '4시 발전량(MWh)', '5시 발전량(MWh)', '6시 발전량(MWh)', '7시 발전량(MWh)', '8시 발전량(MWh)', '9시 발전량(MWh)', '10시 발전량(MWh)', '11시 발전량(MWh)', '12시 발전량(MWh)', '13시 발전량(MWh)', '14시 발전량(MWh)', '15시 발전량(MWh)', '16시 발전량(MWh)', '17시 발전량(MWh)', '18시 발전량(MWh)', '19시 발전량(MWh)', '20시 발전량(MWh)', '21시 발전량(MWh)', '22시 발전량(MWh)', '23시 발전량(MWh)', '24시 발전량(MWh)', '총량(KW)', '평균(KW)', '최대(시간별)', '최소(시간별)', '최대', '최소']\n",
      "[2025-10-22 13:02:20,395]✅ INFO -    샘플:\n",
      "       발전구분  호기         일자  1시 발전량(MWh)  2시 발전량(MWh)  3시 발전량(MWh)  \\\n",
      "0     영동태양광   1 2023-10-31            0            0            0   \n",
      "1  삼천포태양광#5   1 2023-10-31            0            0            0   \n",
      "\n",
      "   4시 발전량(MWh)  5시 발전량(MWh)  6시 발전량(MWh)  7시 발전량(MWh)  ...  21시 발전량(MWh)  \\\n",
      "0            0            0            0          0.0  ...       257.472   \n",
      "1            0            0            0          0.0  ...         0.000   \n",
      "\n",
      "   22시 발전량(MWh)  23시 발전량(MWh)  24시 발전량(MWh)     총량(KW)  평균(KW)  최대(시간별)  \\\n",
      "0             0             0           0.0   4471.488     186   691.96   \n",
      "1             0             0           0.0  18899.749     787  2825.01   \n",
      "\n",
      "   최소(시간별)        최대  최소  \n",
      "0    0.570   691.968   0  \n",
      "1   95.775  2825.016   0  \n",
      "\n",
      "[2 rows x 33 columns]\n"
     ]
    },
    {
     "name": "stderr",
     "output_type": "stream",
     "text": [
      "C:\\Users\\baesa\\AppData\\Local\\Temp\\ipykernel_23424\\4114509180.py:45: ParserWarning: Length of header or names does not match length of data. This leads to a loss of data with index_col=False.\n",
      "  df = pd.read_csv(path, encoding=\"utf-8\", delimiter=delim, index_col=False)\n"
     ]
    },
    {
     "name": "stdout",
     "output_type": "stream",
     "text": [
      "[2025-10-22 13:02:20,417]✅ INFO - 📄 '남동발전량_2023_11.csv' 읽기 성공 (utf-8)\n",
      "[2025-10-22 13:02:20,430]✅ INFO - 📄 남동발전량_2023_11.csv 불러옴 (690행)\n",
      "[2025-10-22 13:02:20,433]✅ INFO -    컬럼: ['발전구분', '호기', '일자', '1시 발전량(MWh)', '2시 발전량(MWh)', '3시 발전량(MWh)', '4시 발전량(MWh)', '5시 발전량(MWh)', '6시 발전량(MWh)', '7시 발전량(MWh)', '8시 발전량(MWh)', '9시 발전량(MWh)', '10시 발전량(MWh)', '11시 발전량(MWh)', '12시 발전량(MWh)', '13시 발전량(MWh)', '14시 발전량(MWh)', '15시 발전량(MWh)', '16시 발전량(MWh)', '17시 발전량(MWh)', '18시 발전량(MWh)', '19시 발전량(MWh)', '20시 발전량(MWh)', '21시 발전량(MWh)', '22시 발전량(MWh)', '23시 발전량(MWh)', '24시 발전량(MWh)', '총량(KW)', '평균(KW)', '최대(시간별)', '최소(시간별)', '최대', '최소']\n",
      "[2025-10-22 13:02:20,456]✅ INFO -    샘플:\n",
      "       발전구분  호기         일자  1시 발전량(MWh)  2시 발전량(MWh)  3시 발전량(MWh)  \\\n",
      "0     영동태양광   1 2023-11-30          0.0            0            0   \n",
      "1  삼천포태양광#5   1 2023-11-30          0.0            0            0   \n",
      "\n",
      "   4시 발전량(MWh)  5시 발전량(MWh)  6시 발전량(MWh)  7시 발전량(MWh)  ...  21시 발전량(MWh)  \\\n",
      "0            0            0            0          0.0  ...       139.488   \n",
      "1            0            0            0          0.0  ...         0.000   \n",
      "\n",
      "   22시 발전량(MWh)  23시 발전량(MWh)  24시 발전량(MWh)     총량(KW)  평균(KW)  최대(시간별)  \\\n",
      "0           0.0           0.0           0.0   4202.112     175   691.58   \n",
      "1           0.0           0.0           0.0  17982.045     749  3092.22   \n",
      "\n",
      "   최소(시간별)        최대  최소  \n",
      "0    9.408   691.584   0  \n",
      "1   22.770  3092.223   0  \n",
      "\n",
      "[2 rows x 33 columns]\n"
     ]
    },
    {
     "name": "stderr",
     "output_type": "stream",
     "text": [
      "C:\\Users\\baesa\\AppData\\Local\\Temp\\ipykernel_23424\\4114509180.py:45: ParserWarning: Length of header or names does not match length of data. This leads to a loss of data with index_col=False.\n",
      "  df = pd.read_csv(path, encoding=\"utf-8\", delimiter=delim, index_col=False)\n",
      "CSV 불러오기:  76%|███████▌  | 68/90 [00:04<00:01, 16.46it/s]"
     ]
    },
    {
     "name": "stdout",
     "output_type": "stream",
     "text": [
      "[2025-10-22 13:02:20,476]✅ INFO - 📄 '남동발전량_2023_12.csv' 읽기 성공 (utf-8)\n"
     ]
    },
    {
     "name": "stderr",
     "output_type": "stream",
     "text": [
      "C:\\Users\\baesa\\AppData\\Local\\Temp\\ipykernel_23424\\4114509180.py:45: ParserWarning: Length of header or names does not match length of data. This leads to a loss of data with index_col=False.\n",
      "  df = pd.read_csv(path, encoding=\"utf-8\", delimiter=delim, index_col=False)\n"
     ]
    },
    {
     "name": "stdout",
     "output_type": "stream",
     "text": [
      "[2025-10-22 13:02:20,487]✅ INFO - 📄 남동발전량_2023_12.csv 불러옴 (713행)\n",
      "[2025-10-22 13:02:20,490]✅ INFO -    컬럼: ['발전구분', '호기', '일자', '1시 발전량(MWh)', '2시 발전량(MWh)', '3시 발전량(MWh)', '4시 발전량(MWh)', '5시 발전량(MWh)', '6시 발전량(MWh)', '7시 발전량(MWh)', '8시 발전량(MWh)', '9시 발전량(MWh)', '10시 발전량(MWh)', '11시 발전량(MWh)', '12시 발전량(MWh)', '13시 발전량(MWh)', '14시 발전량(MWh)', '15시 발전량(MWh)', '16시 발전량(MWh)', '17시 발전량(MWh)', '18시 발전량(MWh)', '19시 발전량(MWh)', '20시 발전량(MWh)', '21시 발전량(MWh)', '22시 발전량(MWh)', '23시 발전량(MWh)', '24시 발전량(MWh)', '총량(KW)', '평균(KW)', '최대(시간별)', '최소(시간별)', '최대', '최소']\n",
      "[2025-10-22 13:02:20,511]✅ INFO -    샘플:\n",
      "       발전구분  호기         일자  1시 발전량(MWh)  2시 발전량(MWh)  3시 발전량(MWh)  \\\n",
      "0     영동태양광   1 2023-12-31            0            0            0   \n",
      "1  삼천포태양광#5   1 2023-12-31            0            0            0   \n",
      "\n",
      "   4시 발전량(MWh)  5시 발전량(MWh)  6시 발전량(MWh)  7시 발전량(MWh)  ...  21시 발전량(MWh)  \\\n",
      "0            0            0            0            0  ...           0.0   \n",
      "1            0            0            0            0  ...           0.0   \n",
      "\n",
      "   22시 발전량(MWh)  23시 발전량(MWh)  24시 발전량(MWh)     총량(KW)  평균(KW)  최대(시간별)  \\\n",
      "0             0             0           0.0    118.464       5    20.73   \n",
      "1             0             0           0.0  13975.292     582  2517.44   \n",
      "\n",
      "   최소(시간별)        최대  최소  \n",
      "0    6.240    20.736   0  \n",
      "1    0.376  2517.445   0  \n",
      "\n",
      "[2 rows x 33 columns]\n",
      "[2025-10-22 13:02:20,532]✅ INFO - 📄 '남동발전량_2024_01.csv' 읽기 성공 (utf-8)\n",
      "[2025-10-22 13:02:20,545]✅ INFO - 📄 남동발전량_2024_01.csv 불러옴 (713행)\n"
     ]
    },
    {
     "name": "stderr",
     "output_type": "stream",
     "text": [
      "C:\\Users\\baesa\\AppData\\Local\\Temp\\ipykernel_23424\\4114509180.py:45: ParserWarning: Length of header or names does not match length of data. This leads to a loss of data with index_col=False.\n",
      "  df = pd.read_csv(path, encoding=\"utf-8\", delimiter=delim, index_col=False)\n"
     ]
    },
    {
     "name": "stdout",
     "output_type": "stream",
     "text": [
      "[2025-10-22 13:02:20,548]✅ INFO -    컬럼: ['발전구분', '호기', '일자', '1시 발전량(MWh)', '2시 발전량(MWh)', '3시 발전량(MWh)', '4시 발전량(MWh)', '5시 발전량(MWh)', '6시 발전량(MWh)', '7시 발전량(MWh)', '8시 발전량(MWh)', '9시 발전량(MWh)', '10시 발전량(MWh)', '11시 발전량(MWh)', '12시 발전량(MWh)', '13시 발전량(MWh)', '14시 발전량(MWh)', '15시 발전량(MWh)', '16시 발전량(MWh)', '17시 발전량(MWh)', '18시 발전량(MWh)', '19시 발전량(MWh)', '20시 발전량(MWh)', '21시 발전량(MWh)', '22시 발전량(MWh)', '23시 발전량(MWh)', '24시 발전량(MWh)', '총량(KW)', '평균(KW)', '최대(시간별)', '최소(시간별)', '최대', '최소']\n",
      "[2025-10-22 13:02:20,569]✅ INFO -    샘플:\n",
      "       발전구분  호기         일자  1시 발전량(MWh)  2시 발전량(MWh)  3시 발전량(MWh)  \\\n",
      "0     영동태양광   1 2024-01-31            0            0            0   \n",
      "1  삼천포태양광#5   1 2024-01-31            0            0            0   \n",
      "\n",
      "   4시 발전량(MWh)  5시 발전량(MWh)  6시 발전량(MWh)  7시 발전량(MWh)  ...  21시 발전량(MWh)  \\\n",
      "0            0            0            0            0  ...       316.224   \n",
      "1            0            0            0            0  ...         0.000   \n",
      "\n",
      "   22시 발전량(MWh)  23시 발전량(MWh)  24시 발전량(MWh)     총량(KW)  평균(KW)  최대(시간별)  \\\n",
      "0             0             0           0.0   4267.680     178   700.80   \n",
      "1             0             0           0.0  11619.727     484  2531.31   \n",
      "\n",
      "   최소(시간별)        최대  최소  \n",
      "0    1.536   700.800   0  \n",
      "1   40.810  2531.311   0  \n",
      "\n",
      "[2 rows x 33 columns]\n"
     ]
    },
    {
     "name": "stderr",
     "output_type": "stream",
     "text": [
      "CSV 불러오기:  78%|███████▊  | 70/90 [00:04<00:01, 16.80it/s]C:\\Users\\baesa\\AppData\\Local\\Temp\\ipykernel_23424\\4114509180.py:45: ParserWarning: Length of header or names does not match length of data. This leads to a loss of data with index_col=False.\n",
      "  df = pd.read_csv(path, encoding=\"utf-8\", delimiter=delim, index_col=False)\n"
     ]
    },
    {
     "name": "stdout",
     "output_type": "stream",
     "text": [
      "[2025-10-22 13:02:20,597]✅ INFO - 📄 '남동발전량_2024_02.csv' 읽기 성공 (utf-8)\n",
      "[2025-10-22 13:02:20,608]✅ INFO - 📄 남동발전량_2024_02.csv 불러옴 (667행)\n",
      "[2025-10-22 13:02:20,611]✅ INFO -    컬럼: ['발전구분', '호기', '일자', '1시 발전량(MWh)', '2시 발전량(MWh)', '3시 발전량(MWh)', '4시 발전량(MWh)', '5시 발전량(MWh)', '6시 발전량(MWh)', '7시 발전량(MWh)', '8시 발전량(MWh)', '9시 발전량(MWh)', '10시 발전량(MWh)', '11시 발전량(MWh)', '12시 발전량(MWh)', '13시 발전량(MWh)', '14시 발전량(MWh)', '15시 발전량(MWh)', '16시 발전량(MWh)', '17시 발전량(MWh)', '18시 발전량(MWh)', '19시 발전량(MWh)', '20시 발전량(MWh)', '21시 발전량(MWh)', '22시 발전량(MWh)', '23시 발전량(MWh)', '24시 발전량(MWh)', '총량(KW)', '평균(KW)', '최대(시간별)', '최소(시간별)', '최대', '최소']\n",
      "[2025-10-22 13:02:20,628]✅ INFO -    샘플:\n",
      "       발전구분  호기         일자  1시 발전량(MWh)  2시 발전량(MWh)  3시 발전량(MWh)  \\\n",
      "0     영동태양광   1 2024-02-29            0            0            0   \n",
      "1  삼천포태양광#5   1 2024-02-29            0            0            0   \n",
      "\n",
      "   4시 발전량(MWh)  5시 발전량(MWh)  6시 발전량(MWh)  7시 발전량(MWh)  ...  21시 발전량(MWh)  \\\n",
      "0            0            0            0          0.0  ...           0.0   \n",
      "1            0            0            0          0.0  ...           0.0   \n",
      "\n",
      "   22시 발전량(MWh)  23시 발전량(MWh)  24시 발전량(MWh)    총량(KW)  평균(KW)  최대(시간별)  \\\n",
      "0           0.0             0           0.0  1442.688      60   691.58   \n",
      "1           0.0             0           0.0  2091.211      87   765.44   \n",
      "\n",
      "   최소(시간별)       최대  최소  \n",
      "0   21.024  691.584   0  \n",
      "1    4.683  765.444   0  \n",
      "\n",
      "[2 rows x 33 columns]\n"
     ]
    },
    {
     "name": "stderr",
     "output_type": "stream",
     "text": [
      "C:\\Users\\baesa\\AppData\\Local\\Temp\\ipykernel_23424\\4114509180.py:45: ParserWarning: Length of header or names does not match length of data. This leads to a loss of data with index_col=False.\n",
      "  df = pd.read_csv(path, encoding=\"utf-8\", delimiter=delim, index_col=False)\n"
     ]
    },
    {
     "name": "stdout",
     "output_type": "stream",
     "text": [
      "[2025-10-22 13:02:20,649]✅ INFO - 📄 '남동발전량_2024_03.csv' 읽기 성공 (utf-8)\n",
      "[2025-10-22 13:02:20,659]✅ INFO - 📄 남동발전량_2024_03.csv 불러옴 (713행)\n",
      "[2025-10-22 13:02:20,661]✅ INFO -    컬럼: ['발전구분', '호기', '일자', '1시 발전량(MWh)', '2시 발전량(MWh)', '3시 발전량(MWh)', '4시 발전량(MWh)', '5시 발전량(MWh)', '6시 발전량(MWh)', '7시 발전량(MWh)', '8시 발전량(MWh)', '9시 발전량(MWh)', '10시 발전량(MWh)', '11시 발전량(MWh)', '12시 발전량(MWh)', '13시 발전량(MWh)', '14시 발전량(MWh)', '15시 발전량(MWh)', '16시 발전량(MWh)', '17시 발전량(MWh)', '18시 발전량(MWh)', '19시 발전량(MWh)', '20시 발전량(MWh)', '21시 발전량(MWh)', '22시 발전량(MWh)', '23시 발전량(MWh)', '24시 발전량(MWh)', '총량(KW)', '평균(KW)', '최대(시간별)', '최소(시간별)', '최대', '최소']\n",
      "[2025-10-22 13:02:20,684]✅ INFO -    샘플:\n",
      "       발전구분  호기         일자  1시 발전량(MWh)  2시 발전량(MWh)  3시 발전량(MWh)  \\\n",
      "0     영동태양광   1 2024-03-31            0            0            0   \n",
      "1  삼천포태양광#5   1 2024-03-31            0            0            0   \n",
      "\n",
      "   4시 발전량(MWh)  5시 발전량(MWh)  6시 발전량(MWh)  7시 발전량(MWh)  ...  21시 발전량(MWh)  \\\n",
      "0            0            0            0        0.000  ...       547.584   \n",
      "1            0            0            0       22.497  ...         0.000   \n",
      "\n",
      "   22시 발전량(MWh)  23시 발전량(MWh)  24시 발전량(MWh)     총량(KW)  평균(KW)  최대(시간별)  \\\n",
      "0           0.0             0           0.0   5219.616     217   864.38   \n",
      "1           0.0             0           0.0  15105.057     629  2530.88   \n",
      "\n",
      "   최소(시간별)        최대  최소  \n",
      "0    10.08   864.384   0  \n",
      "1    22.49  2530.883   0  \n",
      "\n",
      "[2 rows x 33 columns]\n"
     ]
    },
    {
     "name": "stderr",
     "output_type": "stream",
     "text": [
      "CSV 불러오기:  80%|████████  | 72/90 [00:04<00:01, 16.94it/s]"
     ]
    },
    {
     "name": "stdout",
     "output_type": "stream",
     "text": [
      "[2025-10-22 13:02:20,710]✅ INFO - 📄 '남동발전량_2024_04.csv' 읽기 성공 (utf-8)\n"
     ]
    },
    {
     "name": "stderr",
     "output_type": "stream",
     "text": [
      "C:\\Users\\baesa\\AppData\\Local\\Temp\\ipykernel_23424\\4114509180.py:45: ParserWarning: Length of header or names does not match length of data. This leads to a loss of data with index_col=False.\n",
      "  df = pd.read_csv(path, encoding=\"utf-8\", delimiter=delim, index_col=False)\n"
     ]
    },
    {
     "name": "stdout",
     "output_type": "stream",
     "text": [
      "[2025-10-22 13:02:20,719]✅ INFO - 📄 남동발전량_2024_04.csv 불러옴 (690행)\n",
      "[2025-10-22 13:02:20,721]✅ INFO -    컬럼: ['발전구분', '호기', '일자', '1시 발전량(MWh)', '2시 발전량(MWh)', '3시 발전량(MWh)', '4시 발전량(MWh)', '5시 발전량(MWh)', '6시 발전량(MWh)', '7시 발전량(MWh)', '8시 발전량(MWh)', '9시 발전량(MWh)', '10시 발전량(MWh)', '11시 발전량(MWh)', '12시 발전량(MWh)', '13시 발전량(MWh)', '14시 발전량(MWh)', '15시 발전량(MWh)', '16시 발전량(MWh)', '17시 발전량(MWh)', '18시 발전량(MWh)', '19시 발전량(MWh)', '20시 발전량(MWh)', '21시 발전량(MWh)', '22시 발전량(MWh)', '23시 발전량(MWh)', '24시 발전량(MWh)', '총량(KW)', '평균(KW)', '최대(시간별)', '최소(시간별)', '최대', '최소']\n",
      "[2025-10-22 13:02:20,736]✅ INFO -    샘플:\n",
      "       발전구분  호기         일자  1시 발전량(MWh)  2시 발전량(MWh)  3시 발전량(MWh)  \\\n",
      "0     영동태양광   1 2024-04-30            0            0            0   \n",
      "1  삼천포태양광#5   1 2024-04-30            0            0            0   \n",
      "\n",
      "   4시 발전량(MWh)  5시 발전량(MWh)  6시 발전량(MWh)  7시 발전량(MWh)  ...  21시 발전량(MWh)  \\\n",
      "0            0            0          0.0        0.096  ...           0.0   \n",
      "1            0            0          0.0        2.019  ...           0.0   \n",
      "\n",
      "   22시 발전량(MWh)  23시 발전량(MWh)  24시 발전량(MWh)    총량(KW)  평균(KW)  최대(시간별)  \\\n",
      "0           0.0             0           0.0  1859.808      77   685.05   \n",
      "1           0.0             0           0.0  9211.831     384  2534.35   \n",
      "\n",
      "   최소(시간별)        최대  최소  \n",
      "0    0.096   685.056   0  \n",
      "1    2.019  2534.350   0  \n",
      "\n",
      "[2 rows x 33 columns]\n",
      "[2025-10-22 13:02:20,760]✅ INFO - 📄 '남동발전량_2024_05.csv' 읽기 성공 (utf-8)\n"
     ]
    },
    {
     "name": "stderr",
     "output_type": "stream",
     "text": [
      "C:\\Users\\baesa\\AppData\\Local\\Temp\\ipykernel_23424\\4114509180.py:45: ParserWarning: Length of header or names does not match length of data. This leads to a loss of data with index_col=False.\n",
      "  df = pd.read_csv(path, encoding=\"utf-8\", delimiter=delim, index_col=False)\n"
     ]
    },
    {
     "name": "stdout",
     "output_type": "stream",
     "text": [
      "[2025-10-22 13:02:20,771]✅ INFO - 📄 남동발전량_2024_05.csv 불러옴 (705행)\n",
      "[2025-10-22 13:02:20,776]✅ INFO -    컬럼: ['발전구분', '호기', '일자', '1시 발전량(MWh)', '2시 발전량(MWh)', '3시 발전량(MWh)', '4시 발전량(MWh)', '5시 발전량(MWh)', '6시 발전량(MWh)', '7시 발전량(MWh)', '8시 발전량(MWh)', '9시 발전량(MWh)', '10시 발전량(MWh)', '11시 발전량(MWh)', '12시 발전량(MWh)', '13시 발전량(MWh)', '14시 발전량(MWh)', '15시 발전량(MWh)', '16시 발전량(MWh)', '17시 발전량(MWh)', '18시 발전량(MWh)', '19시 발전량(MWh)', '20시 발전량(MWh)', '21시 발전량(MWh)', '22시 발전량(MWh)', '23시 발전량(MWh)', '24시 발전량(MWh)', '총량(KW)', '평균(KW)', '최대(시간별)', '최소(시간별)', '최대', '최소']\n",
      "[2025-10-22 13:02:20,796]✅ INFO -    샘플:\n",
      "       발전구분  호기         일자  1시 발전량(MWh)  2시 발전량(MWh)  3시 발전량(MWh)  \\\n",
      "0     영동태양광   1 2024-05-31            0            0            0   \n",
      "1  삼천포태양광#5   1 2024-05-31            0            0            0   \n",
      "\n",
      "   4시 발전량(MWh)  5시 발전량(MWh)  6시 발전량(MWh)  7시 발전량(MWh)  ...  21시 발전량(MWh)  \\\n",
      "0            0            0        0.000         5.28  ...       677.664   \n",
      "1            0            0        0.106        91.96  ...         0.000   \n",
      "\n",
      "   22시 발전량(MWh)  23시 발전량(MWh)  24시 발전량(MWh)     총량(KW)  평균(KW)  최대(시간별)  \\\n",
      "0       167.616             0           0.0   6014.688     251   813.88   \n",
      "1         0.000             0           0.0  15400.094     642  2536.80   \n",
      "\n",
      "   최소(시간별)        최대  최소  \n",
      "0     5.28   813.888   0  \n",
      "1     0.10  2536.806   0  \n",
      "\n",
      "[2 rows x 33 columns]\n"
     ]
    },
    {
     "name": "stderr",
     "output_type": "stream",
     "text": [
      "CSV 불러오기:  82%|████████▏ | 74/90 [00:04<00:00, 17.30it/s]"
     ]
    },
    {
     "name": "stdout",
     "output_type": "stream",
     "text": [
      "[2025-10-22 13:02:20,817]✅ INFO - 📄 '남동발전량_2024_06.csv' 읽기 성공 (utf-8)\n"
     ]
    },
    {
     "name": "stderr",
     "output_type": "stream",
     "text": [
      "C:\\Users\\baesa\\AppData\\Local\\Temp\\ipykernel_23424\\4114509180.py:45: ParserWarning: Length of header or names does not match length of data. This leads to a loss of data with index_col=False.\n",
      "  df = pd.read_csv(path, encoding=\"utf-8\", delimiter=delim, index_col=False)\n"
     ]
    },
    {
     "name": "stdout",
     "output_type": "stream",
     "text": [
      "[2025-10-22 13:02:20,828]✅ INFO - 📄 남동발전량_2024_06.csv 불러옴 (660행)\n",
      "[2025-10-22 13:02:20,830]✅ INFO -    컬럼: ['발전구분', '호기', '일자', '1시 발전량(MWh)', '2시 발전량(MWh)', '3시 발전량(MWh)', '4시 발전량(MWh)', '5시 발전량(MWh)', '6시 발전량(MWh)', '7시 발전량(MWh)', '8시 발전량(MWh)', '9시 발전량(MWh)', '10시 발전량(MWh)', '11시 발전량(MWh)', '12시 발전량(MWh)', '13시 발전량(MWh)', '14시 발전량(MWh)', '15시 발전량(MWh)', '16시 발전량(MWh)', '17시 발전량(MWh)', '18시 발전량(MWh)', '19시 발전량(MWh)', '20시 발전량(MWh)', '21시 발전량(MWh)', '22시 발전량(MWh)', '23시 발전량(MWh)', '24시 발전량(MWh)', '총량(KW)', '평균(KW)', '최대(시간별)', '최소(시간별)', '최대', '최소']\n",
      "[2025-10-22 13:02:20,848]✅ INFO -    샘플:\n",
      "       발전구분  호기         일자  1시 발전량(MWh)  2시 발전량(MWh)  3시 발전량(MWh)  \\\n",
      "0     영동태양광   1 2024-06-30            0            0            0   \n",
      "1  삼천포태양광#5   1 2024-06-30            0            0            0   \n",
      "\n",
      "   4시 발전량(MWh)  5시 발전량(MWh)  6시 발전량(MWh)  7시 발전량(MWh)  ...  21시 발전량(MWh)  \\\n",
      "0            0            0          0.0        0.000  ...         0.192   \n",
      "1            0            0          0.0        5.526  ...         0.000   \n",
      "\n",
      "   22시 발전량(MWh)  23시 발전량(MWh)  24시 발전량(MWh)    총량(KW)  평균(KW)  최대(시간별)  \\\n",
      "0           0.0             0           0.0  1698.144      71   685.82   \n",
      "1           0.0             0           0.0  1852.096      77   427.74   \n",
      "\n",
      "   최소(시간별)       최대  최소  \n",
      "0    0.192  685.824   0  \n",
      "1    5.526  427.748   0  \n",
      "\n",
      "[2 rows x 33 columns]\n",
      "[2025-10-22 13:02:20,867]✅ INFO - 📄 '남동발전량_2024_07.csv' 읽기 성공 (utf-8)\n"
     ]
    },
    {
     "name": "stderr",
     "output_type": "stream",
     "text": [
      "C:\\Users\\baesa\\AppData\\Local\\Temp\\ipykernel_23424\\4114509180.py:45: ParserWarning: Length of header or names does not match length of data. This leads to a loss of data with index_col=False.\n",
      "  df = pd.read_csv(path, encoding=\"utf-8\", delimiter=delim, index_col=False)\n"
     ]
    },
    {
     "name": "stdout",
     "output_type": "stream",
     "text": [
      "[2025-10-22 13:02:20,877]✅ INFO - 📄 남동발전량_2024_07.csv 불러옴 (682행)\n",
      "[2025-10-22 13:02:20,879]✅ INFO -    컬럼: ['발전구분', '호기', '일자', '1시 발전량(MWh)', '2시 발전량(MWh)', '3시 발전량(MWh)', '4시 발전량(MWh)', '5시 발전량(MWh)', '6시 발전량(MWh)', '7시 발전량(MWh)', '8시 발전량(MWh)', '9시 발전량(MWh)', '10시 발전량(MWh)', '11시 발전량(MWh)', '12시 발전량(MWh)', '13시 발전량(MWh)', '14시 발전량(MWh)', '15시 발전량(MWh)', '16시 발전량(MWh)', '17시 발전량(MWh)', '18시 발전량(MWh)', '19시 발전량(MWh)', '20시 발전량(MWh)', '21시 발전량(MWh)', '22시 발전량(MWh)', '23시 발전량(MWh)', '24시 발전량(MWh)', '총량(KW)', '평균(KW)', '최대(시간별)', '최소(시간별)', '최대', '최소']\n",
      "[2025-10-22 13:02:20,900]✅ INFO -    샘플:\n",
      "       발전구분  호기         일자  1시 발전량(MWh)  2시 발전량(MWh)  3시 발전량(MWh)  \\\n",
      "0     영동태양광   1 2024-07-31            0            0            0   \n",
      "1  삼천포태양광#5   1 2024-07-31            0            0            0   \n",
      "\n",
      "   4시 발전량(MWh)  5시 발전량(MWh)  6시 발전량(MWh)  7시 발전량(MWh)  ...  21시 발전량(MWh)  \\\n",
      "0            0            0          0.0         0.00  ...       676.128   \n",
      "1            0            0          0.0        24.08  ...         0.000   \n",
      "\n",
      "   22시 발전량(MWh)  23시 발전량(MWh)  24시 발전량(MWh)     총량(KW)  평균(KW)  최대(시간별)  \\\n",
      "0       227.712             0           0.0   5682.048     237   794.40   \n",
      "1         0.000             0           0.0  14000.409     583  2531.95   \n",
      "\n",
      "   최소(시간별)        최대  최소  \n",
      "0   10.752   794.400   0  \n",
      "1   24.080  2531.956   0  \n",
      "\n",
      "[2 rows x 33 columns]\n"
     ]
    },
    {
     "name": "stderr",
     "output_type": "stream",
     "text": [
      "CSV 불러오기:  84%|████████▍ | 76/90 [00:04<00:00, 17.76it/s]"
     ]
    },
    {
     "name": "stdout",
     "output_type": "stream",
     "text": [
      "[2025-10-22 13:02:20,926]✅ INFO - 📄 '남동발전량_2024_08.csv' 읽기 성공 (utf-8)\n"
     ]
    },
    {
     "name": "stderr",
     "output_type": "stream",
     "text": [
      "C:\\Users\\baesa\\AppData\\Local\\Temp\\ipykernel_23424\\4114509180.py:45: ParserWarning: Length of header or names does not match length of data. This leads to a loss of data with index_col=False.\n",
      "  df = pd.read_csv(path, encoding=\"utf-8\", delimiter=delim, index_col=False)\n"
     ]
    },
    {
     "name": "stdout",
     "output_type": "stream",
     "text": [
      "[2025-10-22 13:02:20,936]✅ INFO - 📄 남동발전량_2024_08.csv 불러옴 (682행)\n",
      "[2025-10-22 13:02:20,939]✅ INFO -    컬럼: ['발전구분', '호기', '일자', '1시 발전량(MWh)', '2시 발전량(MWh)', '3시 발전량(MWh)', '4시 발전량(MWh)', '5시 발전량(MWh)', '6시 발전량(MWh)', '7시 발전량(MWh)', '8시 발전량(MWh)', '9시 발전량(MWh)', '10시 발전량(MWh)', '11시 발전량(MWh)', '12시 발전량(MWh)', '13시 발전량(MWh)', '14시 발전량(MWh)', '15시 발전량(MWh)', '16시 발전량(MWh)', '17시 발전량(MWh)', '18시 발전량(MWh)', '19시 발전량(MWh)', '20시 발전량(MWh)', '21시 발전량(MWh)', '22시 발전량(MWh)', '23시 발전량(MWh)', '24시 발전량(MWh)', '총량(KW)', '평균(KW)', '최대(시간별)', '최소(시간별)', '최대', '최소']\n",
      "[2025-10-22 13:02:20,963]✅ INFO -    샘플:\n",
      "       발전구분  호기         일자  1시 발전량(MWh)  2시 발전량(MWh)  3시 발전량(MWh)  \\\n",
      "0     영동태양광   1 2024-08-31            0            0            0   \n",
      "1  삼천포태양광#5   1 2024-08-31            0            0            0   \n",
      "\n",
      "   4시 발전량(MWh)  5시 발전량(MWh)  6시 발전량(MWh)  7시 발전량(MWh)  ...  21시 발전량(MWh)  \\\n",
      "0            0            0          0.0          0.0  ...       577.248   \n",
      "1            0            0          0.0          0.0  ...         0.000   \n",
      "\n",
      "   22시 발전량(MWh)  23시 발전량(MWh)  24시 발전량(MWh)  총량(KW)  평균(KW)  최대(시간별)  최소(시간별)  \\\n",
      "0           0.0             0           0.0  5337.6     222   758.97    5.184   \n",
      "1           0.0             0           0.0     0.0       0     0.00    0.000   \n",
      "\n",
      "        최대  최소  \n",
      "0  758.976   0  \n",
      "1    0.000   0  \n",
      "\n",
      "[2 rows x 33 columns]\n"
     ]
    },
    {
     "name": "stderr",
     "output_type": "stream",
     "text": [
      "C:\\Users\\baesa\\AppData\\Local\\Temp\\ipykernel_23424\\4114509180.py:45: ParserWarning: Length of header or names does not match length of data. This leads to a loss of data with index_col=False.\n",
      "  df = pd.read_csv(path, encoding=\"utf-8\", delimiter=delim, index_col=False)\n"
     ]
    },
    {
     "name": "stdout",
     "output_type": "stream",
     "text": [
      "[2025-10-22 13:02:20,983]✅ INFO - 📄 '남동발전량_2024_09.csv' 읽기 성공 (utf-8)\n",
      "[2025-10-22 13:02:20,996]✅ INFO - 📄 남동발전량_2024_09.csv 불러옴 (659행)\n",
      "[2025-10-22 13:02:20,998]✅ INFO -    컬럼: ['발전구분', '호기', '일자', '1시 발전량(MWh)', '2시 발전량(MWh)', '3시 발전량(MWh)', '4시 발전량(MWh)', '5시 발전량(MWh)', '6시 발전량(MWh)', '7시 발전량(MWh)', '8시 발전량(MWh)', '9시 발전량(MWh)', '10시 발전량(MWh)', '11시 발전량(MWh)', '12시 발전량(MWh)', '13시 발전량(MWh)', '14시 발전량(MWh)', '15시 발전량(MWh)', '16시 발전량(MWh)', '17시 발전량(MWh)', '18시 발전량(MWh)', '19시 발전량(MWh)', '20시 발전량(MWh)', '21시 발전량(MWh)', '22시 발전량(MWh)', '23시 발전량(MWh)', '24시 발전량(MWh)', '총량(KW)', '평균(KW)', '최대(시간별)', '최소(시간별)', '최대', '최소']\n",
      "[2025-10-22 13:02:21,023]✅ INFO -    샘플:\n",
      "       발전구분  호기         일자  1시 발전량(MWh)  2시 발전량(MWh)  3시 발전량(MWh)  \\\n",
      "0     영동태양광   1 2024-09-30            0            0            0   \n",
      "1  삼천포태양광#5   1 2024-09-30            0            0            0   \n",
      "\n",
      "   4시 발전량(MWh)  5시 발전량(MWh)  6시 발전량(MWh)  7시 발전량(MWh)  ...  21시 발전량(MWh)  \\\n",
      "0            0            0          0.0         0.00  ...       517.152   \n",
      "1            0            0          0.0         2.51  ...       591.860   \n",
      "\n",
      "   22시 발전량(MWh)  23시 발전량(MWh)  24시 발전량(MWh)     총량(KW)  평균(KW)  최대(시간별)  \\\n",
      "0           0.0             0           0.0   4336.992     181   689.76   \n",
      "1           0.0             0           0.0  19643.658     818  2332.84   \n",
      "\n",
      "   최소(시간별)        최대  최소  \n",
      "0     1.24   689.760   0  \n",
      "1     2.51  2332.843   0  \n",
      "\n",
      "[2 rows x 33 columns]\n"
     ]
    },
    {
     "name": "stderr",
     "output_type": "stream",
     "text": [
      "CSV 불러오기:  87%|████████▋ | 78/90 [00:05<00:00, 17.27it/s]C:\\Users\\baesa\\AppData\\Local\\Temp\\ipykernel_23424\\4114509180.py:45: ParserWarning: Length of header or names does not match length of data. This leads to a loss of data with index_col=False.\n",
      "  df = pd.read_csv(path, encoding=\"utf-8\", delimiter=delim, index_col=False)\n"
     ]
    },
    {
     "name": "stdout",
     "output_type": "stream",
     "text": [
      "[2025-10-22 13:02:21,056]✅ INFO - 📄 '남동발전량_2024_10.csv' 읽기 성공 (utf-8)\n",
      "[2025-10-22 13:02:21,079]✅ INFO - 📄 남동발전량_2024_10.csv 불러옴 (694행)\n",
      "[2025-10-22 13:02:21,081]✅ INFO -    컬럼: ['발전구분', '호기', '일자', '1시 발전량(MWh)', '2시 발전량(MWh)', '3시 발전량(MWh)', '4시 발전량(MWh)', '5시 발전량(MWh)', '6시 발전량(MWh)', '7시 발전량(MWh)', '8시 발전량(MWh)', '9시 발전량(MWh)', '10시 발전량(MWh)', '11시 발전량(MWh)', '12시 발전량(MWh)', '13시 발전량(MWh)', '14시 발전량(MWh)', '15시 발전량(MWh)', '16시 발전량(MWh)', '17시 발전량(MWh)', '18시 발전량(MWh)', '19시 발전량(MWh)', '20시 발전량(MWh)', '21시 발전량(MWh)', '22시 발전량(MWh)', '23시 발전량(MWh)', '24시 발전량(MWh)', '총량(KW)', '평균(KW)', '최대(시간별)', '최소(시간별)', '최대', '최소']\n",
      "[2025-10-22 13:02:21,107]✅ INFO -    샘플:\n",
      "       발전구분  호기         일자  1시 발전량(MWh)  2시 발전량(MWh)  3시 발전량(MWh)  \\\n",
      "0     영동태양광   1 2024-10-31            0            0            0   \n",
      "1  삼천포태양광#5   1 2024-10-31            0            0            0   \n",
      "\n",
      "   4시 발전량(MWh)  5시 발전량(MWh)  6시 발전량(MWh)  7시 발전량(MWh)  ...  21시 발전량(MWh)  \\\n",
      "0            0            0            0          0.0  ...       210.624   \n",
      "1            0            0            0          0.0  ...         0.000   \n",
      "\n",
      "   22시 발전량(MWh)  23시 발전량(MWh)  24시 발전량(MWh)    총량(KW)  평균(KW)  최대(시간별)  \\\n",
      "0           0.0           0.0           0.0  4377.024     182   718.56   \n",
      "1           0.0           0.0           0.0  8436.499     352  2487.54   \n",
      "\n",
      "   최소(시간별)        최대  최소  \n",
      "0    9.984   718.560   0  \n",
      "1   64.590  2487.541   0  \n",
      "\n",
      "[2 rows x 33 columns]\n",
      "[2025-10-22 13:02:21,129]✅ INFO - 📄 '남동발전량_2024_11.csv' 읽기 성공 (utf-8)\n",
      "[2025-10-22 13:02:21,143]✅ INFO - 📄 남동발전량_2024_11.csv 불러옴 (690행)\n",
      "[2025-10-22 13:02:21,145]✅ INFO -    컬럼: ['발전구분', '호기', '일자', '1시 발전량(MWh)', '2시 발전량(MWh)', '3시 발전량(MWh)', '4시 발전량(MWh)', '5시 발전량(MWh)', '6시 발전량(MWh)', '7시 발전량(MWh)', '8시 발전량(MWh)', '9시 발전량(MWh)', '10시 발전량(MWh)', '11시 발전량(MWh)', '12시 발전량(MWh)', '13시 발전량(MWh)', '14시 발전량(MWh)', '15시 발전량(MWh)', '16시 발전량(MWh)', '17시 발전량(MWh)', '18시 발전량(MWh)', '19시 발전량(MWh)', '20시 발전량(MWh)', '21시 발전량(MWh)', '22시 발전량(MWh)', '23시 발전량(MWh)', '24시 발전량(MWh)', '총량(KW)', '평균(KW)', '최대(시간별)', '최소(시간별)', '최대', '최소']\n",
      "[2025-10-22 13:02:21,175]✅ INFO -    샘플:\n",
      "       발전구분  호기         일자  1시 발전량(MWh)  2시 발전량(MWh)  3시 발전량(MWh)  \\\n",
      "0     영동태양광   1 2024-11-30            0            0            0   \n",
      "1  삼천포태양광#5   1 2024-11-30            0            0            0   \n",
      "\n",
      "   4시 발전량(MWh)  5시 발전량(MWh)  6시 발전량(MWh)  7시 발전량(MWh)  ...  21시 발전량(MWh)  \\\n",
      "0            0            0            0          0.0  ...       119.712   \n",
      "1            0            0            0          0.0  ...         0.000   \n",
      "\n",
      "   22시 발전량(MWh)  23시 발전량(MWh)  24시 발전량(MWh)     총량(KW)  평균(KW)  최대(시간별)  \\\n",
      "0           0.0             0           0.0   3921.984     163   686.78   \n",
      "1           0.0             0           0.0  16576.749     691  2879.51   \n",
      "\n",
      "   최소(시간별)        최대  최소  \n",
      "0     3.55   686.784   0  \n",
      "1     0.70  2879.514   0  \n",
      "\n",
      "[2 rows x 33 columns]\n"
     ]
    },
    {
     "name": "stderr",
     "output_type": "stream",
     "text": [
      "C:\\Users\\baesa\\AppData\\Local\\Temp\\ipykernel_23424\\4114509180.py:45: ParserWarning: Length of header or names does not match length of data. This leads to a loss of data with index_col=False.\n",
      "  df = pd.read_csv(path, encoding=\"utf-8\", delimiter=delim, index_col=False)\n",
      "CSV 불러오기:  89%|████████▉ | 80/90 [00:05<00:00, 15.77it/s]"
     ]
    },
    {
     "name": "stdout",
     "output_type": "stream",
     "text": [
      "[2025-10-22 13:02:21,207]✅ INFO - 📄 '남동발전량_2024_12.csv' 읽기 성공 (utf-8)\n"
     ]
    },
    {
     "name": "stderr",
     "output_type": "stream",
     "text": [
      "C:\\Users\\baesa\\AppData\\Local\\Temp\\ipykernel_23424\\4114509180.py:45: ParserWarning: Length of header or names does not match length of data. This leads to a loss of data with index_col=False.\n",
      "  df = pd.read_csv(path, encoding=\"utf-8\", delimiter=delim, index_col=False)\n"
     ]
    },
    {
     "name": "stdout",
     "output_type": "stream",
     "text": [
      "[2025-10-22 13:02:21,219]✅ INFO - 📄 남동발전량_2024_12.csv 불러옴 (713행)\n",
      "[2025-10-22 13:02:21,225]✅ INFO -    컬럼: ['발전구분', '호기', '일자', '1시 발전량(MWh)', '2시 발전량(MWh)', '3시 발전량(MWh)', '4시 발전량(MWh)', '5시 발전량(MWh)', '6시 발전량(MWh)', '7시 발전량(MWh)', '8시 발전량(MWh)', '9시 발전량(MWh)', '10시 발전량(MWh)', '11시 발전량(MWh)', '12시 발전량(MWh)', '13시 발전량(MWh)', '14시 발전량(MWh)', '15시 발전량(MWh)', '16시 발전량(MWh)', '17시 발전량(MWh)', '18시 발전량(MWh)', '19시 발전량(MWh)', '20시 발전량(MWh)', '21시 발전량(MWh)', '22시 발전량(MWh)', '23시 발전량(MWh)', '24시 발전량(MWh)', '총량(KW)', '평균(KW)', '최대(시간별)', '최소(시간별)', '최대', '최소']\n",
      "[2025-10-22 13:02:21,257]✅ INFO -    샘플:\n",
      "       발전구분  호기         일자  1시 발전량(MWh)  2시 발전량(MWh)  3시 발전량(MWh)  \\\n",
      "0     영동태양광   1 2024-12-31            0            0            0   \n",
      "1  삼천포태양광#5   1 2024-12-31            0            0            0   \n",
      "\n",
      "   4시 발전량(MWh)  5시 발전량(MWh)  6시 발전량(MWh)  7시 발전량(MWh)  ...  21시 발전량(MWh)  \\\n",
      "0            0            0            0          0.0  ...       371.616   \n",
      "1            0            0            0          0.0  ...         0.000   \n",
      "\n",
      "   22시 발전량(MWh)  23시 발전량(MWh)  24시 발전량(MWh)     총량(KW)  평균(KW)  최대(시간별)  \\\n",
      "0           0.0             0           0.0   3877.536     162   689.18   \n",
      "1           0.0             0           0.0  16032.232     668  2534.26   \n",
      "\n",
      "   최소(시간별)        최대  최소  \n",
      "0   18.048   689.184   0  \n",
      "1  147.039  2534.265   0  \n",
      "\n",
      "[2 rows x 33 columns]\n",
      "[2025-10-22 13:02:21,280]✅ INFO - 📄 '남동발전량_2025_01.csv' 읽기 성공 (utf-8)\n",
      "[2025-10-22 13:02:21,295]✅ INFO - 📄 남동발전량_2025_01.csv 불러옴 (713행)\n",
      "[2025-10-22 13:02:21,298]✅ INFO -    컬럼: ['발전구분', '호기', '일자', '1시 발전량(MWh)', '2시 발전량(MWh)', '3시 발전량(MWh)', '4시 발전량(MWh)', '5시 발전량(MWh)', '6시 발전량(MWh)', '7시 발전량(MWh)', '8시 발전량(MWh)', '9시 발전량(MWh)', '10시 발전량(MWh)', '11시 발전량(MWh)', '12시 발전량(MWh)', '13시 발전량(MWh)', '14시 발전량(MWh)', '15시 발전량(MWh)', '16시 발전량(MWh)', '17시 발전량(MWh)', '18시 발전량(MWh)', '19시 발전량(MWh)', '20시 발전량(MWh)', '21시 발전량(MWh)', '22시 발전량(MWh)', '23시 발전량(MWh)', '24시 발전량(MWh)', '총량(KW)', '평균(KW)', '최대(시간별)', '최소(시간별)', '최대', '최소']\n",
      "[2025-10-22 13:02:21,321]✅ INFO -    샘플:\n",
      "       발전구분  호기         일자  1시 발전량(MWh)  2시 발전량(MWh)  3시 발전량(MWh)  \\\n",
      "0     영동태양광   1 2025-01-31            0            0            0   \n",
      "1  삼천포태양광#5   1 2025-01-31            0            0            0   \n",
      "\n",
      "   4시 발전량(MWh)  5시 발전량(MWh)  6시 발전량(MWh)  7시 발전량(MWh)  ...  21시 발전량(MWh)  \\\n",
      "0            0            0            0            0  ...           0.0   \n",
      "1            0            0            0            0  ...           0.0   \n",
      "\n",
      "   22시 발전량(MWh)  23시 발전량(MWh)  24시 발전량(MWh)    총량(KW)  평균(KW)  최대(시간별)  \\\n",
      "0           0.0             0           0.0  2128.608      89   689.28   \n",
      "1           0.0             0           0.0  7444.094     310  2488.85   \n",
      "\n",
      "   최소(시간별)        최대  최소  \n",
      "0   18.432   689.280   0  \n",
      "1    2.540  2488.857   0  \n",
      "\n",
      "[2 rows x 33 columns]\n"
     ]
    },
    {
     "name": "stderr",
     "output_type": "stream",
     "text": [
      "C:\\Users\\baesa\\AppData\\Local\\Temp\\ipykernel_23424\\4114509180.py:45: ParserWarning: Length of header or names does not match length of data. This leads to a loss of data with index_col=False.\n",
      "  df = pd.read_csv(path, encoding=\"utf-8\", delimiter=delim, index_col=False)\n",
      "CSV 불러오기:  91%|█████████ | 82/90 [00:05<00:00, 15.01it/s]"
     ]
    },
    {
     "name": "stdout",
     "output_type": "stream",
     "text": [
      "[2025-10-22 13:02:21,345]✅ INFO - 📄 '남동발전량_2025_02.csv' 읽기 성공 (utf-8)\n"
     ]
    },
    {
     "name": "stderr",
     "output_type": "stream",
     "text": [
      "C:\\Users\\baesa\\AppData\\Local\\Temp\\ipykernel_23424\\4114509180.py:45: ParserWarning: Length of header or names does not match length of data. This leads to a loss of data with index_col=False.\n",
      "  df = pd.read_csv(path, encoding=\"utf-8\", delimiter=delim, index_col=False)\n"
     ]
    },
    {
     "name": "stdout",
     "output_type": "stream",
     "text": [
      "[2025-10-22 13:02:21,359]✅ INFO - 📄 남동발전량_2025_02.csv 불러옴 (644행)\n",
      "[2025-10-22 13:02:21,362]✅ INFO -    컬럼: ['발전구분', '호기', '일자', '1시 발전량(MWh)', '2시 발전량(MWh)', '3시 발전량(MWh)', '4시 발전량(MWh)', '5시 발전량(MWh)', '6시 발전량(MWh)', '7시 발전량(MWh)', '8시 발전량(MWh)', '9시 발전량(MWh)', '10시 발전량(MWh)', '11시 발전량(MWh)', '12시 발전량(MWh)', '13시 발전량(MWh)', '14시 발전량(MWh)', '15시 발전량(MWh)', '16시 발전량(MWh)', '17시 발전량(MWh)', '18시 발전량(MWh)', '19시 발전량(MWh)', '20시 발전량(MWh)', '21시 발전량(MWh)', '22시 발전량(MWh)', '23시 발전량(MWh)', '24시 발전량(MWh)', '총량(KW)', '평균(KW)', '최대(시간별)', '최소(시간별)', '최대', '최소']\n",
      "[2025-10-22 13:02:21,386]✅ INFO -    샘플:\n",
      "       발전구분  호기         일자  1시 발전량(MWh)  2시 발전량(MWh)  3시 발전량(MWh)  \\\n",
      "0     영동태양광   1 2025-02-28            0            0            0   \n",
      "1  삼천포태양광#5   1 2025-02-28            0            0            0   \n",
      "\n",
      "   4시 발전량(MWh)  5시 발전량(MWh)  6시 발전량(MWh)  7시 발전량(MWh)  ...  21시 발전량(MWh)  \\\n",
      "0            0            0            0          0.0  ...       681.984   \n",
      "1            0            0            0          0.0  ...         7.023   \n",
      "\n",
      "   22시 발전량(MWh)  23시 발전량(MWh)  24시 발전량(MWh)     총량(KW)  평균(KW)  최대(시간별)  \\\n",
      "0        21.216             0           0.0   5351.904     223   825.40   \n",
      "1         0.000             0           0.0  17833.629     743  2935.05   \n",
      "\n",
      "   최소(시간별)        최대  최소  \n",
      "0   10.368   825.408   0  \n",
      "1    7.020  2935.053   0  \n",
      "\n",
      "[2 rows x 33 columns]\n",
      "[2025-10-22 13:02:21,413]✅ INFO - 📄 '남동발전량_2025_03.csv' 읽기 성공 (utf-8)\n",
      "[2025-10-22 13:02:21,425]✅ INFO - 📄 남동발전량_2025_03.csv 불러옴 (713행)\n",
      "[2025-10-22 13:02:21,428]✅ INFO -    컬럼: ['발전구분', '호기', '일자', '1시 발전량(MWh)', '2시 발전량(MWh)', '3시 발전량(MWh)', '4시 발전량(MWh)', '5시 발전량(MWh)', '6시 발전량(MWh)', '7시 발전량(MWh)', '8시 발전량(MWh)', '9시 발전량(MWh)', '10시 발전량(MWh)', '11시 발전량(MWh)', '12시 발전량(MWh)', '13시 발전량(MWh)', '14시 발전량(MWh)', '15시 발전량(MWh)', '16시 발전량(MWh)', '17시 발전량(MWh)', '18시 발전량(MWh)', '19시 발전량(MWh)', '20시 발전량(MWh)', '21시 발전량(MWh)', '22시 발전량(MWh)', '23시 발전량(MWh)', '24시 발전량(MWh)', '총량(KW)', '평균(KW)', '최대(시간별)', '최소(시간별)', '최대', '최소']\n",
      "[2025-10-22 13:02:21,452]✅ INFO -    샘플:\n",
      "       발전구분  호기         일자  1시 발전량(MWh)  2시 발전량(MWh)  3시 발전량(MWh)  \\\n",
      "0     영동태양광   1 2025-03-31            0            0            0   \n",
      "1  삼천포태양광#5   1 2025-03-31            0            0            0   \n",
      "\n",
      "   4시 발전량(MWh)  5시 발전량(MWh)  6시 발전량(MWh)  7시 발전량(MWh)  ...  21시 발전량(MWh)  \\\n",
      "0            0            0            0        0.000  ...       662.208   \n",
      "1            0            0            0       17.651  ...       943.397   \n",
      "\n",
      "   22시 발전량(MWh)  23시 발전량(MWh)  24시 발전량(MWh)     총량(KW)  평균(KW)  최대(시간별)  \\\n",
      "0           0.0             0           0.0   6148.512     256    916.8   \n",
      "1           0.0             0           0.0  23455.191     977   2875.2   \n",
      "\n",
      "   최소(시간별)        최대  최소  \n",
      "0    4.512   916.800   0  \n",
      "1   17.651  2875.209   0  \n",
      "\n",
      "[2 rows x 33 columns]\n"
     ]
    },
    {
     "name": "stderr",
     "output_type": "stream",
     "text": [
      "C:\\Users\\baesa\\AppData\\Local\\Temp\\ipykernel_23424\\4114509180.py:45: ParserWarning: Length of header or names does not match length of data. This leads to a loss of data with index_col=False.\n",
      "  df = pd.read_csv(path, encoding=\"utf-8\", delimiter=delim, index_col=False)\n",
      "CSV 불러오기:  93%|█████████▎| 84/90 [00:05<00:00, 15.18it/s]C:\\Users\\baesa\\AppData\\Local\\Temp\\ipykernel_23424\\4114509180.py:45: ParserWarning: Length of header or names does not match length of data. This leads to a loss of data with index_col=False.\n",
      "  df = pd.read_csv(path, encoding=\"utf-8\", delimiter=delim, index_col=False)\n"
     ]
    },
    {
     "name": "stdout",
     "output_type": "stream",
     "text": [
      "[2025-10-22 13:02:21,474]✅ INFO - 📄 '남동발전량_2025_04.csv' 읽기 성공 (utf-8)\n",
      "[2025-10-22 13:02:21,480]✅ INFO - 📄 남동발전량_2025_04.csv 불러옴 (690행)\n",
      "[2025-10-22 13:02:21,481]✅ INFO -    컬럼: ['발전구분', '호기', '일자', '1시 발전량(MWh)', '2시 발전량(MWh)', '3시 발전량(MWh)', '4시 발전량(MWh)', '5시 발전량(MWh)', '6시 발전량(MWh)', '7시 발전량(MWh)', '8시 발전량(MWh)', '9시 발전량(MWh)', '10시 발전량(MWh)', '11시 발전량(MWh)', '12시 발전량(MWh)', '13시 발전량(MWh)', '14시 발전량(MWh)', '15시 발전량(MWh)', '16시 발전량(MWh)', '17시 발전량(MWh)', '18시 발전량(MWh)', '19시 발전량(MWh)', '20시 발전량(MWh)', '21시 발전량(MWh)', '22시 발전량(MWh)', '23시 발전량(MWh)', '24시 발전량(MWh)', '총량(KW)', '평균(KW)', '최대(시간별)', '최소(시간별)', '최대', '최소']\n",
      "[2025-10-22 13:02:21,501]✅ INFO -    샘플:\n",
      "       발전구분  호기         일자  1시 발전량(MWh)  2시 발전량(MWh)  3시 발전량(MWh)  \\\n",
      "0     영동태양광   1 2025-04-30            0            0            0   \n",
      "1  삼천포태양광#5   1 2025-04-30            0            0            0   \n",
      "\n",
      "   4시 발전량(MWh)  5시 발전량(MWh)  6시 발전량(MWh)  7시 발전량(MWh)  ...  21시 발전량(MWh)  \\\n",
      "0            0            0          0.0        0.000  ...       679.104   \n",
      "1            0            0          0.0      142.013  ...      1165.712   \n",
      "\n",
      "   22시 발전량(MWh)  23시 발전량(MWh)  24시 발전량(MWh)     총량(KW)  평균(KW)  최대(시간별)  \\\n",
      "0       173.088           0.0           0.0   5425.824     226   688.89   \n",
      "1         0.000           0.0           0.0  23984.797     999  2829.60   \n",
      "\n",
      "   최소(시간별)        최대  최소  \n",
      "0   16.128   688.896   0  \n",
      "1  142.013  2829.600   0  \n",
      "\n",
      "[2 rows x 33 columns]\n"
     ]
    },
    {
     "name": "stderr",
     "output_type": "stream",
     "text": [
      "C:\\Users\\baesa\\AppData\\Local\\Temp\\ipykernel_23424\\4114509180.py:45: ParserWarning: Length of header or names does not match length of data. This leads to a loss of data with index_col=False.\n",
      "  df = pd.read_csv(path, encoding=\"utf-8\", delimiter=delim, index_col=False)\n"
     ]
    },
    {
     "name": "stdout",
     "output_type": "stream",
     "text": [
      "[2025-10-22 13:02:21,522]✅ INFO - 📄 '남동발전량_2025_05.csv' 읽기 성공 (utf-8)\n",
      "[2025-10-22 13:02:21,533]✅ INFO - 📄 남동발전량_2025_05.csv 불러옴 (713행)\n",
      "[2025-10-22 13:02:21,537]✅ INFO -    컬럼: ['발전구분', '호기', '일자', '1시 발전량(MWh)', '2시 발전량(MWh)', '3시 발전량(MWh)', '4시 발전량(MWh)', '5시 발전량(MWh)', '6시 발전량(MWh)', '7시 발전량(MWh)', '8시 발전량(MWh)', '9시 발전량(MWh)', '10시 발전량(MWh)', '11시 발전량(MWh)', '12시 발전량(MWh)', '13시 발전량(MWh)', '14시 발전량(MWh)', '15시 발전량(MWh)', '16시 발전량(MWh)', '17시 발전량(MWh)', '18시 발전량(MWh)', '19시 발전량(MWh)', '20시 발전량(MWh)', '21시 발전량(MWh)', '22시 발전량(MWh)', '23시 발전량(MWh)', '24시 발전량(MWh)', '총량(KW)', '평균(KW)', '최대(시간별)', '최소(시간별)', '최대', '최소']\n",
      "[2025-10-22 13:02:21,558]✅ INFO -    샘플:\n",
      "       발전구분  호기         일자  1시 발전량(MWh)  2시 발전량(MWh)  3시 발전량(MWh)  \\\n",
      "0     영동태양광   1 2025-05-31            0            0            0   \n",
      "1  삼천포태양광#5   1 2025-05-31            0            0            0   \n",
      "\n",
      "   4시 발전량(MWh)  5시 발전량(MWh)  6시 발전량(MWh)  7시 발전량(MWh)  ...  21시 발전량(MWh)  \\\n",
      "0            0            0        0.000        4.608  ...       684.672   \n",
      "1            0            0       13.857      237.009  ...       512.910   \n",
      "\n",
      "   22시 발전량(MWh)  23시 발전량(MWh)  24시 발전량(MWh)     총량(KW)  평균(KW)  최대(시간별)  \\\n",
      "0       159.648             0           0.0   5217.504     217   691.77   \n",
      "1         0.000             0           0.0  18812.006     784  2535.43   \n",
      "\n",
      "   최소(시간별)        최대  최소  \n",
      "0    4.608   691.776   0  \n",
      "1   13.857  2535.438   0  \n",
      "\n",
      "[2 rows x 33 columns]\n"
     ]
    },
    {
     "name": "stderr",
     "output_type": "stream",
     "text": [
      "CSV 불러오기:  96%|█████████▌| 86/90 [00:05<00:00, 16.18it/s]"
     ]
    },
    {
     "name": "stdout",
     "output_type": "stream",
     "text": [
      "[2025-10-22 13:02:21,577]✅ INFO - 📄 '남동발전량_2025_06.csv' 읽기 성공 (utf-8)\n",
      "[2025-10-22 13:02:21,584]✅ INFO - 📄 남동발전량_2025_06.csv 불러옴 (690행)\n",
      "[2025-10-22 13:02:21,586]✅ INFO -    컬럼: ['발전구분', '호기', '일자', '1시 발전량(MWh)', '2시 발전량(MWh)', '3시 발전량(MWh)', '4시 발전량(MWh)', '5시 발전량(MWh)', '6시 발전량(MWh)', '7시 발전량(MWh)', '8시 발전량(MWh)', '9시 발전량(MWh)', '10시 발전량(MWh)', '11시 발전량(MWh)', '12시 발전량(MWh)', '13시 발전량(MWh)', '14시 발전량(MWh)', '15시 발전량(MWh)', '16시 발전량(MWh)', '17시 발전량(MWh)', '18시 발전량(MWh)', '19시 발전량(MWh)', '20시 발전량(MWh)', '21시 발전량(MWh)', '22시 발전량(MWh)', '23시 발전량(MWh)', '24시 발전량(MWh)', '총량(KW)', '평균(KW)', '최대(시간별)', '최소(시간별)', '최대', '최소']\n"
     ]
    },
    {
     "name": "stderr",
     "output_type": "stream",
     "text": [
      "C:\\Users\\baesa\\AppData\\Local\\Temp\\ipykernel_23424\\4114509180.py:45: ParserWarning: Length of header or names does not match length of data. This leads to a loss of data with index_col=False.\n",
      "  df = pd.read_csv(path, encoding=\"utf-8\", delimiter=delim, index_col=False)\n"
     ]
    },
    {
     "name": "stdout",
     "output_type": "stream",
     "text": [
      "[2025-10-22 13:02:21,604]✅ INFO -    샘플:\n",
      "       발전구분  호기         일자  1시 발전량(MWh)  2시 발전량(MWh)  3시 발전량(MWh)  \\\n",
      "0     영동태양광   1 2025-06-30            0            0            0   \n",
      "1  삼천포태양광#5   1 2025-06-30            0            0            0   \n",
      "\n",
      "   4시 발전량(MWh)  5시 발전량(MWh)  6시 발전량(MWh)  7시 발전량(MWh)  ...  21시 발전량(MWh)  \\\n",
      "0            0            0          0.0        1.344  ...       616.224   \n",
      "1            0            0          0.0       80.509  ...         0.000   \n",
      "\n",
      "   22시 발전량(MWh)  23시 발전량(MWh)  24시 발전량(MWh)    총량(KW)  평균(KW)  최대(시간별)  \\\n",
      "0           0.0             0           0.0  4981.152     208   686.40   \n",
      "1           0.0             0           0.0  1477.302      62   799.76   \n",
      "\n",
      "   최소(시간별)       최대  최소  \n",
      "0    1.344  686.400   0  \n",
      "1   80.509  799.761   0  \n",
      "\n",
      "[2 rows x 33 columns]\n",
      "[2025-10-22 13:02:21,623]✅ INFO - 📄 '남동발전량_2025_07.csv' 읽기 성공 (utf-8)\n",
      "[2025-10-22 13:02:21,632]✅ INFO - 📄 남동발전량_2025_07.csv 불러옴 (713행)\n",
      "[2025-10-22 13:02:21,636]✅ INFO -    컬럼: ['발전구분', '호기', '일자', '1시 발전량(MWh)', '2시 발전량(MWh)', '3시 발전량(MWh)', '4시 발전량(MWh)', '5시 발전량(MWh)', '6시 발전량(MWh)', '7시 발전량(MWh)', '8시 발전량(MWh)', '9시 발전량(MWh)', '10시 발전량(MWh)', '11시 발전량(MWh)', '12시 발전량(MWh)', '13시 발전량(MWh)', '14시 발전량(MWh)', '15시 발전량(MWh)', '16시 발전량(MWh)', '17시 발전량(MWh)', '18시 발전량(MWh)', '19시 발전량(MWh)', '20시 발전량(MWh)', '21시 발전량(MWh)', '22시 발전량(MWh)', '23시 발전량(MWh)', '24시 발전량(MWh)', '총량(KW)', '평균(KW)', '최대(시간별)', '최소(시간별)', '최대', '최소']\n",
      "[2025-10-22 13:02:21,656]✅ INFO -    샘플:\n",
      "       발전구분  호기         일자  1시 발전량(MWh)  2시 발전량(MWh)  3시 발전량(MWh)  \\\n",
      "0     영동태양광   1 2025-07-31            0            0            0   \n",
      "1  삼천포태양광#5   1 2025-07-31            0            0            0   \n",
      "\n",
      "   4시 발전량(MWh)  5시 발전량(MWh)  6시 발전량(MWh)  7시 발전량(MWh)  ...  21시 발전량(MWh)  \\\n",
      "0            0            0          0.0        7.104  ...        12.576   \n",
      "1            0            0          0.0       99.540  ...         0.000   \n",
      "\n",
      "   22시 발전량(MWh)  23시 발전량(MWh)  24시 발전량(MWh)     총량(KW)  평균(KW)  최대(시간별)  \\\n",
      "0           0.0             0           0.0   3851.040     160   682.46   \n",
      "1           0.0             0           0.0  20766.627     865  2817.98   \n",
      "\n",
      "   최소(시간별)        최대  최소  \n",
      "0    7.104   682.464   0  \n",
      "1   99.540  2817.986   0  \n",
      "\n",
      "[2 rows x 33 columns]\n"
     ]
    },
    {
     "name": "stderr",
     "output_type": "stream",
     "text": [
      "C:\\Users\\baesa\\AppData\\Local\\Temp\\ipykernel_23424\\4114509180.py:45: ParserWarning: Length of header or names does not match length of data. This leads to a loss of data with index_col=False.\n",
      "  df = pd.read_csv(path, encoding=\"utf-8\", delimiter=delim, index_col=False)\n"
     ]
    },
    {
     "name": "stdout",
     "output_type": "stream",
     "text": [
      "[2025-10-22 13:02:21,677]✅ INFO - 📄 '남동발전량_2025_08.csv' 읽기 성공 (utf-8)\n",
      "[2025-10-22 13:02:21,688]✅ INFO - 📄 남동발전량_2025_08.csv 불러옴 (713행)\n",
      "[2025-10-22 13:02:21,690]✅ INFO -    컬럼: ['발전구분', '호기', '일자', '1시 발전량(MWh)', '2시 발전량(MWh)', '3시 발전량(MWh)', '4시 발전량(MWh)', '5시 발전량(MWh)', '6시 발전량(MWh)', '7시 발전량(MWh)', '8시 발전량(MWh)', '9시 발전량(MWh)', '10시 발전량(MWh)', '11시 발전량(MWh)', '12시 발전량(MWh)', '13시 발전량(MWh)', '14시 발전량(MWh)', '15시 발전량(MWh)', '16시 발전량(MWh)', '17시 발전량(MWh)', '18시 발전량(MWh)', '19시 발전량(MWh)', '20시 발전량(MWh)', '21시 발전량(MWh)', '22시 발전량(MWh)', '23시 발전량(MWh)', '24시 발전량(MWh)', '총량(KW)', '평균(KW)', '최대(시간별)', '최소(시간별)', '최대', '최소']\n"
     ]
    },
    {
     "name": "stderr",
     "output_type": "stream",
     "text": [
      "C:\\Users\\baesa\\AppData\\Local\\Temp\\ipykernel_23424\\4114509180.py:45: ParserWarning: Length of header or names does not match length of data. This leads to a loss of data with index_col=False.\n",
      "  df = pd.read_csv(path, encoding=\"utf-8\", delimiter=delim, index_col=False)\n"
     ]
    },
    {
     "name": "stdout",
     "output_type": "stream",
     "text": [
      "[2025-10-22 13:02:21,710]✅ INFO -    샘플:\n",
      "       발전구분  호기         일자  1시 발전량(MWh)  2시 발전량(MWh)  3시 발전량(MWh)  \\\n",
      "0     영동태양광   1 2025-08-31            0            0            0   \n",
      "1  삼천포태양광#5   1 2025-08-31            0            0            0   \n",
      "\n",
      "   4시 발전량(MWh)  5시 발전량(MWh)  6시 발전량(MWh)  7시 발전량(MWh)  ...  21시 발전량(MWh)  \\\n",
      "0            0            0          0.0        8.736  ...           0.0   \n",
      "1            0            0          0.0       47.009  ...           0.0   \n",
      "\n",
      "   22시 발전량(MWh)  23시 발전량(MWh)  24시 발전량(MWh)     총량(KW)  평균(KW)  최대(시간별)  \\\n",
      "0             0             0           0.0   4353.408     181   707.23   \n",
      "1             0             0           0.0  10424.597     434  2455.34   \n",
      "\n",
      "   최소(시간별)        최대  최소  \n",
      "0    8.736   707.232   0  \n",
      "1   47.000  2455.345   0  \n",
      "\n",
      "[2 rows x 33 columns]\n"
     ]
    },
    {
     "name": "stderr",
     "output_type": "stream",
     "text": [
      "CSV 불러오기:  99%|█████████▉| 89/90 [00:05<00:00, 17.43it/s]"
     ]
    },
    {
     "name": "stdout",
     "output_type": "stream",
     "text": [
      "[2025-10-22 13:02:21,730]✅ INFO - 📄 '남동발전량_2025_09.csv' 읽기 성공 (utf-8)\n",
      "[2025-10-22 13:02:21,741]✅ INFO - 📄 남동발전량_2025_09.csv 불러옴 (690행)\n",
      "[2025-10-22 13:02:21,742]✅ INFO -    컬럼: ['발전구분', '호기', '일자', '1시 발전량(MWh)', '2시 발전량(MWh)', '3시 발전량(MWh)', '4시 발전량(MWh)', '5시 발전량(MWh)', '6시 발전량(MWh)', '7시 발전량(MWh)', '8시 발전량(MWh)', '9시 발전량(MWh)', '10시 발전량(MWh)', '11시 발전량(MWh)', '12시 발전량(MWh)', '13시 발전량(MWh)', '14시 발전량(MWh)', '15시 발전량(MWh)', '16시 발전량(MWh)', '17시 발전량(MWh)', '18시 발전량(MWh)', '19시 발전량(MWh)', '20시 발전량(MWh)', '21시 발전량(MWh)', '22시 발전량(MWh)', '23시 발전량(MWh)', '24시 발전량(MWh)', '총량(KW)', '평균(KW)', '최대(시간별)', '최소(시간별)', '최대', '최소']\n"
     ]
    },
    {
     "name": "stderr",
     "output_type": "stream",
     "text": [
      "C:\\Users\\baesa\\AppData\\Local\\Temp\\ipykernel_23424\\4114509180.py:45: ParserWarning: Length of header or names does not match length of data. This leads to a loss of data with index_col=False.\n",
      "  df = pd.read_csv(path, encoding=\"utf-8\", delimiter=delim, index_col=False)\n"
     ]
    },
    {
     "name": "stdout",
     "output_type": "stream",
     "text": [
      "[2025-10-22 13:02:21,767]✅ INFO -    샘플:\n",
      "       발전구분  호기         일자  1시 발전량(MWh)  2시 발전량(MWh)  3시 발전량(MWh)  \\\n",
      "0     영동태양광   1 2025-09-30            0            0            0   \n",
      "1  삼천포태양광#5   1 2025-09-30            0            0            0   \n",
      "\n",
      "   4시 발전량(MWh)  5시 발전량(MWh)  6시 발전량(MWh)  7시 발전량(MWh)  ...  21시 발전량(MWh)  \\\n",
      "0            0            0            0        1.056  ...           0.0   \n",
      "1            0            0            0       43.928  ...           0.0   \n",
      "\n",
      "   22시 발전량(MWh)  23시 발전량(MWh)  24시 발전량(MWh)     총량(KW)  평균(KW)  최대(시간별)  \\\n",
      "0             0             0           0.0   2117.472      88   685.05   \n",
      "1             0             0           0.0  12383.924     516  2405.42   \n",
      "\n",
      "   최소(시간별)        최대  최소  \n",
      "0    1.056   685.056   0  \n",
      "1   43.928  2405.429   0  \n",
      "\n",
      "[2 rows x 33 columns]\n"
     ]
    },
    {
     "name": "stderr",
     "output_type": "stream",
     "text": [
      "CSV 불러오기: 100%|██████████| 90/90 [00:05<00:00, 15.42it/s]\n"
     ]
    },
    {
     "name": "stdout",
     "output_type": "stream",
     "text": [
      "[2025-10-22 13:02:22,397]✅ INFO - 🧹 완전 동일행 중복 제거: 30729행\n",
      "[2025-10-22 13:02:26,563]✅ INFO - 📊 호기 합산 완료: 474648행\n",
      "[2025-10-22 13:02:26,568]✅ INFO -    샘플:\n",
      "                   일시    발전구분  합산발전량(MWh)\n",
      "0 2022-01-01 00:00:00  경상대태양광         0.0\n",
      "1 2022-01-01 01:00:00  경상대태양광         0.0\n",
      "2 2022-01-01 02:00:00  경상대태양광         0.0\n",
      "[2025-10-22 13:02:26,571]✅ INFO - 📦 캐시 사용 → C:/ESG_Project1/data/json/mapping_cache.json\n"
     ]
    },
    {
     "name": "stderr",
     "output_type": "stream",
     "text": [
      "지역 매핑: 100%|██████████| 15/15 [00:00<00:00, 2513.37it/s]"
     ]
    },
    {
     "name": "stdout",
     "output_type": "stream",
     "text": [
      "[2025-10-22 13:02:28,491]✅ INFO - 📌 지역 매핑 완료\n",
      "[2025-10-22 13:02:28,496]✅ INFO -    샘플:\n",
      "                   일시    발전구분  합산발전량(MWh) 발전구분_정규화        지역\n",
      "0 2022-01-01 00:00:00  경상대태양광         0.0      경상대  경상남도 진주시\n",
      "1 2022-01-01 01:00:00  경상대태양광         0.0      경상대  경상남도 진주시\n",
      "2 2022-01-01 02:00:00  경상대태양광         0.0      경상대  경상남도 진주시\n",
      "[2025-10-22 13:02:28,509]✅ INFO - 📄 'META_관측지점정보.csv' 읽기 성공 (cp949)\n",
      "[2025-10-22 13:02:28,536]✅ INFO - 📦 좌표 캐시 사용 → C:/ESG_Project1/data/json/namdong_geo.json\n"
     ]
    },
    {
     "name": "stderr",
     "output_type": "stream",
     "text": [
      "\n"
     ]
    },
    {
     "name": "stdout",
     "output_type": "stream",
     "text": [
      "[2025-10-22 13:02:28,959]✅ INFO - 📌 최근접 관측소 매핑 완료\n",
      "[2025-10-22 13:02:28,965]✅ INFO -    샘플:\n",
      "                   일시    발전구분  합산발전량(MWh) 발전구분_정규화        지역  지점번호\n",
      "0 2022-01-01 00:00:00  경상대태양광         0.0      경상대  경상남도 진주시   192\n",
      "1 2022-01-01 01:00:00  경상대태양광         0.0      경상대  경상남도 진주시   192\n",
      "2 2022-01-01 02:00:00  경상대태양광         0.0      경상대  경상남도 진주시   192\n"
     ]
    },
    {
     "name": "stderr",
     "output_type": "stream",
     "text": [
      "기상데이터 병합:   0%|          | 0/4 [00:00<?, ?it/s]"
     ]
    },
    {
     "name": "stdout",
     "output_type": "stream",
     "text": [
      "[2025-10-22 13:02:30,343]✅ INFO - 📄 'OBS_ASOS_TIM_2022.csv' 읽기 성공 (cp949)\n"
     ]
    },
    {
     "name": "stderr",
     "output_type": "stream",
     "text": [
      "기상데이터 병합:  25%|██▌       | 1/4 [00:02<00:07,  2.44s/it]"
     ]
    },
    {
     "name": "stdout",
     "output_type": "stream",
     "text": [
      "[2025-10-22 13:02:33,189]✅ INFO - 📄 'OBS_ASOS_TIM_2023.csv' 읽기 성공 (cp949)\n"
     ]
    },
    {
     "name": "stderr",
     "output_type": "stream",
     "text": [
      "기상데이터 병합:  50%|█████     | 2/4 [00:05<00:05,  2.53s/it]"
     ]
    },
    {
     "name": "stdout",
     "output_type": "stream",
     "text": [
      "[2025-10-22 13:02:35,434]✅ INFO - 📄 'OBS_ASOS_TIM_2024.csv' 읽기 성공 (cp949)\n"
     ]
    },
    {
     "name": "stderr",
     "output_type": "stream",
     "text": [
      "기상데이터 병합:  75%|███████▌  | 3/4 [00:07<00:02,  2.57s/it]"
     ]
    },
    {
     "name": "stdout",
     "output_type": "stream",
     "text": [
      "[2025-10-22 13:02:37,868]✅ INFO - 📄 'OBS_ASOS_TIM_2025.csv' 읽기 성공 (cp949)\n"
     ]
    },
    {
     "name": "stderr",
     "output_type": "stream",
     "text": [
      "기상데이터 병합: 100%|██████████| 4/4 [00:09<00:00,  2.41s/it]\n"
     ]
    },
    {
     "name": "stdout",
     "output_type": "stream",
     "text": [
      "[2025-10-22 13:02:39,873]✅ INFO - 📊 기상 데이터 총 3163359행 병합 완료\n",
      "[2025-10-22 13:02:42,676]✅ INFO - ✅ 최종 데이터 shape: (474648, 9)\n",
      "[2025-10-22 13:02:42,684]✅ INFO -    샘플:\n",
      "                   일시   발전구분           지역  지점번호  합산발전량(MWh)  기온(°C)  강수량(mm)  \\\n",
      "0 2022-01-01 00:00:00  영동태양광  강원특별자치도 강릉시   105         0.0    -4.0      0.0   \n",
      "1 2022-01-01 01:00:00  영동태양광  강원특별자치도 강릉시   105         0.0    -4.4      0.0   \n",
      "2 2022-01-01 02:00:00  영동태양광  강원특별자치도 강릉시   105         0.0    -4.7      0.0   \n",
      "3 2022-01-01 03:00:00  영동태양광  강원특별자치도 강릉시   105         0.0    -4.9      0.0   \n",
      "4 2022-01-01 04:00:00  영동태양광  강원특별자치도 강릉시   105         0.0    -5.1      0.0   \n",
      "\n",
      "   일조(hr)  일사(MJ/m2)  \n",
      "0     0.0        0.0  \n",
      "1     0.0        0.0  \n",
      "2     0.0        0.0  \n",
      "3     0.0        0.0  \n",
      "4     0.0        0.0  \n",
      "[2025-10-22 13:02:52,497]✅ INFO - ✅ 최종 병합 완료 → C:/ESG_Project1/file/merge_data\\train_data.csv\n"
     ]
    }
   ],
   "source": [
    "import os\n",
    "import re\n",
    "import sys\n",
    "import json\n",
    "import time\n",
    "import math\n",
    "import requests\n",
    "import pandas as pd\n",
    "from glob import glob\n",
    "from bs4 import BeautifulSoup\n",
    "from rapidfuzz import process, fuzz\n",
    "from tqdm import tqdm\n",
    "\n",
    "# ===== 모듈 경로 추가 & 로거 설정 =====\n",
    "sys.path.append(r\"C:\\ESG_Project1\\util\")\n",
    "from logger import setup_logger\n",
    "logger = setup_logger(__name__)\n",
    "\n",
    "# ----------------------------------------------------\n",
    "# 🔹 경로 설정\n",
    "# ----------------------------------------------------\n",
    "BASE_DIR = \"C:/ESG_Project1/file/\"\n",
    "DATA_DIR = \"C:/ESG_Project1/data/\"\n",
    "SOLAR_DIR = os.path.join(BASE_DIR, \"solar_data_file\")\n",
    "KMA_DIR = os.path.join(BASE_DIR, \"KMA_data_file\")\n",
    "OUT_CSV = os.path.join(BASE_DIR, \"merge_data\", \"train_data.csv\")\n",
    "\n",
    "WEATHER_META = os.path.join(KMA_DIR, \"META_관측지점정보.csv\")\n",
    "CACHE_JSON = os.path.join(DATA_DIR, \"json/mapping_cache.json\")\n",
    "REGION_FIX_JSON = os.path.join(DATA_DIR, \"json/region_fix.json\")\n",
    "GEO_JSON = os.path.join(DATA_DIR, \"json/namdong_geo.json\")\n",
    "\n",
    "# ----------------------------------------------------\n",
    "# 🔹 CSV 유틸\n",
    "# ----------------------------------------------------\n",
    "def sniff_delimiter(path):\n",
    "    with open(path,\"rb\") as f:\n",
    "        raw=f.read(2048)\n",
    "    text=raw.decode(\"utf-8\",errors=\"ignore\")\n",
    "    return \",\" if text.count(\",\") >= text.count(\"\\t\") else \"\\t\"\n",
    "\n",
    "def read_csv_safe(path):\n",
    "    delim = sniff_delimiter(path)\n",
    "    try:\n",
    "        df = pd.read_csv(path, encoding=\"utf-8\", delimiter=delim, index_col=False)\n",
    "        logger.info(f\"📄 '{os.path.basename(path)}' 읽기 성공 (utf-8)\")\n",
    "        return df\n",
    "    except UnicodeDecodeError:\n",
    "        df = pd.read_csv(path, encoding=\"cp949\", delimiter=delim, index_col=False)\n",
    "        logger.info(f\"📄 '{os.path.basename(path)}' 읽기 성공 (cp949)\")\n",
    "        return df\n",
    "\n",
    "def collect_files():\n",
    "    files=[]\n",
    "    folder=os.path.join(SOLAR_DIR)\n",
    "    files+=glob(os.path.join(folder,\"20*/*.csv\")) + glob(os.path.join(folder,\"20*/*.CSV\"))\n",
    "    logger.info(f\"🗂 {len(files)}개의 발전소 CSV 파일 수집됨\")\n",
    "    return files\n",
    "\n",
    "def normalize_columns(df):\n",
    "    df.columns=df.columns.str.strip()\n",
    "    if \"발전구분\" not in df.columns:\n",
    "        expected = [\"발전구분\",\"호기\",\"일자\"] + [f\"{i}시 발전량(MWh)\" for i in range(1,25)]\n",
    "        df=df.iloc[:,:len(expected)]\n",
    "        df.columns=expected\n",
    "    df[\"발전구분\"]=df[\"발전구분\"].astype(str).str.strip()\n",
    "    df[\"일자\"]=pd.to_datetime(df[\"일자\"],errors=\"coerce\")\n",
    "    return df\n",
    "\n",
    "def get_hour_cols(df):\n",
    "    pat = re.compile(r\"^\\s*(\\d{1,2})시\")\n",
    "    return [c for c in df.columns if pat.search(c)]\n",
    "\n",
    "# ----------------------------------------------------\n",
    "# 🔹 1. 남동발전 발전소 매핑 크롤러\n",
    "# ----------------------------------------------------\n",
    "def crawl_mapping():\n",
    "    URL = \"https://www.koenergy.kr/kosep/hw/fr/ov/ovhw25/main.do?menuCd=FN060202\"\n",
    "    logger.info(f\"🌐 크롤링 시작: {URL}\")\n",
    "    headers = {\"User-Agent\": \"Mozilla/5.0\"}\n",
    "    res = requests.get(URL, headers=headers, timeout=10)\n",
    "    res.raise_for_status()\n",
    "    res.encoding = \"utf-8\"\n",
    "    soup = BeautifulSoup(res.text, \"html.parser\")\n",
    "    tables = soup.find_all(\"table\", class_=\"table_list2\")\n",
    "    if len(tables) < 2:\n",
    "        raise RuntimeError(\"❌ class='table_list2' 테이블이 2개 이상 존재하지 않습니다.\")\n",
    "    table = tables[1]\n",
    "    mapping = {}\n",
    "    for tr in table.find_all(\"tr\"):\n",
    "        tds = [td.get_text(strip=True) for td in tr.find_all(\"td\")]\n",
    "        if len(tds) < 2: continue\n",
    "        사업명, 지역 = tds[0], tds[1]\n",
    "        if \"태양광\" not in 사업명: continue\n",
    "        발전구분 = 사업명.replace(\"발전소\",\"\").replace(\" \",\"\").strip()\n",
    "        mapping[발전구분] = 지역\n",
    "    os.makedirs(os.path.dirname(CACHE_JSON), exist_ok=True)\n",
    "    with open(CACHE_JSON,\"w\",encoding=\"utf-8\") as f: json.dump(mapping,f,ensure_ascii=False,indent=2)\n",
    "    logger.info(f\"✅ {len(mapping)}개 항목 크롤링 완료 → {CACHE_JSON}\")\n",
    "    return mapping\n",
    "\n",
    "# ----------------------------------------------------\n",
    "# 🔹 2. CSV 통합 및 호기 합산\n",
    "# ----------------------------------------------------\n",
    "files = collect_files()\n",
    "if not files:\n",
    "    logger.error(\"⚠️ CSV 파일이 없습니다.\")\n",
    "    sys.exit(1)\n",
    "\n",
    "frames=[]\n",
    "for f in tqdm(files, desc=\"CSV 불러오기\"):\n",
    "    try:\n",
    "        tmp = read_csv_safe(f)\n",
    "        tmp = normalize_columns(tmp)\n",
    "        frames.append(tmp)\n",
    "        logger.info(f\"📄 {os.path.basename(f)} 불러옴 ({len(tmp)}행)\")\n",
    "        logger.info(f\"   컬럼: {tmp.columns.tolist()}\")\n",
    "        logger.info(f\"   샘플:\\n{tmp.head(2)}\")\n",
    "    except Exception as e:\n",
    "        logger.warning(f\"⚠️ {os.path.basename(f)} 읽기 실패: {e}\")\n",
    "\n",
    "df = pd.concat(frames,ignore_index=True).drop_duplicates()\n",
    "logger.info(f\"🧹 완전 동일행 중복 제거: {len(df)}행\")\n",
    "\n",
    "hour_cols=get_hour_cols(df)\n",
    "long_df=df.melt(id_vars=[\"발전구분\",\"호기\",\"일자\"],\n",
    "                value_vars=hour_cols,\n",
    "                var_name=\"시간대\",\n",
    "                value_name=\"발전량(MWh)\")\n",
    "long_df[\"시간\"]=long_df[\"시간대\"].str.extract(r\"(\\d{1,2})\").astype(int)\n",
    "long_df[\"일시\"]=pd.to_datetime(long_df[\"일자\"],errors=\"coerce\")+pd.to_timedelta(long_df[\"시간\"]-1,\"h\")\n",
    "\n",
    "hoqi_sum=long_df.groupby([\"발전구분\",\"일자\",\"시간\"],as_index=False)[\"발전량(MWh)\"].sum(numeric_only=True).rename(columns={\"발전량(MWh)\":\"합산발전량(MWh)\"})\n",
    "hoqi_sum[\"일시\"]=pd.to_datetime(hoqi_sum[\"일자\"],errors=\"coerce\")+pd.to_timedelta(hoqi_sum[\"시간\"]-1,\"h\")\n",
    "hoqi_sum=hoqi_sum[[\"일시\",\"발전구분\",\"합산발전량(MWh)\"]]\n",
    "logger.info(f\"📊 호기 합산 완료: {len(hoqi_sum)}행\")\n",
    "logger.info(f\"   샘플:\\n{hoqi_sum.head(3)}\")\n",
    "\n",
    "# ----------------------------------------------------\n",
    "# 🔹 3. 발전소명 → 지역 매핑 + 보정\n",
    "# ----------------------------------------------------\n",
    "if os.path.exists(CACHE_JSON):\n",
    "    with open(CACHE_JSON,\"r\",encoding=\"utf-8\") as f: mapping=json.load(f)\n",
    "    logger.info(f\"📦 캐시 사용 → {CACHE_JSON}\")\n",
    "else:\n",
    "    mapping=crawl_mapping()\n",
    "\n",
    "if not os.path.exists(REGION_FIX_JSON):\n",
    "    default_region_fix = {\"영흥\":\"인천광역시 옹진군 영흥면\",\"삼천포\":\"경상남도 고성군\",\"고성\":\"경상남도 고성군\",\n",
    "                         \"예천\":\"경상북도 예천군\",\"여수\":\"전라남도 여수시\",\"영동\":\"강원특별자치도 강릉시\",\n",
    "                         \"구미\":\"경상북도 구미시\",\"장성\":\"전라남도 장성군\",\"진주\":\"경상남도 진주시\",\n",
    "                         \"광양\":\"전라남도 광양시\",\"창원\":\"경상남도 창원시 마산합포구 해운동\",\"고흥\":\"전라남도 고흥군\",\n",
    "                         \"군산\":\"전라북도 군산시\",\"밀양\":\"경상남도 밀양시\",\"서산\":\"충청남도 서산시\",\"영암\":\"전라남도 영암군\",\n",
    "                         \"신안\":\"전라남도 신안군\",\"강릉\":\"강원특별자치도 강릉시\",\"전국\":\"대한민국\",\"진주 외\":\"경상남도 진주시 외\"}\n",
    "    os.makedirs(os.path.dirname(REGION_FIX_JSON), exist_ok=True)\n",
    "    with open(REGION_FIX_JSON,\"w\",encoding=\"utf-8\") as f: json.dump(default_region_fix,f,ensure_ascii=False,indent=2)\n",
    "    logger.info(f\"🆕 지역 보정 테이블 생성 → {REGION_FIX_JSON}\")\n",
    "\n",
    "with open(REGION_FIX_JSON,\"r\",encoding=\"utf-8\") as f: region_fix=json.load(f)\n",
    "\n",
    "def normalize_name(name):\n",
    "    name=re.sub(r\"\\s+\",\"\",str(name))\n",
    "    name=name.replace(\"발전소\",\"\").replace(\"태양광\",\"\").replace(\"-\",\"\").replace(\"_\",\"\").strip()\n",
    "    return name\n",
    "\n",
    "normalized_mapping={normalize_name(k):v for k,v in mapping.items()}\n",
    "hoqi_sum[\"발전구분_정규화\"]=hoqi_sum[\"발전구분\"].apply(normalize_name)\n",
    "\n",
    "keys=list(normalized_mapping.keys())\n",
    "match_cache={}\n",
    "def fast_match(name):\n",
    "    if name in match_cache: return match_cache[name]\n",
    "    for key in keys:\n",
    "        if key in name or name in key:\n",
    "            result=normalized_mapping[key]\n",
    "            if result in region_fix: result=region_fix[result]\n",
    "            match_cache[name]=result\n",
    "            return result\n",
    "    match=process.extractOne(name, keys, scorer=fuzz.partial_ratio)\n",
    "    if match and match[1]>=75:\n",
    "        result=normalized_mapping[match[0]]\n",
    "        if result in region_fix: result=region_fix[result]\n",
    "        match_cache[name]=result\n",
    "        return result\n",
    "    match_cache[name]=None\n",
    "    return None\n",
    "\n",
    "mapping_result={n:fast_match(n) for n in tqdm(hoqi_sum[\"발전구분_정규화\"].unique(), desc=\"지역 매핑\")}\n",
    "hoqi_sum[\"지역\"]=hoqi_sum[\"발전구분_정규화\"].map(mapping_result)\n",
    "logger.info(f\"📌 지역 매핑 완료\")\n",
    "logger.info(f\"   샘플:\\n{hoqi_sum.head(3)}\")\n",
    "\n",
    "# ----------------------------------------------------\n",
    "# 🔹 4. 카카오 API → 좌표 + 최근접 기상관측소\n",
    "# ----------------------------------------------------\n",
    "KAKAO_API_KEY = \"93c089f75a2730af2f15c01838e892d3\"\n",
    "KAKAO_URL = \"https://dapi.kakao.com/v2/local/search/address.json\"\n",
    "\n",
    "def get_latlng(address):\n",
    "    headers = {\"Authorization\": f\"KakaoAK {KAKAO_API_KEY}\"}\n",
    "    params = {\"query\": address}\n",
    "    try:\n",
    "        res = requests.get(KAKAO_URL, headers=headers, params=params, timeout=5)\n",
    "        res.raise_for_status()\n",
    "        docs = res.json().get(\"documents\")\n",
    "        if docs: \n",
    "            return float(docs[0][\"y\"]), float(docs[0][\"x\"])\n",
    "        return None, None\n",
    "    except Exception as e:\n",
    "        logger.warning(f\"⚠️ 주소 '{address}' 조회 실패: {e}\")\n",
    "        return None, None\n",
    "\n",
    "# 기상 관측소 정보\n",
    "weather_df = read_csv_safe(WEATHER_META)\n",
    "weather_df = weather_df.rename(columns=str.strip)[[\"지점\",\"지점명\",\"위도\",\"경도\"]].dropna(subset=[\"위도\",\"경도\"])\n",
    "\n",
    "def haversine(lat1, lon1, lat2, lon2):\n",
    "    R = 6371\n",
    "    dlat = math.radians(lat2 - lat1)\n",
    "    dlon = math.radians(lon2 - lon1)\n",
    "    a = math.sin(dlat/2)**2 + math.cos(math.radians(lat1)) * math.cos(math.radians(lat2)) * math.sin(dlon/2)**2\n",
    "    return 2*R*math.asin(math.sqrt(a))\n",
    "\n",
    "def find_nearest_station(lat, lon, meta_df):\n",
    "    meta_df[\"거리(km)\"] = meta_df.apply(lambda r: haversine(lat, lon, r[\"위도\"], r[\"경도\"]), axis=1)\n",
    "    nearest = meta_df.loc[meta_df[\"거리(km)\"].idxmin()]\n",
    "    return {\"지점명\": nearest[\"지점명\"], \"지점번호\": int(nearest[\"지점\"]),\n",
    "            \"위도\": nearest[\"위도\"], \"경도\": nearest[\"경도\"], \"거리(km)\": round(nearest[\"거리(km)\"],2)}\n",
    "\n",
    "# GEO_JSON 캐시 사용\n",
    "if not os.path.exists(GEO_JSON):\n",
    "    logger.info(\"🌍 좌표+최근접 관측소 매핑 시작\")\n",
    "    geo_cache = {}\n",
    "    for region in tqdm(sorted(set(v for v in hoqi_sum[\"지역\"] if v)), desc=\"좌표 조회\"):\n",
    "        lat, lng = get_latlng(region)\n",
    "        if lat is None or lng is None:\n",
    "            geo_cache[region] = {\"위도\": None, \"경도\": None, \"최근접관측소\": None}\n",
    "            continue\n",
    "        nearest = find_nearest_station(lat, lng, weather_df)\n",
    "        geo_cache[region] = {\"위도\": lat, \"경도\": lng, \"최근접관측소\": nearest}\n",
    "        time.sleep(0.2)\n",
    "    os.makedirs(os.path.dirname(GEO_JSON), exist_ok=True)\n",
    "    with open(GEO_JSON, \"w\", encoding=\"utf-8\") as f:\n",
    "        json.dump(geo_cache, f, ensure_ascii=False, indent=2)\n",
    "else:\n",
    "    with open(GEO_JSON, \"r\", encoding=\"utf-8\") as f:\n",
    "        geo_cache = json.load(f)\n",
    "    logger.info(f\"📦 좌표 캐시 사용 → {GEO_JSON}\")\n",
    "\n",
    "def get_station_num(region):\n",
    "    info = geo_cache.get(region)\n",
    "    if info and info.get(\"최근접관측소\"):\n",
    "        return info[\"최근접관측소\"].get(\"지점번호\")\n",
    "    return None\n",
    "\n",
    "hoqi_sum[\"지점번호\"] = hoqi_sum[\"지역\"].apply(get_station_num)\n",
    "logger.info(\"📌 최근접 관측소 매핑 완료\")\n",
    "logger.info(f\"   샘플:\\n{hoqi_sum.head(3)}\")\n",
    "\n",
    "# ----------------------------------------------------\n",
    "# 🔹 5. KMA 기상 데이터 병합\n",
    "# ----------------------------------------------------\n",
    "weather_files = sorted(glob(os.path.join(KMA_DIR, \"OBS_ASOS_TIM_*.csv\")))\n",
    "weather_frames = []\n",
    "\n",
    "for wf in tqdm(weather_files, desc=\"기상데이터 병합\"):\n",
    "    try:\n",
    "        tmp = read_csv_safe(wf)\n",
    "        tmp[\"일시\"] = pd.to_datetime(tmp[\"일시\"], errors=\"coerce\")\n",
    "        tmp = tmp[[\"지점\",\"일시\",\"기온(°C)\",\"강수량(mm)\",\"일조(hr)\",\"일사(MJ/m2)\"]].rename(columns={\"지점\":\"지점번호\"})\n",
    "        weather_frames.append(tmp)\n",
    "    except Exception as e:\n",
    "        logger.warning(f\"⚠️ 기상파일 '{os.path.basename(wf)}' 처리 실패: {e}\")\n",
    "\n",
    "df_weather = pd.concat(weather_frames, ignore_index=True).drop_duplicates(subset=[\"지점번호\",\"일시\"])\n",
    "logger.info(f\"📊 기상 데이터 총 {len(df_weather)}행 병합 완료\")\n",
    "\n",
    "# 병합 + null/\"\" → 0 처리\n",
    "final_df = pd.merge(hoqi_sum, df_weather, how=\"left\", on=[\"지점번호\",\"일시\"])\n",
    "final_df[[\"합산발전량(MWh)\",\"기온(°C)\",\"강수량(mm)\",\"일조(hr)\",\"일사(MJ/m2)\"]] = final_df[[\"합산발전량(MWh)\",\"기온(°C)\",\"강수량(mm)\",\"일조(hr)\",\"일사(MJ/m2)\"]].fillna(0)\n",
    "\n",
    "# 컬럼 순서 고정\n",
    "final_df = final_df[[\"일시\",\"발전구분\",\"지역\",\"지점번호\",\"합산발전량(MWh)\",\"기온(°C)\",\"강수량(mm)\",\"일조(hr)\",\"일사(MJ/m2)\"]]\n",
    "final_df = final_df.sort_values([\"지역\",\"일시\"]).reset_index(drop=True)\n",
    "logger.info(f\"✅ 최종 데이터 shape: {final_df.shape}\")\n",
    "logger.info(f\"   샘플:\\n{final_df.head(5)}\")\n",
    "\n",
    "# ----------------------------------------------------\n",
    "# 🔹 6. 최종 CSV 저장\n",
    "# ----------------------------------------------------\n",
    "os.makedirs(os.path.dirname(OUT_CSV), exist_ok=True)\n",
    "final_df.to_csv(OUT_CSV, index=False, encoding=\"utf-8-sig\")\n",
    "logger.info(f\"✅ 최종 병합 완료 → {OUT_CSV}\")\n",
    "\n"
   ]
  }
 ],
 "metadata": {
  "kernelspec": {
   "display_name": "311.venv (3.11.0)",
   "language": "python",
   "name": "python3"
  },
  "language_info": {
   "codemirror_mode": {
    "name": "ipython",
    "version": 3
   },
   "file_extension": ".py",
   "mimetype": "text/x-python",
   "name": "python",
   "nbconvert_exporter": "python",
   "pygments_lexer": "ipython3",
   "version": "3.11.0"
  }
 },
 "nbformat": 4,
 "nbformat_minor": 5
}
